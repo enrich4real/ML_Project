{
 "cells": [
  {
   "cell_type": "code",
   "execution_count": 1,
   "metadata": {},
   "outputs": [],
   "source": [
    "import librosa"
   ]
  },
  {
   "cell_type": "code",
   "execution_count": 2,
   "metadata": {},
   "outputs": [],
   "source": [
    "import pandas as pd\n",
    "import numpy as np\n",
    "import librosa"
   ]
  },
  {
   "cell_type": "code",
   "execution_count": 3,
   "metadata": {
    "_cell_guid": "b1076dfc-b9ad-4769-8c92-a6c4dae69d19",
    "_uuid": "8f2839f25d086af736a60e9eeb907d3b93b6e0e5"
   },
   "outputs": [
    {
     "data": {
      "text/html": [
       "<div>\n",
       "<style scoped>\n",
       "    .dataframe tbody tr th:only-of-type {\n",
       "        vertical-align: middle;\n",
       "    }\n",
       "\n",
       "    .dataframe tbody tr th {\n",
       "        vertical-align: top;\n",
       "    }\n",
       "\n",
       "    .dataframe thead th {\n",
       "        text-align: right;\n",
       "    }\n",
       "</style>\n",
       "<table border=\"1\" class=\"dataframe\">\n",
       "  <thead>\n",
       "    <tr style=\"text-align: right;\">\n",
       "      <th></th>\n",
       "      <th>Show</th>\n",
       "      <th>EpId</th>\n",
       "      <th>ClipId</th>\n",
       "      <th>Start</th>\n",
       "      <th>Stop</th>\n",
       "      <th>Unsure</th>\n",
       "      <th>PoorAudioQuality</th>\n",
       "      <th>Prolongation</th>\n",
       "      <th>Block</th>\n",
       "      <th>SoundRep</th>\n",
       "      <th>WordRep</th>\n",
       "      <th>DifficultToUnderstand</th>\n",
       "      <th>Interjection</th>\n",
       "      <th>NoStutteredWords</th>\n",
       "      <th>NaturalPause</th>\n",
       "      <th>Music</th>\n",
       "      <th>NoSpeech</th>\n",
       "    </tr>\n",
       "  </thead>\n",
       "  <tbody>\n",
       "    <tr>\n",
       "      <th>0</th>\n",
       "      <td>HeStutters</td>\n",
       "      <td>0</td>\n",
       "      <td>0</td>\n",
       "      <td>31900320</td>\n",
       "      <td>31948320</td>\n",
       "      <td>0</td>\n",
       "      <td>0</td>\n",
       "      <td>0</td>\n",
       "      <td>0</td>\n",
       "      <td>0</td>\n",
       "      <td>0</td>\n",
       "      <td>0</td>\n",
       "      <td>0</td>\n",
       "      <td>3</td>\n",
       "      <td>1</td>\n",
       "      <td>0</td>\n",
       "      <td>0</td>\n",
       "    </tr>\n",
       "    <tr>\n",
       "      <th>1</th>\n",
       "      <td>HeStutters</td>\n",
       "      <td>0</td>\n",
       "      <td>1</td>\n",
       "      <td>31977120</td>\n",
       "      <td>32025120</td>\n",
       "      <td>0</td>\n",
       "      <td>0</td>\n",
       "      <td>0</td>\n",
       "      <td>0</td>\n",
       "      <td>0</td>\n",
       "      <td>0</td>\n",
       "      <td>0</td>\n",
       "      <td>0</td>\n",
       "      <td>3</td>\n",
       "      <td>1</td>\n",
       "      <td>0</td>\n",
       "      <td>0</td>\n",
       "    </tr>\n",
       "    <tr>\n",
       "      <th>2</th>\n",
       "      <td>HeStutters</td>\n",
       "      <td>0</td>\n",
       "      <td>2</td>\n",
       "      <td>34809760</td>\n",
       "      <td>34857760</td>\n",
       "      <td>0</td>\n",
       "      <td>0</td>\n",
       "      <td>0</td>\n",
       "      <td>0</td>\n",
       "      <td>0</td>\n",
       "      <td>0</td>\n",
       "      <td>0</td>\n",
       "      <td>0</td>\n",
       "      <td>3</td>\n",
       "      <td>0</td>\n",
       "      <td>0</td>\n",
       "      <td>0</td>\n",
       "    </tr>\n",
       "    <tr>\n",
       "      <th>3</th>\n",
       "      <td>HeStutters</td>\n",
       "      <td>0</td>\n",
       "      <td>3</td>\n",
       "      <td>35200640</td>\n",
       "      <td>35248640</td>\n",
       "      <td>0</td>\n",
       "      <td>0</td>\n",
       "      <td>1</td>\n",
       "      <td>0</td>\n",
       "      <td>0</td>\n",
       "      <td>0</td>\n",
       "      <td>0</td>\n",
       "      <td>0</td>\n",
       "      <td>2</td>\n",
       "      <td>0</td>\n",
       "      <td>0</td>\n",
       "      <td>0</td>\n",
       "    </tr>\n",
       "    <tr>\n",
       "      <th>4</th>\n",
       "      <td>HeStutters</td>\n",
       "      <td>0</td>\n",
       "      <td>4</td>\n",
       "      <td>35721920</td>\n",
       "      <td>35769920</td>\n",
       "      <td>0</td>\n",
       "      <td>0</td>\n",
       "      <td>0</td>\n",
       "      <td>0</td>\n",
       "      <td>0</td>\n",
       "      <td>0</td>\n",
       "      <td>0</td>\n",
       "      <td>0</td>\n",
       "      <td>3</td>\n",
       "      <td>0</td>\n",
       "      <td>0</td>\n",
       "      <td>0</td>\n",
       "    </tr>\n",
       "  </tbody>\n",
       "</table>\n",
       "</div>"
      ],
      "text/plain": [
       "         Show  EpId  ClipId     Start      Stop  Unsure  PoorAudioQuality  \\\n",
       "0  HeStutters     0       0  31900320  31948320       0                 0   \n",
       "1  HeStutters     0       1  31977120  32025120       0                 0   \n",
       "2  HeStutters     0       2  34809760  34857760       0                 0   \n",
       "3  HeStutters     0       3  35200640  35248640       0                 0   \n",
       "4  HeStutters     0       4  35721920  35769920       0                 0   \n",
       "\n",
       "   Prolongation  Block  SoundRep  WordRep  DifficultToUnderstand  \\\n",
       "0             0      0         0        0                      0   \n",
       "1             0      0         0        0                      0   \n",
       "2             0      0         0        0                      0   \n",
       "3             1      0         0        0                      0   \n",
       "4             0      0         0        0                      0   \n",
       "\n",
       "   Interjection  NoStutteredWords  NaturalPause  Music  NoSpeech  \n",
       "0             0                 3             1      0         0  \n",
       "1             0                 3             1      0         0  \n",
       "2             0                 3             0      0         0  \n",
       "3             0                 2             0      0         0  \n",
       "4             0                 3             0      0         0  "
      ]
     },
     "execution_count": 3,
     "metadata": {},
     "output_type": "execute_result"
    }
   ],
   "source": [
    "df = pd.read_csv('SEP-28k_labels.csv')\n",
    "df.head()"
   ]
  },
  {
   "cell_type": "code",
   "execution_count": 4,
   "metadata": {
    "execution": {
     "iopub.execute_input": "2022-10-10T01:06:27.557170Z",
     "iopub.status.busy": "2022-10-10T01:06:27.555057Z",
     "iopub.status.idle": "2022-10-10T01:06:27.567099Z",
     "shell.execute_reply": "2022-10-10T01:06:27.566093Z",
     "shell.execute_reply.started": "2022-10-10T01:06:27.557134Z"
    }
   },
   "outputs": [
    {
     "data": {
      "text/plain": [
       "(28177, 17)"
      ]
     },
     "execution_count": 4,
     "metadata": {},
     "output_type": "execute_result"
    }
   ],
   "source": [
    "df.shape"
   ]
  },
  {
   "cell_type": "code",
   "execution_count": 5,
   "metadata": {
    "execution": {
     "iopub.execute_input": "2022-10-10T01:06:27.574391Z",
     "iopub.status.busy": "2022-10-10T01:06:27.572154Z",
     "iopub.status.idle": "2022-10-10T01:06:27.584717Z",
     "shell.execute_reply": "2022-10-10T01:06:27.583682Z",
     "shell.execute_reply.started": "2022-10-10T01:06:27.574352Z"
    }
   },
   "outputs": [
    {
     "data": {
      "text/plain": [
       "Index(['Show', 'EpId', 'ClipId', 'Start', 'Stop', 'Unsure', 'PoorAudioQuality',\n",
       "       'Prolongation', 'Block', 'SoundRep', 'WordRep', 'DifficultToUnderstand',\n",
       "       'Interjection', 'NoStutteredWords', 'NaturalPause', 'Music',\n",
       "       'NoSpeech'],\n",
       "      dtype='object')"
      ]
     },
     "execution_count": 5,
     "metadata": {},
     "output_type": "execute_result"
    }
   ],
   "source": [
    "df.columns"
   ]
  },
  {
   "cell_type": "markdown",
   "metadata": {},
   "source": [
    "## Adding Name Column"
   ]
  },
  {
   "cell_type": "code",
   "execution_count": 6,
   "metadata": {
    "execution": {
     "iopub.execute_input": "2022-10-10T01:06:27.592112Z",
     "iopub.status.busy": "2022-10-10T01:06:27.590331Z",
     "iopub.status.idle": "2022-10-10T01:06:34.674057Z",
     "shell.execute_reply": "2022-10-10T01:06:34.672957Z",
     "shell.execute_reply.started": "2022-10-10T01:06:27.592078Z"
    }
   },
   "outputs": [
    {
     "data": {
      "text/html": [
       "<div>\n",
       "<style scoped>\n",
       "    .dataframe tbody tr th:only-of-type {\n",
       "        vertical-align: middle;\n",
       "    }\n",
       "\n",
       "    .dataframe tbody tr th {\n",
       "        vertical-align: top;\n",
       "    }\n",
       "\n",
       "    .dataframe thead th {\n",
       "        text-align: right;\n",
       "    }\n",
       "</style>\n",
       "<table border=\"1\" class=\"dataframe\">\n",
       "  <thead>\n",
       "    <tr style=\"text-align: right;\">\n",
       "      <th></th>\n",
       "      <th>Show</th>\n",
       "      <th>EpId</th>\n",
       "      <th>ClipId</th>\n",
       "      <th>Start</th>\n",
       "      <th>Stop</th>\n",
       "      <th>Unsure</th>\n",
       "      <th>PoorAudioQuality</th>\n",
       "      <th>Prolongation</th>\n",
       "      <th>Block</th>\n",
       "      <th>SoundRep</th>\n",
       "      <th>WordRep</th>\n",
       "      <th>DifficultToUnderstand</th>\n",
       "      <th>Interjection</th>\n",
       "      <th>NoStutteredWords</th>\n",
       "      <th>NaturalPause</th>\n",
       "      <th>Music</th>\n",
       "      <th>NoSpeech</th>\n",
       "      <th>Name</th>\n",
       "    </tr>\n",
       "  </thead>\n",
       "  <tbody>\n",
       "    <tr>\n",
       "      <th>0</th>\n",
       "      <td>HeStutters</td>\n",
       "      <td>0</td>\n",
       "      <td>0</td>\n",
       "      <td>31900320</td>\n",
       "      <td>31948320</td>\n",
       "      <td>0</td>\n",
       "      <td>0</td>\n",
       "      <td>0</td>\n",
       "      <td>0</td>\n",
       "      <td>0</td>\n",
       "      <td>0</td>\n",
       "      <td>0</td>\n",
       "      <td>0</td>\n",
       "      <td>3</td>\n",
       "      <td>1</td>\n",
       "      <td>0</td>\n",
       "      <td>0</td>\n",
       "      <td>HeStutters_0_0</td>\n",
       "    </tr>\n",
       "    <tr>\n",
       "      <th>1</th>\n",
       "      <td>HeStutters</td>\n",
       "      <td>0</td>\n",
       "      <td>1</td>\n",
       "      <td>31977120</td>\n",
       "      <td>32025120</td>\n",
       "      <td>0</td>\n",
       "      <td>0</td>\n",
       "      <td>0</td>\n",
       "      <td>0</td>\n",
       "      <td>0</td>\n",
       "      <td>0</td>\n",
       "      <td>0</td>\n",
       "      <td>0</td>\n",
       "      <td>3</td>\n",
       "      <td>1</td>\n",
       "      <td>0</td>\n",
       "      <td>0</td>\n",
       "      <td>HeStutters_0_1</td>\n",
       "    </tr>\n",
       "    <tr>\n",
       "      <th>2</th>\n",
       "      <td>HeStutters</td>\n",
       "      <td>0</td>\n",
       "      <td>2</td>\n",
       "      <td>34809760</td>\n",
       "      <td>34857760</td>\n",
       "      <td>0</td>\n",
       "      <td>0</td>\n",
       "      <td>0</td>\n",
       "      <td>0</td>\n",
       "      <td>0</td>\n",
       "      <td>0</td>\n",
       "      <td>0</td>\n",
       "      <td>0</td>\n",
       "      <td>3</td>\n",
       "      <td>0</td>\n",
       "      <td>0</td>\n",
       "      <td>0</td>\n",
       "      <td>HeStutters_0_2</td>\n",
       "    </tr>\n",
       "    <tr>\n",
       "      <th>3</th>\n",
       "      <td>HeStutters</td>\n",
       "      <td>0</td>\n",
       "      <td>3</td>\n",
       "      <td>35200640</td>\n",
       "      <td>35248640</td>\n",
       "      <td>0</td>\n",
       "      <td>0</td>\n",
       "      <td>1</td>\n",
       "      <td>0</td>\n",
       "      <td>0</td>\n",
       "      <td>0</td>\n",
       "      <td>0</td>\n",
       "      <td>0</td>\n",
       "      <td>2</td>\n",
       "      <td>0</td>\n",
       "      <td>0</td>\n",
       "      <td>0</td>\n",
       "      <td>HeStutters_0_3</td>\n",
       "    </tr>\n",
       "    <tr>\n",
       "      <th>4</th>\n",
       "      <td>HeStutters</td>\n",
       "      <td>0</td>\n",
       "      <td>4</td>\n",
       "      <td>35721920</td>\n",
       "      <td>35769920</td>\n",
       "      <td>0</td>\n",
       "      <td>0</td>\n",
       "      <td>0</td>\n",
       "      <td>0</td>\n",
       "      <td>0</td>\n",
       "      <td>0</td>\n",
       "      <td>0</td>\n",
       "      <td>0</td>\n",
       "      <td>3</td>\n",
       "      <td>0</td>\n",
       "      <td>0</td>\n",
       "      <td>0</td>\n",
       "      <td>HeStutters_0_4</td>\n",
       "    </tr>\n",
       "  </tbody>\n",
       "</table>\n",
       "</div>"
      ],
      "text/plain": [
       "         Show  EpId  ClipId     Start      Stop  Unsure  PoorAudioQuality  \\\n",
       "0  HeStutters     0       0  31900320  31948320       0                 0   \n",
       "1  HeStutters     0       1  31977120  32025120       0                 0   \n",
       "2  HeStutters     0       2  34809760  34857760       0                 0   \n",
       "3  HeStutters     0       3  35200640  35248640       0                 0   \n",
       "4  HeStutters     0       4  35721920  35769920       0                 0   \n",
       "\n",
       "   Prolongation  Block  SoundRep  WordRep  DifficultToUnderstand  \\\n",
       "0             0      0         0        0                      0   \n",
       "1             0      0         0        0                      0   \n",
       "2             0      0         0        0                      0   \n",
       "3             1      0         0        0                      0   \n",
       "4             0      0         0        0                      0   \n",
       "\n",
       "   Interjection  NoStutteredWords  NaturalPause  Music  NoSpeech  \\\n",
       "0             0                 3             1      0         0   \n",
       "1             0                 3             1      0         0   \n",
       "2             0                 3             0      0         0   \n",
       "3             0                 2             0      0         0   \n",
       "4             0                 3             0      0         0   \n",
       "\n",
       "             Name  \n",
       "0  HeStutters_0_0  \n",
       "1  HeStutters_0_1  \n",
       "2  HeStutters_0_2  \n",
       "3  HeStutters_0_3  \n",
       "4  HeStutters_0_4  "
      ]
     },
     "execution_count": 6,
     "metadata": {},
     "output_type": "execute_result"
    }
   ],
   "source": [
    "df['Name'] = df[df.columns[0:3]].apply(\n",
    "    lambda x: '_'.join(x.dropna().astype(str)),\n",
    "    axis=1\n",
    ")\n",
    "df.head()"
   ]
  },
  {
   "cell_type": "code",
   "execution_count": 7,
   "metadata": {
    "execution": {
     "iopub.execute_input": "2022-10-10T01:06:34.676472Z",
     "iopub.status.busy": "2022-10-10T01:06:34.675499Z",
     "iopub.status.idle": "2022-10-10T01:06:34.685535Z",
     "shell.execute_reply": "2022-10-10T01:06:34.684419Z",
     "shell.execute_reply.started": "2022-10-10T01:06:34.676435Z"
    }
   },
   "outputs": [
    {
     "data": {
      "text/plain": [
       "0                HeStutters_0_0\n",
       "1                HeStutters_0_1\n",
       "2                HeStutters_0_2\n",
       "3                HeStutters_0_3\n",
       "4                HeStutters_0_4\n",
       "                  ...          \n",
       "28172    WomenWhoStutter_109_35\n",
       "28173    WomenWhoStutter_109_36\n",
       "28174    WomenWhoStutter_109_37\n",
       "28175    WomenWhoStutter_109_38\n",
       "28176    WomenWhoStutter_109_39\n",
       "Name: Name, Length: 28177, dtype: object"
      ]
     },
     "execution_count": 7,
     "metadata": {},
     "output_type": "execute_result"
    }
   ],
   "source": [
    "df['Name']"
   ]
  },
  {
   "cell_type": "markdown",
   "metadata": {},
   "source": [
    "## Removing Empty Audios and there Dataset Entries"
   ]
  },
  {
   "cell_type": "code",
   "execution_count": 8,
   "metadata": {
    "execution": {
     "iopub.execute_input": "2022-10-10T01:06:34.687934Z",
     "iopub.status.busy": "2022-10-10T01:06:34.687528Z",
     "iopub.status.idle": "2022-10-10T01:06:34.701254Z",
     "shell.execute_reply": "2022-10-10T01:06:34.700302Z",
     "shell.execute_reply.started": "2022-10-10T01:06:34.687866Z"
    }
   },
   "outputs": [
    {
     "data": {
      "text/plain": [
       "96044"
      ]
     },
     "execution_count": 8,
     "metadata": {},
     "output_type": "execute_result"
    }
   ],
   "source": [
    "import os\n",
    "os.stat(\"clip/HeStutters/0/HeStutters_0_9.wav\").st_size\n",
    "\n",
    "# empty files have st_size of 44"
   ]
  },
  {
   "cell_type": "code",
   "execution_count": 9,
   "metadata": {
    "execution": {
     "iopub.execute_input": "2022-10-10T01:06:34.702862Z",
     "iopub.status.busy": "2022-10-10T01:06:34.702490Z",
     "iopub.status.idle": "2022-10-10T01:06:34.710848Z",
     "shell.execute_reply": "2022-10-10T01:06:34.709716Z",
     "shell.execute_reply.started": "2022-10-10T01:06:34.702826Z"
    }
   },
   "outputs": [
    {
     "data": {
      "text/plain": [
       "96044"
      ]
     },
     "execution_count": 9,
     "metadata": {},
     "output_type": "execute_result"
    }
   ],
   "source": [
    "os.stat(\"clip/HeStutters/1/HeStutters_1_1.wav\").st_size\n",
    "\n",
    "# non empty file"
   ]
  },
  {
   "cell_type": "markdown",
   "metadata": {},
   "source": [
    "## Put empty filenames in a list and ignore them while feature extraction and training"
   ]
  },
  {
   "cell_type": "code",
   "execution_count": 10,
   "metadata": {
    "execution": {
     "iopub.execute_input": "2022-10-10T01:06:34.713434Z",
     "iopub.status.busy": "2022-10-10T01:06:34.713019Z",
     "iopub.status.idle": "2022-10-10T01:07:03.780305Z",
     "shell.execute_reply": "2022-10-10T01:07:03.778419Z",
     "shell.execute_reply.started": "2022-10-10T01:06:34.713396Z"
    }
   },
   "outputs": [
    {
     "name": "stdout",
     "output_type": "stream",
     "text": [
      "0\n"
     ]
    }
   ],
   "source": [
    "CLIPS_DIR = \"clip/\"\n",
    "ignore_list = []\n",
    "for filename in os.listdir(CLIPS_DIR):\n",
    "    file_path = CLIPS_DIR + filename\n",
    "    if 'FluencyBank' not in filename:\n",
    "        if os.stat(file_path).st_size == 44:\n",
    "            ignore_list.append(filename)\n",
    "            filename = filename[:-4]\n",
    "            df = df[df.Name != filename]\n",
    "\n",
    "print(len(ignore_list))"
   ]
  },
  {
   "cell_type": "code",
   "execution_count": 11,
   "metadata": {
    "execution": {
     "iopub.execute_input": "2022-10-10T01:07:03.782294Z",
     "iopub.status.busy": "2022-10-10T01:07:03.781920Z",
     "iopub.status.idle": "2022-10-10T01:07:03.789304Z",
     "shell.execute_reply": "2022-10-10T01:07:03.788052Z",
     "shell.execute_reply.started": "2022-10-10T01:07:03.782256Z"
    }
   },
   "outputs": [
    {
     "data": {
      "text/plain": [
       "(28177, 18)"
      ]
     },
     "execution_count": 11,
     "metadata": {},
     "output_type": "execute_result"
    }
   ],
   "source": [
    "df.shape\n",
    "\n",
    "# 255 rows removed from df as well"
   ]
  },
  {
   "cell_type": "markdown",
   "metadata": {},
   "source": [
    "## MFCC Feature Extraction"
   ]
  },
  {
   "cell_type": "code",
   "execution_count": 12,
   "metadata": {
    "execution": {
     "iopub.execute_input": "2022-10-10T01:08:47.805984Z",
     "iopub.status.busy": "2022-10-10T01:08:47.805556Z",
     "iopub.status.idle": "2022-10-10T01:17:25.332533Z",
     "shell.execute_reply": "2022-10-10T01:17:25.331167Z",
     "shell.execute_reply.started": "2022-10-10T01:08:47.805949Z"
    }
   },
   "outputs": [
    {
     "data": {
      "application/vnd.jupyter.widget-view+json": {
       "model_id": "4dcb8f0f4921494aae7f79981b921619",
       "version_major": 2,
       "version_minor": 0
      },
      "text/plain": [
       "  0%|          | 0/7 [00:00<?, ?it/s]"
      ]
     },
     "metadata": {},
     "output_type": "display_data"
    },
    {
     "data": {
      "application/vnd.jupyter.widget-view+json": {
       "model_id": "68cf5bba0fb248138700cf9e8d1eba9b",
       "version_major": 2,
       "version_minor": 0
      },
      "text/plain": [
       "  0%|          | 0/32 [00:00<?, ?it/s]"
      ]
     },
     "metadata": {},
     "output_type": "display_data"
    },
    {
     "data": {
      "application/vnd.jupyter.widget-view+json": {
       "model_id": "986a99a7f77d40c683562aede4f568f5",
       "version_major": 2,
       "version_minor": 0
      },
      "text/plain": [
       "  0%|          | 0/100 [00:00<?, ?it/s]"
      ]
     },
     "metadata": {},
     "output_type": "display_data"
    },
    {
     "data": {
      "application/vnd.jupyter.widget-view+json": {
       "model_id": "7f13eb0832cc47f59a598d5a0efb54e0",
       "version_major": 2,
       "version_minor": 0
      },
      "text/plain": [
       "  0%|          | 0/115 [00:00<?, ?it/s]"
      ]
     },
     "metadata": {},
     "output_type": "display_data"
    },
    {
     "data": {
      "application/vnd.jupyter.widget-view+json": {
       "model_id": "5c029a3b4a9f4be3859e5d53e783a3ae",
       "version_major": 2,
       "version_minor": 0
      },
      "text/plain": [
       "  0%|          | 0/66 [00:00<?, ?it/s]"
      ]
     },
     "metadata": {},
     "output_type": "display_data"
    },
    {
     "data": {
      "application/vnd.jupyter.widget-view+json": {
       "model_id": "dfe9c86e458e44c3b19e96a8f4c1dcc0",
       "version_major": 2,
       "version_minor": 0
      },
      "text/plain": [
       "  0%|          | 0/89 [00:00<?, ?it/s]"
      ]
     },
     "metadata": {},
     "output_type": "display_data"
    },
    {
     "data": {
      "application/vnd.jupyter.widget-view+json": {
       "model_id": "41472c8f17da4260abff0b365d162d9b",
       "version_major": 2,
       "version_minor": 0
      },
      "text/plain": [
       "  0%|          | 0/197 [00:00<?, ?it/s]"
      ]
     },
     "metadata": {},
     "output_type": "display_data"
    },
    {
     "data": {
      "application/vnd.jupyter.widget-view+json": {
       "model_id": "44af9ce39b9e43558bae8daa7e9a53a5",
       "version_major": 2,
       "version_minor": 0
      },
      "text/plain": [
       "  0%|          | 0/127 [00:00<?, ?it/s]"
      ]
     },
     "metadata": {},
     "output_type": "display_data"
    },
    {
     "data": {
      "application/vnd.jupyter.widget-view+json": {
       "model_id": "277e9a7ef8c549868e49d22d4556b119",
       "version_major": 2,
       "version_minor": 0
      },
      "text/plain": [
       "  0%|          | 0/175 [00:00<?, ?it/s]"
      ]
     },
     "metadata": {},
     "output_type": "display_data"
    },
    {
     "data": {
      "application/vnd.jupyter.widget-view+json": {
       "model_id": "700d8d3a651c4aa5b372602f790563e1",
       "version_major": 2,
       "version_minor": 0
      },
      "text/plain": [
       "  0%|          | 0/121 [00:00<?, ?it/s]"
      ]
     },
     "metadata": {},
     "output_type": "display_data"
    },
    {
     "data": {
      "application/vnd.jupyter.widget-view+json": {
       "model_id": "1338423bcb3a416c837ffe4a05e7aa57",
       "version_major": 2,
       "version_minor": 0
      },
      "text/plain": [
       "  0%|          | 0/96 [00:00<?, ?it/s]"
      ]
     },
     "metadata": {},
     "output_type": "display_data"
    },
    {
     "data": {
      "application/vnd.jupyter.widget-view+json": {
       "model_id": "9419aa1e365345a5a1ce2f55dffd5363",
       "version_major": 2,
       "version_minor": 0
      },
      "text/plain": [
       "  0%|          | 0/165 [00:00<?, ?it/s]"
      ]
     },
     "metadata": {},
     "output_type": "display_data"
    },
    {
     "data": {
      "application/vnd.jupyter.widget-view+json": {
       "model_id": "f77ae4da02e74796b32a6a0b2a3a69e7",
       "version_major": 2,
       "version_minor": 0
      },
      "text/plain": [
       "  0%|          | 0/118 [00:00<?, ?it/s]"
      ]
     },
     "metadata": {},
     "output_type": "display_data"
    },
    {
     "data": {
      "application/vnd.jupyter.widget-view+json": {
       "model_id": "de569acbb9f64a3c96ce0d464313c4ec",
       "version_major": 2,
       "version_minor": 0
      },
      "text/plain": [
       "  0%|          | 0/139 [00:00<?, ?it/s]"
      ]
     },
     "metadata": {},
     "output_type": "display_data"
    },
    {
     "data": {
      "application/vnd.jupyter.widget-view+json": {
       "model_id": "80475830192349a5b9c526b4856a29e5",
       "version_major": 2,
       "version_minor": 0
      },
      "text/plain": [
       "  0%|          | 0/93 [00:00<?, ?it/s]"
      ]
     },
     "metadata": {},
     "output_type": "display_data"
    },
    {
     "data": {
      "application/vnd.jupyter.widget-view+json": {
       "model_id": "a60ae26e2a9340e0aa89955348be319d",
       "version_major": 2,
       "version_minor": 0
      },
      "text/plain": [
       "  0%|          | 0/95 [00:00<?, ?it/s]"
      ]
     },
     "metadata": {},
     "output_type": "display_data"
    },
    {
     "data": {
      "application/vnd.jupyter.widget-view+json": {
       "model_id": "b8296dc743be41ac87b9e23db1b20a80",
       "version_major": 2,
       "version_minor": 0
      },
      "text/plain": [
       "  0%|          | 0/193 [00:00<?, ?it/s]"
      ]
     },
     "metadata": {},
     "output_type": "display_data"
    },
    {
     "data": {
      "application/vnd.jupyter.widget-view+json": {
       "model_id": "f21c945a8bc34667a24fa6ee8cb0e6d0",
       "version_major": 2,
       "version_minor": 0
      },
      "text/plain": [
       "  0%|          | 0/128 [00:00<?, ?it/s]"
      ]
     },
     "metadata": {},
     "output_type": "display_data"
    },
    {
     "data": {
      "application/vnd.jupyter.widget-view+json": {
       "model_id": "9a0897cc18eb493d80c73d7032955d46",
       "version_major": 2,
       "version_minor": 0
      },
      "text/plain": [
       "  0%|          | 0/186 [00:00<?, ?it/s]"
      ]
     },
     "metadata": {},
     "output_type": "display_data"
    },
    {
     "data": {
      "application/vnd.jupyter.widget-view+json": {
       "model_id": "098bf47c15914182ab6cd5b59b4bce93",
       "version_major": 2,
       "version_minor": 0
      },
      "text/plain": [
       "  0%|          | 0/97 [00:00<?, ?it/s]"
      ]
     },
     "metadata": {},
     "output_type": "display_data"
    },
    {
     "data": {
      "application/vnd.jupyter.widget-view+json": {
       "model_id": "554f4ed5645e431e82b747838ed96c10",
       "version_major": 2,
       "version_minor": 0
      },
      "text/plain": [
       "  0%|          | 0/85 [00:00<?, ?it/s]"
      ]
     },
     "metadata": {},
     "output_type": "display_data"
    },
    {
     "data": {
      "application/vnd.jupyter.widget-view+json": {
       "model_id": "ebf2a2c1c71841e6b204921a9844535f",
       "version_major": 2,
       "version_minor": 0
      },
      "text/plain": [
       "  0%|          | 0/165 [00:00<?, ?it/s]"
      ]
     },
     "metadata": {},
     "output_type": "display_data"
    },
    {
     "data": {
      "application/vnd.jupyter.widget-view+json": {
       "model_id": "b58e385ac5f740809bef9d5c96dda417",
       "version_major": 2,
       "version_minor": 0
      },
      "text/plain": [
       "  0%|          | 0/113 [00:00<?, ?it/s]"
      ]
     },
     "metadata": {},
     "output_type": "display_data"
    },
    {
     "data": {
      "application/vnd.jupyter.widget-view+json": {
       "model_id": "8ac4c5b7035f4aebb87c489bd6d87a0d",
       "version_major": 2,
       "version_minor": 0
      },
      "text/plain": [
       "  0%|          | 0/143 [00:00<?, ?it/s]"
      ]
     },
     "metadata": {},
     "output_type": "display_data"
    },
    {
     "data": {
      "application/vnd.jupyter.widget-view+json": {
       "model_id": "d95c0c9ea8194304a49f99b5101756bf",
       "version_major": 2,
       "version_minor": 0
      },
      "text/plain": [
       "  0%|          | 0/100 [00:00<?, ?it/s]"
      ]
     },
     "metadata": {},
     "output_type": "display_data"
    },
    {
     "data": {
      "application/vnd.jupyter.widget-view+json": {
       "model_id": "cf2ccddd3ad5490887102cb239c99217",
       "version_major": 2,
       "version_minor": 0
      },
      "text/plain": [
       "  0%|          | 0/108 [00:00<?, ?it/s]"
      ]
     },
     "metadata": {},
     "output_type": "display_data"
    },
    {
     "data": {
      "application/vnd.jupyter.widget-view+json": {
       "model_id": "f756282c30094bf1a9d2fc5c69dc87a1",
       "version_major": 2,
       "version_minor": 0
      },
      "text/plain": [
       "  0%|          | 0/79 [00:00<?, ?it/s]"
      ]
     },
     "metadata": {},
     "output_type": "display_data"
    },
    {
     "data": {
      "application/vnd.jupyter.widget-view+json": {
       "model_id": "57dc7007614b4527aa757bb985be5446",
       "version_major": 2,
       "version_minor": 0
      },
      "text/plain": [
       "  0%|          | 0/171 [00:00<?, ?it/s]"
      ]
     },
     "metadata": {},
     "output_type": "display_data"
    },
    {
     "data": {
      "application/vnd.jupyter.widget-view+json": {
       "model_id": "dcb71d4de776485e83a9c33fd836088c",
       "version_major": 2,
       "version_minor": 0
      },
      "text/plain": [
       "  0%|          | 0/88 [00:00<?, ?it/s]"
      ]
     },
     "metadata": {},
     "output_type": "display_data"
    },
    {
     "data": {
      "application/vnd.jupyter.widget-view+json": {
       "model_id": "867df615515d4ea4a54ba96a0fa82a1c",
       "version_major": 2,
       "version_minor": 0
      },
      "text/plain": [
       "  0%|          | 0/122 [00:00<?, ?it/s]"
      ]
     },
     "metadata": {},
     "output_type": "display_data"
    },
    {
     "data": {
      "application/vnd.jupyter.widget-view+json": {
       "model_id": "874676cf11b647f1862b8957d2730e01",
       "version_major": 2,
       "version_minor": 0
      },
      "text/plain": [
       "  0%|          | 0/88 [00:00<?, ?it/s]"
      ]
     },
     "metadata": {},
     "output_type": "display_data"
    },
    {
     "data": {
      "application/vnd.jupyter.widget-view+json": {
       "model_id": "d538940552514cb381fe1c95ca066e34",
       "version_major": 2,
       "version_minor": 0
      },
      "text/plain": [
       "  0%|          | 0/126 [00:00<?, ?it/s]"
      ]
     },
     "metadata": {},
     "output_type": "display_data"
    },
    {
     "data": {
      "application/vnd.jupyter.widget-view+json": {
       "model_id": "7be3fd76e5924399b2f708a2a58130cc",
       "version_major": 2,
       "version_minor": 0
      },
      "text/plain": [
       "  0%|          | 0/178 [00:00<?, ?it/s]"
      ]
     },
     "metadata": {},
     "output_type": "display_data"
    },
    {
     "data": {
      "application/vnd.jupyter.widget-view+json": {
       "model_id": "c46ef25598844bdcaaa68665af3daa83",
       "version_major": 2,
       "version_minor": 0
      },
      "text/plain": [
       "  0%|          | 0/196 [00:00<?, ?it/s]"
      ]
     },
     "metadata": {},
     "output_type": "display_data"
    },
    {
     "data": {
      "application/vnd.jupyter.widget-view+json": {
       "model_id": "1e1eb94a981442afb9ce6385ccc0d477",
       "version_major": 2,
       "version_minor": 0
      },
      "text/plain": [
       "  0%|          | 0/24 [00:00<?, ?it/s]"
      ]
     },
     "metadata": {},
     "output_type": "display_data"
    },
    {
     "data": {
      "application/vnd.jupyter.widget-view+json": {
       "model_id": "859b25d3351b40eab7d9a279085f4b56",
       "version_major": 2,
       "version_minor": 0
      },
      "text/plain": [
       "  0%|          | 0/40 [00:00<?, ?it/s]"
      ]
     },
     "metadata": {},
     "output_type": "display_data"
    },
    {
     "name": "stderr",
     "output_type": "stream",
     "text": [
      "/home/kakeshi/anaconda3/lib/python3.9/site-packages/librosa/core/spectrum.py:257: UserWarning: n_fft=2048 is too large for input signal of length=0\n",
      "  warnings.warn(\n"
     ]
    },
    {
     "data": {
      "application/vnd.jupyter.widget-view+json": {
       "model_id": "e5be3ec6448d449b83f0c001eca22407",
       "version_major": 2,
       "version_minor": 0
      },
      "text/plain": [
       "  0%|          | 0/273 [00:00<?, ?it/s]"
      ]
     },
     "metadata": {},
     "output_type": "display_data"
    },
    {
     "data": {
      "application/vnd.jupyter.widget-view+json": {
       "model_id": "99271c79defa4ac79971c408c9599721",
       "version_major": 2,
       "version_minor": 0
      },
      "text/plain": [
       "  0%|          | 0/40 [00:00<?, ?it/s]"
      ]
     },
     "metadata": {},
     "output_type": "display_data"
    },
    {
     "data": {
      "application/vnd.jupyter.widget-view+json": {
       "model_id": "8ee1ce88d3b142b9ad9c3d616e9c9812",
       "version_major": 2,
       "version_minor": 0
      },
      "text/plain": [
       "  0%|          | 0/208 [00:00<?, ?it/s]"
      ]
     },
     "metadata": {},
     "output_type": "display_data"
    },
    {
     "data": {
      "application/vnd.jupyter.widget-view+json": {
       "model_id": "43b03fd6106f4f0e91ed6aa8d880183f",
       "version_major": 2,
       "version_minor": 0
      },
      "text/plain": [
       "  0%|          | 0/218 [00:00<?, ?it/s]"
      ]
     },
     "metadata": {},
     "output_type": "display_data"
    },
    {
     "data": {
      "application/vnd.jupyter.widget-view+json": {
       "model_id": "6b1025a8514647a2bca7025dd242c794",
       "version_major": 2,
       "version_minor": 0
      },
      "text/plain": [
       "  0%|          | 0/40 [00:00<?, ?it/s]"
      ]
     },
     "metadata": {},
     "output_type": "display_data"
    },
    {
     "data": {
      "application/vnd.jupyter.widget-view+json": {
       "model_id": "7a0132d40e1d4b338288d89cedafe0a4",
       "version_major": 2,
       "version_minor": 0
      },
      "text/plain": [
       "  0%|          | 0/40 [00:00<?, ?it/s]"
      ]
     },
     "metadata": {},
     "output_type": "display_data"
    },
    {
     "data": {
      "application/vnd.jupyter.widget-view+json": {
       "model_id": "a4709febc9ce444cb2b9b0ec7139328d",
       "version_major": 2,
       "version_minor": 0
      },
      "text/plain": [
       "  0%|          | 0/196 [00:00<?, ?it/s]"
      ]
     },
     "metadata": {},
     "output_type": "display_data"
    },
    {
     "data": {
      "application/vnd.jupyter.widget-view+json": {
       "model_id": "807ca4eef86c4428aea512bf7297f648",
       "version_major": 2,
       "version_minor": 0
      },
      "text/plain": [
       "  0%|          | 0/214 [00:00<?, ?it/s]"
      ]
     },
     "metadata": {},
     "output_type": "display_data"
    },
    {
     "data": {
      "application/vnd.jupyter.widget-view+json": {
       "model_id": "73a60c4c1a4148a296f7b4915b4138ad",
       "version_major": 2,
       "version_minor": 0
      },
      "text/plain": [
       "  0%|          | 0/40 [00:00<?, ?it/s]"
      ]
     },
     "metadata": {},
     "output_type": "display_data"
    },
    {
     "data": {
      "application/vnd.jupyter.widget-view+json": {
       "model_id": "fa2c08f126a74b0c8f77fd721393640a",
       "version_major": 2,
       "version_minor": 0
      },
      "text/plain": [
       "  0%|          | 0/217 [00:00<?, ?it/s]"
      ]
     },
     "metadata": {},
     "output_type": "display_data"
    },
    {
     "data": {
      "application/vnd.jupyter.widget-view+json": {
       "model_id": "5cfd53c62e264cf9acbe1ddb3146e1c1",
       "version_major": 2,
       "version_minor": 0
      },
      "text/plain": [
       "  0%|          | 0/183 [00:00<?, ?it/s]"
      ]
     },
     "metadata": {},
     "output_type": "display_data"
    },
    {
     "data": {
      "application/vnd.jupyter.widget-view+json": {
       "model_id": "6e90b1f3a5234e1abd4b21436f53adfb",
       "version_major": 2,
       "version_minor": 0
      },
      "text/plain": [
       "  0%|          | 0/216 [00:00<?, ?it/s]"
      ]
     },
     "metadata": {},
     "output_type": "display_data"
    },
    {
     "data": {
      "application/vnd.jupyter.widget-view+json": {
       "model_id": "4137d7ef26c54f24b47b9fc4d0e16b01",
       "version_major": 2,
       "version_minor": 0
      },
      "text/plain": [
       "  0%|          | 0/261 [00:00<?, ?it/s]"
      ]
     },
     "metadata": {},
     "output_type": "display_data"
    },
    {
     "data": {
      "application/vnd.jupyter.widget-view+json": {
       "model_id": "a87db19cf2c14607a67ec9127a3d30da",
       "version_major": 2,
       "version_minor": 0
      },
      "text/plain": [
       "  0%|          | 0/221 [00:00<?, ?it/s]"
      ]
     },
     "metadata": {},
     "output_type": "display_data"
    },
    {
     "data": {
      "application/vnd.jupyter.widget-view+json": {
       "model_id": "9b428d899ebb413e874dd90ac0e3620c",
       "version_major": 2,
       "version_minor": 0
      },
      "text/plain": [
       "  0%|          | 0/207 [00:00<?, ?it/s]"
      ]
     },
     "metadata": {},
     "output_type": "display_data"
    },
    {
     "data": {
      "application/vnd.jupyter.widget-view+json": {
       "model_id": "8ad3a5a121554ae19b757478cbc4da99",
       "version_major": 2,
       "version_minor": 0
      },
      "text/plain": [
       "  0%|          | 0/215 [00:00<?, ?it/s]"
      ]
     },
     "metadata": {},
     "output_type": "display_data"
    },
    {
     "data": {
      "application/vnd.jupyter.widget-view+json": {
       "model_id": "3eb461179a5b48beafe0a87daafd87f3",
       "version_major": 2,
       "version_minor": 0
      },
      "text/plain": [
       "  0%|          | 0/40 [00:00<?, ?it/s]"
      ]
     },
     "metadata": {},
     "output_type": "display_data"
    },
    {
     "data": {
      "application/vnd.jupyter.widget-view+json": {
       "model_id": "74eab20d4f2a40e8b21f04c3e1e04465",
       "version_major": 2,
       "version_minor": 0
      },
      "text/plain": [
       "  0%|          | 0/40 [00:00<?, ?it/s]"
      ]
     },
     "metadata": {},
     "output_type": "display_data"
    },
    {
     "data": {
      "application/vnd.jupyter.widget-view+json": {
       "model_id": "695c279765324e59aea0be1cc7ab0161",
       "version_major": 2,
       "version_minor": 0
      },
      "text/plain": [
       "  0%|          | 0/199 [00:00<?, ?it/s]"
      ]
     },
     "metadata": {},
     "output_type": "display_data"
    },
    {
     "data": {
      "application/vnd.jupyter.widget-view+json": {
       "model_id": "cef5c5f4d7174ce7802c8d59fe479b20",
       "version_major": 2,
       "version_minor": 0
      },
      "text/plain": [
       "  0%|          | 0/294 [00:00<?, ?it/s]"
      ]
     },
     "metadata": {},
     "output_type": "display_data"
    },
    {
     "data": {
      "application/vnd.jupyter.widget-view+json": {
       "model_id": "ffa6486e0061445b8cbfd13379626690",
       "version_major": 2,
       "version_minor": 0
      },
      "text/plain": [
       "  0%|          | 0/40 [00:00<?, ?it/s]"
      ]
     },
     "metadata": {},
     "output_type": "display_data"
    },
    {
     "data": {
      "application/vnd.jupyter.widget-view+json": {
       "model_id": "79931805364140a791494e50859f9906",
       "version_major": 2,
       "version_minor": 0
      },
      "text/plain": [
       "  0%|          | 0/202 [00:00<?, ?it/s]"
      ]
     },
     "metadata": {},
     "output_type": "display_data"
    },
    {
     "data": {
      "application/vnd.jupyter.widget-view+json": {
       "model_id": "d2dba9e73bbf4944abba04e530e592f8",
       "version_major": 2,
       "version_minor": 0
      },
      "text/plain": [
       "  0%|          | 0/40 [00:00<?, ?it/s]"
      ]
     },
     "metadata": {},
     "output_type": "display_data"
    },
    {
     "data": {
      "application/vnd.jupyter.widget-view+json": {
       "model_id": "4d0eb9cbae4f41d7afd84152702ba103",
       "version_major": 2,
       "version_minor": 0
      },
      "text/plain": [
       "  0%|          | 0/4 [00:00<?, ?it/s]"
      ]
     },
     "metadata": {},
     "output_type": "display_data"
    },
    {
     "data": {
      "application/vnd.jupyter.widget-view+json": {
       "model_id": "7c06ff229fd344608829ccdfcdad1462",
       "version_major": 2,
       "version_minor": 0
      },
      "text/plain": [
       "  0%|          | 0/137 [00:00<?, ?it/s]"
      ]
     },
     "metadata": {},
     "output_type": "display_data"
    },
    {
     "data": {
      "application/vnd.jupyter.widget-view+json": {
       "model_id": "ccf9c0906f2540f8b1ac3e4d107c4590",
       "version_major": 2,
       "version_minor": 0
      },
      "text/plain": [
       "  0%|          | 0/188 [00:00<?, ?it/s]"
      ]
     },
     "metadata": {},
     "output_type": "display_data"
    },
    {
     "data": {
      "application/vnd.jupyter.widget-view+json": {
       "model_id": "10e201c2d9a34dc29e943e283396669a",
       "version_major": 2,
       "version_minor": 0
      },
      "text/plain": [
       "  0%|          | 0/200 [00:00<?, ?it/s]"
      ]
     },
     "metadata": {},
     "output_type": "display_data"
    },
    {
     "data": {
      "application/vnd.jupyter.widget-view+json": {
       "model_id": "da0d86ce550445d3a3bb5dc02af467ef",
       "version_major": 2,
       "version_minor": 0
      },
      "text/plain": [
       "  0%|          | 0/211 [00:00<?, ?it/s]"
      ]
     },
     "metadata": {},
     "output_type": "display_data"
    },
    {
     "data": {
      "application/vnd.jupyter.widget-view+json": {
       "model_id": "d2bc7710493d43c29131f0cb4ceec240",
       "version_major": 2,
       "version_minor": 0
      },
      "text/plain": [
       "  0%|          | 0/5 [00:00<?, ?it/s]"
      ]
     },
     "metadata": {},
     "output_type": "display_data"
    },
    {
     "data": {
      "application/vnd.jupyter.widget-view+json": {
       "model_id": "6e5fa159214d45fab9f04e61f6918a05",
       "version_major": 2,
       "version_minor": 0
      },
      "text/plain": [
       "  0%|          | 0/198 [00:00<?, ?it/s]"
      ]
     },
     "metadata": {},
     "output_type": "display_data"
    },
    {
     "data": {
      "application/vnd.jupyter.widget-view+json": {
       "model_id": "ea389dbcf7df4e8daf11424126899010",
       "version_major": 2,
       "version_minor": 0
      },
      "text/plain": [
       "  0%|          | 0/140 [00:00<?, ?it/s]"
      ]
     },
     "metadata": {},
     "output_type": "display_data"
    },
    {
     "data": {
      "application/vnd.jupyter.widget-view+json": {
       "model_id": "3f9467adf59949cc9ea35bab5f2a8d02",
       "version_major": 2,
       "version_minor": 0
      },
      "text/plain": [
       "  0%|          | 0/201 [00:00<?, ?it/s]"
      ]
     },
     "metadata": {},
     "output_type": "display_data"
    },
    {
     "data": {
      "application/vnd.jupyter.widget-view+json": {
       "model_id": "4e5d210519024ebd9b55cabdf477b42f",
       "version_major": 2,
       "version_minor": 0
      },
      "text/plain": [
       "  0%|          | 0/159 [00:00<?, ?it/s]"
      ]
     },
     "metadata": {},
     "output_type": "display_data"
    },
    {
     "data": {
      "application/vnd.jupyter.widget-view+json": {
       "model_id": "c306396aec9c428994a3ef9558d5d2a2",
       "version_major": 2,
       "version_minor": 0
      },
      "text/plain": [
       "  0%|          | 0/172 [00:00<?, ?it/s]"
      ]
     },
     "metadata": {},
     "output_type": "display_data"
    },
    {
     "data": {
      "application/vnd.jupyter.widget-view+json": {
       "model_id": "9d3e500af9ac41fbb07b79d53ffbfbc1",
       "version_major": 2,
       "version_minor": 0
      },
      "text/plain": [
       "  0%|          | 0/39 [00:00<?, ?it/s]"
      ]
     },
     "metadata": {},
     "output_type": "display_data"
    },
    {
     "data": {
      "application/vnd.jupyter.widget-view+json": {
       "model_id": "1e5c5db1f5a440baa186377d0e7a486c",
       "version_major": 2,
       "version_minor": 0
      },
      "text/plain": [
       "  0%|          | 0/40 [00:00<?, ?it/s]"
      ]
     },
     "metadata": {},
     "output_type": "display_data"
    },
    {
     "data": {
      "application/vnd.jupyter.widget-view+json": {
       "model_id": "44d2307df27a42ac86261db24b546902",
       "version_major": 2,
       "version_minor": 0
      },
      "text/plain": [
       "  0%|          | 0/40 [00:00<?, ?it/s]"
      ]
     },
     "metadata": {},
     "output_type": "display_data"
    },
    {
     "data": {
      "application/vnd.jupyter.widget-view+json": {
       "model_id": "34b692a5ec85490090ce68f6fee3b7fb",
       "version_major": 2,
       "version_minor": 0
      },
      "text/plain": [
       "  0%|          | 0/40 [00:00<?, ?it/s]"
      ]
     },
     "metadata": {},
     "output_type": "display_data"
    },
    {
     "data": {
      "application/vnd.jupyter.widget-view+json": {
       "model_id": "051f209dca4b4033a8309e9601f77832",
       "version_major": 2,
       "version_minor": 0
      },
      "text/plain": [
       "  0%|          | 0/40 [00:00<?, ?it/s]"
      ]
     },
     "metadata": {},
     "output_type": "display_data"
    },
    {
     "data": {
      "application/vnd.jupyter.widget-view+json": {
       "model_id": "686745958bb94d2f87376a139c135cdb",
       "version_major": 2,
       "version_minor": 0
      },
      "text/plain": [
       "  0%|          | 0/40 [00:00<?, ?it/s]"
      ]
     },
     "metadata": {},
     "output_type": "display_data"
    },
    {
     "data": {
      "application/vnd.jupyter.widget-view+json": {
       "model_id": "fec0d97dab1e43d6bd74b32eefec4534",
       "version_major": 2,
       "version_minor": 0
      },
      "text/plain": [
       "  0%|          | 0/40 [00:00<?, ?it/s]"
      ]
     },
     "metadata": {},
     "output_type": "display_data"
    },
    {
     "data": {
      "application/vnd.jupyter.widget-view+json": {
       "model_id": "4cd7911d8d4e4414a35d8e41552870da",
       "version_major": 2,
       "version_minor": 0
      },
      "text/plain": [
       "  0%|          | 0/40 [00:00<?, ?it/s]"
      ]
     },
     "metadata": {},
     "output_type": "display_data"
    },
    {
     "data": {
      "application/vnd.jupyter.widget-view+json": {
       "model_id": "1a1af5719cf84b76ae6ba55eb27624a3",
       "version_major": 2,
       "version_minor": 0
      },
      "text/plain": [
       "  0%|          | 0/40 [00:00<?, ?it/s]"
      ]
     },
     "metadata": {},
     "output_type": "display_data"
    },
    {
     "data": {
      "application/vnd.jupyter.widget-view+json": {
       "model_id": "0df227d3f3e8463491ebbb869e87519b",
       "version_major": 2,
       "version_minor": 0
      },
      "text/plain": [
       "  0%|          | 0/40 [00:00<?, ?it/s]"
      ]
     },
     "metadata": {},
     "output_type": "display_data"
    },
    {
     "data": {
      "application/vnd.jupyter.widget-view+json": {
       "model_id": "c5a95f15ab3e4861ac0e9eef5308fddd",
       "version_major": 2,
       "version_minor": 0
      },
      "text/plain": [
       "  0%|          | 0/40 [00:00<?, ?it/s]"
      ]
     },
     "metadata": {},
     "output_type": "display_data"
    },
    {
     "data": {
      "application/vnd.jupyter.widget-view+json": {
       "model_id": "20a8f9d408884e65a8d8abc78468b224",
       "version_major": 2,
       "version_minor": 0
      },
      "text/plain": [
       "  0%|          | 0/40 [00:00<?, ?it/s]"
      ]
     },
     "metadata": {},
     "output_type": "display_data"
    },
    {
     "data": {
      "application/vnd.jupyter.widget-view+json": {
       "model_id": "f9b5a2550c5440fea6d9c47a6a948cb8",
       "version_major": 2,
       "version_minor": 0
      },
      "text/plain": [
       "  0%|          | 0/40 [00:00<?, ?it/s]"
      ]
     },
     "metadata": {},
     "output_type": "display_data"
    },
    {
     "data": {
      "application/vnd.jupyter.widget-view+json": {
       "model_id": "f76b7d662c6241aea568258f03ced935",
       "version_major": 2,
       "version_minor": 0
      },
      "text/plain": [
       "  0%|          | 0/40 [00:00<?, ?it/s]"
      ]
     },
     "metadata": {},
     "output_type": "display_data"
    },
    {
     "data": {
      "application/vnd.jupyter.widget-view+json": {
       "model_id": "f09a5d1ed5674a96b5a1e01e31cec276",
       "version_major": 2,
       "version_minor": 0
      },
      "text/plain": [
       "  0%|          | 0/40 [00:00<?, ?it/s]"
      ]
     },
     "metadata": {},
     "output_type": "display_data"
    },
    {
     "data": {
      "application/vnd.jupyter.widget-view+json": {
       "model_id": "7523a3e59e884d17842978247866926a",
       "version_major": 2,
       "version_minor": 0
      },
      "text/plain": [
       "  0%|          | 0/40 [00:00<?, ?it/s]"
      ]
     },
     "metadata": {},
     "output_type": "display_data"
    },
    {
     "data": {
      "application/vnd.jupyter.widget-view+json": {
       "model_id": "b96c275bce104a75a008306e224ec49e",
       "version_major": 2,
       "version_minor": 0
      },
      "text/plain": [
       "  0%|          | 0/180 [00:00<?, ?it/s]"
      ]
     },
     "metadata": {},
     "output_type": "display_data"
    },
    {
     "data": {
      "application/vnd.jupyter.widget-view+json": {
       "model_id": "60607b48a89e4d49a03efbc50af16cf5",
       "version_major": 2,
       "version_minor": 0
      },
      "text/plain": [
       "  0%|          | 0/40 [00:00<?, ?it/s]"
      ]
     },
     "metadata": {},
     "output_type": "display_data"
    },
    {
     "data": {
      "application/vnd.jupyter.widget-view+json": {
       "model_id": "d8a3a98efe9e49568d50a17957dc44d7",
       "version_major": 2,
       "version_minor": 0
      },
      "text/plain": [
       "  0%|          | 0/40 [00:00<?, ?it/s]"
      ]
     },
     "metadata": {},
     "output_type": "display_data"
    },
    {
     "data": {
      "application/vnd.jupyter.widget-view+json": {
       "model_id": "619b5dea09564dadaeddc12c970fa4ef",
       "version_major": 2,
       "version_minor": 0
      },
      "text/plain": [
       "  0%|          | 0/40 [00:00<?, ?it/s]"
      ]
     },
     "metadata": {},
     "output_type": "display_data"
    },
    {
     "data": {
      "application/vnd.jupyter.widget-view+json": {
       "model_id": "f05d51dca837418193ac63c63234f3c7",
       "version_major": 2,
       "version_minor": 0
      },
      "text/plain": [
       "  0%|          | 0/40 [00:00<?, ?it/s]"
      ]
     },
     "metadata": {},
     "output_type": "display_data"
    },
    {
     "data": {
      "application/vnd.jupyter.widget-view+json": {
       "model_id": "9998d57cf77649448f90480a8f93f62b",
       "version_major": 2,
       "version_minor": 0
      },
      "text/plain": [
       "  0%|          | 0/40 [00:00<?, ?it/s]"
      ]
     },
     "metadata": {},
     "output_type": "display_data"
    },
    {
     "data": {
      "application/vnd.jupyter.widget-view+json": {
       "model_id": "4dbe3162a7ee42a3a55e980c8af619be",
       "version_major": 2,
       "version_minor": 0
      },
      "text/plain": [
       "  0%|          | 0/40 [00:00<?, ?it/s]"
      ]
     },
     "metadata": {},
     "output_type": "display_data"
    },
    {
     "data": {
      "application/vnd.jupyter.widget-view+json": {
       "model_id": "04ccc04e375f4f9a88878cc77bdb0a2f",
       "version_major": 2,
       "version_minor": 0
      },
      "text/plain": [
       "  0%|          | 0/40 [00:00<?, ?it/s]"
      ]
     },
     "metadata": {},
     "output_type": "display_data"
    },
    {
     "data": {
      "application/vnd.jupyter.widget-view+json": {
       "model_id": "47ab3b7a6af143e9a616015a911e38fc",
       "version_major": 2,
       "version_minor": 0
      },
      "text/plain": [
       "  0%|          | 0/179 [00:00<?, ?it/s]"
      ]
     },
     "metadata": {},
     "output_type": "display_data"
    },
    {
     "data": {
      "application/vnd.jupyter.widget-view+json": {
       "model_id": "23d4515399a64224a883aaf2f5d038d4",
       "version_major": 2,
       "version_minor": 0
      },
      "text/plain": [
       "  0%|          | 0/40 [00:00<?, ?it/s]"
      ]
     },
     "metadata": {},
     "output_type": "display_data"
    },
    {
     "data": {
      "application/vnd.jupyter.widget-view+json": {
       "model_id": "0fce29ac8c38430d9e405821f7554e54",
       "version_major": 2,
       "version_minor": 0
      },
      "text/plain": [
       "  0%|          | 0/172 [00:00<?, ?it/s]"
      ]
     },
     "metadata": {},
     "output_type": "display_data"
    },
    {
     "data": {
      "application/vnd.jupyter.widget-view+json": {
       "model_id": "14fc6046ed974d1d9fa55dca84e29b8b",
       "version_major": 2,
       "version_minor": 0
      },
      "text/plain": [
       "  0%|          | 0/40 [00:00<?, ?it/s]"
      ]
     },
     "metadata": {},
     "output_type": "display_data"
    },
    {
     "data": {
      "application/vnd.jupyter.widget-view+json": {
       "model_id": "74fffd0525f74497ac7acea1f11c3a7a",
       "version_major": 2,
       "version_minor": 0
      },
      "text/plain": [
       "  0%|          | 0/40 [00:00<?, ?it/s]"
      ]
     },
     "metadata": {},
     "output_type": "display_data"
    },
    {
     "data": {
      "application/vnd.jupyter.widget-view+json": {
       "model_id": "ed87c6f26f914d60887fabc73b3d7246",
       "version_major": 2,
       "version_minor": 0
      },
      "text/plain": [
       "  0%|          | 0/214 [00:00<?, ?it/s]"
      ]
     },
     "metadata": {},
     "output_type": "display_data"
    },
    {
     "data": {
      "application/vnd.jupyter.widget-view+json": {
       "model_id": "c280fde8b33b41e68fa130fe52238203",
       "version_major": 2,
       "version_minor": 0
      },
      "text/plain": [
       "  0%|          | 0/40 [00:00<?, ?it/s]"
      ]
     },
     "metadata": {},
     "output_type": "display_data"
    },
    {
     "data": {
      "application/vnd.jupyter.widget-view+json": {
       "model_id": "1f4b92657522456289e7299c496c1ba2",
       "version_major": 2,
       "version_minor": 0
      },
      "text/plain": [
       "  0%|          | 0/40 [00:00<?, ?it/s]"
      ]
     },
     "metadata": {},
     "output_type": "display_data"
    },
    {
     "data": {
      "application/vnd.jupyter.widget-view+json": {
       "model_id": "1e61f48375814137ab7c35b8b88ec3fb",
       "version_major": 2,
       "version_minor": 0
      },
      "text/plain": [
       "  0%|          | 0/40 [00:00<?, ?it/s]"
      ]
     },
     "metadata": {},
     "output_type": "display_data"
    },
    {
     "data": {
      "application/vnd.jupyter.widget-view+json": {
       "model_id": "8d936ffb55884ab48f64af1278db3268",
       "version_major": 2,
       "version_minor": 0
      },
      "text/plain": [
       "  0%|          | 0/40 [00:00<?, ?it/s]"
      ]
     },
     "metadata": {},
     "output_type": "display_data"
    },
    {
     "data": {
      "application/vnd.jupyter.widget-view+json": {
       "model_id": "8fc42f3fbde849bb96d50857881118f6",
       "version_major": 2,
       "version_minor": 0
      },
      "text/plain": [
       "  0%|          | 0/40 [00:00<?, ?it/s]"
      ]
     },
     "metadata": {},
     "output_type": "display_data"
    },
    {
     "data": {
      "application/vnd.jupyter.widget-view+json": {
       "model_id": "b2f309df2e20424082ff01456faaf4e5",
       "version_major": 2,
       "version_minor": 0
      },
      "text/plain": [
       "  0%|          | 0/40 [00:00<?, ?it/s]"
      ]
     },
     "metadata": {},
     "output_type": "display_data"
    },
    {
     "data": {
      "application/vnd.jupyter.widget-view+json": {
       "model_id": "8b997932d6544e70a9b90feea29f192c",
       "version_major": 2,
       "version_minor": 0
      },
      "text/plain": [
       "  0%|          | 0/40 [00:00<?, ?it/s]"
      ]
     },
     "metadata": {},
     "output_type": "display_data"
    },
    {
     "data": {
      "application/vnd.jupyter.widget-view+json": {
       "model_id": "dd86ef713b5f47ee9860e5f4701df510",
       "version_major": 2,
       "version_minor": 0
      },
      "text/plain": [
       "  0%|          | 0/194 [00:00<?, ?it/s]"
      ]
     },
     "metadata": {},
     "output_type": "display_data"
    },
    {
     "data": {
      "application/vnd.jupyter.widget-view+json": {
       "model_id": "ecf1f5796f17404aa259ed1389384a82",
       "version_major": 2,
       "version_minor": 0
      },
      "text/plain": [
       "  0%|          | 0/40 [00:00<?, ?it/s]"
      ]
     },
     "metadata": {},
     "output_type": "display_data"
    },
    {
     "data": {
      "application/vnd.jupyter.widget-view+json": {
       "model_id": "7c3e841b01e5426dbb19f72d5702f4d5",
       "version_major": 2,
       "version_minor": 0
      },
      "text/plain": [
       "  0%|          | 0/40 [00:00<?, ?it/s]"
      ]
     },
     "metadata": {},
     "output_type": "display_data"
    },
    {
     "data": {
      "application/vnd.jupyter.widget-view+json": {
       "model_id": "ea1707f9808c49a5952df5e9fc65f081",
       "version_major": 2,
       "version_minor": 0
      },
      "text/plain": [
       "  0%|          | 0/82 [00:00<?, ?it/s]"
      ]
     },
     "metadata": {},
     "output_type": "display_data"
    },
    {
     "data": {
      "application/vnd.jupyter.widget-view+json": {
       "model_id": "d34f7ae428c844318325c68aef250dbc",
       "version_major": 2,
       "version_minor": 0
      },
      "text/plain": [
       "  0%|          | 0/40 [00:00<?, ?it/s]"
      ]
     },
     "metadata": {},
     "output_type": "display_data"
    },
    {
     "data": {
      "application/vnd.jupyter.widget-view+json": {
       "model_id": "fc3cdf6b08684b3ba3b275a539f6a392",
       "version_major": 2,
       "version_minor": 0
      },
      "text/plain": [
       "  0%|          | 0/40 [00:00<?, ?it/s]"
      ]
     },
     "metadata": {},
     "output_type": "display_data"
    },
    {
     "data": {
      "application/vnd.jupyter.widget-view+json": {
       "model_id": "dad46c4bb11346e2aadb40f47a8012bf",
       "version_major": 2,
       "version_minor": 0
      },
      "text/plain": [
       "  0%|          | 0/40 [00:00<?, ?it/s]"
      ]
     },
     "metadata": {},
     "output_type": "display_data"
    },
    {
     "data": {
      "application/vnd.jupyter.widget-view+json": {
       "model_id": "af55ddbccd9941c3b8ad2395a1e7ab13",
       "version_major": 2,
       "version_minor": 0
      },
      "text/plain": [
       "  0%|          | 0/40 [00:00<?, ?it/s]"
      ]
     },
     "metadata": {},
     "output_type": "display_data"
    },
    {
     "data": {
      "application/vnd.jupyter.widget-view+json": {
       "model_id": "c26d0eb9aa6b4a1eac96bc2180c01ac0",
       "version_major": 2,
       "version_minor": 0
      },
      "text/plain": [
       "  0%|          | 0/40 [00:00<?, ?it/s]"
      ]
     },
     "metadata": {},
     "output_type": "display_data"
    },
    {
     "data": {
      "application/vnd.jupyter.widget-view+json": {
       "model_id": "4b056a808ad6406683d237f4d46d6f2c",
       "version_major": 2,
       "version_minor": 0
      },
      "text/plain": [
       "  0%|          | 0/40 [00:00<?, ?it/s]"
      ]
     },
     "metadata": {},
     "output_type": "display_data"
    },
    {
     "data": {
      "application/vnd.jupyter.widget-view+json": {
       "model_id": "9bef2c006fd24129bf98cccf3d025d06",
       "version_major": 2,
       "version_minor": 0
      },
      "text/plain": [
       "  0%|          | 0/40 [00:00<?, ?it/s]"
      ]
     },
     "metadata": {},
     "output_type": "display_data"
    },
    {
     "data": {
      "application/vnd.jupyter.widget-view+json": {
       "model_id": "dcbb7b720075435bbb9e323a79956086",
       "version_major": 2,
       "version_minor": 0
      },
      "text/plain": [
       "  0%|          | 0/40 [00:00<?, ?it/s]"
      ]
     },
     "metadata": {},
     "output_type": "display_data"
    },
    {
     "data": {
      "application/vnd.jupyter.widget-view+json": {
       "model_id": "52f81d1f6f6e4178b347b53c32886ad0",
       "version_major": 2,
       "version_minor": 0
      },
      "text/plain": [
       "  0%|          | 0/40 [00:00<?, ?it/s]"
      ]
     },
     "metadata": {},
     "output_type": "display_data"
    },
    {
     "data": {
      "application/vnd.jupyter.widget-view+json": {
       "model_id": "993e05f6812c4b458531505cafcbc59f",
       "version_major": 2,
       "version_minor": 0
      },
      "text/plain": [
       "  0%|          | 0/40 [00:00<?, ?it/s]"
      ]
     },
     "metadata": {},
     "output_type": "display_data"
    },
    {
     "data": {
      "application/vnd.jupyter.widget-view+json": {
       "model_id": "cf103e31cbac442eb8e3db0e435bb7cb",
       "version_major": 2,
       "version_minor": 0
      },
      "text/plain": [
       "  0%|          | 0/40 [00:00<?, ?it/s]"
      ]
     },
     "metadata": {},
     "output_type": "display_data"
    },
    {
     "data": {
      "application/vnd.jupyter.widget-view+json": {
       "model_id": "c38674787c5449c5a9cbae2f61131638",
       "version_major": 2,
       "version_minor": 0
      },
      "text/plain": [
       "  0%|          | 0/40 [00:00<?, ?it/s]"
      ]
     },
     "metadata": {},
     "output_type": "display_data"
    },
    {
     "data": {
      "application/vnd.jupyter.widget-view+json": {
       "model_id": "72a5654838ed4099883a491083dd7a48",
       "version_major": 2,
       "version_minor": 0
      },
      "text/plain": [
       "  0%|          | 0/40 [00:00<?, ?it/s]"
      ]
     },
     "metadata": {},
     "output_type": "display_data"
    },
    {
     "data": {
      "application/vnd.jupyter.widget-view+json": {
       "model_id": "fe566c9e3ab04b709636d63b8a33ed3b",
       "version_major": 2,
       "version_minor": 0
      },
      "text/plain": [
       "  0%|          | 0/40 [00:00<?, ?it/s]"
      ]
     },
     "metadata": {},
     "output_type": "display_data"
    },
    {
     "data": {
      "application/vnd.jupyter.widget-view+json": {
       "model_id": "2cb1c95a4fef41afa2f730eae3c5bc78",
       "version_major": 2,
       "version_minor": 0
      },
      "text/plain": [
       "  0%|          | 0/40 [00:00<?, ?it/s]"
      ]
     },
     "metadata": {},
     "output_type": "display_data"
    },
    {
     "data": {
      "application/vnd.jupyter.widget-view+json": {
       "model_id": "5b2a245ebbdd47c1976ddde9eeca9c90",
       "version_major": 2,
       "version_minor": 0
      },
      "text/plain": [
       "  0%|          | 0/40 [00:00<?, ?it/s]"
      ]
     },
     "metadata": {},
     "output_type": "display_data"
    },
    {
     "data": {
      "application/vnd.jupyter.widget-view+json": {
       "model_id": "3a79654b5f0b40ba8e844c407460fc18",
       "version_major": 2,
       "version_minor": 0
      },
      "text/plain": [
       "  0%|          | 0/40 [00:00<?, ?it/s]"
      ]
     },
     "metadata": {},
     "output_type": "display_data"
    },
    {
     "data": {
      "application/vnd.jupyter.widget-view+json": {
       "model_id": "7f677a46838c43d6bf436116b05a1f19",
       "version_major": 2,
       "version_minor": 0
      },
      "text/plain": [
       "  0%|          | 0/40 [00:00<?, ?it/s]"
      ]
     },
     "metadata": {},
     "output_type": "display_data"
    },
    {
     "data": {
      "application/vnd.jupyter.widget-view+json": {
       "model_id": "41bf3eeec4c3456ab759d23cc0a5fc5c",
       "version_major": 2,
       "version_minor": 0
      },
      "text/plain": [
       "  0%|          | 0/40 [00:00<?, ?it/s]"
      ]
     },
     "metadata": {},
     "output_type": "display_data"
    },
    {
     "data": {
      "application/vnd.jupyter.widget-view+json": {
       "model_id": "890ca8af41574837b2d03cb52f41ba9f",
       "version_major": 2,
       "version_minor": 0
      },
      "text/plain": [
       "  0%|          | 0/40 [00:00<?, ?it/s]"
      ]
     },
     "metadata": {},
     "output_type": "display_data"
    },
    {
     "data": {
      "application/vnd.jupyter.widget-view+json": {
       "model_id": "db3d819296084d39abc96b867da4471b",
       "version_major": 2,
       "version_minor": 0
      },
      "text/plain": [
       "  0%|          | 0/186 [00:00<?, ?it/s]"
      ]
     },
     "metadata": {},
     "output_type": "display_data"
    },
    {
     "data": {
      "application/vnd.jupyter.widget-view+json": {
       "model_id": "b71d69177d694bc087830aac497f9dca",
       "version_major": 2,
       "version_minor": 0
      },
      "text/plain": [
       "  0%|          | 0/198 [00:00<?, ?it/s]"
      ]
     },
     "metadata": {},
     "output_type": "display_data"
    },
    {
     "data": {
      "application/vnd.jupyter.widget-view+json": {
       "model_id": "fd02e1b00bb44e1bb422a112aab19545",
       "version_major": 2,
       "version_minor": 0
      },
      "text/plain": [
       "  0%|          | 0/40 [00:00<?, ?it/s]"
      ]
     },
     "metadata": {},
     "output_type": "display_data"
    },
    {
     "data": {
      "application/vnd.jupyter.widget-view+json": {
       "model_id": "05cc6877fc764789a7e407157a86afa4",
       "version_major": 2,
       "version_minor": 0
      },
      "text/plain": [
       "  0%|          | 0/40 [00:00<?, ?it/s]"
      ]
     },
     "metadata": {},
     "output_type": "display_data"
    },
    {
     "data": {
      "application/vnd.jupyter.widget-view+json": {
       "model_id": "9a0b6acab44f428d9d02a808a8ca9fc5",
       "version_major": 2,
       "version_minor": 0
      },
      "text/plain": [
       "  0%|          | 0/40 [00:00<?, ?it/s]"
      ]
     },
     "metadata": {},
     "output_type": "display_data"
    },
    {
     "data": {
      "application/vnd.jupyter.widget-view+json": {
       "model_id": "faf7f21dfe334751b7d0b67489a84e39",
       "version_major": 2,
       "version_minor": 0
      },
      "text/plain": [
       "  0%|          | 0/40 [00:00<?, ?it/s]"
      ]
     },
     "metadata": {},
     "output_type": "display_data"
    },
    {
     "data": {
      "application/vnd.jupyter.widget-view+json": {
       "model_id": "6b8658ce2c464c36a5f00b8efe0cb994",
       "version_major": 2,
       "version_minor": 0
      },
      "text/plain": [
       "  0%|          | 0/40 [00:00<?, ?it/s]"
      ]
     },
     "metadata": {},
     "output_type": "display_data"
    },
    {
     "data": {
      "application/vnd.jupyter.widget-view+json": {
       "model_id": "ea952416534a4b699cf9bba73affb700",
       "version_major": 2,
       "version_minor": 0
      },
      "text/plain": [
       "  0%|          | 0/40 [00:00<?, ?it/s]"
      ]
     },
     "metadata": {},
     "output_type": "display_data"
    },
    {
     "data": {
      "application/vnd.jupyter.widget-view+json": {
       "model_id": "9b2cfed16c0b48fcbd5e7e6a3040170a",
       "version_major": 2,
       "version_minor": 0
      },
      "text/plain": [
       "  0%|          | 0/204 [00:00<?, ?it/s]"
      ]
     },
     "metadata": {},
     "output_type": "display_data"
    },
    {
     "data": {
      "application/vnd.jupyter.widget-view+json": {
       "model_id": "316c8a32090d4fbf968c54c8b3ccb135",
       "version_major": 2,
       "version_minor": 0
      },
      "text/plain": [
       "  0%|          | 0/40 [00:00<?, ?it/s]"
      ]
     },
     "metadata": {},
     "output_type": "display_data"
    },
    {
     "data": {
      "application/vnd.jupyter.widget-view+json": {
       "model_id": "a821095ede564e1e87f73c2c9ed3f2d4",
       "version_major": 2,
       "version_minor": 0
      },
      "text/plain": [
       "  0%|          | 0/40 [00:00<?, ?it/s]"
      ]
     },
     "metadata": {},
     "output_type": "display_data"
    },
    {
     "data": {
      "application/vnd.jupyter.widget-view+json": {
       "model_id": "c028cdba2a8e489d8aabbaa8e74291f5",
       "version_major": 2,
       "version_minor": 0
      },
      "text/plain": [
       "  0%|          | 0/40 [00:00<?, ?it/s]"
      ]
     },
     "metadata": {},
     "output_type": "display_data"
    },
    {
     "data": {
      "application/vnd.jupyter.widget-view+json": {
       "model_id": "39e66eba346540aab43151eccdb6720e",
       "version_major": 2,
       "version_minor": 0
      },
      "text/plain": [
       "  0%|          | 0/192 [00:00<?, ?it/s]"
      ]
     },
     "metadata": {},
     "output_type": "display_data"
    },
    {
     "data": {
      "application/vnd.jupyter.widget-view+json": {
       "model_id": "542c53c679264c93b8e88f138f48ca94",
       "version_major": 2,
       "version_minor": 0
      },
      "text/plain": [
       "  0%|          | 0/40 [00:00<?, ?it/s]"
      ]
     },
     "metadata": {},
     "output_type": "display_data"
    },
    {
     "data": {
      "application/vnd.jupyter.widget-view+json": {
       "model_id": "da8ec41199f6468d81dac1af3cbf1725",
       "version_major": 2,
       "version_minor": 0
      },
      "text/plain": [
       "  0%|          | 0/40 [00:00<?, ?it/s]"
      ]
     },
     "metadata": {},
     "output_type": "display_data"
    },
    {
     "data": {
      "application/vnd.jupyter.widget-view+json": {
       "model_id": "c4445712612f4ebbb0ed0a43139206d4",
       "version_major": 2,
       "version_minor": 0
      },
      "text/plain": [
       "  0%|          | 0/40 [00:00<?, ?it/s]"
      ]
     },
     "metadata": {},
     "output_type": "display_data"
    },
    {
     "data": {
      "application/vnd.jupyter.widget-view+json": {
       "model_id": "867b8e0fcad740088dc5cf0adfb0d77d",
       "version_major": 2,
       "version_minor": 0
      },
      "text/plain": [
       "  0%|          | 0/40 [00:00<?, ?it/s]"
      ]
     },
     "metadata": {},
     "output_type": "display_data"
    },
    {
     "data": {
      "application/vnd.jupyter.widget-view+json": {
       "model_id": "736c7dd4ac974f6883d0316041befed3",
       "version_major": 2,
       "version_minor": 0
      },
      "text/plain": [
       "  0%|          | 0/40 [00:00<?, ?it/s]"
      ]
     },
     "metadata": {},
     "output_type": "display_data"
    },
    {
     "data": {
      "application/vnd.jupyter.widget-view+json": {
       "model_id": "88fe3581f30a40e1aef2b9ac538e0047",
       "version_major": 2,
       "version_minor": 0
      },
      "text/plain": [
       "  0%|          | 0/40 [00:00<?, ?it/s]"
      ]
     },
     "metadata": {},
     "output_type": "display_data"
    },
    {
     "data": {
      "application/vnd.jupyter.widget-view+json": {
       "model_id": "59eaf3b8eda84920af66b5f032c04b1c",
       "version_major": 2,
       "version_minor": 0
      },
      "text/plain": [
       "  0%|          | 0/222 [00:00<?, ?it/s]"
      ]
     },
     "metadata": {},
     "output_type": "display_data"
    },
    {
     "data": {
      "application/vnd.jupyter.widget-view+json": {
       "model_id": "2ebf0e3c89094f968111f1b29d0f18d1",
       "version_major": 2,
       "version_minor": 0
      },
      "text/plain": [
       "  0%|          | 0/40 [00:00<?, ?it/s]"
      ]
     },
     "metadata": {},
     "output_type": "display_data"
    },
    {
     "data": {
      "application/vnd.jupyter.widget-view+json": {
       "model_id": "afd99c06ff414cf88509fab5d10af22a",
       "version_major": 2,
       "version_minor": 0
      },
      "text/plain": [
       "  0%|          | 0/40 [00:00<?, ?it/s]"
      ]
     },
     "metadata": {},
     "output_type": "display_data"
    },
    {
     "data": {
      "application/vnd.jupyter.widget-view+json": {
       "model_id": "3588013c329445fdaa8d8e8999621776",
       "version_major": 2,
       "version_minor": 0
      },
      "text/plain": [
       "  0%|          | 0/40 [00:00<?, ?it/s]"
      ]
     },
     "metadata": {},
     "output_type": "display_data"
    },
    {
     "data": {
      "application/vnd.jupyter.widget-view+json": {
       "model_id": "80c2e39f10f64a5e8e77b40f57d7423d",
       "version_major": 2,
       "version_minor": 0
      },
      "text/plain": [
       "  0%|          | 0/40 [00:00<?, ?it/s]"
      ]
     },
     "metadata": {},
     "output_type": "display_data"
    },
    {
     "data": {
      "application/vnd.jupyter.widget-view+json": {
       "model_id": "3d35bc300abb4c739d4387f6254301ff",
       "version_major": 2,
       "version_minor": 0
      },
      "text/plain": [
       "  0%|          | 0/40 [00:00<?, ?it/s]"
      ]
     },
     "metadata": {},
     "output_type": "display_data"
    },
    {
     "data": {
      "application/vnd.jupyter.widget-view+json": {
       "model_id": "b2110eec7d9c409db637897a5cc36fe7",
       "version_major": 2,
       "version_minor": 0
      },
      "text/plain": [
       "  0%|          | 0/40 [00:00<?, ?it/s]"
      ]
     },
     "metadata": {},
     "output_type": "display_data"
    },
    {
     "data": {
      "application/vnd.jupyter.widget-view+json": {
       "model_id": "e04a8f1fec2a4b39baf7740773b61fa6",
       "version_major": 2,
       "version_minor": 0
      },
      "text/plain": [
       "  0%|          | 0/40 [00:00<?, ?it/s]"
      ]
     },
     "metadata": {},
     "output_type": "display_data"
    },
    {
     "data": {
      "application/vnd.jupyter.widget-view+json": {
       "model_id": "c22d8a5342e94475b83ba8e1d0786230",
       "version_major": 2,
       "version_minor": 0
      },
      "text/plain": [
       "  0%|          | 0/40 [00:00<?, ?it/s]"
      ]
     },
     "metadata": {},
     "output_type": "display_data"
    },
    {
     "data": {
      "application/vnd.jupyter.widget-view+json": {
       "model_id": "bc56c99336c64131bcaf5dd4977a30e4",
       "version_major": 2,
       "version_minor": 0
      },
      "text/plain": [
       "  0%|          | 0/40 [00:00<?, ?it/s]"
      ]
     },
     "metadata": {},
     "output_type": "display_data"
    },
    {
     "data": {
      "application/vnd.jupyter.widget-view+json": {
       "model_id": "f572312f4fde48b182947df5b16570c1",
       "version_major": 2,
       "version_minor": 0
      },
      "text/plain": [
       "  0%|          | 0/40 [00:00<?, ?it/s]"
      ]
     },
     "metadata": {},
     "output_type": "display_data"
    },
    {
     "data": {
      "application/vnd.jupyter.widget-view+json": {
       "model_id": "1451bb1131d24c059bb9a60dde8f4d00",
       "version_major": 2,
       "version_minor": 0
      },
      "text/plain": [
       "  0%|          | 0/40 [00:00<?, ?it/s]"
      ]
     },
     "metadata": {},
     "output_type": "display_data"
    },
    {
     "data": {
      "application/vnd.jupyter.widget-view+json": {
       "model_id": "9fc26c600feb4c8bbe06fcf878e73dc5",
       "version_major": 2,
       "version_minor": 0
      },
      "text/plain": [
       "  0%|          | 0/40 [00:00<?, ?it/s]"
      ]
     },
     "metadata": {},
     "output_type": "display_data"
    },
    {
     "data": {
      "application/vnd.jupyter.widget-view+json": {
       "model_id": "6ad56b45e1734d9094a303ec11a93fe9",
       "version_major": 2,
       "version_minor": 0
      },
      "text/plain": [
       "  0%|          | 0/40 [00:00<?, ?it/s]"
      ]
     },
     "metadata": {},
     "output_type": "display_data"
    },
    {
     "data": {
      "application/vnd.jupyter.widget-view+json": {
       "model_id": "fba2119b3fea4d798bf12e8fbaa81157",
       "version_major": 2,
       "version_minor": 0
      },
      "text/plain": [
       "  0%|          | 0/40 [00:00<?, ?it/s]"
      ]
     },
     "metadata": {},
     "output_type": "display_data"
    },
    {
     "data": {
      "application/vnd.jupyter.widget-view+json": {
       "model_id": "fefe579840304b5ea0734aa611575408",
       "version_major": 2,
       "version_minor": 0
      },
      "text/plain": [
       "  0%|          | 0/40 [00:00<?, ?it/s]"
      ]
     },
     "metadata": {},
     "output_type": "display_data"
    },
    {
     "data": {
      "application/vnd.jupyter.widget-view+json": {
       "model_id": "4eb09dbc391b443981d855f27db8ed05",
       "version_major": 2,
       "version_minor": 0
      },
      "text/plain": [
       "  0%|          | 0/40 [00:00<?, ?it/s]"
      ]
     },
     "metadata": {},
     "output_type": "display_data"
    },
    {
     "data": {
      "application/vnd.jupyter.widget-view+json": {
       "model_id": "13a94c6a8dbf4323b29f980f0ffc5c75",
       "version_major": 2,
       "version_minor": 0
      },
      "text/plain": [
       "  0%|          | 0/231 [00:00<?, ?it/s]"
      ]
     },
     "metadata": {},
     "output_type": "display_data"
    },
    {
     "data": {
      "application/vnd.jupyter.widget-view+json": {
       "model_id": "e0cbc917fa2b410f9b80274c7cf2f15f",
       "version_major": 2,
       "version_minor": 0
      },
      "text/plain": [
       "  0%|          | 0/40 [00:00<?, ?it/s]"
      ]
     },
     "metadata": {},
     "output_type": "display_data"
    },
    {
     "data": {
      "application/vnd.jupyter.widget-view+json": {
       "model_id": "3534cabee956494c8267c3d3036c07bc",
       "version_major": 2,
       "version_minor": 0
      },
      "text/plain": [
       "  0%|          | 0/40 [00:00<?, ?it/s]"
      ]
     },
     "metadata": {},
     "output_type": "display_data"
    },
    {
     "data": {
      "application/vnd.jupyter.widget-view+json": {
       "model_id": "9cbeefebb5c640f2a109f696e03d5067",
       "version_major": 2,
       "version_minor": 0
      },
      "text/plain": [
       "  0%|          | 0/40 [00:00<?, ?it/s]"
      ]
     },
     "metadata": {},
     "output_type": "display_data"
    },
    {
     "data": {
      "application/vnd.jupyter.widget-view+json": {
       "model_id": "6631802d4c704207ac8f7bf1f05e332a",
       "version_major": 2,
       "version_minor": 0
      },
      "text/plain": [
       "  0%|          | 0/175 [00:00<?, ?it/s]"
      ]
     },
     "metadata": {},
     "output_type": "display_data"
    },
    {
     "data": {
      "application/vnd.jupyter.widget-view+json": {
       "model_id": "91c26d10b4ec408098b597bc8dea40da",
       "version_major": 2,
       "version_minor": 0
      },
      "text/plain": [
       "  0%|          | 0/206 [00:00<?, ?it/s]"
      ]
     },
     "metadata": {},
     "output_type": "display_data"
    },
    {
     "data": {
      "application/vnd.jupyter.widget-view+json": {
       "model_id": "91f4693502c44015a3acdca15cbbdff6",
       "version_major": 2,
       "version_minor": 0
      },
      "text/plain": [
       "  0%|          | 0/40 [00:00<?, ?it/s]"
      ]
     },
     "metadata": {},
     "output_type": "display_data"
    },
    {
     "data": {
      "application/vnd.jupyter.widget-view+json": {
       "model_id": "aa22c00ec56748c597384b3a45df33fb",
       "version_major": 2,
       "version_minor": 0
      },
      "text/plain": [
       "  0%|          | 0/40 [00:00<?, ?it/s]"
      ]
     },
     "metadata": {},
     "output_type": "display_data"
    },
    {
     "data": {
      "application/vnd.jupyter.widget-view+json": {
       "model_id": "e9a0b95eed834a2badee6ed02e046109",
       "version_major": 2,
       "version_minor": 0
      },
      "text/plain": [
       "  0%|          | 0/40 [00:00<?, ?it/s]"
      ]
     },
     "metadata": {},
     "output_type": "display_data"
    },
    {
     "data": {
      "application/vnd.jupyter.widget-view+json": {
       "model_id": "4fe5f10aa46e471cb227a5c631bebb87",
       "version_major": 2,
       "version_minor": 0
      },
      "text/plain": [
       "  0%|          | 0/220 [00:00<?, ?it/s]"
      ]
     },
     "metadata": {},
     "output_type": "display_data"
    },
    {
     "data": {
      "application/vnd.jupyter.widget-view+json": {
       "model_id": "10ef694ac62d4a0ea32cb27aa82306d7",
       "version_major": 2,
       "version_minor": 0
      },
      "text/plain": [
       "  0%|          | 0/40 [00:00<?, ?it/s]"
      ]
     },
     "metadata": {},
     "output_type": "display_data"
    },
    {
     "data": {
      "application/vnd.jupyter.widget-view+json": {
       "model_id": "551b85e45ffd49a2ad59c12995edf6a7",
       "version_major": 2,
       "version_minor": 0
      },
      "text/plain": [
       "  0%|          | 0/40 [00:00<?, ?it/s]"
      ]
     },
     "metadata": {},
     "output_type": "display_data"
    },
    {
     "data": {
      "application/vnd.jupyter.widget-view+json": {
       "model_id": "7363681ddc46400fba08bac8ea61aaee",
       "version_major": 2,
       "version_minor": 0
      },
      "text/plain": [
       "  0%|          | 0/40 [00:00<?, ?it/s]"
      ]
     },
     "metadata": {},
     "output_type": "display_data"
    },
    {
     "data": {
      "application/vnd.jupyter.widget-view+json": {
       "model_id": "0727681a2231489192151f377c2273a7",
       "version_major": 2,
       "version_minor": 0
      },
      "text/plain": [
       "  0%|          | 0/40 [00:00<?, ?it/s]"
      ]
     },
     "metadata": {},
     "output_type": "display_data"
    },
    {
     "data": {
      "application/vnd.jupyter.widget-view+json": {
       "model_id": "827fe71f01ae4a0baa01339c5c181489",
       "version_major": 2,
       "version_minor": 0
      },
      "text/plain": [
       "  0%|          | 0/201 [00:00<?, ?it/s]"
      ]
     },
     "metadata": {},
     "output_type": "display_data"
    },
    {
     "data": {
      "application/vnd.jupyter.widget-view+json": {
       "model_id": "6b093741e45a4cce9289d03cf7e20ed4",
       "version_major": 2,
       "version_minor": 0
      },
      "text/plain": [
       "  0%|          | 0/40 [00:00<?, ?it/s]"
      ]
     },
     "metadata": {},
     "output_type": "display_data"
    },
    {
     "data": {
      "application/vnd.jupyter.widget-view+json": {
       "model_id": "e9f3c47ab39c485f9b313518a010dcae",
       "version_major": 2,
       "version_minor": 0
      },
      "text/plain": [
       "  0%|          | 0/40 [00:00<?, ?it/s]"
      ]
     },
     "metadata": {},
     "output_type": "display_data"
    },
    {
     "data": {
      "application/vnd.jupyter.widget-view+json": {
       "model_id": "0cac6e53446a4174913e42558989a987",
       "version_major": 2,
       "version_minor": 0
      },
      "text/plain": [
       "  0%|          | 0/40 [00:00<?, ?it/s]"
      ]
     },
     "metadata": {},
     "output_type": "display_data"
    },
    {
     "data": {
      "application/vnd.jupyter.widget-view+json": {
       "model_id": "a56c3ba82c554a3286227c957df244b4",
       "version_major": 2,
       "version_minor": 0
      },
      "text/plain": [
       "  0%|          | 0/40 [00:00<?, ?it/s]"
      ]
     },
     "metadata": {},
     "output_type": "display_data"
    },
    {
     "data": {
      "application/vnd.jupyter.widget-view+json": {
       "model_id": "743c2c14232745ee931995742678b94a",
       "version_major": 2,
       "version_minor": 0
      },
      "text/plain": [
       "  0%|          | 0/40 [00:00<?, ?it/s]"
      ]
     },
     "metadata": {},
     "output_type": "display_data"
    },
    {
     "data": {
      "application/vnd.jupyter.widget-view+json": {
       "model_id": "2cf92c1fb09b42d299aacc26d738eeec",
       "version_major": 2,
       "version_minor": 0
      },
      "text/plain": [
       "  0%|          | 0/40 [00:00<?, ?it/s]"
      ]
     },
     "metadata": {},
     "output_type": "display_data"
    },
    {
     "data": {
      "application/vnd.jupyter.widget-view+json": {
       "model_id": "432f53cf8cb545828bdf4953d4cfa517",
       "version_major": 2,
       "version_minor": 0
      },
      "text/plain": [
       "  0%|          | 0/40 [00:00<?, ?it/s]"
      ]
     },
     "metadata": {},
     "output_type": "display_data"
    },
    {
     "data": {
      "application/vnd.jupyter.widget-view+json": {
       "model_id": "d6374e6bd47746edb842ecec5db461f0",
       "version_major": 2,
       "version_minor": 0
      },
      "text/plain": [
       "  0%|          | 0/189 [00:00<?, ?it/s]"
      ]
     },
     "metadata": {},
     "output_type": "display_data"
    },
    {
     "data": {
      "application/vnd.jupyter.widget-view+json": {
       "model_id": "819497a10b144d5a9c0a9d5a79554eec",
       "version_major": 2,
       "version_minor": 0
      },
      "text/plain": [
       "  0%|          | 0/40 [00:00<?, ?it/s]"
      ]
     },
     "metadata": {},
     "output_type": "display_data"
    },
    {
     "data": {
      "application/vnd.jupyter.widget-view+json": {
       "model_id": "30f7b45ab65a425f812ce0105a0b968b",
       "version_major": 2,
       "version_minor": 0
      },
      "text/plain": [
       "  0%|          | 0/40 [00:00<?, ?it/s]"
      ]
     },
     "metadata": {},
     "output_type": "display_data"
    },
    {
     "data": {
      "application/vnd.jupyter.widget-view+json": {
       "model_id": "04f4b999163c4276a43486ec67297d47",
       "version_major": 2,
       "version_minor": 0
      },
      "text/plain": [
       "  0%|          | 0/40 [00:00<?, ?it/s]"
      ]
     },
     "metadata": {},
     "output_type": "display_data"
    },
    {
     "data": {
      "application/vnd.jupyter.widget-view+json": {
       "model_id": "0a2e0851e9714865b9c0307c4946682b",
       "version_major": 2,
       "version_minor": 0
      },
      "text/plain": [
       "  0%|          | 0/108 [00:00<?, ?it/s]"
      ]
     },
     "metadata": {},
     "output_type": "display_data"
    },
    {
     "data": {
      "application/vnd.jupyter.widget-view+json": {
       "model_id": "c05bf86f41854fee9c1be77b920d43d0",
       "version_major": 2,
       "version_minor": 0
      },
      "text/plain": [
       "  0%|          | 0/40 [00:00<?, ?it/s]"
      ]
     },
     "metadata": {},
     "output_type": "display_data"
    },
    {
     "data": {
      "application/vnd.jupyter.widget-view+json": {
       "model_id": "f75e98aefd5546bc85c633594ad6d559",
       "version_major": 2,
       "version_minor": 0
      },
      "text/plain": [
       "  0%|          | 0/503 [00:00<?, ?it/s]"
      ]
     },
     "metadata": {},
     "output_type": "display_data"
    },
    {
     "data": {
      "application/vnd.jupyter.widget-view+json": {
       "model_id": "1f42ef43f7cb4bd9a6e816077955a227",
       "version_major": 2,
       "version_minor": 0
      },
      "text/plain": [
       "  0%|          | 0/40 [00:00<?, ?it/s]"
      ]
     },
     "metadata": {},
     "output_type": "display_data"
    },
    {
     "data": {
      "application/vnd.jupyter.widget-view+json": {
       "model_id": "526138f03d8e4eb8b1297347755e8bda",
       "version_major": 2,
       "version_minor": 0
      },
      "text/plain": [
       "  0%|          | 0/283 [00:00<?, ?it/s]"
      ]
     },
     "metadata": {},
     "output_type": "display_data"
    },
    {
     "data": {
      "application/vnd.jupyter.widget-view+json": {
       "model_id": "786ec9ec116348d3a90a83e923e0fe0b",
       "version_major": 2,
       "version_minor": 0
      },
      "text/plain": [
       "  0%|          | 0/194 [00:00<?, ?it/s]"
      ]
     },
     "metadata": {},
     "output_type": "display_data"
    },
    {
     "data": {
      "application/vnd.jupyter.widget-view+json": {
       "model_id": "36e4793361e74fb79f79aabefc1c5c4b",
       "version_major": 2,
       "version_minor": 0
      },
      "text/plain": [
       "  0%|          | 0/200 [00:00<?, ?it/s]"
      ]
     },
     "metadata": {},
     "output_type": "display_data"
    },
    {
     "data": {
      "application/vnd.jupyter.widget-view+json": {
       "model_id": "34880fa1acd748e28f857d726a60ce07",
       "version_major": 2,
       "version_minor": 0
      },
      "text/plain": [
       "  0%|          | 0/40 [00:00<?, ?it/s]"
      ]
     },
     "metadata": {},
     "output_type": "display_data"
    },
    {
     "data": {
      "application/vnd.jupyter.widget-view+json": {
       "model_id": "42f3d06c578d4e83b0641f9e81d18c38",
       "version_major": 2,
       "version_minor": 0
      },
      "text/plain": [
       "  0%|          | 0/215 [00:00<?, ?it/s]"
      ]
     },
     "metadata": {},
     "output_type": "display_data"
    },
    {
     "data": {
      "application/vnd.jupyter.widget-view+json": {
       "model_id": "7bd56bca3371423c8b1a19cfb6625a65",
       "version_major": 2,
       "version_minor": 0
      },
      "text/plain": [
       "  0%|          | 0/40 [00:00<?, ?it/s]"
      ]
     },
     "metadata": {},
     "output_type": "display_data"
    },
    {
     "data": {
      "application/vnd.jupyter.widget-view+json": {
       "model_id": "4248c827e64749d1acfd942c312bb5cf",
       "version_major": 2,
       "version_minor": 0
      },
      "text/plain": [
       "  0%|          | 0/186 [00:00<?, ?it/s]"
      ]
     },
     "metadata": {},
     "output_type": "display_data"
    },
    {
     "data": {
      "application/vnd.jupyter.widget-view+json": {
       "model_id": "9fa22149954f43ccacf5f68201b71caa",
       "version_major": 2,
       "version_minor": 0
      },
      "text/plain": [
       "  0%|          | 0/40 [00:00<?, ?it/s]"
      ]
     },
     "metadata": {},
     "output_type": "display_data"
    },
    {
     "data": {
      "application/vnd.jupyter.widget-view+json": {
       "model_id": "f64e6adcbf0c49919f40422ef774eccd",
       "version_major": 2,
       "version_minor": 0
      },
      "text/plain": [
       "  0%|          | 0/40 [00:00<?, ?it/s]"
      ]
     },
     "metadata": {},
     "output_type": "display_data"
    },
    {
     "data": {
      "application/vnd.jupyter.widget-view+json": {
       "model_id": "fd7623ad515742318002e35625f39c37",
       "version_major": 2,
       "version_minor": 0
      },
      "text/plain": [
       "  0%|          | 0/40 [00:00<?, ?it/s]"
      ]
     },
     "metadata": {},
     "output_type": "display_data"
    },
    {
     "data": {
      "application/vnd.jupyter.widget-view+json": {
       "model_id": "f075609c8a844644b6432ad0b568fd44",
       "version_major": 2,
       "version_minor": 0
      },
      "text/plain": [
       "  0%|          | 0/40 [00:00<?, ?it/s]"
      ]
     },
     "metadata": {},
     "output_type": "display_data"
    },
    {
     "data": {
      "application/vnd.jupyter.widget-view+json": {
       "model_id": "2ac080e113dd4084b863a5f8f4167dcf",
       "version_major": 2,
       "version_minor": 0
      },
      "text/plain": [
       "  0%|          | 0/40 [00:00<?, ?it/s]"
      ]
     },
     "metadata": {},
     "output_type": "display_data"
    },
    {
     "data": {
      "application/vnd.jupyter.widget-view+json": {
       "model_id": "9cca474bf6b042adaef392ac485d6710",
       "version_major": 2,
       "version_minor": 0
      },
      "text/plain": [
       "  0%|          | 0/40 [00:00<?, ?it/s]"
      ]
     },
     "metadata": {},
     "output_type": "display_data"
    },
    {
     "data": {
      "application/vnd.jupyter.widget-view+json": {
       "model_id": "8b5e884989a44628a4b1012bc8a9f05f",
       "version_major": 2,
       "version_minor": 0
      },
      "text/plain": [
       "  0%|          | 0/40 [00:00<?, ?it/s]"
      ]
     },
     "metadata": {},
     "output_type": "display_data"
    },
    {
     "data": {
      "application/vnd.jupyter.widget-view+json": {
       "model_id": "157b13bc4959411b908c64f8c375135d",
       "version_major": 2,
       "version_minor": 0
      },
      "text/plain": [
       "  0%|          | 0/40 [00:00<?, ?it/s]"
      ]
     },
     "metadata": {},
     "output_type": "display_data"
    },
    {
     "data": {
      "application/vnd.jupyter.widget-view+json": {
       "model_id": "e88942506142459faac64574f784d9aa",
       "version_major": 2,
       "version_minor": 0
      },
      "text/plain": [
       "  0%|          | 0/210 [00:00<?, ?it/s]"
      ]
     },
     "metadata": {},
     "output_type": "display_data"
    },
    {
     "data": {
      "application/vnd.jupyter.widget-view+json": {
       "model_id": "56380c97c11d4c82a961015ee8fb31af",
       "version_major": 2,
       "version_minor": 0
      },
      "text/plain": [
       "  0%|          | 0/40 [00:00<?, ?it/s]"
      ]
     },
     "metadata": {},
     "output_type": "display_data"
    },
    {
     "data": {
      "application/vnd.jupyter.widget-view+json": {
       "model_id": "2cb46ca38986451797db01ac38bf6921",
       "version_major": 2,
       "version_minor": 0
      },
      "text/plain": [
       "  0%|          | 0/40 [00:00<?, ?it/s]"
      ]
     },
     "metadata": {},
     "output_type": "display_data"
    },
    {
     "data": {
      "application/vnd.jupyter.widget-view+json": {
       "model_id": "6e39e1f09b954d07a47e85746ac65142",
       "version_major": 2,
       "version_minor": 0
      },
      "text/plain": [
       "  0%|          | 0/40 [00:00<?, ?it/s]"
      ]
     },
     "metadata": {},
     "output_type": "display_data"
    },
    {
     "data": {
      "application/vnd.jupyter.widget-view+json": {
       "model_id": "f10f5585c783434bbb85e9da3b3c6ca4",
       "version_major": 2,
       "version_minor": 0
      },
      "text/plain": [
       "  0%|          | 0/40 [00:00<?, ?it/s]"
      ]
     },
     "metadata": {},
     "output_type": "display_data"
    },
    {
     "data": {
      "application/vnd.jupyter.widget-view+json": {
       "model_id": "161a627c7f114ba591729153a6d2e353",
       "version_major": 2,
       "version_minor": 0
      },
      "text/plain": [
       "  0%|          | 0/205 [00:00<?, ?it/s]"
      ]
     },
     "metadata": {},
     "output_type": "display_data"
    },
    {
     "data": {
      "application/vnd.jupyter.widget-view+json": {
       "model_id": "80c78f572aae485d83241e69c75468a6",
       "version_major": 2,
       "version_minor": 0
      },
      "text/plain": [
       "  0%|          | 0/214 [00:00<?, ?it/s]"
      ]
     },
     "metadata": {},
     "output_type": "display_data"
    },
    {
     "data": {
      "application/vnd.jupyter.widget-view+json": {
       "model_id": "0fdb462cfbeb49afbba327d8690b87be",
       "version_major": 2,
       "version_minor": 0
      },
      "text/plain": [
       "  0%|          | 0/40 [00:00<?, ?it/s]"
      ]
     },
     "metadata": {},
     "output_type": "display_data"
    },
    {
     "data": {
      "application/vnd.jupyter.widget-view+json": {
       "model_id": "e316206c283347f4a29861a4891c616b",
       "version_major": 2,
       "version_minor": 0
      },
      "text/plain": [
       "  0%|          | 0/212 [00:00<?, ?it/s]"
      ]
     },
     "metadata": {},
     "output_type": "display_data"
    },
    {
     "data": {
      "application/vnd.jupyter.widget-view+json": {
       "model_id": "409bb17a258b4efa98a6eba6bd617c90",
       "version_major": 2,
       "version_minor": 0
      },
      "text/plain": [
       "  0%|          | 0/40 [00:00<?, ?it/s]"
      ]
     },
     "metadata": {},
     "output_type": "display_data"
    },
    {
     "data": {
      "application/vnd.jupyter.widget-view+json": {
       "model_id": "6a51bf3b9e584f70b45dafcf2a334962",
       "version_major": 2,
       "version_minor": 0
      },
      "text/plain": [
       "  0%|          | 0/40 [00:00<?, ?it/s]"
      ]
     },
     "metadata": {},
     "output_type": "display_data"
    },
    {
     "data": {
      "application/vnd.jupyter.widget-view+json": {
       "model_id": "d13db0616e1245c19731b3233cec1683",
       "version_major": 2,
       "version_minor": 0
      },
      "text/plain": [
       "  0%|          | 0/40 [00:00<?, ?it/s]"
      ]
     },
     "metadata": {},
     "output_type": "display_data"
    },
    {
     "data": {
      "application/vnd.jupyter.widget-view+json": {
       "model_id": "38d525352fe0403d97327e72cd5e148e",
       "version_major": 2,
       "version_minor": 0
      },
      "text/plain": [
       "  0%|          | 0/40 [00:00<?, ?it/s]"
      ]
     },
     "metadata": {},
     "output_type": "display_data"
    },
    {
     "data": {
      "application/vnd.jupyter.widget-view+json": {
       "model_id": "51a1dab10f91438f8861ba230fb80b31",
       "version_major": 2,
       "version_minor": 0
      },
      "text/plain": [
       "  0%|          | 0/40 [00:00<?, ?it/s]"
      ]
     },
     "metadata": {},
     "output_type": "display_data"
    },
    {
     "data": {
      "application/vnd.jupyter.widget-view+json": {
       "model_id": "0e07dd620fca4f068868d60fbc18fdfb",
       "version_major": 2,
       "version_minor": 0
      },
      "text/plain": [
       "  0%|          | 0/40 [00:00<?, ?it/s]"
      ]
     },
     "metadata": {},
     "output_type": "display_data"
    },
    {
     "data": {
      "application/vnd.jupyter.widget-view+json": {
       "model_id": "3e6be08fd0f042f4bb18a2c1a2e059c3",
       "version_major": 2,
       "version_minor": 0
      },
      "text/plain": [
       "  0%|          | 0/40 [00:00<?, ?it/s]"
      ]
     },
     "metadata": {},
     "output_type": "display_data"
    },
    {
     "data": {
      "application/vnd.jupyter.widget-view+json": {
       "model_id": "75e0c4a17efc47ddaefff596a9a49363",
       "version_major": 2,
       "version_minor": 0
      },
      "text/plain": [
       "  0%|          | 0/40 [00:00<?, ?it/s]"
      ]
     },
     "metadata": {},
     "output_type": "display_data"
    },
    {
     "data": {
      "application/vnd.jupyter.widget-view+json": {
       "model_id": "908a6ee0b06c4a73b65cddc22d9c4168",
       "version_major": 2,
       "version_minor": 0
      },
      "text/plain": [
       "  0%|          | 0/208 [00:00<?, ?it/s]"
      ]
     },
     "metadata": {},
     "output_type": "display_data"
    },
    {
     "data": {
      "application/vnd.jupyter.widget-view+json": {
       "model_id": "62fbe01879ea449b838f5180849d502e",
       "version_major": 2,
       "version_minor": 0
      },
      "text/plain": [
       "  0%|          | 0/40 [00:00<?, ?it/s]"
      ]
     },
     "metadata": {},
     "output_type": "display_data"
    },
    {
     "data": {
      "application/vnd.jupyter.widget-view+json": {
       "model_id": "b91abd94a6494eaab7f0fddd1a8affb2",
       "version_major": 2,
       "version_minor": 0
      },
      "text/plain": [
       "  0%|          | 0/40 [00:00<?, ?it/s]"
      ]
     },
     "metadata": {},
     "output_type": "display_data"
    },
    {
     "data": {
      "application/vnd.jupyter.widget-view+json": {
       "model_id": "c52700e23ce4414fada39f585a9b2bfa",
       "version_major": 2,
       "version_minor": 0
      },
      "text/plain": [
       "  0%|          | 0/40 [00:00<?, ?it/s]"
      ]
     },
     "metadata": {},
     "output_type": "display_data"
    },
    {
     "data": {
      "application/vnd.jupyter.widget-view+json": {
       "model_id": "7239f04e62c446fa9423e1ba408b60f8",
       "version_major": 2,
       "version_minor": 0
      },
      "text/plain": [
       "  0%|          | 0/211 [00:00<?, ?it/s]"
      ]
     },
     "metadata": {},
     "output_type": "display_data"
    },
    {
     "data": {
      "application/vnd.jupyter.widget-view+json": {
       "model_id": "96f2e858f85043eba6bd27cd2bdc85f1",
       "version_major": 2,
       "version_minor": 0
      },
      "text/plain": [
       "  0%|          | 0/40 [00:00<?, ?it/s]"
      ]
     },
     "metadata": {},
     "output_type": "display_data"
    },
    {
     "data": {
      "application/vnd.jupyter.widget-view+json": {
       "model_id": "82386724e5fd4704bef27765e6c4789f",
       "version_major": 2,
       "version_minor": 0
      },
      "text/plain": [
       "  0%|          | 0/40 [00:00<?, ?it/s]"
      ]
     },
     "metadata": {},
     "output_type": "display_data"
    },
    {
     "data": {
      "application/vnd.jupyter.widget-view+json": {
       "model_id": "aa5555c7b10c46ea9c2245a0f42957b0",
       "version_major": 2,
       "version_minor": 0
      },
      "text/plain": [
       "  0%|          | 0/40 [00:00<?, ?it/s]"
      ]
     },
     "metadata": {},
     "output_type": "display_data"
    },
    {
     "data": {
      "application/vnd.jupyter.widget-view+json": {
       "model_id": "85acc0bec60c40f2a6acec03a30df9b1",
       "version_major": 2,
       "version_minor": 0
      },
      "text/plain": [
       "  0%|          | 0/40 [00:00<?, ?it/s]"
      ]
     },
     "metadata": {},
     "output_type": "display_data"
    },
    {
     "data": {
      "application/vnd.jupyter.widget-view+json": {
       "model_id": "2b999848bdd34b8086491b4afdac1f93",
       "version_major": 2,
       "version_minor": 0
      },
      "text/plain": [
       "  0%|          | 0/232 [00:00<?, ?it/s]"
      ]
     },
     "metadata": {},
     "output_type": "display_data"
    },
    {
     "data": {
      "application/vnd.jupyter.widget-view+json": {
       "model_id": "6e90023615b941cab4100a1a92388346",
       "version_major": 2,
       "version_minor": 0
      },
      "text/plain": [
       "  0%|          | 0/40 [00:00<?, ?it/s]"
      ]
     },
     "metadata": {},
     "output_type": "display_data"
    },
    {
     "data": {
      "application/vnd.jupyter.widget-view+json": {
       "model_id": "105646b37182417e983cca3307686ecc",
       "version_major": 2,
       "version_minor": 0
      },
      "text/plain": [
       "  0%|          | 0/40 [00:00<?, ?it/s]"
      ]
     },
     "metadata": {},
     "output_type": "display_data"
    },
    {
     "data": {
      "application/vnd.jupyter.widget-view+json": {
       "model_id": "8fc8efffe5e44453b65fc337d9eec079",
       "version_major": 2,
       "version_minor": 0
      },
      "text/plain": [
       "  0%|          | 0/40 [00:00<?, ?it/s]"
      ]
     },
     "metadata": {},
     "output_type": "display_data"
    },
    {
     "data": {
      "application/vnd.jupyter.widget-view+json": {
       "model_id": "7030d523fdcd4eb48ecc21982d9e9750",
       "version_major": 2,
       "version_minor": 0
      },
      "text/plain": [
       "  0%|          | 0/280 [00:00<?, ?it/s]"
      ]
     },
     "metadata": {},
     "output_type": "display_data"
    },
    {
     "data": {
      "application/vnd.jupyter.widget-view+json": {
       "model_id": "80da00b0add5431cb776576452156462",
       "version_major": 2,
       "version_minor": 0
      },
      "text/plain": [
       "  0%|          | 0/40 [00:00<?, ?it/s]"
      ]
     },
     "metadata": {},
     "output_type": "display_data"
    },
    {
     "data": {
      "application/vnd.jupyter.widget-view+json": {
       "model_id": "6adff3b7cfb44bcaae19e8b77798f455",
       "version_major": 2,
       "version_minor": 0
      },
      "text/plain": [
       "  0%|          | 0/40 [00:00<?, ?it/s]"
      ]
     },
     "metadata": {},
     "output_type": "display_data"
    },
    {
     "data": {
      "application/vnd.jupyter.widget-view+json": {
       "model_id": "e0fecfa3e60c40599125ccfb77c10132",
       "version_major": 2,
       "version_minor": 0
      },
      "text/plain": [
       "  0%|          | 0/40 [00:00<?, ?it/s]"
      ]
     },
     "metadata": {},
     "output_type": "display_data"
    },
    {
     "data": {
      "application/vnd.jupyter.widget-view+json": {
       "model_id": "a4cb0eef2b8149d58972db1e4cea18af",
       "version_major": 2,
       "version_minor": 0
      },
      "text/plain": [
       "  0%|          | 0/40 [00:00<?, ?it/s]"
      ]
     },
     "metadata": {},
     "output_type": "display_data"
    },
    {
     "data": {
      "application/vnd.jupyter.widget-view+json": {
       "model_id": "420873a2c3f1429a93126eb3e4e0b501",
       "version_major": 2,
       "version_minor": 0
      },
      "text/plain": [
       "  0%|          | 0/40 [00:00<?, ?it/s]"
      ]
     },
     "metadata": {},
     "output_type": "display_data"
    },
    {
     "data": {
      "application/vnd.jupyter.widget-view+json": {
       "model_id": "4a2c3a467bbd4e48ae762febe92b7ac6",
       "version_major": 2,
       "version_minor": 0
      },
      "text/plain": [
       "  0%|          | 0/40 [00:00<?, ?it/s]"
      ]
     },
     "metadata": {},
     "output_type": "display_data"
    },
    {
     "data": {
      "application/vnd.jupyter.widget-view+json": {
       "model_id": "e78a796a448a470c82c053532132eb34",
       "version_major": 2,
       "version_minor": 0
      },
      "text/plain": [
       "  0%|          | 0/40 [00:00<?, ?it/s]"
      ]
     },
     "metadata": {},
     "output_type": "display_data"
    },
    {
     "data": {
      "application/vnd.jupyter.widget-view+json": {
       "model_id": "2bed05d4e7084cc88a1cdb4feff9476f",
       "version_major": 2,
       "version_minor": 0
      },
      "text/plain": [
       "  0%|          | 0/40 [00:00<?, ?it/s]"
      ]
     },
     "metadata": {},
     "output_type": "display_data"
    },
    {
     "data": {
      "application/vnd.jupyter.widget-view+json": {
       "model_id": "7ed18c75b1b14796abc81163c7927cbc",
       "version_major": 2,
       "version_minor": 0
      },
      "text/plain": [
       "  0%|          | 0/40 [00:00<?, ?it/s]"
      ]
     },
     "metadata": {},
     "output_type": "display_data"
    },
    {
     "data": {
      "application/vnd.jupyter.widget-view+json": {
       "model_id": "c07549b1e73f42fe93e8272a176a22df",
       "version_major": 2,
       "version_minor": 0
      },
      "text/plain": [
       "  0%|          | 0/40 [00:00<?, ?it/s]"
      ]
     },
     "metadata": {},
     "output_type": "display_data"
    },
    {
     "data": {
      "application/vnd.jupyter.widget-view+json": {
       "model_id": "db05f628b771480093d1a73842b7d7b3",
       "version_major": 2,
       "version_minor": 0
      },
      "text/plain": [
       "  0%|          | 0/40 [00:00<?, ?it/s]"
      ]
     },
     "metadata": {},
     "output_type": "display_data"
    },
    {
     "data": {
      "application/vnd.jupyter.widget-view+json": {
       "model_id": "f8e0d66a524c437cb08c3c1d60a816ed",
       "version_major": 2,
       "version_minor": 0
      },
      "text/plain": [
       "  0%|          | 0/40 [00:00<?, ?it/s]"
      ]
     },
     "metadata": {},
     "output_type": "display_data"
    },
    {
     "data": {
      "application/vnd.jupyter.widget-view+json": {
       "model_id": "ec3c2621a04c4369a1847582dc4d29e2",
       "version_major": 2,
       "version_minor": 0
      },
      "text/plain": [
       "  0%|          | 0/40 [00:00<?, ?it/s]"
      ]
     },
     "metadata": {},
     "output_type": "display_data"
    },
    {
     "data": {
      "application/vnd.jupyter.widget-view+json": {
       "model_id": "14f47b6c8bc749789dbd756765343ff3",
       "version_major": 2,
       "version_minor": 0
      },
      "text/plain": [
       "  0%|          | 0/182 [00:00<?, ?it/s]"
      ]
     },
     "metadata": {},
     "output_type": "display_data"
    },
    {
     "data": {
      "application/vnd.jupyter.widget-view+json": {
       "model_id": "ccfe71ac066b4206b91aee93bbdf1f2d",
       "version_major": 2,
       "version_minor": 0
      },
      "text/plain": [
       "  0%|          | 0/206 [00:00<?, ?it/s]"
      ]
     },
     "metadata": {},
     "output_type": "display_data"
    },
    {
     "data": {
      "application/vnd.jupyter.widget-view+json": {
       "model_id": "cde33bc322f24260af557a73b60ae265",
       "version_major": 2,
       "version_minor": 0
      },
      "text/plain": [
       "  0%|          | 0/40 [00:00<?, ?it/s]"
      ]
     },
     "metadata": {},
     "output_type": "display_data"
    },
    {
     "data": {
      "application/vnd.jupyter.widget-view+json": {
       "model_id": "d8454fdeac064996aef4510b52dd680e",
       "version_major": 2,
       "version_minor": 0
      },
      "text/plain": [
       "  0%|          | 0/40 [00:00<?, ?it/s]"
      ]
     },
     "metadata": {},
     "output_type": "display_data"
    },
    {
     "data": {
      "application/vnd.jupyter.widget-view+json": {
       "model_id": "ed0783ae867042d18eec3a98723af533",
       "version_major": 2,
       "version_minor": 0
      },
      "text/plain": [
       "  0%|          | 0/211 [00:00<?, ?it/s]"
      ]
     },
     "metadata": {},
     "output_type": "display_data"
    },
    {
     "data": {
      "application/vnd.jupyter.widget-view+json": {
       "model_id": "4c71480949724429bf3a694ca9f9b1ef",
       "version_major": 2,
       "version_minor": 0
      },
      "text/plain": [
       "  0%|          | 0/40 [00:00<?, ?it/s]"
      ]
     },
     "metadata": {},
     "output_type": "display_data"
    },
    {
     "data": {
      "application/vnd.jupyter.widget-view+json": {
       "model_id": "d288e3bbfd2d4737bb704d7bec00047b",
       "version_major": 2,
       "version_minor": 0
      },
      "text/plain": [
       "  0%|          | 0/40 [00:00<?, ?it/s]"
      ]
     },
     "metadata": {},
     "output_type": "display_data"
    },
    {
     "data": {
      "application/vnd.jupyter.widget-view+json": {
       "model_id": "eb4c1484b7014eb6b7e20f491cf693b6",
       "version_major": 2,
       "version_minor": 0
      },
      "text/plain": [
       "  0%|          | 0/223 [00:00<?, ?it/s]"
      ]
     },
     "metadata": {},
     "output_type": "display_data"
    },
    {
     "data": {
      "application/vnd.jupyter.widget-view+json": {
       "model_id": "62044279e5b94c669caf68fc0e925b59",
       "version_major": 2,
       "version_minor": 0
      },
      "text/plain": [
       "  0%|          | 0/40 [00:00<?, ?it/s]"
      ]
     },
     "metadata": {},
     "output_type": "display_data"
    },
    {
     "data": {
      "application/vnd.jupyter.widget-view+json": {
       "model_id": "4a7e061b06c340f9a512ff31e3fdc4aa",
       "version_major": 2,
       "version_minor": 0
      },
      "text/plain": [
       "  0%|          | 0/40 [00:00<?, ?it/s]"
      ]
     },
     "metadata": {},
     "output_type": "display_data"
    },
    {
     "data": {
      "application/vnd.jupyter.widget-view+json": {
       "model_id": "984ed7447d704c7c850104c0ae793bac",
       "version_major": 2,
       "version_minor": 0
      },
      "text/plain": [
       "  0%|          | 0/40 [00:00<?, ?it/s]"
      ]
     },
     "metadata": {},
     "output_type": "display_data"
    },
    {
     "data": {
      "application/vnd.jupyter.widget-view+json": {
       "model_id": "3e15d5423acf41c486be679f73ad9767",
       "version_major": 2,
       "version_minor": 0
      },
      "text/plain": [
       "  0%|          | 0/40 [00:00<?, ?it/s]"
      ]
     },
     "metadata": {},
     "output_type": "display_data"
    },
    {
     "data": {
      "application/vnd.jupyter.widget-view+json": {
       "model_id": "a8738114fef94a89a7b768e56e9646a2",
       "version_major": 2,
       "version_minor": 0
      },
      "text/plain": [
       "  0%|          | 0/40 [00:00<?, ?it/s]"
      ]
     },
     "metadata": {},
     "output_type": "display_data"
    },
    {
     "data": {
      "application/vnd.jupyter.widget-view+json": {
       "model_id": "73c03d2483fe4dae863eff5f006f8ca3",
       "version_major": 2,
       "version_minor": 0
      },
      "text/plain": [
       "  0%|          | 0/40 [00:00<?, ?it/s]"
      ]
     },
     "metadata": {},
     "output_type": "display_data"
    },
    {
     "data": {
      "application/vnd.jupyter.widget-view+json": {
       "model_id": "5fa962b07a384168beb983c7fc13bf83",
       "version_major": 2,
       "version_minor": 0
      },
      "text/plain": [
       "  0%|          | 0/40 [00:00<?, ?it/s]"
      ]
     },
     "metadata": {},
     "output_type": "display_data"
    },
    {
     "data": {
      "application/vnd.jupyter.widget-view+json": {
       "model_id": "9a3d548879b4469fb44757259d9ac33f",
       "version_major": 2,
       "version_minor": 0
      },
      "text/plain": [
       "  0%|          | 0/40 [00:00<?, ?it/s]"
      ]
     },
     "metadata": {},
     "output_type": "display_data"
    },
    {
     "data": {
      "application/vnd.jupyter.widget-view+json": {
       "model_id": "055f9888c04a4cbdb154416e780faa97",
       "version_major": 2,
       "version_minor": 0
      },
      "text/plain": [
       "  0%|          | 0/40 [00:00<?, ?it/s]"
      ]
     },
     "metadata": {},
     "output_type": "display_data"
    },
    {
     "data": {
      "application/vnd.jupyter.widget-view+json": {
       "model_id": "cb0632ec2a0e46e1b593e74fc193d869",
       "version_major": 2,
       "version_minor": 0
      },
      "text/plain": [
       "  0%|          | 0/40 [00:00<?, ?it/s]"
      ]
     },
     "metadata": {},
     "output_type": "display_data"
    },
    {
     "data": {
      "application/vnd.jupyter.widget-view+json": {
       "model_id": "05d41b3a9f1f45059f618688abb199c8",
       "version_major": 2,
       "version_minor": 0
      },
      "text/plain": [
       "  0%|          | 0/40 [00:00<?, ?it/s]"
      ]
     },
     "metadata": {},
     "output_type": "display_data"
    },
    {
     "data": {
      "application/vnd.jupyter.widget-view+json": {
       "model_id": "774b28aa560d4c539a9c2ae71987a567",
       "version_major": 2,
       "version_minor": 0
      },
      "text/plain": [
       "  0%|          | 0/211 [00:00<?, ?it/s]"
      ]
     },
     "metadata": {},
     "output_type": "display_data"
    },
    {
     "data": {
      "application/vnd.jupyter.widget-view+json": {
       "model_id": "a392d0ac80e84358bb16cd9c55a8edf0",
       "version_major": 2,
       "version_minor": 0
      },
      "text/plain": [
       "  0%|          | 0/40 [00:00<?, ?it/s]"
      ]
     },
     "metadata": {},
     "output_type": "display_data"
    },
    {
     "data": {
      "application/vnd.jupyter.widget-view+json": {
       "model_id": "83635fc86b134aebb0306d7225255df7",
       "version_major": 2,
       "version_minor": 0
      },
      "text/plain": [
       "  0%|          | 0/40 [00:00<?, ?it/s]"
      ]
     },
     "metadata": {},
     "output_type": "display_data"
    },
    {
     "data": {
      "application/vnd.jupyter.widget-view+json": {
       "model_id": "62893b9e399146ea8e367de92d5ea62f",
       "version_major": 2,
       "version_minor": 0
      },
      "text/plain": [
       "  0%|          | 0/40 [00:00<?, ?it/s]"
      ]
     },
     "metadata": {},
     "output_type": "display_data"
    },
    {
     "data": {
      "application/vnd.jupyter.widget-view+json": {
       "model_id": "4f74e17f386c45caa5a5930a49b46f8d",
       "version_major": 2,
       "version_minor": 0
      },
      "text/plain": [
       "  0%|          | 0/40 [00:00<?, ?it/s]"
      ]
     },
     "metadata": {},
     "output_type": "display_data"
    },
    {
     "data": {
      "application/vnd.jupyter.widget-view+json": {
       "model_id": "10c330194d944824b57ad7bd8b4b2cde",
       "version_major": 2,
       "version_minor": 0
      },
      "text/plain": [
       "  0%|          | 0/40 [00:00<?, ?it/s]"
      ]
     },
     "metadata": {},
     "output_type": "display_data"
    },
    {
     "data": {
      "application/vnd.jupyter.widget-view+json": {
       "model_id": "c7ba5d2c49134916bc29129b6b00f9ef",
       "version_major": 2,
       "version_minor": 0
      },
      "text/plain": [
       "  0%|          | 0/40 [00:00<?, ?it/s]"
      ]
     },
     "metadata": {},
     "output_type": "display_data"
    },
    {
     "data": {
      "application/vnd.jupyter.widget-view+json": {
       "model_id": "82174efc2399433c81cb294027aa04b8",
       "version_major": 2,
       "version_minor": 0
      },
      "text/plain": [
       "  0%|          | 0/40 [00:00<?, ?it/s]"
      ]
     },
     "metadata": {},
     "output_type": "display_data"
    },
    {
     "data": {
      "application/vnd.jupyter.widget-view+json": {
       "model_id": "2780b8cfe542418c92884b2ea898e119",
       "version_major": 2,
       "version_minor": 0
      },
      "text/plain": [
       "  0%|          | 0/190 [00:00<?, ?it/s]"
      ]
     },
     "metadata": {},
     "output_type": "display_data"
    },
    {
     "data": {
      "application/vnd.jupyter.widget-view+json": {
       "model_id": "68f59a16527f4ae4958b8e25b0aeb45c",
       "version_major": 2,
       "version_minor": 0
      },
      "text/plain": [
       "  0%|          | 0/40 [00:00<?, ?it/s]"
      ]
     },
     "metadata": {},
     "output_type": "display_data"
    },
    {
     "data": {
      "application/vnd.jupyter.widget-view+json": {
       "model_id": "9f96fa191202492f9e32ebec8702d2a6",
       "version_major": 2,
       "version_minor": 0
      },
      "text/plain": [
       "  0%|          | 0/40 [00:00<?, ?it/s]"
      ]
     },
     "metadata": {},
     "output_type": "display_data"
    },
    {
     "data": {
      "application/vnd.jupyter.widget-view+json": {
       "model_id": "13a3823674114ba489ae8814d8df803c",
       "version_major": 2,
       "version_minor": 0
      },
      "text/plain": [
       "  0%|          | 0/40 [00:00<?, ?it/s]"
      ]
     },
     "metadata": {},
     "output_type": "display_data"
    },
    {
     "data": {
      "application/vnd.jupyter.widget-view+json": {
       "model_id": "ea68e74d386d4227ae21b282c26d00c1",
       "version_major": 2,
       "version_minor": 0
      },
      "text/plain": [
       "  0%|          | 0/40 [00:00<?, ?it/s]"
      ]
     },
     "metadata": {},
     "output_type": "display_data"
    },
    {
     "data": {
      "application/vnd.jupyter.widget-view+json": {
       "model_id": "9c85b056ce5541ba888284e71e247d14",
       "version_major": 2,
       "version_minor": 0
      },
      "text/plain": [
       "  0%|          | 0/167 [00:00<?, ?it/s]"
      ]
     },
     "metadata": {},
     "output_type": "display_data"
    },
    {
     "data": {
      "application/vnd.jupyter.widget-view+json": {
       "model_id": "636471fc8dbf433db5b83dac29263d7f",
       "version_major": 2,
       "version_minor": 0
      },
      "text/plain": [
       "  0%|          | 0/206 [00:00<?, ?it/s]"
      ]
     },
     "metadata": {},
     "output_type": "display_data"
    },
    {
     "data": {
      "application/vnd.jupyter.widget-view+json": {
       "model_id": "12660e96151e477f9a9873440128a9fd",
       "version_major": 2,
       "version_minor": 0
      },
      "text/plain": [
       "  0%|          | 0/226 [00:00<?, ?it/s]"
      ]
     },
     "metadata": {},
     "output_type": "display_data"
    },
    {
     "data": {
      "application/vnd.jupyter.widget-view+json": {
       "model_id": "852eb5e8c7e441be884468607f1d0acf",
       "version_major": 2,
       "version_minor": 0
      },
      "text/plain": [
       "  0%|          | 0/40 [00:00<?, ?it/s]"
      ]
     },
     "metadata": {},
     "output_type": "display_data"
    },
    {
     "data": {
      "application/vnd.jupyter.widget-view+json": {
       "model_id": "cd529bbe936f4017b7424c005dd2cc35",
       "version_major": 2,
       "version_minor": 0
      },
      "text/plain": [
       "  0%|          | 0/40 [00:00<?, ?it/s]"
      ]
     },
     "metadata": {},
     "output_type": "display_data"
    },
    {
     "data": {
      "application/vnd.jupyter.widget-view+json": {
       "model_id": "fc1bb300b5e343b28c5a02a7b51d49d0",
       "version_major": 2,
       "version_minor": 0
      },
      "text/plain": [
       "  0%|          | 0/40 [00:00<?, ?it/s]"
      ]
     },
     "metadata": {},
     "output_type": "display_data"
    },
    {
     "data": {
      "application/vnd.jupyter.widget-view+json": {
       "model_id": "99f23839a114493c8aa1f4e7166cd886",
       "version_major": 2,
       "version_minor": 0
      },
      "text/plain": [
       "  0%|          | 0/40 [00:00<?, ?it/s]"
      ]
     },
     "metadata": {},
     "output_type": "display_data"
    },
    {
     "data": {
      "application/vnd.jupyter.widget-view+json": {
       "model_id": "ebcfd883122d4ffb9c0cea99988b260e",
       "version_major": 2,
       "version_minor": 0
      },
      "text/plain": [
       "  0%|          | 0/40 [00:00<?, ?it/s]"
      ]
     },
     "metadata": {},
     "output_type": "display_data"
    },
    {
     "data": {
      "application/vnd.jupyter.widget-view+json": {
       "model_id": "cde234fa66b846bd88f3284d43d432db",
       "version_major": 2,
       "version_minor": 0
      },
      "text/plain": [
       "  0%|          | 0/40 [00:00<?, ?it/s]"
      ]
     },
     "metadata": {},
     "output_type": "display_data"
    },
    {
     "data": {
      "application/vnd.jupyter.widget-view+json": {
       "model_id": "53ab08c9491446948fe50eca72948313",
       "version_major": 2,
       "version_minor": 0
      },
      "text/plain": [
       "  0%|          | 0/40 [00:00<?, ?it/s]"
      ]
     },
     "metadata": {},
     "output_type": "display_data"
    },
    {
     "data": {
      "application/vnd.jupyter.widget-view+json": {
       "model_id": "e158d514c4eb4aaeb565c6031fc54bf5",
       "version_major": 2,
       "version_minor": 0
      },
      "text/plain": [
       "  0%|          | 0/196 [00:00<?, ?it/s]"
      ]
     },
     "metadata": {},
     "output_type": "display_data"
    },
    {
     "data": {
      "application/vnd.jupyter.widget-view+json": {
       "model_id": "cbbf211ddfc94a9298633f65c6bab98a",
       "version_major": 2,
       "version_minor": 0
      },
      "text/plain": [
       "  0%|          | 0/201 [00:00<?, ?it/s]"
      ]
     },
     "metadata": {},
     "output_type": "display_data"
    },
    {
     "data": {
      "application/vnd.jupyter.widget-view+json": {
       "model_id": "a7978a28710e40d49faf7fde70f10d81",
       "version_major": 2,
       "version_minor": 0
      },
      "text/plain": [
       "  0%|          | 0/40 [00:00<?, ?it/s]"
      ]
     },
     "metadata": {},
     "output_type": "display_data"
    },
    {
     "data": {
      "application/vnd.jupyter.widget-view+json": {
       "model_id": "42e89657f1cf4af9a3552501c0c61205",
       "version_major": 2,
       "version_minor": 0
      },
      "text/plain": [
       "  0%|          | 0/231 [00:00<?, ?it/s]"
      ]
     },
     "metadata": {},
     "output_type": "display_data"
    }
   ],
   "source": [
    "import librosa\n",
    "import numpy as np\n",
    "from tqdm.notebook import tqdm\n",
    "\n",
    "features = {}\n",
    "directory = CLIPS_DIR\n",
    "\n",
    "for filename in tqdm(os.listdir(CLIPS_DIR)):\n",
    "    for a in tqdm(os.listdir(\"clip/\"+filename+'/')):\n",
    "        for b in tqdm(os.listdir(\"clip/\"+filename+'/'+a+'/')):\n",
    "            if 'FluencyBank' not in filename and ignore_list.count(filename + '.wav') == 0:\n",
    "                audio, sample_rate = librosa.load(\"clip/\" + filename + '/' + a + '/' + b, res_type='kaiser_fast', sr=None)\n",
    "                mfccs = np.mean(librosa.feature.mfcc(y=audio, sr=sample_rate, n_mfcc=13).T,axis=0)\n",
    "                features[b[:-4]] = mfccs"
   ]
  },
  {
   "cell_type": "code",
   "execution_count": 13,
   "metadata": {
    "execution": {
     "iopub.execute_input": "2022-10-10T01:17:25.342290Z",
     "iopub.status.busy": "2022-10-10T01:17:25.339150Z",
     "iopub.status.idle": "2022-10-10T01:17:25.353051Z",
     "shell.execute_reply": "2022-10-10T01:17:25.351664Z",
     "shell.execute_reply.started": "2022-10-10T01:17:25.342235Z"
    }
   },
   "outputs": [
    {
     "name": "stdout",
     "output_type": "stream",
     "text": [
      "21736\n"
     ]
    }
   ],
   "source": [
    "print(len(features))"
   ]
  },
  {
   "cell_type": "code",
   "execution_count": 14,
   "metadata": {},
   "outputs": [
    {
     "name": "stderr",
     "output_type": "stream",
     "text": [
      "IOPub data rate exceeded.\n",
      "The notebook server will temporarily stop sending output\n",
      "to the client in order to avoid crashing it.\n",
      "To change this limit, set the config variable\n",
      "`--NotebookApp.iopub_data_rate_limit`.\n",
      "\n",
      "Current values:\n",
      "NotebookApp.iopub_data_rate_limit=1000000.0 (bytes/sec)\n",
      "NotebookApp.rate_limit_window=3.0 (secs)\n",
      "\n"
     ]
    }
   ],
   "source": [
    "print(features)"
   ]
  },
  {
   "cell_type": "code",
   "execution_count": 15,
   "metadata": {
    "execution": {
     "iopub.execute_input": "2022-10-10T01:17:25.358229Z",
     "iopub.status.busy": "2022-10-10T01:17:25.356543Z",
     "iopub.status.idle": "2022-10-10T01:17:25.372453Z",
     "shell.execute_reply": "2022-10-10T01:17:25.371196Z",
     "shell.execute_reply.started": "2022-10-10T01:17:25.358175Z"
    }
   },
   "outputs": [
    {
     "data": {
      "text/plain": [
       "13"
      ]
     },
     "execution_count": 15,
     "metadata": {},
     "output_type": "execute_result"
    }
   ],
   "source": [
    "len(features['HeStutters_1_1'])"
   ]
  },
  {
   "cell_type": "markdown",
   "metadata": {},
   "source": [
    "## Making Dataset from Features"
   ]
  },
  {
   "cell_type": "code",
   "execution_count": 16,
   "metadata": {
    "execution": {
     "iopub.execute_input": "2022-10-10T01:17:25.380477Z",
     "iopub.status.busy": "2022-10-10T01:17:25.379579Z",
     "iopub.status.idle": "2022-10-10T01:17:26.018617Z",
     "shell.execute_reply": "2022-10-10T01:17:26.017532Z",
     "shell.execute_reply.started": "2022-10-10T01:17:25.380430Z"
    }
   },
   "outputs": [
    {
     "data": {
      "text/html": [
       "<div>\n",
       "<style scoped>\n",
       "    .dataframe tbody tr th:only-of-type {\n",
       "        vertical-align: middle;\n",
       "    }\n",
       "\n",
       "    .dataframe tbody tr th {\n",
       "        vertical-align: top;\n",
       "    }\n",
       "\n",
       "    .dataframe thead th {\n",
       "        text-align: right;\n",
       "    }\n",
       "</style>\n",
       "<table border=\"1\" class=\"dataframe\">\n",
       "  <thead>\n",
       "    <tr style=\"text-align: right;\">\n",
       "      <th></th>\n",
       "      <th>0</th>\n",
       "      <th>1</th>\n",
       "      <th>2</th>\n",
       "      <th>3</th>\n",
       "      <th>4</th>\n",
       "      <th>5</th>\n",
       "      <th>6</th>\n",
       "      <th>7</th>\n",
       "      <th>8</th>\n",
       "      <th>9</th>\n",
       "      <th>10</th>\n",
       "      <th>11</th>\n",
       "      <th>12</th>\n",
       "    </tr>\n",
       "  </thead>\n",
       "  <tbody>\n",
       "    <tr>\n",
       "      <th>HeStutters_0_23</th>\n",
       "      <td>-314.641907</td>\n",
       "      <td>61.979465</td>\n",
       "      <td>-0.235741</td>\n",
       "      <td>12.721733</td>\n",
       "      <td>-0.621172</td>\n",
       "      <td>-5.817106</td>\n",
       "      <td>-13.321684</td>\n",
       "      <td>-4.004771</td>\n",
       "      <td>-12.716882</td>\n",
       "      <td>-8.100995</td>\n",
       "      <td>-4.890786</td>\n",
       "      <td>-7.404508</td>\n",
       "      <td>-7.515119</td>\n",
       "    </tr>\n",
       "    <tr>\n",
       "      <th>HeStutters_0_0</th>\n",
       "      <td>-392.172791</td>\n",
       "      <td>63.350689</td>\n",
       "      <td>4.833431</td>\n",
       "      <td>6.977844</td>\n",
       "      <td>2.169690</td>\n",
       "      <td>-3.574423</td>\n",
       "      <td>-7.091357</td>\n",
       "      <td>-1.978344</td>\n",
       "      <td>-8.984580</td>\n",
       "      <td>-4.724132</td>\n",
       "      <td>-3.345276</td>\n",
       "      <td>-6.573854</td>\n",
       "      <td>-7.026947</td>\n",
       "    </tr>\n",
       "    <tr>\n",
       "      <th>HeStutters_0_1</th>\n",
       "      <td>-336.544678</td>\n",
       "      <td>60.795284</td>\n",
       "      <td>-2.917545</td>\n",
       "      <td>10.253622</td>\n",
       "      <td>-11.466489</td>\n",
       "      <td>2.707656</td>\n",
       "      <td>-10.675123</td>\n",
       "      <td>-4.653667</td>\n",
       "      <td>-14.433005</td>\n",
       "      <td>-5.926201</td>\n",
       "      <td>-1.934813</td>\n",
       "      <td>-8.946336</td>\n",
       "      <td>-8.399075</td>\n",
       "    </tr>\n",
       "    <tr>\n",
       "      <th>HeStutters_0_10</th>\n",
       "      <td>-409.439911</td>\n",
       "      <td>61.835724</td>\n",
       "      <td>11.941999</td>\n",
       "      <td>23.786074</td>\n",
       "      <td>-0.019960</td>\n",
       "      <td>-0.494438</td>\n",
       "      <td>-7.668434</td>\n",
       "      <td>4.261880</td>\n",
       "      <td>-15.007185</td>\n",
       "      <td>-3.078003</td>\n",
       "      <td>-1.703809</td>\n",
       "      <td>-9.908122</td>\n",
       "      <td>-4.152675</td>\n",
       "    </tr>\n",
       "    <tr>\n",
       "      <th>HeStutters_0_11</th>\n",
       "      <td>-310.758362</td>\n",
       "      <td>27.546112</td>\n",
       "      <td>-17.378851</td>\n",
       "      <td>24.965218</td>\n",
       "      <td>-20.023012</td>\n",
       "      <td>1.167747</td>\n",
       "      <td>-13.532715</td>\n",
       "      <td>-7.309593</td>\n",
       "      <td>-3.097385</td>\n",
       "      <td>-5.110380</td>\n",
       "      <td>-7.832861</td>\n",
       "      <td>-5.489938</td>\n",
       "      <td>-3.351382</td>\n",
       "    </tr>\n",
       "    <tr>\n",
       "      <th>...</th>\n",
       "      <td>...</td>\n",
       "      <td>...</td>\n",
       "      <td>...</td>\n",
       "      <td>...</td>\n",
       "      <td>...</td>\n",
       "      <td>...</td>\n",
       "      <td>...</td>\n",
       "      <td>...</td>\n",
       "      <td>...</td>\n",
       "      <td>...</td>\n",
       "      <td>...</td>\n",
       "      <td>...</td>\n",
       "      <td>...</td>\n",
       "    </tr>\n",
       "    <tr>\n",
       "      <th>WomenWhoStutter_99_30</th>\n",
       "      <td>-349.252258</td>\n",
       "      <td>63.760883</td>\n",
       "      <td>-35.519657</td>\n",
       "      <td>24.252199</td>\n",
       "      <td>-17.412300</td>\n",
       "      <td>-2.188475</td>\n",
       "      <td>-0.694868</td>\n",
       "      <td>-1.097295</td>\n",
       "      <td>13.670923</td>\n",
       "      <td>-3.851459</td>\n",
       "      <td>-3.219055</td>\n",
       "      <td>-6.764341</td>\n",
       "      <td>1.756579</td>\n",
       "    </tr>\n",
       "    <tr>\n",
       "      <th>WomenWhoStutter_99_31</th>\n",
       "      <td>-310.781036</td>\n",
       "      <td>18.843845</td>\n",
       "      <td>-8.842707</td>\n",
       "      <td>33.856659</td>\n",
       "      <td>-17.807787</td>\n",
       "      <td>2.555339</td>\n",
       "      <td>-0.644569</td>\n",
       "      <td>-7.980123</td>\n",
       "      <td>-3.171874</td>\n",
       "      <td>-0.392410</td>\n",
       "      <td>-8.492411</td>\n",
       "      <td>-3.692825</td>\n",
       "      <td>-4.162845</td>\n",
       "    </tr>\n",
       "    <tr>\n",
       "      <th>WomenWhoStutter_99_32</th>\n",
       "      <td>-380.588593</td>\n",
       "      <td>16.248068</td>\n",
       "      <td>-16.056593</td>\n",
       "      <td>35.585838</td>\n",
       "      <td>-1.616079</td>\n",
       "      <td>6.364790</td>\n",
       "      <td>3.964227</td>\n",
       "      <td>0.626711</td>\n",
       "      <td>5.347195</td>\n",
       "      <td>-4.598023</td>\n",
       "      <td>-5.764363</td>\n",
       "      <td>-2.281778</td>\n",
       "      <td>-2.297391</td>\n",
       "    </tr>\n",
       "    <tr>\n",
       "      <th>WomenWhoStutter_99_33</th>\n",
       "      <td>-299.443451</td>\n",
       "      <td>4.185234</td>\n",
       "      <td>-45.925980</td>\n",
       "      <td>27.375067</td>\n",
       "      <td>-17.340590</td>\n",
       "      <td>6.882776</td>\n",
       "      <td>3.560043</td>\n",
       "      <td>-1.974369</td>\n",
       "      <td>18.104261</td>\n",
       "      <td>-8.154037</td>\n",
       "      <td>-2.990829</td>\n",
       "      <td>-6.299887</td>\n",
       "      <td>1.728673</td>\n",
       "    </tr>\n",
       "    <tr>\n",
       "      <th>WomenWhoStutter_99_34</th>\n",
       "      <td>-363.724579</td>\n",
       "      <td>24.880775</td>\n",
       "      <td>-20.778812</td>\n",
       "      <td>39.484287</td>\n",
       "      <td>-19.359776</td>\n",
       "      <td>6.144073</td>\n",
       "      <td>-4.812654</td>\n",
       "      <td>-2.056037</td>\n",
       "      <td>1.808409</td>\n",
       "      <td>-5.282764</td>\n",
       "      <td>-0.639508</td>\n",
       "      <td>-1.534415</td>\n",
       "      <td>-3.368737</td>\n",
       "    </tr>\n",
       "  </tbody>\n",
       "</table>\n",
       "<p>21736 rows × 13 columns</p>\n",
       "</div>"
      ],
      "text/plain": [
       "                               0          1          2          3          4   \\\n",
       "HeStutters_0_23       -314.641907  61.979465  -0.235741  12.721733  -0.621172   \n",
       "HeStutters_0_0        -392.172791  63.350689   4.833431   6.977844   2.169690   \n",
       "HeStutters_0_1        -336.544678  60.795284  -2.917545  10.253622 -11.466489   \n",
       "HeStutters_0_10       -409.439911  61.835724  11.941999  23.786074  -0.019960   \n",
       "HeStutters_0_11       -310.758362  27.546112 -17.378851  24.965218 -20.023012   \n",
       "...                           ...        ...        ...        ...        ...   \n",
       "WomenWhoStutter_99_30 -349.252258  63.760883 -35.519657  24.252199 -17.412300   \n",
       "WomenWhoStutter_99_31 -310.781036  18.843845  -8.842707  33.856659 -17.807787   \n",
       "WomenWhoStutter_99_32 -380.588593  16.248068 -16.056593  35.585838  -1.616079   \n",
       "WomenWhoStutter_99_33 -299.443451   4.185234 -45.925980  27.375067 -17.340590   \n",
       "WomenWhoStutter_99_34 -363.724579  24.880775 -20.778812  39.484287 -19.359776   \n",
       "\n",
       "                             5          6         7          8         9   \\\n",
       "HeStutters_0_23       -5.817106 -13.321684 -4.004771 -12.716882 -8.100995   \n",
       "HeStutters_0_0        -3.574423  -7.091357 -1.978344  -8.984580 -4.724132   \n",
       "HeStutters_0_1         2.707656 -10.675123 -4.653667 -14.433005 -5.926201   \n",
       "HeStutters_0_10       -0.494438  -7.668434  4.261880 -15.007185 -3.078003   \n",
       "HeStutters_0_11        1.167747 -13.532715 -7.309593  -3.097385 -5.110380   \n",
       "...                         ...        ...       ...        ...       ...   \n",
       "WomenWhoStutter_99_30 -2.188475  -0.694868 -1.097295  13.670923 -3.851459   \n",
       "WomenWhoStutter_99_31  2.555339  -0.644569 -7.980123  -3.171874 -0.392410   \n",
       "WomenWhoStutter_99_32  6.364790   3.964227  0.626711   5.347195 -4.598023   \n",
       "WomenWhoStutter_99_33  6.882776   3.560043 -1.974369  18.104261 -8.154037   \n",
       "WomenWhoStutter_99_34  6.144073  -4.812654 -2.056037   1.808409 -5.282764   \n",
       "\n",
       "                             10        11        12  \n",
       "HeStutters_0_23       -4.890786 -7.404508 -7.515119  \n",
       "HeStutters_0_0        -3.345276 -6.573854 -7.026947  \n",
       "HeStutters_0_1        -1.934813 -8.946336 -8.399075  \n",
       "HeStutters_0_10       -1.703809 -9.908122 -4.152675  \n",
       "HeStutters_0_11       -7.832861 -5.489938 -3.351382  \n",
       "...                         ...       ...       ...  \n",
       "WomenWhoStutter_99_30 -3.219055 -6.764341  1.756579  \n",
       "WomenWhoStutter_99_31 -8.492411 -3.692825 -4.162845  \n",
       "WomenWhoStutter_99_32 -5.764363 -2.281778 -2.297391  \n",
       "WomenWhoStutter_99_33 -2.990829 -6.299887  1.728673  \n",
       "WomenWhoStutter_99_34 -0.639508 -1.534415 -3.368737  \n",
       "\n",
       "[21736 rows x 13 columns]"
      ]
     },
     "execution_count": 16,
     "metadata": {},
     "output_type": "execute_result"
    }
   ],
   "source": [
    "df_features = pd.DataFrame.from_dict(features)\n",
    "df_features = df_features.transpose()\n",
    "df_features"
   ]
  },
  {
   "cell_type": "code",
   "execution_count": 17,
   "metadata": {
    "execution": {
     "iopub.execute_input": "2022-10-10T01:17:26.022164Z",
     "iopub.status.busy": "2022-10-10T01:17:26.020199Z",
     "iopub.status.idle": "2022-10-10T01:17:26.030586Z",
     "shell.execute_reply": "2022-10-10T01:17:26.029596Z",
     "shell.execute_reply.started": "2022-10-10T01:17:26.022123Z"
    }
   },
   "outputs": [],
   "source": [
    "df_features = df_features.reset_index()"
   ]
  },
  {
   "cell_type": "code",
   "execution_count": 18,
   "metadata": {
    "execution": {
     "iopub.execute_input": "2022-10-10T01:17:26.032639Z",
     "iopub.status.busy": "2022-10-10T01:17:26.032222Z",
     "iopub.status.idle": "2022-10-10T01:17:26.058033Z",
     "shell.execute_reply": "2022-10-10T01:17:26.057152Z",
     "shell.execute_reply.started": "2022-10-10T01:17:26.032600Z"
    }
   },
   "outputs": [
    {
     "data": {
      "text/html": [
       "<div>\n",
       "<style scoped>\n",
       "    .dataframe tbody tr th:only-of-type {\n",
       "        vertical-align: middle;\n",
       "    }\n",
       "\n",
       "    .dataframe tbody tr th {\n",
       "        vertical-align: top;\n",
       "    }\n",
       "\n",
       "    .dataframe thead th {\n",
       "        text-align: right;\n",
       "    }\n",
       "</style>\n",
       "<table border=\"1\" class=\"dataframe\">\n",
       "  <thead>\n",
       "    <tr style=\"text-align: right;\">\n",
       "      <th></th>\n",
       "      <th>index</th>\n",
       "      <th>0</th>\n",
       "      <th>1</th>\n",
       "      <th>2</th>\n",
       "      <th>3</th>\n",
       "      <th>4</th>\n",
       "      <th>5</th>\n",
       "      <th>6</th>\n",
       "      <th>7</th>\n",
       "      <th>8</th>\n",
       "      <th>9</th>\n",
       "      <th>10</th>\n",
       "      <th>11</th>\n",
       "      <th>12</th>\n",
       "    </tr>\n",
       "  </thead>\n",
       "  <tbody>\n",
       "    <tr>\n",
       "      <th>0</th>\n",
       "      <td>HeStutters_0_23</td>\n",
       "      <td>-314.641907</td>\n",
       "      <td>61.979465</td>\n",
       "      <td>-0.235741</td>\n",
       "      <td>12.721733</td>\n",
       "      <td>-0.621172</td>\n",
       "      <td>-5.817106</td>\n",
       "      <td>-13.321684</td>\n",
       "      <td>-4.004771</td>\n",
       "      <td>-12.716882</td>\n",
       "      <td>-8.100995</td>\n",
       "      <td>-4.890786</td>\n",
       "      <td>-7.404508</td>\n",
       "      <td>-7.515119</td>\n",
       "    </tr>\n",
       "    <tr>\n",
       "      <th>1</th>\n",
       "      <td>HeStutters_0_0</td>\n",
       "      <td>-392.172791</td>\n",
       "      <td>63.350689</td>\n",
       "      <td>4.833431</td>\n",
       "      <td>6.977844</td>\n",
       "      <td>2.169690</td>\n",
       "      <td>-3.574423</td>\n",
       "      <td>-7.091357</td>\n",
       "      <td>-1.978344</td>\n",
       "      <td>-8.984580</td>\n",
       "      <td>-4.724132</td>\n",
       "      <td>-3.345276</td>\n",
       "      <td>-6.573854</td>\n",
       "      <td>-7.026947</td>\n",
       "    </tr>\n",
       "    <tr>\n",
       "      <th>2</th>\n",
       "      <td>HeStutters_0_1</td>\n",
       "      <td>-336.544678</td>\n",
       "      <td>60.795284</td>\n",
       "      <td>-2.917545</td>\n",
       "      <td>10.253622</td>\n",
       "      <td>-11.466489</td>\n",
       "      <td>2.707656</td>\n",
       "      <td>-10.675123</td>\n",
       "      <td>-4.653667</td>\n",
       "      <td>-14.433005</td>\n",
       "      <td>-5.926201</td>\n",
       "      <td>-1.934813</td>\n",
       "      <td>-8.946336</td>\n",
       "      <td>-8.399075</td>\n",
       "    </tr>\n",
       "    <tr>\n",
       "      <th>3</th>\n",
       "      <td>HeStutters_0_10</td>\n",
       "      <td>-409.439911</td>\n",
       "      <td>61.835724</td>\n",
       "      <td>11.941999</td>\n",
       "      <td>23.786074</td>\n",
       "      <td>-0.019960</td>\n",
       "      <td>-0.494438</td>\n",
       "      <td>-7.668434</td>\n",
       "      <td>4.261880</td>\n",
       "      <td>-15.007185</td>\n",
       "      <td>-3.078003</td>\n",
       "      <td>-1.703809</td>\n",
       "      <td>-9.908122</td>\n",
       "      <td>-4.152675</td>\n",
       "    </tr>\n",
       "    <tr>\n",
       "      <th>4</th>\n",
       "      <td>HeStutters_0_11</td>\n",
       "      <td>-310.758362</td>\n",
       "      <td>27.546112</td>\n",
       "      <td>-17.378851</td>\n",
       "      <td>24.965218</td>\n",
       "      <td>-20.023012</td>\n",
       "      <td>1.167747</td>\n",
       "      <td>-13.532715</td>\n",
       "      <td>-7.309593</td>\n",
       "      <td>-3.097385</td>\n",
       "      <td>-5.110380</td>\n",
       "      <td>-7.832861</td>\n",
       "      <td>-5.489938</td>\n",
       "      <td>-3.351382</td>\n",
       "    </tr>\n",
       "    <tr>\n",
       "      <th>...</th>\n",
       "      <td>...</td>\n",
       "      <td>...</td>\n",
       "      <td>...</td>\n",
       "      <td>...</td>\n",
       "      <td>...</td>\n",
       "      <td>...</td>\n",
       "      <td>...</td>\n",
       "      <td>...</td>\n",
       "      <td>...</td>\n",
       "      <td>...</td>\n",
       "      <td>...</td>\n",
       "      <td>...</td>\n",
       "      <td>...</td>\n",
       "      <td>...</td>\n",
       "    </tr>\n",
       "    <tr>\n",
       "      <th>21731</th>\n",
       "      <td>WomenWhoStutter_99_30</td>\n",
       "      <td>-349.252258</td>\n",
       "      <td>63.760883</td>\n",
       "      <td>-35.519657</td>\n",
       "      <td>24.252199</td>\n",
       "      <td>-17.412300</td>\n",
       "      <td>-2.188475</td>\n",
       "      <td>-0.694868</td>\n",
       "      <td>-1.097295</td>\n",
       "      <td>13.670923</td>\n",
       "      <td>-3.851459</td>\n",
       "      <td>-3.219055</td>\n",
       "      <td>-6.764341</td>\n",
       "      <td>1.756579</td>\n",
       "    </tr>\n",
       "    <tr>\n",
       "      <th>21732</th>\n",
       "      <td>WomenWhoStutter_99_31</td>\n",
       "      <td>-310.781036</td>\n",
       "      <td>18.843845</td>\n",
       "      <td>-8.842707</td>\n",
       "      <td>33.856659</td>\n",
       "      <td>-17.807787</td>\n",
       "      <td>2.555339</td>\n",
       "      <td>-0.644569</td>\n",
       "      <td>-7.980123</td>\n",
       "      <td>-3.171874</td>\n",
       "      <td>-0.392410</td>\n",
       "      <td>-8.492411</td>\n",
       "      <td>-3.692825</td>\n",
       "      <td>-4.162845</td>\n",
       "    </tr>\n",
       "    <tr>\n",
       "      <th>21733</th>\n",
       "      <td>WomenWhoStutter_99_32</td>\n",
       "      <td>-380.588593</td>\n",
       "      <td>16.248068</td>\n",
       "      <td>-16.056593</td>\n",
       "      <td>35.585838</td>\n",
       "      <td>-1.616079</td>\n",
       "      <td>6.364790</td>\n",
       "      <td>3.964227</td>\n",
       "      <td>0.626711</td>\n",
       "      <td>5.347195</td>\n",
       "      <td>-4.598023</td>\n",
       "      <td>-5.764363</td>\n",
       "      <td>-2.281778</td>\n",
       "      <td>-2.297391</td>\n",
       "    </tr>\n",
       "    <tr>\n",
       "      <th>21734</th>\n",
       "      <td>WomenWhoStutter_99_33</td>\n",
       "      <td>-299.443451</td>\n",
       "      <td>4.185234</td>\n",
       "      <td>-45.925980</td>\n",
       "      <td>27.375067</td>\n",
       "      <td>-17.340590</td>\n",
       "      <td>6.882776</td>\n",
       "      <td>3.560043</td>\n",
       "      <td>-1.974369</td>\n",
       "      <td>18.104261</td>\n",
       "      <td>-8.154037</td>\n",
       "      <td>-2.990829</td>\n",
       "      <td>-6.299887</td>\n",
       "      <td>1.728673</td>\n",
       "    </tr>\n",
       "    <tr>\n",
       "      <th>21735</th>\n",
       "      <td>WomenWhoStutter_99_34</td>\n",
       "      <td>-363.724579</td>\n",
       "      <td>24.880775</td>\n",
       "      <td>-20.778812</td>\n",
       "      <td>39.484287</td>\n",
       "      <td>-19.359776</td>\n",
       "      <td>6.144073</td>\n",
       "      <td>-4.812654</td>\n",
       "      <td>-2.056037</td>\n",
       "      <td>1.808409</td>\n",
       "      <td>-5.282764</td>\n",
       "      <td>-0.639508</td>\n",
       "      <td>-1.534415</td>\n",
       "      <td>-3.368737</td>\n",
       "    </tr>\n",
       "  </tbody>\n",
       "</table>\n",
       "<p>21736 rows × 14 columns</p>\n",
       "</div>"
      ],
      "text/plain": [
       "                       index           0          1          2          3  \\\n",
       "0            HeStutters_0_23 -314.641907  61.979465  -0.235741  12.721733   \n",
       "1             HeStutters_0_0 -392.172791  63.350689   4.833431   6.977844   \n",
       "2             HeStutters_0_1 -336.544678  60.795284  -2.917545  10.253622   \n",
       "3            HeStutters_0_10 -409.439911  61.835724  11.941999  23.786074   \n",
       "4            HeStutters_0_11 -310.758362  27.546112 -17.378851  24.965218   \n",
       "...                      ...         ...        ...        ...        ...   \n",
       "21731  WomenWhoStutter_99_30 -349.252258  63.760883 -35.519657  24.252199   \n",
       "21732  WomenWhoStutter_99_31 -310.781036  18.843845  -8.842707  33.856659   \n",
       "21733  WomenWhoStutter_99_32 -380.588593  16.248068 -16.056593  35.585838   \n",
       "21734  WomenWhoStutter_99_33 -299.443451   4.185234 -45.925980  27.375067   \n",
       "21735  WomenWhoStutter_99_34 -363.724579  24.880775 -20.778812  39.484287   \n",
       "\n",
       "               4         5          6         7          8         9  \\\n",
       "0      -0.621172 -5.817106 -13.321684 -4.004771 -12.716882 -8.100995   \n",
       "1       2.169690 -3.574423  -7.091357 -1.978344  -8.984580 -4.724132   \n",
       "2     -11.466489  2.707656 -10.675123 -4.653667 -14.433005 -5.926201   \n",
       "3      -0.019960 -0.494438  -7.668434  4.261880 -15.007185 -3.078003   \n",
       "4     -20.023012  1.167747 -13.532715 -7.309593  -3.097385 -5.110380   \n",
       "...          ...       ...        ...       ...        ...       ...   \n",
       "21731 -17.412300 -2.188475  -0.694868 -1.097295  13.670923 -3.851459   \n",
       "21732 -17.807787  2.555339  -0.644569 -7.980123  -3.171874 -0.392410   \n",
       "21733  -1.616079  6.364790   3.964227  0.626711   5.347195 -4.598023   \n",
       "21734 -17.340590  6.882776   3.560043 -1.974369  18.104261 -8.154037   \n",
       "21735 -19.359776  6.144073  -4.812654 -2.056037   1.808409 -5.282764   \n",
       "\n",
       "             10        11        12  \n",
       "0     -4.890786 -7.404508 -7.515119  \n",
       "1     -3.345276 -6.573854 -7.026947  \n",
       "2     -1.934813 -8.946336 -8.399075  \n",
       "3     -1.703809 -9.908122 -4.152675  \n",
       "4     -7.832861 -5.489938 -3.351382  \n",
       "...         ...       ...       ...  \n",
       "21731 -3.219055 -6.764341  1.756579  \n",
       "21732 -8.492411 -3.692825 -4.162845  \n",
       "21733 -5.764363 -2.281778 -2.297391  \n",
       "21734 -2.990829 -6.299887  1.728673  \n",
       "21735 -0.639508 -1.534415 -3.368737  \n",
       "\n",
       "[21736 rows x 14 columns]"
      ]
     },
     "execution_count": 18,
     "metadata": {},
     "output_type": "execute_result"
    }
   ],
   "source": [
    "df_features"
   ]
  },
  {
   "cell_type": "code",
   "execution_count": 19,
   "metadata": {
    "execution": {
     "iopub.execute_input": "2022-10-10T01:17:26.060501Z",
     "iopub.status.busy": "2022-10-10T01:17:26.059688Z",
     "iopub.status.idle": "2022-10-10T01:17:26.109779Z",
     "shell.execute_reply": "2022-10-10T01:17:26.108495Z",
     "shell.execute_reply.started": "2022-10-10T01:17:26.060465Z"
    }
   },
   "outputs": [
    {
     "data": {
      "text/html": [
       "<div>\n",
       "<style scoped>\n",
       "    .dataframe tbody tr th:only-of-type {\n",
       "        vertical-align: middle;\n",
       "    }\n",
       "\n",
       "    .dataframe tbody tr th {\n",
       "        vertical-align: top;\n",
       "    }\n",
       "\n",
       "    .dataframe thead th {\n",
       "        text-align: right;\n",
       "    }\n",
       "</style>\n",
       "<table border=\"1\" class=\"dataframe\">\n",
       "  <thead>\n",
       "    <tr style=\"text-align: right;\">\n",
       "      <th></th>\n",
       "      <th>index</th>\n",
       "      <th>0</th>\n",
       "      <th>1</th>\n",
       "      <th>2</th>\n",
       "      <th>3</th>\n",
       "      <th>4</th>\n",
       "      <th>5</th>\n",
       "      <th>6</th>\n",
       "      <th>7</th>\n",
       "      <th>8</th>\n",
       "      <th>9</th>\n",
       "      <th>10</th>\n",
       "      <th>11</th>\n",
       "      <th>12</th>\n",
       "    </tr>\n",
       "  </thead>\n",
       "  <tbody>\n",
       "    <tr>\n",
       "      <th>3684</th>\n",
       "      <td>HVSA_0_0</td>\n",
       "      <td>-672.897095</td>\n",
       "      <td>42.572784</td>\n",
       "      <td>-9.060439</td>\n",
       "      <td>17.092854</td>\n",
       "      <td>5.601506</td>\n",
       "      <td>11.969574</td>\n",
       "      <td>5.087627</td>\n",
       "      <td>1.287422</td>\n",
       "      <td>-1.221630</td>\n",
       "      <td>5.906602</td>\n",
       "      <td>0.396098</td>\n",
       "      <td>2.618646</td>\n",
       "      <td>2.006739</td>\n",
       "    </tr>\n",
       "    <tr>\n",
       "      <th>3685</th>\n",
       "      <td>HVSA_0_1</td>\n",
       "      <td>-463.573669</td>\n",
       "      <td>69.182426</td>\n",
       "      <td>-18.914116</td>\n",
       "      <td>22.859167</td>\n",
       "      <td>0.735868</td>\n",
       "      <td>-7.253482</td>\n",
       "      <td>-7.202471</td>\n",
       "      <td>-5.319007</td>\n",
       "      <td>-5.854908</td>\n",
       "      <td>4.434800</td>\n",
       "      <td>-2.941299</td>\n",
       "      <td>0.067582</td>\n",
       "      <td>-10.047692</td>\n",
       "    </tr>\n",
       "    <tr>\n",
       "      <th>3686</th>\n",
       "      <td>HVSA_0_10</td>\n",
       "      <td>-452.379944</td>\n",
       "      <td>58.461617</td>\n",
       "      <td>-26.529619</td>\n",
       "      <td>10.806691</td>\n",
       "      <td>1.040473</td>\n",
       "      <td>-11.684329</td>\n",
       "      <td>-15.975926</td>\n",
       "      <td>-17.110899</td>\n",
       "      <td>-8.533467</td>\n",
       "      <td>3.804462</td>\n",
       "      <td>-0.904730</td>\n",
       "      <td>1.546427</td>\n",
       "      <td>-5.672745</td>\n",
       "    </tr>\n",
       "    <tr>\n",
       "      <th>3687</th>\n",
       "      <td>HVSA_0_100</td>\n",
       "      <td>-454.134918</td>\n",
       "      <td>85.565826</td>\n",
       "      <td>-16.623894</td>\n",
       "      <td>23.212719</td>\n",
       "      <td>-7.808586</td>\n",
       "      <td>-7.204661</td>\n",
       "      <td>-8.445378</td>\n",
       "      <td>-17.406126</td>\n",
       "      <td>-16.752789</td>\n",
       "      <td>-5.885397</td>\n",
       "      <td>0.342330</td>\n",
       "      <td>1.163908</td>\n",
       "      <td>-5.125210</td>\n",
       "    </tr>\n",
       "    <tr>\n",
       "      <th>3688</th>\n",
       "      <td>HVSA_0_101</td>\n",
       "      <td>-419.757965</td>\n",
       "      <td>73.650093</td>\n",
       "      <td>-20.263416</td>\n",
       "      <td>30.691795</td>\n",
       "      <td>-5.919299</td>\n",
       "      <td>-15.747583</td>\n",
       "      <td>-17.799961</td>\n",
       "      <td>-13.380462</td>\n",
       "      <td>-10.132165</td>\n",
       "      <td>-2.647573</td>\n",
       "      <td>1.943859</td>\n",
       "      <td>-0.861621</td>\n",
       "      <td>-5.781013</td>\n",
       "    </tr>\n",
       "    <tr>\n",
       "      <th>...</th>\n",
       "      <td>...</td>\n",
       "      <td>...</td>\n",
       "      <td>...</td>\n",
       "      <td>...</td>\n",
       "      <td>...</td>\n",
       "      <td>...</td>\n",
       "      <td>...</td>\n",
       "      <td>...</td>\n",
       "      <td>...</td>\n",
       "      <td>...</td>\n",
       "      <td>...</td>\n",
       "      <td>...</td>\n",
       "      <td>...</td>\n",
       "      <td>...</td>\n",
       "    </tr>\n",
       "    <tr>\n",
       "      <th>20863</th>\n",
       "      <td>WomenWhoStutter_9_5</td>\n",
       "      <td>-331.060883</td>\n",
       "      <td>8.423852</td>\n",
       "      <td>-32.912979</td>\n",
       "      <td>25.618399</td>\n",
       "      <td>-23.380960</td>\n",
       "      <td>2.367096</td>\n",
       "      <td>-14.927189</td>\n",
       "      <td>-5.307941</td>\n",
       "      <td>0.028746</td>\n",
       "      <td>-7.770761</td>\n",
       "      <td>-5.659317</td>\n",
       "      <td>-3.837930</td>\n",
       "      <td>-1.988690</td>\n",
       "    </tr>\n",
       "    <tr>\n",
       "      <th>20864</th>\n",
       "      <td>WomenWhoStutter_9_6</td>\n",
       "      <td>-287.171539</td>\n",
       "      <td>24.612059</td>\n",
       "      <td>11.593957</td>\n",
       "      <td>-2.373049</td>\n",
       "      <td>-19.041893</td>\n",
       "      <td>1.381284</td>\n",
       "      <td>-8.410903</td>\n",
       "      <td>-6.094375</td>\n",
       "      <td>-21.232729</td>\n",
       "      <td>1.682852</td>\n",
       "      <td>-18.440504</td>\n",
       "      <td>5.257711</td>\n",
       "      <td>-14.749590</td>\n",
       "    </tr>\n",
       "    <tr>\n",
       "      <th>20865</th>\n",
       "      <td>WomenWhoStutter_9_7</td>\n",
       "      <td>-284.419769</td>\n",
       "      <td>69.935936</td>\n",
       "      <td>4.447401</td>\n",
       "      <td>25.512424</td>\n",
       "      <td>-23.518784</td>\n",
       "      <td>-3.872571</td>\n",
       "      <td>2.403356</td>\n",
       "      <td>-14.279772</td>\n",
       "      <td>-22.612999</td>\n",
       "      <td>5.954080</td>\n",
       "      <td>-23.500135</td>\n",
       "      <td>-1.513236</td>\n",
       "      <td>-22.199059</td>\n",
       "    </tr>\n",
       "    <tr>\n",
       "      <th>20866</th>\n",
       "      <td>WomenWhoStutter_9_8</td>\n",
       "      <td>-359.677887</td>\n",
       "      <td>48.367863</td>\n",
       "      <td>14.129713</td>\n",
       "      <td>3.370583</td>\n",
       "      <td>-19.779791</td>\n",
       "      <td>1.081605</td>\n",
       "      <td>-1.616947</td>\n",
       "      <td>-4.654747</td>\n",
       "      <td>-21.594097</td>\n",
       "      <td>-1.051946</td>\n",
       "      <td>-16.132671</td>\n",
       "      <td>8.522419</td>\n",
       "      <td>-16.694715</td>\n",
       "    </tr>\n",
       "    <tr>\n",
       "      <th>20867</th>\n",
       "      <td>WomenWhoStutter_9_9</td>\n",
       "      <td>-308.420288</td>\n",
       "      <td>43.304848</td>\n",
       "      <td>4.558290</td>\n",
       "      <td>25.408195</td>\n",
       "      <td>-5.581814</td>\n",
       "      <td>-15.347582</td>\n",
       "      <td>-3.209874</td>\n",
       "      <td>-7.895388</td>\n",
       "      <td>-15.488364</td>\n",
       "      <td>-1.266536</td>\n",
       "      <td>-17.917046</td>\n",
       "      <td>6.498618</td>\n",
       "      <td>-19.679295</td>\n",
       "    </tr>\n",
       "  </tbody>\n",
       "</table>\n",
       "<p>21736 rows × 14 columns</p>\n",
       "</div>"
      ],
      "text/plain": [
       "                     index           0          1          2          3  \\\n",
       "3684              HVSA_0_0 -672.897095  42.572784  -9.060439  17.092854   \n",
       "3685              HVSA_0_1 -463.573669  69.182426 -18.914116  22.859167   \n",
       "3686             HVSA_0_10 -452.379944  58.461617 -26.529619  10.806691   \n",
       "3687            HVSA_0_100 -454.134918  85.565826 -16.623894  23.212719   \n",
       "3688            HVSA_0_101 -419.757965  73.650093 -20.263416  30.691795   \n",
       "...                    ...         ...        ...        ...        ...   \n",
       "20863  WomenWhoStutter_9_5 -331.060883   8.423852 -32.912979  25.618399   \n",
       "20864  WomenWhoStutter_9_6 -287.171539  24.612059  11.593957  -2.373049   \n",
       "20865  WomenWhoStutter_9_7 -284.419769  69.935936   4.447401  25.512424   \n",
       "20866  WomenWhoStutter_9_8 -359.677887  48.367863  14.129713   3.370583   \n",
       "20867  WomenWhoStutter_9_9 -308.420288  43.304848   4.558290  25.408195   \n",
       "\n",
       "               4          5          6          7          8         9  \\\n",
       "3684    5.601506  11.969574   5.087627   1.287422  -1.221630  5.906602   \n",
       "3685    0.735868  -7.253482  -7.202471  -5.319007  -5.854908  4.434800   \n",
       "3686    1.040473 -11.684329 -15.975926 -17.110899  -8.533467  3.804462   \n",
       "3687   -7.808586  -7.204661  -8.445378 -17.406126 -16.752789 -5.885397   \n",
       "3688   -5.919299 -15.747583 -17.799961 -13.380462 -10.132165 -2.647573   \n",
       "...          ...        ...        ...        ...        ...       ...   \n",
       "20863 -23.380960   2.367096 -14.927189  -5.307941   0.028746 -7.770761   \n",
       "20864 -19.041893   1.381284  -8.410903  -6.094375 -21.232729  1.682852   \n",
       "20865 -23.518784  -3.872571   2.403356 -14.279772 -22.612999  5.954080   \n",
       "20866 -19.779791   1.081605  -1.616947  -4.654747 -21.594097 -1.051946   \n",
       "20867  -5.581814 -15.347582  -3.209874  -7.895388 -15.488364 -1.266536   \n",
       "\n",
       "              10        11         12  \n",
       "3684    0.396098  2.618646   2.006739  \n",
       "3685   -2.941299  0.067582 -10.047692  \n",
       "3686   -0.904730  1.546427  -5.672745  \n",
       "3687    0.342330  1.163908  -5.125210  \n",
       "3688    1.943859 -0.861621  -5.781013  \n",
       "...          ...       ...        ...  \n",
       "20863  -5.659317 -3.837930  -1.988690  \n",
       "20864 -18.440504  5.257711 -14.749590  \n",
       "20865 -23.500135 -1.513236 -22.199059  \n",
       "20866 -16.132671  8.522419 -16.694715  \n",
       "20867 -17.917046  6.498618 -19.679295  \n",
       "\n",
       "[21736 rows x 14 columns]"
      ]
     },
     "execution_count": 19,
     "metadata": {},
     "output_type": "execute_result"
    }
   ],
   "source": [
    "df_features = df_features.sort_values(by='index')\n",
    "df_features"
   ]
  },
  {
   "cell_type": "code",
   "execution_count": 20,
   "metadata": {
    "execution": {
     "iopub.execute_input": "2022-10-10T01:17:26.112351Z",
     "iopub.status.busy": "2022-10-10T01:17:26.111877Z",
     "iopub.status.idle": "2022-10-10T01:17:26.121190Z",
     "shell.execute_reply": "2022-10-10T01:17:26.120021Z",
     "shell.execute_reply.started": "2022-10-10T01:17:26.112301Z"
    }
   },
   "outputs": [
    {
     "data": {
      "text/plain": [
       "3684                HVSA_0_0\n",
       "3685                HVSA_0_1\n",
       "3686               HVSA_0_10\n",
       "3687              HVSA_0_100\n",
       "3688              HVSA_0_101\n",
       "                ...         \n",
       "20863    WomenWhoStutter_9_5\n",
       "20864    WomenWhoStutter_9_6\n",
       "20865    WomenWhoStutter_9_7\n",
       "20866    WomenWhoStutter_9_8\n",
       "20867    WomenWhoStutter_9_9\n",
       "Name: index, Length: 21736, dtype: object"
      ]
     },
     "execution_count": 20,
     "metadata": {},
     "output_type": "execute_result"
    }
   ],
   "source": [
    "df_features['index']"
   ]
  },
  {
   "cell_type": "code",
   "execution_count": 21,
   "metadata": {
    "execution": {
     "iopub.execute_input": "2022-10-10T01:17:26.123505Z",
     "iopub.status.busy": "2022-10-10T01:17:26.123081Z",
     "iopub.status.idle": "2022-10-10T01:17:26.134644Z",
     "shell.execute_reply": "2022-10-10T01:17:26.133442Z",
     "shell.execute_reply.started": "2022-10-10T01:17:26.123470Z"
    }
   },
   "outputs": [
    {
     "data": {
      "text/plain": [
       "0                HeStutters_0_0\n",
       "1                HeStutters_0_1\n",
       "2                HeStutters_0_2\n",
       "3                HeStutters_0_3\n",
       "4                HeStutters_0_4\n",
       "                  ...          \n",
       "28172    WomenWhoStutter_109_35\n",
       "28173    WomenWhoStutter_109_36\n",
       "28174    WomenWhoStutter_109_37\n",
       "28175    WomenWhoStutter_109_38\n",
       "28176    WomenWhoStutter_109_39\n",
       "Name: Name, Length: 28177, dtype: object"
      ]
     },
     "execution_count": 21,
     "metadata": {},
     "output_type": "execute_result"
    }
   ],
   "source": [
    "df['Name']"
   ]
  },
  {
   "cell_type": "markdown",
   "metadata": {},
   "source": [
    "## Applying Inner Join on the dataframes"
   ]
  },
  {
   "cell_type": "code",
   "execution_count": 22,
   "metadata": {
    "execution": {
     "iopub.execute_input": "2022-10-10T01:17:26.139271Z",
     "iopub.status.busy": "2022-10-10T01:17:26.138894Z",
     "iopub.status.idle": "2022-10-10T01:17:26.165195Z",
     "shell.execute_reply": "2022-10-10T01:17:26.164034Z",
     "shell.execute_reply.started": "2022-10-10T01:17:26.139239Z"
    }
   },
   "outputs": [
    {
     "data": {
      "text/html": [
       "<div>\n",
       "<style scoped>\n",
       "    .dataframe tbody tr th:only-of-type {\n",
       "        vertical-align: middle;\n",
       "    }\n",
       "\n",
       "    .dataframe tbody tr th {\n",
       "        vertical-align: top;\n",
       "    }\n",
       "\n",
       "    .dataframe thead th {\n",
       "        text-align: right;\n",
       "    }\n",
       "</style>\n",
       "<table border=\"1\" class=\"dataframe\">\n",
       "  <thead>\n",
       "    <tr style=\"text-align: right;\">\n",
       "      <th></th>\n",
       "      <th>Name</th>\n",
       "      <th>0</th>\n",
       "      <th>1</th>\n",
       "      <th>2</th>\n",
       "      <th>3</th>\n",
       "      <th>4</th>\n",
       "      <th>5</th>\n",
       "      <th>6</th>\n",
       "      <th>7</th>\n",
       "      <th>8</th>\n",
       "      <th>9</th>\n",
       "      <th>10</th>\n",
       "      <th>11</th>\n",
       "      <th>12</th>\n",
       "    </tr>\n",
       "  </thead>\n",
       "  <tbody>\n",
       "    <tr>\n",
       "      <th>3684</th>\n",
       "      <td>HVSA_0_0</td>\n",
       "      <td>-672.897095</td>\n",
       "      <td>42.572784</td>\n",
       "      <td>-9.060439</td>\n",
       "      <td>17.092854</td>\n",
       "      <td>5.601506</td>\n",
       "      <td>11.969574</td>\n",
       "      <td>5.087627</td>\n",
       "      <td>1.287422</td>\n",
       "      <td>-1.221630</td>\n",
       "      <td>5.906602</td>\n",
       "      <td>0.396098</td>\n",
       "      <td>2.618646</td>\n",
       "      <td>2.006739</td>\n",
       "    </tr>\n",
       "    <tr>\n",
       "      <th>3685</th>\n",
       "      <td>HVSA_0_1</td>\n",
       "      <td>-463.573669</td>\n",
       "      <td>69.182426</td>\n",
       "      <td>-18.914116</td>\n",
       "      <td>22.859167</td>\n",
       "      <td>0.735868</td>\n",
       "      <td>-7.253482</td>\n",
       "      <td>-7.202471</td>\n",
       "      <td>-5.319007</td>\n",
       "      <td>-5.854908</td>\n",
       "      <td>4.434800</td>\n",
       "      <td>-2.941299</td>\n",
       "      <td>0.067582</td>\n",
       "      <td>-10.047692</td>\n",
       "    </tr>\n",
       "    <tr>\n",
       "      <th>3686</th>\n",
       "      <td>HVSA_0_10</td>\n",
       "      <td>-452.379944</td>\n",
       "      <td>58.461617</td>\n",
       "      <td>-26.529619</td>\n",
       "      <td>10.806691</td>\n",
       "      <td>1.040473</td>\n",
       "      <td>-11.684329</td>\n",
       "      <td>-15.975926</td>\n",
       "      <td>-17.110899</td>\n",
       "      <td>-8.533467</td>\n",
       "      <td>3.804462</td>\n",
       "      <td>-0.904730</td>\n",
       "      <td>1.546427</td>\n",
       "      <td>-5.672745</td>\n",
       "    </tr>\n",
       "    <tr>\n",
       "      <th>3687</th>\n",
       "      <td>HVSA_0_100</td>\n",
       "      <td>-454.134918</td>\n",
       "      <td>85.565826</td>\n",
       "      <td>-16.623894</td>\n",
       "      <td>23.212719</td>\n",
       "      <td>-7.808586</td>\n",
       "      <td>-7.204661</td>\n",
       "      <td>-8.445378</td>\n",
       "      <td>-17.406126</td>\n",
       "      <td>-16.752789</td>\n",
       "      <td>-5.885397</td>\n",
       "      <td>0.342330</td>\n",
       "      <td>1.163908</td>\n",
       "      <td>-5.125210</td>\n",
       "    </tr>\n",
       "    <tr>\n",
       "      <th>3688</th>\n",
       "      <td>HVSA_0_101</td>\n",
       "      <td>-419.757965</td>\n",
       "      <td>73.650093</td>\n",
       "      <td>-20.263416</td>\n",
       "      <td>30.691795</td>\n",
       "      <td>-5.919299</td>\n",
       "      <td>-15.747583</td>\n",
       "      <td>-17.799961</td>\n",
       "      <td>-13.380462</td>\n",
       "      <td>-10.132165</td>\n",
       "      <td>-2.647573</td>\n",
       "      <td>1.943859</td>\n",
       "      <td>-0.861621</td>\n",
       "      <td>-5.781013</td>\n",
       "    </tr>\n",
       "    <tr>\n",
       "      <th>...</th>\n",
       "      <td>...</td>\n",
       "      <td>...</td>\n",
       "      <td>...</td>\n",
       "      <td>...</td>\n",
       "      <td>...</td>\n",
       "      <td>...</td>\n",
       "      <td>...</td>\n",
       "      <td>...</td>\n",
       "      <td>...</td>\n",
       "      <td>...</td>\n",
       "      <td>...</td>\n",
       "      <td>...</td>\n",
       "      <td>...</td>\n",
       "      <td>...</td>\n",
       "    </tr>\n",
       "    <tr>\n",
       "      <th>20863</th>\n",
       "      <td>WomenWhoStutter_9_5</td>\n",
       "      <td>-331.060883</td>\n",
       "      <td>8.423852</td>\n",
       "      <td>-32.912979</td>\n",
       "      <td>25.618399</td>\n",
       "      <td>-23.380960</td>\n",
       "      <td>2.367096</td>\n",
       "      <td>-14.927189</td>\n",
       "      <td>-5.307941</td>\n",
       "      <td>0.028746</td>\n",
       "      <td>-7.770761</td>\n",
       "      <td>-5.659317</td>\n",
       "      <td>-3.837930</td>\n",
       "      <td>-1.988690</td>\n",
       "    </tr>\n",
       "    <tr>\n",
       "      <th>20864</th>\n",
       "      <td>WomenWhoStutter_9_6</td>\n",
       "      <td>-287.171539</td>\n",
       "      <td>24.612059</td>\n",
       "      <td>11.593957</td>\n",
       "      <td>-2.373049</td>\n",
       "      <td>-19.041893</td>\n",
       "      <td>1.381284</td>\n",
       "      <td>-8.410903</td>\n",
       "      <td>-6.094375</td>\n",
       "      <td>-21.232729</td>\n",
       "      <td>1.682852</td>\n",
       "      <td>-18.440504</td>\n",
       "      <td>5.257711</td>\n",
       "      <td>-14.749590</td>\n",
       "    </tr>\n",
       "    <tr>\n",
       "      <th>20865</th>\n",
       "      <td>WomenWhoStutter_9_7</td>\n",
       "      <td>-284.419769</td>\n",
       "      <td>69.935936</td>\n",
       "      <td>4.447401</td>\n",
       "      <td>25.512424</td>\n",
       "      <td>-23.518784</td>\n",
       "      <td>-3.872571</td>\n",
       "      <td>2.403356</td>\n",
       "      <td>-14.279772</td>\n",
       "      <td>-22.612999</td>\n",
       "      <td>5.954080</td>\n",
       "      <td>-23.500135</td>\n",
       "      <td>-1.513236</td>\n",
       "      <td>-22.199059</td>\n",
       "    </tr>\n",
       "    <tr>\n",
       "      <th>20866</th>\n",
       "      <td>WomenWhoStutter_9_8</td>\n",
       "      <td>-359.677887</td>\n",
       "      <td>48.367863</td>\n",
       "      <td>14.129713</td>\n",
       "      <td>3.370583</td>\n",
       "      <td>-19.779791</td>\n",
       "      <td>1.081605</td>\n",
       "      <td>-1.616947</td>\n",
       "      <td>-4.654747</td>\n",
       "      <td>-21.594097</td>\n",
       "      <td>-1.051946</td>\n",
       "      <td>-16.132671</td>\n",
       "      <td>8.522419</td>\n",
       "      <td>-16.694715</td>\n",
       "    </tr>\n",
       "    <tr>\n",
       "      <th>20867</th>\n",
       "      <td>WomenWhoStutter_9_9</td>\n",
       "      <td>-308.420288</td>\n",
       "      <td>43.304848</td>\n",
       "      <td>4.558290</td>\n",
       "      <td>25.408195</td>\n",
       "      <td>-5.581814</td>\n",
       "      <td>-15.347582</td>\n",
       "      <td>-3.209874</td>\n",
       "      <td>-7.895388</td>\n",
       "      <td>-15.488364</td>\n",
       "      <td>-1.266536</td>\n",
       "      <td>-17.917046</td>\n",
       "      <td>6.498618</td>\n",
       "      <td>-19.679295</td>\n",
       "    </tr>\n",
       "  </tbody>\n",
       "</table>\n",
       "<p>21736 rows × 14 columns</p>\n",
       "</div>"
      ],
      "text/plain": [
       "                      Name           0          1          2          3  \\\n",
       "3684              HVSA_0_0 -672.897095  42.572784  -9.060439  17.092854   \n",
       "3685              HVSA_0_1 -463.573669  69.182426 -18.914116  22.859167   \n",
       "3686             HVSA_0_10 -452.379944  58.461617 -26.529619  10.806691   \n",
       "3687            HVSA_0_100 -454.134918  85.565826 -16.623894  23.212719   \n",
       "3688            HVSA_0_101 -419.757965  73.650093 -20.263416  30.691795   \n",
       "...                    ...         ...        ...        ...        ...   \n",
       "20863  WomenWhoStutter_9_5 -331.060883   8.423852 -32.912979  25.618399   \n",
       "20864  WomenWhoStutter_9_6 -287.171539  24.612059  11.593957  -2.373049   \n",
       "20865  WomenWhoStutter_9_7 -284.419769  69.935936   4.447401  25.512424   \n",
       "20866  WomenWhoStutter_9_8 -359.677887  48.367863  14.129713   3.370583   \n",
       "20867  WomenWhoStutter_9_9 -308.420288  43.304848   4.558290  25.408195   \n",
       "\n",
       "               4          5          6          7          8         9  \\\n",
       "3684    5.601506  11.969574   5.087627   1.287422  -1.221630  5.906602   \n",
       "3685    0.735868  -7.253482  -7.202471  -5.319007  -5.854908  4.434800   \n",
       "3686    1.040473 -11.684329 -15.975926 -17.110899  -8.533467  3.804462   \n",
       "3687   -7.808586  -7.204661  -8.445378 -17.406126 -16.752789 -5.885397   \n",
       "3688   -5.919299 -15.747583 -17.799961 -13.380462 -10.132165 -2.647573   \n",
       "...          ...        ...        ...        ...        ...       ...   \n",
       "20863 -23.380960   2.367096 -14.927189  -5.307941   0.028746 -7.770761   \n",
       "20864 -19.041893   1.381284  -8.410903  -6.094375 -21.232729  1.682852   \n",
       "20865 -23.518784  -3.872571   2.403356 -14.279772 -22.612999  5.954080   \n",
       "20866 -19.779791   1.081605  -1.616947  -4.654747 -21.594097 -1.051946   \n",
       "20867  -5.581814 -15.347582  -3.209874  -7.895388 -15.488364 -1.266536   \n",
       "\n",
       "              10        11         12  \n",
       "3684    0.396098  2.618646   2.006739  \n",
       "3685   -2.941299  0.067582 -10.047692  \n",
       "3686   -0.904730  1.546427  -5.672745  \n",
       "3687    0.342330  1.163908  -5.125210  \n",
       "3688    1.943859 -0.861621  -5.781013  \n",
       "...          ...       ...        ...  \n",
       "20863  -5.659317 -3.837930  -1.988690  \n",
       "20864 -18.440504  5.257711 -14.749590  \n",
       "20865 -23.500135 -1.513236 -22.199059  \n",
       "20866 -16.132671  8.522419 -16.694715  \n",
       "20867 -17.917046  6.498618 -19.679295  \n",
       "\n",
       "[21736 rows x 14 columns]"
      ]
     },
     "execution_count": 22,
     "metadata": {},
     "output_type": "execute_result"
    }
   ],
   "source": [
    "df_features.rename(columns = {'index':'Name'}, inplace = True)\n",
    "df_features"
   ]
  },
  {
   "cell_type": "code",
   "execution_count": 23,
   "metadata": {
    "execution": {
     "iopub.execute_input": "2022-10-10T01:17:26.167215Z",
     "iopub.status.busy": "2022-10-10T01:17:26.166722Z",
     "iopub.status.idle": "2022-10-10T01:17:26.233794Z",
     "shell.execute_reply": "2022-10-10T01:17:26.232838Z",
     "shell.execute_reply.started": "2022-10-10T01:17:26.167142Z"
    }
   },
   "outputs": [
    {
     "data": {
      "text/html": [
       "<div>\n",
       "<style scoped>\n",
       "    .dataframe tbody tr th:only-of-type {\n",
       "        vertical-align: middle;\n",
       "    }\n",
       "\n",
       "    .dataframe tbody tr th {\n",
       "        vertical-align: top;\n",
       "    }\n",
       "\n",
       "    .dataframe thead th {\n",
       "        text-align: right;\n",
       "    }\n",
       "</style>\n",
       "<table border=\"1\" class=\"dataframe\">\n",
       "  <thead>\n",
       "    <tr style=\"text-align: right;\">\n",
       "      <th></th>\n",
       "      <th>Show</th>\n",
       "      <th>EpId</th>\n",
       "      <th>ClipId</th>\n",
       "      <th>Start</th>\n",
       "      <th>Stop</th>\n",
       "      <th>Unsure</th>\n",
       "      <th>PoorAudioQuality</th>\n",
       "      <th>Prolongation</th>\n",
       "      <th>Block</th>\n",
       "      <th>SoundRep</th>\n",
       "      <th>...</th>\n",
       "      <th>3</th>\n",
       "      <th>4</th>\n",
       "      <th>5</th>\n",
       "      <th>6</th>\n",
       "      <th>7</th>\n",
       "      <th>8</th>\n",
       "      <th>9</th>\n",
       "      <th>10</th>\n",
       "      <th>11</th>\n",
       "      <th>12</th>\n",
       "    </tr>\n",
       "  </thead>\n",
       "  <tbody>\n",
       "    <tr>\n",
       "      <th>0</th>\n",
       "      <td>HeStutters</td>\n",
       "      <td>0</td>\n",
       "      <td>0</td>\n",
       "      <td>31900320</td>\n",
       "      <td>31948320</td>\n",
       "      <td>0</td>\n",
       "      <td>0</td>\n",
       "      <td>0</td>\n",
       "      <td>0</td>\n",
       "      <td>0</td>\n",
       "      <td>...</td>\n",
       "      <td>6.977844</td>\n",
       "      <td>2.169690</td>\n",
       "      <td>-3.574423</td>\n",
       "      <td>-7.091357</td>\n",
       "      <td>-1.978344</td>\n",
       "      <td>-8.984580</td>\n",
       "      <td>-4.724132</td>\n",
       "      <td>-3.345276</td>\n",
       "      <td>-6.573854</td>\n",
       "      <td>-7.026947</td>\n",
       "    </tr>\n",
       "    <tr>\n",
       "      <th>1</th>\n",
       "      <td>HeStutters</td>\n",
       "      <td>0</td>\n",
       "      <td>1</td>\n",
       "      <td>31977120</td>\n",
       "      <td>32025120</td>\n",
       "      <td>0</td>\n",
       "      <td>0</td>\n",
       "      <td>0</td>\n",
       "      <td>0</td>\n",
       "      <td>0</td>\n",
       "      <td>...</td>\n",
       "      <td>10.253622</td>\n",
       "      <td>-11.466489</td>\n",
       "      <td>2.707656</td>\n",
       "      <td>-10.675123</td>\n",
       "      <td>-4.653667</td>\n",
       "      <td>-14.433005</td>\n",
       "      <td>-5.926201</td>\n",
       "      <td>-1.934813</td>\n",
       "      <td>-8.946336</td>\n",
       "      <td>-8.399075</td>\n",
       "    </tr>\n",
       "    <tr>\n",
       "      <th>2</th>\n",
       "      <td>HeStutters</td>\n",
       "      <td>0</td>\n",
       "      <td>2</td>\n",
       "      <td>34809760</td>\n",
       "      <td>34857760</td>\n",
       "      <td>0</td>\n",
       "      <td>0</td>\n",
       "      <td>0</td>\n",
       "      <td>0</td>\n",
       "      <td>0</td>\n",
       "      <td>...</td>\n",
       "      <td>36.037708</td>\n",
       "      <td>-2.650917</td>\n",
       "      <td>-11.021187</td>\n",
       "      <td>-9.310137</td>\n",
       "      <td>-1.562138</td>\n",
       "      <td>-13.035163</td>\n",
       "      <td>-8.655548</td>\n",
       "      <td>-4.336683</td>\n",
       "      <td>-7.372598</td>\n",
       "      <td>-7.138989</td>\n",
       "    </tr>\n",
       "    <tr>\n",
       "      <th>3</th>\n",
       "      <td>HeStutters</td>\n",
       "      <td>0</td>\n",
       "      <td>3</td>\n",
       "      <td>35200640</td>\n",
       "      <td>35248640</td>\n",
       "      <td>0</td>\n",
       "      <td>0</td>\n",
       "      <td>1</td>\n",
       "      <td>0</td>\n",
       "      <td>0</td>\n",
       "      <td>...</td>\n",
       "      <td>3.193294</td>\n",
       "      <td>-4.616055</td>\n",
       "      <td>-5.762987</td>\n",
       "      <td>-4.187028</td>\n",
       "      <td>-0.715044</td>\n",
       "      <td>-14.383714</td>\n",
       "      <td>-3.304795</td>\n",
       "      <td>-4.146274</td>\n",
       "      <td>-8.412235</td>\n",
       "      <td>-2.445787</td>\n",
       "    </tr>\n",
       "    <tr>\n",
       "      <th>4</th>\n",
       "      <td>HeStutters</td>\n",
       "      <td>0</td>\n",
       "      <td>4</td>\n",
       "      <td>35721920</td>\n",
       "      <td>35769920</td>\n",
       "      <td>0</td>\n",
       "      <td>0</td>\n",
       "      <td>0</td>\n",
       "      <td>0</td>\n",
       "      <td>0</td>\n",
       "      <td>...</td>\n",
       "      <td>8.430685</td>\n",
       "      <td>-0.561030</td>\n",
       "      <td>-4.473869</td>\n",
       "      <td>-9.220818</td>\n",
       "      <td>-3.201562</td>\n",
       "      <td>-11.855061</td>\n",
       "      <td>-4.699773</td>\n",
       "      <td>-2.414847</td>\n",
       "      <td>-7.803761</td>\n",
       "      <td>-6.036355</td>\n",
       "    </tr>\n",
       "    <tr>\n",
       "      <th>...</th>\n",
       "      <td>...</td>\n",
       "      <td>...</td>\n",
       "      <td>...</td>\n",
       "      <td>...</td>\n",
       "      <td>...</td>\n",
       "      <td>...</td>\n",
       "      <td>...</td>\n",
       "      <td>...</td>\n",
       "      <td>...</td>\n",
       "      <td>...</td>\n",
       "      <td>...</td>\n",
       "      <td>...</td>\n",
       "      <td>...</td>\n",
       "      <td>...</td>\n",
       "      <td>...</td>\n",
       "      <td>...</td>\n",
       "      <td>...</td>\n",
       "      <td>...</td>\n",
       "      <td>...</td>\n",
       "      <td>...</td>\n",
       "      <td>...</td>\n",
       "    </tr>\n",
       "    <tr>\n",
       "      <th>21731</th>\n",
       "      <td>WomenWhoStutter</td>\n",
       "      <td>109</td>\n",
       "      <td>35</td>\n",
       "      <td>25793600</td>\n",
       "      <td>25841600</td>\n",
       "      <td>0</td>\n",
       "      <td>0</td>\n",
       "      <td>0</td>\n",
       "      <td>0</td>\n",
       "      <td>0</td>\n",
       "      <td>...</td>\n",
       "      <td>20.143101</td>\n",
       "      <td>-26.160055</td>\n",
       "      <td>3.709430</td>\n",
       "      <td>-15.719262</td>\n",
       "      <td>2.436124</td>\n",
       "      <td>-1.615821</td>\n",
       "      <td>-5.105482</td>\n",
       "      <td>-10.272832</td>\n",
       "      <td>-3.074108</td>\n",
       "      <td>-6.375843</td>\n",
       "    </tr>\n",
       "    <tr>\n",
       "      <th>21732</th>\n",
       "      <td>WomenWhoStutter</td>\n",
       "      <td>109</td>\n",
       "      <td>36</td>\n",
       "      <td>26168480</td>\n",
       "      <td>26216480</td>\n",
       "      <td>0</td>\n",
       "      <td>0</td>\n",
       "      <td>1</td>\n",
       "      <td>1</td>\n",
       "      <td>3</td>\n",
       "      <td>...</td>\n",
       "      <td>29.588446</td>\n",
       "      <td>-10.896355</td>\n",
       "      <td>-14.222120</td>\n",
       "      <td>-9.167952</td>\n",
       "      <td>-1.676773</td>\n",
       "      <td>-8.374957</td>\n",
       "      <td>-6.297094</td>\n",
       "      <td>1.265485</td>\n",
       "      <td>-4.014944</td>\n",
       "      <td>-0.196149</td>\n",
       "    </tr>\n",
       "    <tr>\n",
       "      <th>21733</th>\n",
       "      <td>WomenWhoStutter</td>\n",
       "      <td>109</td>\n",
       "      <td>37</td>\n",
       "      <td>3569440</td>\n",
       "      <td>3617440</td>\n",
       "      <td>0</td>\n",
       "      <td>0</td>\n",
       "      <td>0</td>\n",
       "      <td>0</td>\n",
       "      <td>0</td>\n",
       "      <td>...</td>\n",
       "      <td>9.234286</td>\n",
       "      <td>-27.815256</td>\n",
       "      <td>-5.439774</td>\n",
       "      <td>-17.093494</td>\n",
       "      <td>-8.942730</td>\n",
       "      <td>-1.638088</td>\n",
       "      <td>-3.736744</td>\n",
       "      <td>-0.968271</td>\n",
       "      <td>-7.699818</td>\n",
       "      <td>0.135875</td>\n",
       "    </tr>\n",
       "    <tr>\n",
       "      <th>21734</th>\n",
       "      <td>WomenWhoStutter</td>\n",
       "      <td>109</td>\n",
       "      <td>38</td>\n",
       "      <td>28479840</td>\n",
       "      <td>28527840</td>\n",
       "      <td>0</td>\n",
       "      <td>0</td>\n",
       "      <td>1</td>\n",
       "      <td>0</td>\n",
       "      <td>0</td>\n",
       "      <td>...</td>\n",
       "      <td>26.443172</td>\n",
       "      <td>-24.452421</td>\n",
       "      <td>-10.057486</td>\n",
       "      <td>-10.132101</td>\n",
       "      <td>-4.451934</td>\n",
       "      <td>-1.437802</td>\n",
       "      <td>-11.729773</td>\n",
       "      <td>-6.692393</td>\n",
       "      <td>0.137587</td>\n",
       "      <td>-3.664662</td>\n",
       "    </tr>\n",
       "    <tr>\n",
       "      <th>21735</th>\n",
       "      <td>WomenWhoStutter</td>\n",
       "      <td>109</td>\n",
       "      <td>39</td>\n",
       "      <td>29318080</td>\n",
       "      <td>29366080</td>\n",
       "      <td>0</td>\n",
       "      <td>0</td>\n",
       "      <td>0</td>\n",
       "      <td>0</td>\n",
       "      <td>0</td>\n",
       "      <td>...</td>\n",
       "      <td>34.808208</td>\n",
       "      <td>-24.722097</td>\n",
       "      <td>-2.228705</td>\n",
       "      <td>-9.393265</td>\n",
       "      <td>2.945533</td>\n",
       "      <td>-1.885135</td>\n",
       "      <td>-5.709170</td>\n",
       "      <td>-6.403487</td>\n",
       "      <td>-4.559175</td>\n",
       "      <td>-4.068617</td>\n",
       "    </tr>\n",
       "  </tbody>\n",
       "</table>\n",
       "<p>21736 rows × 31 columns</p>\n",
       "</div>"
      ],
      "text/plain": [
       "                  Show  EpId  ClipId     Start      Stop  Unsure  \\\n",
       "0           HeStutters     0       0  31900320  31948320       0   \n",
       "1           HeStutters     0       1  31977120  32025120       0   \n",
       "2           HeStutters     0       2  34809760  34857760       0   \n",
       "3           HeStutters     0       3  35200640  35248640       0   \n",
       "4           HeStutters     0       4  35721920  35769920       0   \n",
       "...                ...   ...     ...       ...       ...     ...   \n",
       "21731  WomenWhoStutter   109      35  25793600  25841600       0   \n",
       "21732  WomenWhoStutter   109      36  26168480  26216480       0   \n",
       "21733  WomenWhoStutter   109      37   3569440   3617440       0   \n",
       "21734  WomenWhoStutter   109      38  28479840  28527840       0   \n",
       "21735  WomenWhoStutter   109      39  29318080  29366080       0   \n",
       "\n",
       "       PoorAudioQuality  Prolongation  Block  SoundRep  ...          3  \\\n",
       "0                     0             0      0         0  ...   6.977844   \n",
       "1                     0             0      0         0  ...  10.253622   \n",
       "2                     0             0      0         0  ...  36.037708   \n",
       "3                     0             1      0         0  ...   3.193294   \n",
       "4                     0             0      0         0  ...   8.430685   \n",
       "...                 ...           ...    ...       ...  ...        ...   \n",
       "21731                 0             0      0         0  ...  20.143101   \n",
       "21732                 0             1      1         3  ...  29.588446   \n",
       "21733                 0             0      0         0  ...   9.234286   \n",
       "21734                 0             1      0         0  ...  26.443172   \n",
       "21735                 0             0      0         0  ...  34.808208   \n",
       "\n",
       "               4          5          6         7          8          9  \\\n",
       "0       2.169690  -3.574423  -7.091357 -1.978344  -8.984580  -4.724132   \n",
       "1     -11.466489   2.707656 -10.675123 -4.653667 -14.433005  -5.926201   \n",
       "2      -2.650917 -11.021187  -9.310137 -1.562138 -13.035163  -8.655548   \n",
       "3      -4.616055  -5.762987  -4.187028 -0.715044 -14.383714  -3.304795   \n",
       "4      -0.561030  -4.473869  -9.220818 -3.201562 -11.855061  -4.699773   \n",
       "...          ...        ...        ...       ...        ...        ...   \n",
       "21731 -26.160055   3.709430 -15.719262  2.436124  -1.615821  -5.105482   \n",
       "21732 -10.896355 -14.222120  -9.167952 -1.676773  -8.374957  -6.297094   \n",
       "21733 -27.815256  -5.439774 -17.093494 -8.942730  -1.638088  -3.736744   \n",
       "21734 -24.452421 -10.057486 -10.132101 -4.451934  -1.437802 -11.729773   \n",
       "21735 -24.722097  -2.228705  -9.393265  2.945533  -1.885135  -5.709170   \n",
       "\n",
       "              10        11        12  \n",
       "0      -3.345276 -6.573854 -7.026947  \n",
       "1      -1.934813 -8.946336 -8.399075  \n",
       "2      -4.336683 -7.372598 -7.138989  \n",
       "3      -4.146274 -8.412235 -2.445787  \n",
       "4      -2.414847 -7.803761 -6.036355  \n",
       "...          ...       ...       ...  \n",
       "21731 -10.272832 -3.074108 -6.375843  \n",
       "21732   1.265485 -4.014944 -0.196149  \n",
       "21733  -0.968271 -7.699818  0.135875  \n",
       "21734  -6.692393  0.137587 -3.664662  \n",
       "21735  -6.403487 -4.559175 -4.068617  \n",
       "\n",
       "[21736 rows x 31 columns]"
      ]
     },
     "execution_count": 23,
     "metadata": {},
     "output_type": "execute_result"
    }
   ],
   "source": [
    "df_final = pd.merge(df, df_features, how='inner', on='Name')\n",
    "df_final"
   ]
  },
  {
   "cell_type": "code",
   "execution_count": 24,
   "metadata": {
    "execution": {
     "iopub.execute_input": "2022-10-10T01:17:26.235876Z",
     "iopub.status.busy": "2022-10-10T01:17:26.235109Z",
     "iopub.status.idle": "2022-10-10T01:17:26.257788Z",
     "shell.execute_reply": "2022-10-10T01:17:26.256847Z",
     "shell.execute_reply.started": "2022-10-10T01:17:26.235838Z"
    }
   },
   "outputs": [
    {
     "data": {
      "text/html": [
       "<div>\n",
       "<style scoped>\n",
       "    .dataframe tbody tr th:only-of-type {\n",
       "        vertical-align: middle;\n",
       "    }\n",
       "\n",
       "    .dataframe tbody tr th {\n",
       "        vertical-align: top;\n",
       "    }\n",
       "\n",
       "    .dataframe thead th {\n",
       "        text-align: right;\n",
       "    }\n",
       "</style>\n",
       "<table border=\"1\" class=\"dataframe\">\n",
       "  <thead>\n",
       "    <tr style=\"text-align: right;\">\n",
       "      <th></th>\n",
       "      <th>Show</th>\n",
       "      <th>EpId</th>\n",
       "      <th>ClipId</th>\n",
       "      <th>Start</th>\n",
       "      <th>Stop</th>\n",
       "      <th>Unsure</th>\n",
       "      <th>PoorAudioQuality</th>\n",
       "      <th>Prolongation</th>\n",
       "      <th>Block</th>\n",
       "      <th>SoundRep</th>\n",
       "      <th>...</th>\n",
       "      <th>3</th>\n",
       "      <th>4</th>\n",
       "      <th>5</th>\n",
       "      <th>6</th>\n",
       "      <th>7</th>\n",
       "      <th>8</th>\n",
       "      <th>9</th>\n",
       "      <th>10</th>\n",
       "      <th>11</th>\n",
       "      <th>12</th>\n",
       "    </tr>\n",
       "  </thead>\n",
       "  <tbody>\n",
       "    <tr>\n",
       "      <th>0</th>\n",
       "      <td>HeStutters</td>\n",
       "      <td>0</td>\n",
       "      <td>0</td>\n",
       "      <td>31900320</td>\n",
       "      <td>31948320</td>\n",
       "      <td>0</td>\n",
       "      <td>0</td>\n",
       "      <td>0</td>\n",
       "      <td>0</td>\n",
       "      <td>0</td>\n",
       "      <td>...</td>\n",
       "      <td>6.977844</td>\n",
       "      <td>2.169690</td>\n",
       "      <td>-3.574423</td>\n",
       "      <td>-7.091357</td>\n",
       "      <td>-1.978344</td>\n",
       "      <td>-8.984580</td>\n",
       "      <td>-4.724132</td>\n",
       "      <td>-3.345276</td>\n",
       "      <td>-6.573854</td>\n",
       "      <td>-7.026947</td>\n",
       "    </tr>\n",
       "    <tr>\n",
       "      <th>1</th>\n",
       "      <td>HeStutters</td>\n",
       "      <td>0</td>\n",
       "      <td>1</td>\n",
       "      <td>31977120</td>\n",
       "      <td>32025120</td>\n",
       "      <td>0</td>\n",
       "      <td>0</td>\n",
       "      <td>0</td>\n",
       "      <td>0</td>\n",
       "      <td>0</td>\n",
       "      <td>...</td>\n",
       "      <td>10.253622</td>\n",
       "      <td>-11.466489</td>\n",
       "      <td>2.707656</td>\n",
       "      <td>-10.675123</td>\n",
       "      <td>-4.653667</td>\n",
       "      <td>-14.433005</td>\n",
       "      <td>-5.926201</td>\n",
       "      <td>-1.934813</td>\n",
       "      <td>-8.946336</td>\n",
       "      <td>-8.399075</td>\n",
       "    </tr>\n",
       "    <tr>\n",
       "      <th>2</th>\n",
       "      <td>HeStutters</td>\n",
       "      <td>0</td>\n",
       "      <td>2</td>\n",
       "      <td>34809760</td>\n",
       "      <td>34857760</td>\n",
       "      <td>0</td>\n",
       "      <td>0</td>\n",
       "      <td>0</td>\n",
       "      <td>0</td>\n",
       "      <td>0</td>\n",
       "      <td>...</td>\n",
       "      <td>36.037708</td>\n",
       "      <td>-2.650917</td>\n",
       "      <td>-11.021187</td>\n",
       "      <td>-9.310137</td>\n",
       "      <td>-1.562138</td>\n",
       "      <td>-13.035163</td>\n",
       "      <td>-8.655548</td>\n",
       "      <td>-4.336683</td>\n",
       "      <td>-7.372598</td>\n",
       "      <td>-7.138989</td>\n",
       "    </tr>\n",
       "    <tr>\n",
       "      <th>3</th>\n",
       "      <td>HeStutters</td>\n",
       "      <td>0</td>\n",
       "      <td>3</td>\n",
       "      <td>35200640</td>\n",
       "      <td>35248640</td>\n",
       "      <td>0</td>\n",
       "      <td>0</td>\n",
       "      <td>1</td>\n",
       "      <td>0</td>\n",
       "      <td>0</td>\n",
       "      <td>...</td>\n",
       "      <td>3.193294</td>\n",
       "      <td>-4.616055</td>\n",
       "      <td>-5.762987</td>\n",
       "      <td>-4.187028</td>\n",
       "      <td>-0.715044</td>\n",
       "      <td>-14.383714</td>\n",
       "      <td>-3.304795</td>\n",
       "      <td>-4.146274</td>\n",
       "      <td>-8.412235</td>\n",
       "      <td>-2.445787</td>\n",
       "    </tr>\n",
       "    <tr>\n",
       "      <th>4</th>\n",
       "      <td>HeStutters</td>\n",
       "      <td>0</td>\n",
       "      <td>4</td>\n",
       "      <td>35721920</td>\n",
       "      <td>35769920</td>\n",
       "      <td>0</td>\n",
       "      <td>0</td>\n",
       "      <td>0</td>\n",
       "      <td>0</td>\n",
       "      <td>0</td>\n",
       "      <td>...</td>\n",
       "      <td>8.430685</td>\n",
       "      <td>-0.561030</td>\n",
       "      <td>-4.473869</td>\n",
       "      <td>-9.220818</td>\n",
       "      <td>-3.201562</td>\n",
       "      <td>-11.855061</td>\n",
       "      <td>-4.699773</td>\n",
       "      <td>-2.414847</td>\n",
       "      <td>-7.803761</td>\n",
       "      <td>-6.036355</td>\n",
       "    </tr>\n",
       "  </tbody>\n",
       "</table>\n",
       "<p>5 rows × 31 columns</p>\n",
       "</div>"
      ],
      "text/plain": [
       "         Show  EpId  ClipId     Start      Stop  Unsure  PoorAudioQuality  \\\n",
       "0  HeStutters     0       0  31900320  31948320       0                 0   \n",
       "1  HeStutters     0       1  31977120  32025120       0                 0   \n",
       "2  HeStutters     0       2  34809760  34857760       0                 0   \n",
       "3  HeStutters     0       3  35200640  35248640       0                 0   \n",
       "4  HeStutters     0       4  35721920  35769920       0                 0   \n",
       "\n",
       "   Prolongation  Block  SoundRep  ...          3          4          5  \\\n",
       "0             0      0         0  ...   6.977844   2.169690  -3.574423   \n",
       "1             0      0         0  ...  10.253622 -11.466489   2.707656   \n",
       "2             0      0         0  ...  36.037708  -2.650917 -11.021187   \n",
       "3             1      0         0  ...   3.193294  -4.616055  -5.762987   \n",
       "4             0      0         0  ...   8.430685  -0.561030  -4.473869   \n",
       "\n",
       "           6         7          8         9        10        11        12  \n",
       "0  -7.091357 -1.978344  -8.984580 -4.724132 -3.345276 -6.573854 -7.026947  \n",
       "1 -10.675123 -4.653667 -14.433005 -5.926201 -1.934813 -8.946336 -8.399075  \n",
       "2  -9.310137 -1.562138 -13.035163 -8.655548 -4.336683 -7.372598 -7.138989  \n",
       "3  -4.187028 -0.715044 -14.383714 -3.304795 -4.146274 -8.412235 -2.445787  \n",
       "4  -9.220818 -3.201562 -11.855061 -4.699773 -2.414847 -7.803761 -6.036355  \n",
       "\n",
       "[5 rows x 31 columns]"
      ]
     },
     "execution_count": 24,
     "metadata": {},
     "output_type": "execute_result"
    }
   ],
   "source": [
    "df_final.head()"
   ]
  },
  {
   "cell_type": "code",
   "execution_count": 25,
   "metadata": {
    "execution": {
     "iopub.execute_input": "2022-10-10T01:17:26.259670Z",
     "iopub.status.busy": "2022-10-10T01:17:26.259295Z",
     "iopub.status.idle": "2022-10-10T01:17:26.282860Z",
     "shell.execute_reply": "2022-10-10T01:17:26.281744Z",
     "shell.execute_reply.started": "2022-10-10T01:17:26.259626Z"
    }
   },
   "outputs": [
    {
     "name": "stdout",
     "output_type": "stream",
     "text": [
      "<class 'pandas.core.frame.DataFrame'>\n",
      "Int64Index: 21736 entries, 0 to 21735\n",
      "Data columns (total 31 columns):\n",
      " #   Column                 Non-Null Count  Dtype  \n",
      "---  ------                 --------------  -----  \n",
      " 0   Show                   21736 non-null  object \n",
      " 1   EpId                   21736 non-null  int64  \n",
      " 2   ClipId                 21736 non-null  int64  \n",
      " 3   Start                  21736 non-null  int64  \n",
      " 4   Stop                   21736 non-null  int64  \n",
      " 5   Unsure                 21736 non-null  int64  \n",
      " 6   PoorAudioQuality       21736 non-null  int64  \n",
      " 7   Prolongation           21736 non-null  int64  \n",
      " 8   Block                  21736 non-null  int64  \n",
      " 9   SoundRep               21736 non-null  int64  \n",
      " 10  WordRep                21736 non-null  int64  \n",
      " 11  DifficultToUnderstand  21736 non-null  int64  \n",
      " 12  Interjection           21736 non-null  int64  \n",
      " 13  NoStutteredWords       21736 non-null  int64  \n",
      " 14  NaturalPause           21736 non-null  int64  \n",
      " 15  Music                  21736 non-null  int64  \n",
      " 16  NoSpeech               21736 non-null  int64  \n",
      " 17  Name                   21736 non-null  object \n",
      " 18  0                      21736 non-null  float32\n",
      " 19  1                      21736 non-null  float32\n",
      " 20  2                      21736 non-null  float32\n",
      " 21  3                      21736 non-null  float32\n",
      " 22  4                      21736 non-null  float32\n",
      " 23  5                      21736 non-null  float32\n",
      " 24  6                      21736 non-null  float32\n",
      " 25  7                      21736 non-null  float32\n",
      " 26  8                      21736 non-null  float32\n",
      " 27  9                      21736 non-null  float32\n",
      " 28  10                     21736 non-null  float32\n",
      " 29  11                     21736 non-null  float32\n",
      " 30  12                     21736 non-null  float32\n",
      "dtypes: float32(13), int64(16), object(2)\n",
      "memory usage: 4.2+ MB\n"
     ]
    }
   ],
   "source": [
    "df_final.info()"
   ]
  },
  {
   "cell_type": "code",
   "execution_count": 26,
   "metadata": {
    "execution": {
     "iopub.execute_input": "2022-09-23T11:19:10.840844Z",
     "iopub.status.busy": "2022-09-23T11:19:10.840504Z",
     "iopub.status.idle": "2022-09-23T11:19:10.845027Z",
     "shell.execute_reply": "2022-09-23T11:19:10.844098Z",
     "shell.execute_reply.started": "2022-09-23T11:19:10.840811Z"
    }
   },
   "outputs": [],
   "source": [
    "# df_final['Stutter'] = df['WordRep'] + df['SoundRep'] + df['Prolongation'] + df['Interjection']\n",
    "# df_final"
   ]
  },
  {
   "cell_type": "code",
   "execution_count": 27,
   "metadata": {
    "execution": {
     "iopub.execute_input": "2022-09-23T11:19:10.847530Z",
     "iopub.status.busy": "2022-09-23T11:19:10.846690Z",
     "iopub.status.idle": "2022-09-23T11:19:10.856925Z",
     "shell.execute_reply": "2022-09-23T11:19:10.856013Z",
     "shell.execute_reply.started": "2022-09-23T11:19:10.847494Z"
    }
   },
   "outputs": [],
   "source": [
    "# df_final['Stutter'].value_counts()"
   ]
  },
  {
   "cell_type": "code",
   "execution_count": 28,
   "metadata": {
    "execution": {
     "iopub.execute_input": "2022-09-23T11:19:10.858828Z",
     "iopub.status.busy": "2022-09-23T11:19:10.858418Z",
     "iopub.status.idle": "2022-09-23T11:19:10.865555Z",
     "shell.execute_reply": "2022-09-23T11:19:10.864659Z",
     "shell.execute_reply.started": "2022-09-23T11:19:10.858794Z"
    }
   },
   "outputs": [],
   "source": [
    "# df_final = df_final[df_final.Stutter != 0]\n",
    "# Remove Non-Stuttered Clips\n",
    "\n",
    "# df_final.loc[df_final['Stutter'] >= 1.0, 'Stutter'] = 1.0\n",
    "# df_final['Stutter'].value_counts()"
   ]
  },
  {
   "cell_type": "code",
   "execution_count": 29,
   "metadata": {
    "execution": {
     "iopub.execute_input": "2022-10-10T01:17:26.284821Z",
     "iopub.status.busy": "2022-10-10T01:17:26.284467Z",
     "iopub.status.idle": "2022-10-10T01:17:26.319968Z",
     "shell.execute_reply": "2022-10-10T01:17:26.318228Z",
     "shell.execute_reply.started": "2022-10-10T01:17:26.284786Z"
    }
   },
   "outputs": [
    {
     "data": {
      "text/html": [
       "<div>\n",
       "<style scoped>\n",
       "    .dataframe tbody tr th:only-of-type {\n",
       "        vertical-align: middle;\n",
       "    }\n",
       "\n",
       "    .dataframe tbody tr th {\n",
       "        vertical-align: top;\n",
       "    }\n",
       "\n",
       "    .dataframe thead th {\n",
       "        text-align: right;\n",
       "    }\n",
       "</style>\n",
       "<table border=\"1\" class=\"dataframe\">\n",
       "  <thead>\n",
       "    <tr style=\"text-align: right;\">\n",
       "      <th></th>\n",
       "      <th>Show</th>\n",
       "      <th>EpId</th>\n",
       "      <th>ClipId</th>\n",
       "      <th>Start</th>\n",
       "      <th>Stop</th>\n",
       "      <th>Unsure</th>\n",
       "      <th>PoorAudioQuality</th>\n",
       "      <th>Prolongation</th>\n",
       "      <th>Block</th>\n",
       "      <th>SoundRep</th>\n",
       "      <th>...</th>\n",
       "      <th>3</th>\n",
       "      <th>4</th>\n",
       "      <th>5</th>\n",
       "      <th>6</th>\n",
       "      <th>7</th>\n",
       "      <th>8</th>\n",
       "      <th>9</th>\n",
       "      <th>10</th>\n",
       "      <th>11</th>\n",
       "      <th>12</th>\n",
       "    </tr>\n",
       "  </thead>\n",
       "  <tbody>\n",
       "    <tr>\n",
       "      <th>0</th>\n",
       "      <td>HeStutters</td>\n",
       "      <td>0</td>\n",
       "      <td>0</td>\n",
       "      <td>31900320</td>\n",
       "      <td>31948320</td>\n",
       "      <td>0</td>\n",
       "      <td>0</td>\n",
       "      <td>0</td>\n",
       "      <td>0</td>\n",
       "      <td>0</td>\n",
       "      <td>...</td>\n",
       "      <td>6.977844</td>\n",
       "      <td>2.169690</td>\n",
       "      <td>-3.574423</td>\n",
       "      <td>-7.091357</td>\n",
       "      <td>-1.978344</td>\n",
       "      <td>-8.984580</td>\n",
       "      <td>-4.724132</td>\n",
       "      <td>-3.345276</td>\n",
       "      <td>-6.573854</td>\n",
       "      <td>-7.026947</td>\n",
       "    </tr>\n",
       "    <tr>\n",
       "      <th>1</th>\n",
       "      <td>HeStutters</td>\n",
       "      <td>0</td>\n",
       "      <td>1</td>\n",
       "      <td>31977120</td>\n",
       "      <td>32025120</td>\n",
       "      <td>0</td>\n",
       "      <td>0</td>\n",
       "      <td>0</td>\n",
       "      <td>0</td>\n",
       "      <td>0</td>\n",
       "      <td>...</td>\n",
       "      <td>10.253622</td>\n",
       "      <td>-11.466489</td>\n",
       "      <td>2.707656</td>\n",
       "      <td>-10.675123</td>\n",
       "      <td>-4.653667</td>\n",
       "      <td>-14.433005</td>\n",
       "      <td>-5.926201</td>\n",
       "      <td>-1.934813</td>\n",
       "      <td>-8.946336</td>\n",
       "      <td>-8.399075</td>\n",
       "    </tr>\n",
       "    <tr>\n",
       "      <th>2</th>\n",
       "      <td>HeStutters</td>\n",
       "      <td>0</td>\n",
       "      <td>2</td>\n",
       "      <td>34809760</td>\n",
       "      <td>34857760</td>\n",
       "      <td>0</td>\n",
       "      <td>0</td>\n",
       "      <td>0</td>\n",
       "      <td>0</td>\n",
       "      <td>0</td>\n",
       "      <td>...</td>\n",
       "      <td>36.037708</td>\n",
       "      <td>-2.650917</td>\n",
       "      <td>-11.021187</td>\n",
       "      <td>-9.310137</td>\n",
       "      <td>-1.562138</td>\n",
       "      <td>-13.035163</td>\n",
       "      <td>-8.655548</td>\n",
       "      <td>-4.336683</td>\n",
       "      <td>-7.372598</td>\n",
       "      <td>-7.138989</td>\n",
       "    </tr>\n",
       "    <tr>\n",
       "      <th>3</th>\n",
       "      <td>HeStutters</td>\n",
       "      <td>0</td>\n",
       "      <td>3</td>\n",
       "      <td>35200640</td>\n",
       "      <td>35248640</td>\n",
       "      <td>0</td>\n",
       "      <td>0</td>\n",
       "      <td>1</td>\n",
       "      <td>0</td>\n",
       "      <td>0</td>\n",
       "      <td>...</td>\n",
       "      <td>3.193294</td>\n",
       "      <td>-4.616055</td>\n",
       "      <td>-5.762987</td>\n",
       "      <td>-4.187028</td>\n",
       "      <td>-0.715044</td>\n",
       "      <td>-14.383714</td>\n",
       "      <td>-3.304795</td>\n",
       "      <td>-4.146274</td>\n",
       "      <td>-8.412235</td>\n",
       "      <td>-2.445787</td>\n",
       "    </tr>\n",
       "    <tr>\n",
       "      <th>4</th>\n",
       "      <td>HeStutters</td>\n",
       "      <td>0</td>\n",
       "      <td>4</td>\n",
       "      <td>35721920</td>\n",
       "      <td>35769920</td>\n",
       "      <td>0</td>\n",
       "      <td>0</td>\n",
       "      <td>0</td>\n",
       "      <td>0</td>\n",
       "      <td>0</td>\n",
       "      <td>...</td>\n",
       "      <td>8.430685</td>\n",
       "      <td>-0.561030</td>\n",
       "      <td>-4.473869</td>\n",
       "      <td>-9.220818</td>\n",
       "      <td>-3.201562</td>\n",
       "      <td>-11.855061</td>\n",
       "      <td>-4.699773</td>\n",
       "      <td>-2.414847</td>\n",
       "      <td>-7.803761</td>\n",
       "      <td>-6.036355</td>\n",
       "    </tr>\n",
       "    <tr>\n",
       "      <th>...</th>\n",
       "      <td>...</td>\n",
       "      <td>...</td>\n",
       "      <td>...</td>\n",
       "      <td>...</td>\n",
       "      <td>...</td>\n",
       "      <td>...</td>\n",
       "      <td>...</td>\n",
       "      <td>...</td>\n",
       "      <td>...</td>\n",
       "      <td>...</td>\n",
       "      <td>...</td>\n",
       "      <td>...</td>\n",
       "      <td>...</td>\n",
       "      <td>...</td>\n",
       "      <td>...</td>\n",
       "      <td>...</td>\n",
       "      <td>...</td>\n",
       "      <td>...</td>\n",
       "      <td>...</td>\n",
       "      <td>...</td>\n",
       "      <td>...</td>\n",
       "    </tr>\n",
       "    <tr>\n",
       "      <th>21731</th>\n",
       "      <td>WomenWhoStutter</td>\n",
       "      <td>109</td>\n",
       "      <td>35</td>\n",
       "      <td>25793600</td>\n",
       "      <td>25841600</td>\n",
       "      <td>0</td>\n",
       "      <td>0</td>\n",
       "      <td>0</td>\n",
       "      <td>0</td>\n",
       "      <td>0</td>\n",
       "      <td>...</td>\n",
       "      <td>20.143101</td>\n",
       "      <td>-26.160055</td>\n",
       "      <td>3.709430</td>\n",
       "      <td>-15.719262</td>\n",
       "      <td>2.436124</td>\n",
       "      <td>-1.615821</td>\n",
       "      <td>-5.105482</td>\n",
       "      <td>-10.272832</td>\n",
       "      <td>-3.074108</td>\n",
       "      <td>-6.375843</td>\n",
       "    </tr>\n",
       "    <tr>\n",
       "      <th>21732</th>\n",
       "      <td>WomenWhoStutter</td>\n",
       "      <td>109</td>\n",
       "      <td>36</td>\n",
       "      <td>26168480</td>\n",
       "      <td>26216480</td>\n",
       "      <td>0</td>\n",
       "      <td>0</td>\n",
       "      <td>1</td>\n",
       "      <td>1</td>\n",
       "      <td>3</td>\n",
       "      <td>...</td>\n",
       "      <td>29.588446</td>\n",
       "      <td>-10.896355</td>\n",
       "      <td>-14.222120</td>\n",
       "      <td>-9.167952</td>\n",
       "      <td>-1.676773</td>\n",
       "      <td>-8.374957</td>\n",
       "      <td>-6.297094</td>\n",
       "      <td>1.265485</td>\n",
       "      <td>-4.014944</td>\n",
       "      <td>-0.196149</td>\n",
       "    </tr>\n",
       "    <tr>\n",
       "      <th>21733</th>\n",
       "      <td>WomenWhoStutter</td>\n",
       "      <td>109</td>\n",
       "      <td>37</td>\n",
       "      <td>3569440</td>\n",
       "      <td>3617440</td>\n",
       "      <td>0</td>\n",
       "      <td>0</td>\n",
       "      <td>0</td>\n",
       "      <td>0</td>\n",
       "      <td>0</td>\n",
       "      <td>...</td>\n",
       "      <td>9.234286</td>\n",
       "      <td>-27.815256</td>\n",
       "      <td>-5.439774</td>\n",
       "      <td>-17.093494</td>\n",
       "      <td>-8.942730</td>\n",
       "      <td>-1.638088</td>\n",
       "      <td>-3.736744</td>\n",
       "      <td>-0.968271</td>\n",
       "      <td>-7.699818</td>\n",
       "      <td>0.135875</td>\n",
       "    </tr>\n",
       "    <tr>\n",
       "      <th>21734</th>\n",
       "      <td>WomenWhoStutter</td>\n",
       "      <td>109</td>\n",
       "      <td>38</td>\n",
       "      <td>28479840</td>\n",
       "      <td>28527840</td>\n",
       "      <td>0</td>\n",
       "      <td>0</td>\n",
       "      <td>1</td>\n",
       "      <td>0</td>\n",
       "      <td>0</td>\n",
       "      <td>...</td>\n",
       "      <td>26.443172</td>\n",
       "      <td>-24.452421</td>\n",
       "      <td>-10.057486</td>\n",
       "      <td>-10.132101</td>\n",
       "      <td>-4.451934</td>\n",
       "      <td>-1.437802</td>\n",
       "      <td>-11.729773</td>\n",
       "      <td>-6.692393</td>\n",
       "      <td>0.137587</td>\n",
       "      <td>-3.664662</td>\n",
       "    </tr>\n",
       "    <tr>\n",
       "      <th>21735</th>\n",
       "      <td>WomenWhoStutter</td>\n",
       "      <td>109</td>\n",
       "      <td>39</td>\n",
       "      <td>29318080</td>\n",
       "      <td>29366080</td>\n",
       "      <td>0</td>\n",
       "      <td>0</td>\n",
       "      <td>0</td>\n",
       "      <td>0</td>\n",
       "      <td>0</td>\n",
       "      <td>...</td>\n",
       "      <td>34.808208</td>\n",
       "      <td>-24.722097</td>\n",
       "      <td>-2.228705</td>\n",
       "      <td>-9.393265</td>\n",
       "      <td>2.945533</td>\n",
       "      <td>-1.885135</td>\n",
       "      <td>-5.709170</td>\n",
       "      <td>-6.403487</td>\n",
       "      <td>-4.559175</td>\n",
       "      <td>-4.068617</td>\n",
       "    </tr>\n",
       "  </tbody>\n",
       "</table>\n",
       "<p>19533 rows × 31 columns</p>\n",
       "</div>"
      ],
      "text/plain": [
       "                  Show  EpId  ClipId     Start      Stop  Unsure  \\\n",
       "0           HeStutters     0       0  31900320  31948320       0   \n",
       "1           HeStutters     0       1  31977120  32025120       0   \n",
       "2           HeStutters     0       2  34809760  34857760       0   \n",
       "3           HeStutters     0       3  35200640  35248640       0   \n",
       "4           HeStutters     0       4  35721920  35769920       0   \n",
       "...                ...   ...     ...       ...       ...     ...   \n",
       "21731  WomenWhoStutter   109      35  25793600  25841600       0   \n",
       "21732  WomenWhoStutter   109      36  26168480  26216480       0   \n",
       "21733  WomenWhoStutter   109      37   3569440   3617440       0   \n",
       "21734  WomenWhoStutter   109      38  28479840  28527840       0   \n",
       "21735  WomenWhoStutter   109      39  29318080  29366080       0   \n",
       "\n",
       "       PoorAudioQuality  Prolongation  Block  SoundRep  ...          3  \\\n",
       "0                     0             0      0         0  ...   6.977844   \n",
       "1                     0             0      0         0  ...  10.253622   \n",
       "2                     0             0      0         0  ...  36.037708   \n",
       "3                     0             1      0         0  ...   3.193294   \n",
       "4                     0             0      0         0  ...   8.430685   \n",
       "...                 ...           ...    ...       ...  ...        ...   \n",
       "21731                 0             0      0         0  ...  20.143101   \n",
       "21732                 0             1      1         3  ...  29.588446   \n",
       "21733                 0             0      0         0  ...   9.234286   \n",
       "21734                 0             1      0         0  ...  26.443172   \n",
       "21735                 0             0      0         0  ...  34.808208   \n",
       "\n",
       "               4          5          6         7          8          9  \\\n",
       "0       2.169690  -3.574423  -7.091357 -1.978344  -8.984580  -4.724132   \n",
       "1     -11.466489   2.707656 -10.675123 -4.653667 -14.433005  -5.926201   \n",
       "2      -2.650917 -11.021187  -9.310137 -1.562138 -13.035163  -8.655548   \n",
       "3      -4.616055  -5.762987  -4.187028 -0.715044 -14.383714  -3.304795   \n",
       "4      -0.561030  -4.473869  -9.220818 -3.201562 -11.855061  -4.699773   \n",
       "...          ...        ...        ...       ...        ...        ...   \n",
       "21731 -26.160055   3.709430 -15.719262  2.436124  -1.615821  -5.105482   \n",
       "21732 -10.896355 -14.222120  -9.167952 -1.676773  -8.374957  -6.297094   \n",
       "21733 -27.815256  -5.439774 -17.093494 -8.942730  -1.638088  -3.736744   \n",
       "21734 -24.452421 -10.057486 -10.132101 -4.451934  -1.437802 -11.729773   \n",
       "21735 -24.722097  -2.228705  -9.393265  2.945533  -1.885135  -5.709170   \n",
       "\n",
       "              10        11        12  \n",
       "0      -3.345276 -6.573854 -7.026947  \n",
       "1      -1.934813 -8.946336 -8.399075  \n",
       "2      -4.336683 -7.372598 -7.138989  \n",
       "3      -4.146274 -8.412235 -2.445787  \n",
       "4      -2.414847 -7.803761 -6.036355  \n",
       "...          ...       ...       ...  \n",
       "21731 -10.272832 -3.074108 -6.375843  \n",
       "21732   1.265485 -4.014944 -0.196149  \n",
       "21733  -0.968271 -7.699818  0.135875  \n",
       "21734  -6.692393  0.137587 -3.664662  \n",
       "21735  -6.403487 -4.559175 -4.068617  \n",
       "\n",
       "[19533 rows x 31 columns]"
      ]
     },
     "execution_count": 29,
     "metadata": {},
     "output_type": "execute_result"
    }
   ],
   "source": [
    "df_final = df_final[df_final.PoorAudioQuality == 0]\n",
    "df_final"
   ]
  },
  {
   "cell_type": "code",
   "execution_count": 30,
   "metadata": {
    "execution": {
     "iopub.execute_input": "2022-10-10T01:17:26.323815Z",
     "iopub.status.busy": "2022-10-10T01:17:26.321347Z",
     "iopub.status.idle": "2022-10-10T01:17:26.356062Z",
     "shell.execute_reply": "2022-10-10T01:17:26.354959Z",
     "shell.execute_reply.started": "2022-10-10T01:17:26.323777Z"
    }
   },
   "outputs": [
    {
     "data": {
      "text/html": [
       "<div>\n",
       "<style scoped>\n",
       "    .dataframe tbody tr th:only-of-type {\n",
       "        vertical-align: middle;\n",
       "    }\n",
       "\n",
       "    .dataframe tbody tr th {\n",
       "        vertical-align: top;\n",
       "    }\n",
       "\n",
       "    .dataframe thead th {\n",
       "        text-align: right;\n",
       "    }\n",
       "</style>\n",
       "<table border=\"1\" class=\"dataframe\">\n",
       "  <thead>\n",
       "    <tr style=\"text-align: right;\">\n",
       "      <th></th>\n",
       "      <th>Show</th>\n",
       "      <th>EpId</th>\n",
       "      <th>ClipId</th>\n",
       "      <th>Start</th>\n",
       "      <th>Stop</th>\n",
       "      <th>Unsure</th>\n",
       "      <th>PoorAudioQuality</th>\n",
       "      <th>Prolongation</th>\n",
       "      <th>Block</th>\n",
       "      <th>SoundRep</th>\n",
       "      <th>...</th>\n",
       "      <th>3</th>\n",
       "      <th>4</th>\n",
       "      <th>5</th>\n",
       "      <th>6</th>\n",
       "      <th>7</th>\n",
       "      <th>8</th>\n",
       "      <th>9</th>\n",
       "      <th>10</th>\n",
       "      <th>11</th>\n",
       "      <th>12</th>\n",
       "    </tr>\n",
       "  </thead>\n",
       "  <tbody>\n",
       "    <tr>\n",
       "      <th>0</th>\n",
       "      <td>HeStutters</td>\n",
       "      <td>0</td>\n",
       "      <td>0</td>\n",
       "      <td>31900320</td>\n",
       "      <td>31948320</td>\n",
       "      <td>0</td>\n",
       "      <td>0</td>\n",
       "      <td>0</td>\n",
       "      <td>0</td>\n",
       "      <td>0</td>\n",
       "      <td>...</td>\n",
       "      <td>6.977844</td>\n",
       "      <td>2.169690</td>\n",
       "      <td>-3.574423</td>\n",
       "      <td>-7.091357</td>\n",
       "      <td>-1.978344</td>\n",
       "      <td>-8.984580</td>\n",
       "      <td>-4.724132</td>\n",
       "      <td>-3.345276</td>\n",
       "      <td>-6.573854</td>\n",
       "      <td>-7.026947</td>\n",
       "    </tr>\n",
       "    <tr>\n",
       "      <th>1</th>\n",
       "      <td>HeStutters</td>\n",
       "      <td>0</td>\n",
       "      <td>1</td>\n",
       "      <td>31977120</td>\n",
       "      <td>32025120</td>\n",
       "      <td>0</td>\n",
       "      <td>0</td>\n",
       "      <td>0</td>\n",
       "      <td>0</td>\n",
       "      <td>0</td>\n",
       "      <td>...</td>\n",
       "      <td>10.253622</td>\n",
       "      <td>-11.466489</td>\n",
       "      <td>2.707656</td>\n",
       "      <td>-10.675123</td>\n",
       "      <td>-4.653667</td>\n",
       "      <td>-14.433005</td>\n",
       "      <td>-5.926201</td>\n",
       "      <td>-1.934813</td>\n",
       "      <td>-8.946336</td>\n",
       "      <td>-8.399075</td>\n",
       "    </tr>\n",
       "    <tr>\n",
       "      <th>2</th>\n",
       "      <td>HeStutters</td>\n",
       "      <td>0</td>\n",
       "      <td>2</td>\n",
       "      <td>34809760</td>\n",
       "      <td>34857760</td>\n",
       "      <td>0</td>\n",
       "      <td>0</td>\n",
       "      <td>0</td>\n",
       "      <td>0</td>\n",
       "      <td>0</td>\n",
       "      <td>...</td>\n",
       "      <td>36.037708</td>\n",
       "      <td>-2.650917</td>\n",
       "      <td>-11.021187</td>\n",
       "      <td>-9.310137</td>\n",
       "      <td>-1.562138</td>\n",
       "      <td>-13.035163</td>\n",
       "      <td>-8.655548</td>\n",
       "      <td>-4.336683</td>\n",
       "      <td>-7.372598</td>\n",
       "      <td>-7.138989</td>\n",
       "    </tr>\n",
       "    <tr>\n",
       "      <th>3</th>\n",
       "      <td>HeStutters</td>\n",
       "      <td>0</td>\n",
       "      <td>3</td>\n",
       "      <td>35200640</td>\n",
       "      <td>35248640</td>\n",
       "      <td>0</td>\n",
       "      <td>0</td>\n",
       "      <td>1</td>\n",
       "      <td>0</td>\n",
       "      <td>0</td>\n",
       "      <td>...</td>\n",
       "      <td>3.193294</td>\n",
       "      <td>-4.616055</td>\n",
       "      <td>-5.762987</td>\n",
       "      <td>-4.187028</td>\n",
       "      <td>-0.715044</td>\n",
       "      <td>-14.383714</td>\n",
       "      <td>-3.304795</td>\n",
       "      <td>-4.146274</td>\n",
       "      <td>-8.412235</td>\n",
       "      <td>-2.445787</td>\n",
       "    </tr>\n",
       "    <tr>\n",
       "      <th>4</th>\n",
       "      <td>HeStutters</td>\n",
       "      <td>0</td>\n",
       "      <td>4</td>\n",
       "      <td>35721920</td>\n",
       "      <td>35769920</td>\n",
       "      <td>0</td>\n",
       "      <td>0</td>\n",
       "      <td>0</td>\n",
       "      <td>0</td>\n",
       "      <td>0</td>\n",
       "      <td>...</td>\n",
       "      <td>8.430685</td>\n",
       "      <td>-0.561030</td>\n",
       "      <td>-4.473869</td>\n",
       "      <td>-9.220818</td>\n",
       "      <td>-3.201562</td>\n",
       "      <td>-11.855061</td>\n",
       "      <td>-4.699773</td>\n",
       "      <td>-2.414847</td>\n",
       "      <td>-7.803761</td>\n",
       "      <td>-6.036355</td>\n",
       "    </tr>\n",
       "    <tr>\n",
       "      <th>...</th>\n",
       "      <td>...</td>\n",
       "      <td>...</td>\n",
       "      <td>...</td>\n",
       "      <td>...</td>\n",
       "      <td>...</td>\n",
       "      <td>...</td>\n",
       "      <td>...</td>\n",
       "      <td>...</td>\n",
       "      <td>...</td>\n",
       "      <td>...</td>\n",
       "      <td>...</td>\n",
       "      <td>...</td>\n",
       "      <td>...</td>\n",
       "      <td>...</td>\n",
       "      <td>...</td>\n",
       "      <td>...</td>\n",
       "      <td>...</td>\n",
       "      <td>...</td>\n",
       "      <td>...</td>\n",
       "      <td>...</td>\n",
       "      <td>...</td>\n",
       "    </tr>\n",
       "    <tr>\n",
       "      <th>21730</th>\n",
       "      <td>WomenWhoStutter</td>\n",
       "      <td>109</td>\n",
       "      <td>34</td>\n",
       "      <td>24781440</td>\n",
       "      <td>24829440</td>\n",
       "      <td>0</td>\n",
       "      <td>0</td>\n",
       "      <td>0</td>\n",
       "      <td>0</td>\n",
       "      <td>0</td>\n",
       "      <td>...</td>\n",
       "      <td>5.831639</td>\n",
       "      <td>-24.096672</td>\n",
       "      <td>-9.137759</td>\n",
       "      <td>-8.294925</td>\n",
       "      <td>-17.235229</td>\n",
       "      <td>-3.540464</td>\n",
       "      <td>-5.074893</td>\n",
       "      <td>-3.828139</td>\n",
       "      <td>-5.524148</td>\n",
       "      <td>-5.444070</td>\n",
       "    </tr>\n",
       "    <tr>\n",
       "      <th>21731</th>\n",
       "      <td>WomenWhoStutter</td>\n",
       "      <td>109</td>\n",
       "      <td>35</td>\n",
       "      <td>25793600</td>\n",
       "      <td>25841600</td>\n",
       "      <td>0</td>\n",
       "      <td>0</td>\n",
       "      <td>0</td>\n",
       "      <td>0</td>\n",
       "      <td>0</td>\n",
       "      <td>...</td>\n",
       "      <td>20.143101</td>\n",
       "      <td>-26.160055</td>\n",
       "      <td>3.709430</td>\n",
       "      <td>-15.719262</td>\n",
       "      <td>2.436124</td>\n",
       "      <td>-1.615821</td>\n",
       "      <td>-5.105482</td>\n",
       "      <td>-10.272832</td>\n",
       "      <td>-3.074108</td>\n",
       "      <td>-6.375843</td>\n",
       "    </tr>\n",
       "    <tr>\n",
       "      <th>21733</th>\n",
       "      <td>WomenWhoStutter</td>\n",
       "      <td>109</td>\n",
       "      <td>37</td>\n",
       "      <td>3569440</td>\n",
       "      <td>3617440</td>\n",
       "      <td>0</td>\n",
       "      <td>0</td>\n",
       "      <td>0</td>\n",
       "      <td>0</td>\n",
       "      <td>0</td>\n",
       "      <td>...</td>\n",
       "      <td>9.234286</td>\n",
       "      <td>-27.815256</td>\n",
       "      <td>-5.439774</td>\n",
       "      <td>-17.093494</td>\n",
       "      <td>-8.942730</td>\n",
       "      <td>-1.638088</td>\n",
       "      <td>-3.736744</td>\n",
       "      <td>-0.968271</td>\n",
       "      <td>-7.699818</td>\n",
       "      <td>0.135875</td>\n",
       "    </tr>\n",
       "    <tr>\n",
       "      <th>21734</th>\n",
       "      <td>WomenWhoStutter</td>\n",
       "      <td>109</td>\n",
       "      <td>38</td>\n",
       "      <td>28479840</td>\n",
       "      <td>28527840</td>\n",
       "      <td>0</td>\n",
       "      <td>0</td>\n",
       "      <td>1</td>\n",
       "      <td>0</td>\n",
       "      <td>0</td>\n",
       "      <td>...</td>\n",
       "      <td>26.443172</td>\n",
       "      <td>-24.452421</td>\n",
       "      <td>-10.057486</td>\n",
       "      <td>-10.132101</td>\n",
       "      <td>-4.451934</td>\n",
       "      <td>-1.437802</td>\n",
       "      <td>-11.729773</td>\n",
       "      <td>-6.692393</td>\n",
       "      <td>0.137587</td>\n",
       "      <td>-3.664662</td>\n",
       "    </tr>\n",
       "    <tr>\n",
       "      <th>21735</th>\n",
       "      <td>WomenWhoStutter</td>\n",
       "      <td>109</td>\n",
       "      <td>39</td>\n",
       "      <td>29318080</td>\n",
       "      <td>29366080</td>\n",
       "      <td>0</td>\n",
       "      <td>0</td>\n",
       "      <td>0</td>\n",
       "      <td>0</td>\n",
       "      <td>0</td>\n",
       "      <td>...</td>\n",
       "      <td>34.808208</td>\n",
       "      <td>-24.722097</td>\n",
       "      <td>-2.228705</td>\n",
       "      <td>-9.393265</td>\n",
       "      <td>2.945533</td>\n",
       "      <td>-1.885135</td>\n",
       "      <td>-5.709170</td>\n",
       "      <td>-6.403487</td>\n",
       "      <td>-4.559175</td>\n",
       "      <td>-4.068617</td>\n",
       "    </tr>\n",
       "  </tbody>\n",
       "</table>\n",
       "<p>16879 rows × 31 columns</p>\n",
       "</div>"
      ],
      "text/plain": [
       "                  Show  EpId  ClipId     Start      Stop  Unsure  \\\n",
       "0           HeStutters     0       0  31900320  31948320       0   \n",
       "1           HeStutters     0       1  31977120  32025120       0   \n",
       "2           HeStutters     0       2  34809760  34857760       0   \n",
       "3           HeStutters     0       3  35200640  35248640       0   \n",
       "4           HeStutters     0       4  35721920  35769920       0   \n",
       "...                ...   ...     ...       ...       ...     ...   \n",
       "21730  WomenWhoStutter   109      34  24781440  24829440       0   \n",
       "21731  WomenWhoStutter   109      35  25793600  25841600       0   \n",
       "21733  WomenWhoStutter   109      37   3569440   3617440       0   \n",
       "21734  WomenWhoStutter   109      38  28479840  28527840       0   \n",
       "21735  WomenWhoStutter   109      39  29318080  29366080       0   \n",
       "\n",
       "       PoorAudioQuality  Prolongation  Block  SoundRep  ...          3  \\\n",
       "0                     0             0      0         0  ...   6.977844   \n",
       "1                     0             0      0         0  ...  10.253622   \n",
       "2                     0             0      0         0  ...  36.037708   \n",
       "3                     0             1      0         0  ...   3.193294   \n",
       "4                     0             0      0         0  ...   8.430685   \n",
       "...                 ...           ...    ...       ...  ...        ...   \n",
       "21730                 0             0      0         0  ...   5.831639   \n",
       "21731                 0             0      0         0  ...  20.143101   \n",
       "21733                 0             0      0         0  ...   9.234286   \n",
       "21734                 0             1      0         0  ...  26.443172   \n",
       "21735                 0             0      0         0  ...  34.808208   \n",
       "\n",
       "               4          5          6          7          8          9  \\\n",
       "0       2.169690  -3.574423  -7.091357  -1.978344  -8.984580  -4.724132   \n",
       "1     -11.466489   2.707656 -10.675123  -4.653667 -14.433005  -5.926201   \n",
       "2      -2.650917 -11.021187  -9.310137  -1.562138 -13.035163  -8.655548   \n",
       "3      -4.616055  -5.762987  -4.187028  -0.715044 -14.383714  -3.304795   \n",
       "4      -0.561030  -4.473869  -9.220818  -3.201562 -11.855061  -4.699773   \n",
       "...          ...        ...        ...        ...        ...        ...   \n",
       "21730 -24.096672  -9.137759  -8.294925 -17.235229  -3.540464  -5.074893   \n",
       "21731 -26.160055   3.709430 -15.719262   2.436124  -1.615821  -5.105482   \n",
       "21733 -27.815256  -5.439774 -17.093494  -8.942730  -1.638088  -3.736744   \n",
       "21734 -24.452421 -10.057486 -10.132101  -4.451934  -1.437802 -11.729773   \n",
       "21735 -24.722097  -2.228705  -9.393265   2.945533  -1.885135  -5.709170   \n",
       "\n",
       "              10        11        12  \n",
       "0      -3.345276 -6.573854 -7.026947  \n",
       "1      -1.934813 -8.946336 -8.399075  \n",
       "2      -4.336683 -7.372598 -7.138989  \n",
       "3      -4.146274 -8.412235 -2.445787  \n",
       "4      -2.414847 -7.803761 -6.036355  \n",
       "...          ...       ...       ...  \n",
       "21730  -3.828139 -5.524148 -5.444070  \n",
       "21731 -10.272832 -3.074108 -6.375843  \n",
       "21733  -0.968271 -7.699818  0.135875  \n",
       "21734  -6.692393  0.137587 -3.664662  \n",
       "21735  -6.403487 -4.559175 -4.068617  \n",
       "\n",
       "[16879 rows x 31 columns]"
      ]
     },
     "execution_count": 30,
     "metadata": {},
     "output_type": "execute_result"
    }
   ],
   "source": [
    "df_final = df_final[df_final.DifficultToUnderstand == 0]\n",
    "df_final"
   ]
  },
  {
   "cell_type": "code",
   "execution_count": 31,
   "metadata": {
    "execution": {
     "iopub.execute_input": "2022-10-10T01:17:26.357993Z",
     "iopub.status.busy": "2022-10-10T01:17:26.357425Z",
     "iopub.status.idle": "2022-10-10T01:17:26.391385Z",
     "shell.execute_reply": "2022-10-10T01:17:26.389965Z",
     "shell.execute_reply.started": "2022-10-10T01:17:26.357956Z"
    }
   },
   "outputs": [
    {
     "data": {
      "text/html": [
       "<div>\n",
       "<style scoped>\n",
       "    .dataframe tbody tr th:only-of-type {\n",
       "        vertical-align: middle;\n",
       "    }\n",
       "\n",
       "    .dataframe tbody tr th {\n",
       "        vertical-align: top;\n",
       "    }\n",
       "\n",
       "    .dataframe thead th {\n",
       "        text-align: right;\n",
       "    }\n",
       "</style>\n",
       "<table border=\"1\" class=\"dataframe\">\n",
       "  <thead>\n",
       "    <tr style=\"text-align: right;\">\n",
       "      <th></th>\n",
       "      <th>Show</th>\n",
       "      <th>EpId</th>\n",
       "      <th>ClipId</th>\n",
       "      <th>Start</th>\n",
       "      <th>Stop</th>\n",
       "      <th>Unsure</th>\n",
       "      <th>PoorAudioQuality</th>\n",
       "      <th>Prolongation</th>\n",
       "      <th>Block</th>\n",
       "      <th>SoundRep</th>\n",
       "      <th>...</th>\n",
       "      <th>3</th>\n",
       "      <th>4</th>\n",
       "      <th>5</th>\n",
       "      <th>6</th>\n",
       "      <th>7</th>\n",
       "      <th>8</th>\n",
       "      <th>9</th>\n",
       "      <th>10</th>\n",
       "      <th>11</th>\n",
       "      <th>12</th>\n",
       "    </tr>\n",
       "  </thead>\n",
       "  <tbody>\n",
       "    <tr>\n",
       "      <th>0</th>\n",
       "      <td>HeStutters</td>\n",
       "      <td>0</td>\n",
       "      <td>0</td>\n",
       "      <td>31900320</td>\n",
       "      <td>31948320</td>\n",
       "      <td>0</td>\n",
       "      <td>0</td>\n",
       "      <td>0</td>\n",
       "      <td>0</td>\n",
       "      <td>0</td>\n",
       "      <td>...</td>\n",
       "      <td>6.977844</td>\n",
       "      <td>2.169690</td>\n",
       "      <td>-3.574423</td>\n",
       "      <td>-7.091357</td>\n",
       "      <td>-1.978344</td>\n",
       "      <td>-8.984580</td>\n",
       "      <td>-4.724132</td>\n",
       "      <td>-3.345276</td>\n",
       "      <td>-6.573854</td>\n",
       "      <td>-7.026947</td>\n",
       "    </tr>\n",
       "    <tr>\n",
       "      <th>1</th>\n",
       "      <td>HeStutters</td>\n",
       "      <td>0</td>\n",
       "      <td>1</td>\n",
       "      <td>31977120</td>\n",
       "      <td>32025120</td>\n",
       "      <td>0</td>\n",
       "      <td>0</td>\n",
       "      <td>0</td>\n",
       "      <td>0</td>\n",
       "      <td>0</td>\n",
       "      <td>...</td>\n",
       "      <td>10.253622</td>\n",
       "      <td>-11.466489</td>\n",
       "      <td>2.707656</td>\n",
       "      <td>-10.675123</td>\n",
       "      <td>-4.653667</td>\n",
       "      <td>-14.433005</td>\n",
       "      <td>-5.926201</td>\n",
       "      <td>-1.934813</td>\n",
       "      <td>-8.946336</td>\n",
       "      <td>-8.399075</td>\n",
       "    </tr>\n",
       "    <tr>\n",
       "      <th>2</th>\n",
       "      <td>HeStutters</td>\n",
       "      <td>0</td>\n",
       "      <td>2</td>\n",
       "      <td>34809760</td>\n",
       "      <td>34857760</td>\n",
       "      <td>0</td>\n",
       "      <td>0</td>\n",
       "      <td>0</td>\n",
       "      <td>0</td>\n",
       "      <td>0</td>\n",
       "      <td>...</td>\n",
       "      <td>36.037708</td>\n",
       "      <td>-2.650917</td>\n",
       "      <td>-11.021187</td>\n",
       "      <td>-9.310137</td>\n",
       "      <td>-1.562138</td>\n",
       "      <td>-13.035163</td>\n",
       "      <td>-8.655548</td>\n",
       "      <td>-4.336683</td>\n",
       "      <td>-7.372598</td>\n",
       "      <td>-7.138989</td>\n",
       "    </tr>\n",
       "    <tr>\n",
       "      <th>3</th>\n",
       "      <td>HeStutters</td>\n",
       "      <td>0</td>\n",
       "      <td>3</td>\n",
       "      <td>35200640</td>\n",
       "      <td>35248640</td>\n",
       "      <td>0</td>\n",
       "      <td>0</td>\n",
       "      <td>1</td>\n",
       "      <td>0</td>\n",
       "      <td>0</td>\n",
       "      <td>...</td>\n",
       "      <td>3.193294</td>\n",
       "      <td>-4.616055</td>\n",
       "      <td>-5.762987</td>\n",
       "      <td>-4.187028</td>\n",
       "      <td>-0.715044</td>\n",
       "      <td>-14.383714</td>\n",
       "      <td>-3.304795</td>\n",
       "      <td>-4.146274</td>\n",
       "      <td>-8.412235</td>\n",
       "      <td>-2.445787</td>\n",
       "    </tr>\n",
       "    <tr>\n",
       "      <th>4</th>\n",
       "      <td>HeStutters</td>\n",
       "      <td>0</td>\n",
       "      <td>4</td>\n",
       "      <td>35721920</td>\n",
       "      <td>35769920</td>\n",
       "      <td>0</td>\n",
       "      <td>0</td>\n",
       "      <td>0</td>\n",
       "      <td>0</td>\n",
       "      <td>0</td>\n",
       "      <td>...</td>\n",
       "      <td>8.430685</td>\n",
       "      <td>-0.561030</td>\n",
       "      <td>-4.473869</td>\n",
       "      <td>-9.220818</td>\n",
       "      <td>-3.201562</td>\n",
       "      <td>-11.855061</td>\n",
       "      <td>-4.699773</td>\n",
       "      <td>-2.414847</td>\n",
       "      <td>-7.803761</td>\n",
       "      <td>-6.036355</td>\n",
       "    </tr>\n",
       "    <tr>\n",
       "      <th>...</th>\n",
       "      <td>...</td>\n",
       "      <td>...</td>\n",
       "      <td>...</td>\n",
       "      <td>...</td>\n",
       "      <td>...</td>\n",
       "      <td>...</td>\n",
       "      <td>...</td>\n",
       "      <td>...</td>\n",
       "      <td>...</td>\n",
       "      <td>...</td>\n",
       "      <td>...</td>\n",
       "      <td>...</td>\n",
       "      <td>...</td>\n",
       "      <td>...</td>\n",
       "      <td>...</td>\n",
       "      <td>...</td>\n",
       "      <td>...</td>\n",
       "      <td>...</td>\n",
       "      <td>...</td>\n",
       "      <td>...</td>\n",
       "      <td>...</td>\n",
       "    </tr>\n",
       "    <tr>\n",
       "      <th>21730</th>\n",
       "      <td>WomenWhoStutter</td>\n",
       "      <td>109</td>\n",
       "      <td>34</td>\n",
       "      <td>24781440</td>\n",
       "      <td>24829440</td>\n",
       "      <td>0</td>\n",
       "      <td>0</td>\n",
       "      <td>0</td>\n",
       "      <td>0</td>\n",
       "      <td>0</td>\n",
       "      <td>...</td>\n",
       "      <td>5.831639</td>\n",
       "      <td>-24.096672</td>\n",
       "      <td>-9.137759</td>\n",
       "      <td>-8.294925</td>\n",
       "      <td>-17.235229</td>\n",
       "      <td>-3.540464</td>\n",
       "      <td>-5.074893</td>\n",
       "      <td>-3.828139</td>\n",
       "      <td>-5.524148</td>\n",
       "      <td>-5.444070</td>\n",
       "    </tr>\n",
       "    <tr>\n",
       "      <th>21731</th>\n",
       "      <td>WomenWhoStutter</td>\n",
       "      <td>109</td>\n",
       "      <td>35</td>\n",
       "      <td>25793600</td>\n",
       "      <td>25841600</td>\n",
       "      <td>0</td>\n",
       "      <td>0</td>\n",
       "      <td>0</td>\n",
       "      <td>0</td>\n",
       "      <td>0</td>\n",
       "      <td>...</td>\n",
       "      <td>20.143101</td>\n",
       "      <td>-26.160055</td>\n",
       "      <td>3.709430</td>\n",
       "      <td>-15.719262</td>\n",
       "      <td>2.436124</td>\n",
       "      <td>-1.615821</td>\n",
       "      <td>-5.105482</td>\n",
       "      <td>-10.272832</td>\n",
       "      <td>-3.074108</td>\n",
       "      <td>-6.375843</td>\n",
       "    </tr>\n",
       "    <tr>\n",
       "      <th>21733</th>\n",
       "      <td>WomenWhoStutter</td>\n",
       "      <td>109</td>\n",
       "      <td>37</td>\n",
       "      <td>3569440</td>\n",
       "      <td>3617440</td>\n",
       "      <td>0</td>\n",
       "      <td>0</td>\n",
       "      <td>0</td>\n",
       "      <td>0</td>\n",
       "      <td>0</td>\n",
       "      <td>...</td>\n",
       "      <td>9.234286</td>\n",
       "      <td>-27.815256</td>\n",
       "      <td>-5.439774</td>\n",
       "      <td>-17.093494</td>\n",
       "      <td>-8.942730</td>\n",
       "      <td>-1.638088</td>\n",
       "      <td>-3.736744</td>\n",
       "      <td>-0.968271</td>\n",
       "      <td>-7.699818</td>\n",
       "      <td>0.135875</td>\n",
       "    </tr>\n",
       "    <tr>\n",
       "      <th>21734</th>\n",
       "      <td>WomenWhoStutter</td>\n",
       "      <td>109</td>\n",
       "      <td>38</td>\n",
       "      <td>28479840</td>\n",
       "      <td>28527840</td>\n",
       "      <td>0</td>\n",
       "      <td>0</td>\n",
       "      <td>1</td>\n",
       "      <td>0</td>\n",
       "      <td>0</td>\n",
       "      <td>...</td>\n",
       "      <td>26.443172</td>\n",
       "      <td>-24.452421</td>\n",
       "      <td>-10.057486</td>\n",
       "      <td>-10.132101</td>\n",
       "      <td>-4.451934</td>\n",
       "      <td>-1.437802</td>\n",
       "      <td>-11.729773</td>\n",
       "      <td>-6.692393</td>\n",
       "      <td>0.137587</td>\n",
       "      <td>-3.664662</td>\n",
       "    </tr>\n",
       "    <tr>\n",
       "      <th>21735</th>\n",
       "      <td>WomenWhoStutter</td>\n",
       "      <td>109</td>\n",
       "      <td>39</td>\n",
       "      <td>29318080</td>\n",
       "      <td>29366080</td>\n",
       "      <td>0</td>\n",
       "      <td>0</td>\n",
       "      <td>0</td>\n",
       "      <td>0</td>\n",
       "      <td>0</td>\n",
       "      <td>...</td>\n",
       "      <td>34.808208</td>\n",
       "      <td>-24.722097</td>\n",
       "      <td>-2.228705</td>\n",
       "      <td>-9.393265</td>\n",
       "      <td>2.945533</td>\n",
       "      <td>-1.885135</td>\n",
       "      <td>-5.709170</td>\n",
       "      <td>-6.403487</td>\n",
       "      <td>-4.559175</td>\n",
       "      <td>-4.068617</td>\n",
       "    </tr>\n",
       "  </tbody>\n",
       "</table>\n",
       "<p>16622 rows × 31 columns</p>\n",
       "</div>"
      ],
      "text/plain": [
       "                  Show  EpId  ClipId     Start      Stop  Unsure  \\\n",
       "0           HeStutters     0       0  31900320  31948320       0   \n",
       "1           HeStutters     0       1  31977120  32025120       0   \n",
       "2           HeStutters     0       2  34809760  34857760       0   \n",
       "3           HeStutters     0       3  35200640  35248640       0   \n",
       "4           HeStutters     0       4  35721920  35769920       0   \n",
       "...                ...   ...     ...       ...       ...     ...   \n",
       "21730  WomenWhoStutter   109      34  24781440  24829440       0   \n",
       "21731  WomenWhoStutter   109      35  25793600  25841600       0   \n",
       "21733  WomenWhoStutter   109      37   3569440   3617440       0   \n",
       "21734  WomenWhoStutter   109      38  28479840  28527840       0   \n",
       "21735  WomenWhoStutter   109      39  29318080  29366080       0   \n",
       "\n",
       "       PoorAudioQuality  Prolongation  Block  SoundRep  ...          3  \\\n",
       "0                     0             0      0         0  ...   6.977844   \n",
       "1                     0             0      0         0  ...  10.253622   \n",
       "2                     0             0      0         0  ...  36.037708   \n",
       "3                     0             1      0         0  ...   3.193294   \n",
       "4                     0             0      0         0  ...   8.430685   \n",
       "...                 ...           ...    ...       ...  ...        ...   \n",
       "21730                 0             0      0         0  ...   5.831639   \n",
       "21731                 0             0      0         0  ...  20.143101   \n",
       "21733                 0             0      0         0  ...   9.234286   \n",
       "21734                 0             1      0         0  ...  26.443172   \n",
       "21735                 0             0      0         0  ...  34.808208   \n",
       "\n",
       "               4          5          6          7          8          9  \\\n",
       "0       2.169690  -3.574423  -7.091357  -1.978344  -8.984580  -4.724132   \n",
       "1     -11.466489   2.707656 -10.675123  -4.653667 -14.433005  -5.926201   \n",
       "2      -2.650917 -11.021187  -9.310137  -1.562138 -13.035163  -8.655548   \n",
       "3      -4.616055  -5.762987  -4.187028  -0.715044 -14.383714  -3.304795   \n",
       "4      -0.561030  -4.473869  -9.220818  -3.201562 -11.855061  -4.699773   \n",
       "...          ...        ...        ...        ...        ...        ...   \n",
       "21730 -24.096672  -9.137759  -8.294925 -17.235229  -3.540464  -5.074893   \n",
       "21731 -26.160055   3.709430 -15.719262   2.436124  -1.615821  -5.105482   \n",
       "21733 -27.815256  -5.439774 -17.093494  -8.942730  -1.638088  -3.736744   \n",
       "21734 -24.452421 -10.057486 -10.132101  -4.451934  -1.437802 -11.729773   \n",
       "21735 -24.722097  -2.228705  -9.393265   2.945533  -1.885135  -5.709170   \n",
       "\n",
       "              10        11        12  \n",
       "0      -3.345276 -6.573854 -7.026947  \n",
       "1      -1.934813 -8.946336 -8.399075  \n",
       "2      -4.336683 -7.372598 -7.138989  \n",
       "3      -4.146274 -8.412235 -2.445787  \n",
       "4      -2.414847 -7.803761 -6.036355  \n",
       "...          ...       ...       ...  \n",
       "21730  -3.828139 -5.524148 -5.444070  \n",
       "21731 -10.272832 -3.074108 -6.375843  \n",
       "21733  -0.968271 -7.699818  0.135875  \n",
       "21734  -6.692393  0.137587 -3.664662  \n",
       "21735  -6.403487 -4.559175 -4.068617  \n",
       "\n",
       "[16622 rows x 31 columns]"
      ]
     },
     "execution_count": 31,
     "metadata": {},
     "output_type": "execute_result"
    }
   ],
   "source": [
    "df_final = df_final[df_final.Music == 0]\n",
    "df_final"
   ]
  },
  {
   "cell_type": "code",
   "execution_count": 32,
   "metadata": {
    "execution": {
     "iopub.execute_input": "2022-10-10T01:17:26.393450Z",
     "iopub.status.busy": "2022-10-10T01:17:26.393067Z",
     "iopub.status.idle": "2022-10-10T01:17:26.429041Z",
     "shell.execute_reply": "2022-10-10T01:17:26.428078Z",
     "shell.execute_reply.started": "2022-10-10T01:17:26.393413Z"
    }
   },
   "outputs": [
    {
     "data": {
      "text/html": [
       "<div>\n",
       "<style scoped>\n",
       "    .dataframe tbody tr th:only-of-type {\n",
       "        vertical-align: middle;\n",
       "    }\n",
       "\n",
       "    .dataframe tbody tr th {\n",
       "        vertical-align: top;\n",
       "    }\n",
       "\n",
       "    .dataframe thead th {\n",
       "        text-align: right;\n",
       "    }\n",
       "</style>\n",
       "<table border=\"1\" class=\"dataframe\">\n",
       "  <thead>\n",
       "    <tr style=\"text-align: right;\">\n",
       "      <th></th>\n",
       "      <th>Show</th>\n",
       "      <th>EpId</th>\n",
       "      <th>ClipId</th>\n",
       "      <th>Start</th>\n",
       "      <th>Stop</th>\n",
       "      <th>Unsure</th>\n",
       "      <th>PoorAudioQuality</th>\n",
       "      <th>Prolongation</th>\n",
       "      <th>Block</th>\n",
       "      <th>SoundRep</th>\n",
       "      <th>...</th>\n",
       "      <th>3</th>\n",
       "      <th>4</th>\n",
       "      <th>5</th>\n",
       "      <th>6</th>\n",
       "      <th>7</th>\n",
       "      <th>8</th>\n",
       "      <th>9</th>\n",
       "      <th>10</th>\n",
       "      <th>11</th>\n",
       "      <th>12</th>\n",
       "    </tr>\n",
       "  </thead>\n",
       "  <tbody>\n",
       "    <tr>\n",
       "      <th>0</th>\n",
       "      <td>HeStutters</td>\n",
       "      <td>0</td>\n",
       "      <td>0</td>\n",
       "      <td>31900320</td>\n",
       "      <td>31948320</td>\n",
       "      <td>0</td>\n",
       "      <td>0</td>\n",
       "      <td>0</td>\n",
       "      <td>0</td>\n",
       "      <td>0</td>\n",
       "      <td>...</td>\n",
       "      <td>6.977844</td>\n",
       "      <td>2.169690</td>\n",
       "      <td>-3.574423</td>\n",
       "      <td>-7.091357</td>\n",
       "      <td>-1.978344</td>\n",
       "      <td>-8.984580</td>\n",
       "      <td>-4.724132</td>\n",
       "      <td>-3.345276</td>\n",
       "      <td>-6.573854</td>\n",
       "      <td>-7.026947</td>\n",
       "    </tr>\n",
       "    <tr>\n",
       "      <th>1</th>\n",
       "      <td>HeStutters</td>\n",
       "      <td>0</td>\n",
       "      <td>1</td>\n",
       "      <td>31977120</td>\n",
       "      <td>32025120</td>\n",
       "      <td>0</td>\n",
       "      <td>0</td>\n",
       "      <td>0</td>\n",
       "      <td>0</td>\n",
       "      <td>0</td>\n",
       "      <td>...</td>\n",
       "      <td>10.253622</td>\n",
       "      <td>-11.466489</td>\n",
       "      <td>2.707656</td>\n",
       "      <td>-10.675123</td>\n",
       "      <td>-4.653667</td>\n",
       "      <td>-14.433005</td>\n",
       "      <td>-5.926201</td>\n",
       "      <td>-1.934813</td>\n",
       "      <td>-8.946336</td>\n",
       "      <td>-8.399075</td>\n",
       "    </tr>\n",
       "    <tr>\n",
       "      <th>2</th>\n",
       "      <td>HeStutters</td>\n",
       "      <td>0</td>\n",
       "      <td>2</td>\n",
       "      <td>34809760</td>\n",
       "      <td>34857760</td>\n",
       "      <td>0</td>\n",
       "      <td>0</td>\n",
       "      <td>0</td>\n",
       "      <td>0</td>\n",
       "      <td>0</td>\n",
       "      <td>...</td>\n",
       "      <td>36.037708</td>\n",
       "      <td>-2.650917</td>\n",
       "      <td>-11.021187</td>\n",
       "      <td>-9.310137</td>\n",
       "      <td>-1.562138</td>\n",
       "      <td>-13.035163</td>\n",
       "      <td>-8.655548</td>\n",
       "      <td>-4.336683</td>\n",
       "      <td>-7.372598</td>\n",
       "      <td>-7.138989</td>\n",
       "    </tr>\n",
       "    <tr>\n",
       "      <th>3</th>\n",
       "      <td>HeStutters</td>\n",
       "      <td>0</td>\n",
       "      <td>3</td>\n",
       "      <td>35200640</td>\n",
       "      <td>35248640</td>\n",
       "      <td>0</td>\n",
       "      <td>0</td>\n",
       "      <td>1</td>\n",
       "      <td>0</td>\n",
       "      <td>0</td>\n",
       "      <td>...</td>\n",
       "      <td>3.193294</td>\n",
       "      <td>-4.616055</td>\n",
       "      <td>-5.762987</td>\n",
       "      <td>-4.187028</td>\n",
       "      <td>-0.715044</td>\n",
       "      <td>-14.383714</td>\n",
       "      <td>-3.304795</td>\n",
       "      <td>-4.146274</td>\n",
       "      <td>-8.412235</td>\n",
       "      <td>-2.445787</td>\n",
       "    </tr>\n",
       "    <tr>\n",
       "      <th>4</th>\n",
       "      <td>HeStutters</td>\n",
       "      <td>0</td>\n",
       "      <td>4</td>\n",
       "      <td>35721920</td>\n",
       "      <td>35769920</td>\n",
       "      <td>0</td>\n",
       "      <td>0</td>\n",
       "      <td>0</td>\n",
       "      <td>0</td>\n",
       "      <td>0</td>\n",
       "      <td>...</td>\n",
       "      <td>8.430685</td>\n",
       "      <td>-0.561030</td>\n",
       "      <td>-4.473869</td>\n",
       "      <td>-9.220818</td>\n",
       "      <td>-3.201562</td>\n",
       "      <td>-11.855061</td>\n",
       "      <td>-4.699773</td>\n",
       "      <td>-2.414847</td>\n",
       "      <td>-7.803761</td>\n",
       "      <td>-6.036355</td>\n",
       "    </tr>\n",
       "    <tr>\n",
       "      <th>...</th>\n",
       "      <td>...</td>\n",
       "      <td>...</td>\n",
       "      <td>...</td>\n",
       "      <td>...</td>\n",
       "      <td>...</td>\n",
       "      <td>...</td>\n",
       "      <td>...</td>\n",
       "      <td>...</td>\n",
       "      <td>...</td>\n",
       "      <td>...</td>\n",
       "      <td>...</td>\n",
       "      <td>...</td>\n",
       "      <td>...</td>\n",
       "      <td>...</td>\n",
       "      <td>...</td>\n",
       "      <td>...</td>\n",
       "      <td>...</td>\n",
       "      <td>...</td>\n",
       "      <td>...</td>\n",
       "      <td>...</td>\n",
       "      <td>...</td>\n",
       "    </tr>\n",
       "    <tr>\n",
       "      <th>21730</th>\n",
       "      <td>WomenWhoStutter</td>\n",
       "      <td>109</td>\n",
       "      <td>34</td>\n",
       "      <td>24781440</td>\n",
       "      <td>24829440</td>\n",
       "      <td>0</td>\n",
       "      <td>0</td>\n",
       "      <td>0</td>\n",
       "      <td>0</td>\n",
       "      <td>0</td>\n",
       "      <td>...</td>\n",
       "      <td>5.831639</td>\n",
       "      <td>-24.096672</td>\n",
       "      <td>-9.137759</td>\n",
       "      <td>-8.294925</td>\n",
       "      <td>-17.235229</td>\n",
       "      <td>-3.540464</td>\n",
       "      <td>-5.074893</td>\n",
       "      <td>-3.828139</td>\n",
       "      <td>-5.524148</td>\n",
       "      <td>-5.444070</td>\n",
       "    </tr>\n",
       "    <tr>\n",
       "      <th>21731</th>\n",
       "      <td>WomenWhoStutter</td>\n",
       "      <td>109</td>\n",
       "      <td>35</td>\n",
       "      <td>25793600</td>\n",
       "      <td>25841600</td>\n",
       "      <td>0</td>\n",
       "      <td>0</td>\n",
       "      <td>0</td>\n",
       "      <td>0</td>\n",
       "      <td>0</td>\n",
       "      <td>...</td>\n",
       "      <td>20.143101</td>\n",
       "      <td>-26.160055</td>\n",
       "      <td>3.709430</td>\n",
       "      <td>-15.719262</td>\n",
       "      <td>2.436124</td>\n",
       "      <td>-1.615821</td>\n",
       "      <td>-5.105482</td>\n",
       "      <td>-10.272832</td>\n",
       "      <td>-3.074108</td>\n",
       "      <td>-6.375843</td>\n",
       "    </tr>\n",
       "    <tr>\n",
       "      <th>21733</th>\n",
       "      <td>WomenWhoStutter</td>\n",
       "      <td>109</td>\n",
       "      <td>37</td>\n",
       "      <td>3569440</td>\n",
       "      <td>3617440</td>\n",
       "      <td>0</td>\n",
       "      <td>0</td>\n",
       "      <td>0</td>\n",
       "      <td>0</td>\n",
       "      <td>0</td>\n",
       "      <td>...</td>\n",
       "      <td>9.234286</td>\n",
       "      <td>-27.815256</td>\n",
       "      <td>-5.439774</td>\n",
       "      <td>-17.093494</td>\n",
       "      <td>-8.942730</td>\n",
       "      <td>-1.638088</td>\n",
       "      <td>-3.736744</td>\n",
       "      <td>-0.968271</td>\n",
       "      <td>-7.699818</td>\n",
       "      <td>0.135875</td>\n",
       "    </tr>\n",
       "    <tr>\n",
       "      <th>21734</th>\n",
       "      <td>WomenWhoStutter</td>\n",
       "      <td>109</td>\n",
       "      <td>38</td>\n",
       "      <td>28479840</td>\n",
       "      <td>28527840</td>\n",
       "      <td>0</td>\n",
       "      <td>0</td>\n",
       "      <td>1</td>\n",
       "      <td>0</td>\n",
       "      <td>0</td>\n",
       "      <td>...</td>\n",
       "      <td>26.443172</td>\n",
       "      <td>-24.452421</td>\n",
       "      <td>-10.057486</td>\n",
       "      <td>-10.132101</td>\n",
       "      <td>-4.451934</td>\n",
       "      <td>-1.437802</td>\n",
       "      <td>-11.729773</td>\n",
       "      <td>-6.692393</td>\n",
       "      <td>0.137587</td>\n",
       "      <td>-3.664662</td>\n",
       "    </tr>\n",
       "    <tr>\n",
       "      <th>21735</th>\n",
       "      <td>WomenWhoStutter</td>\n",
       "      <td>109</td>\n",
       "      <td>39</td>\n",
       "      <td>29318080</td>\n",
       "      <td>29366080</td>\n",
       "      <td>0</td>\n",
       "      <td>0</td>\n",
       "      <td>0</td>\n",
       "      <td>0</td>\n",
       "      <td>0</td>\n",
       "      <td>...</td>\n",
       "      <td>34.808208</td>\n",
       "      <td>-24.722097</td>\n",
       "      <td>-2.228705</td>\n",
       "      <td>-9.393265</td>\n",
       "      <td>2.945533</td>\n",
       "      <td>-1.885135</td>\n",
       "      <td>-5.709170</td>\n",
       "      <td>-6.403487</td>\n",
       "      <td>-4.559175</td>\n",
       "      <td>-4.068617</td>\n",
       "    </tr>\n",
       "  </tbody>\n",
       "</table>\n",
       "<p>16323 rows × 31 columns</p>\n",
       "</div>"
      ],
      "text/plain": [
       "                  Show  EpId  ClipId     Start      Stop  Unsure  \\\n",
       "0           HeStutters     0       0  31900320  31948320       0   \n",
       "1           HeStutters     0       1  31977120  32025120       0   \n",
       "2           HeStutters     0       2  34809760  34857760       0   \n",
       "3           HeStutters     0       3  35200640  35248640       0   \n",
       "4           HeStutters     0       4  35721920  35769920       0   \n",
       "...                ...   ...     ...       ...       ...     ...   \n",
       "21730  WomenWhoStutter   109      34  24781440  24829440       0   \n",
       "21731  WomenWhoStutter   109      35  25793600  25841600       0   \n",
       "21733  WomenWhoStutter   109      37   3569440   3617440       0   \n",
       "21734  WomenWhoStutter   109      38  28479840  28527840       0   \n",
       "21735  WomenWhoStutter   109      39  29318080  29366080       0   \n",
       "\n",
       "       PoorAudioQuality  Prolongation  Block  SoundRep  ...          3  \\\n",
       "0                     0             0      0         0  ...   6.977844   \n",
       "1                     0             0      0         0  ...  10.253622   \n",
       "2                     0             0      0         0  ...  36.037708   \n",
       "3                     0             1      0         0  ...   3.193294   \n",
       "4                     0             0      0         0  ...   8.430685   \n",
       "...                 ...           ...    ...       ...  ...        ...   \n",
       "21730                 0             0      0         0  ...   5.831639   \n",
       "21731                 0             0      0         0  ...  20.143101   \n",
       "21733                 0             0      0         0  ...   9.234286   \n",
       "21734                 0             1      0         0  ...  26.443172   \n",
       "21735                 0             0      0         0  ...  34.808208   \n",
       "\n",
       "               4          5          6          7          8          9  \\\n",
       "0       2.169690  -3.574423  -7.091357  -1.978344  -8.984580  -4.724132   \n",
       "1     -11.466489   2.707656 -10.675123  -4.653667 -14.433005  -5.926201   \n",
       "2      -2.650917 -11.021187  -9.310137  -1.562138 -13.035163  -8.655548   \n",
       "3      -4.616055  -5.762987  -4.187028  -0.715044 -14.383714  -3.304795   \n",
       "4      -0.561030  -4.473869  -9.220818  -3.201562 -11.855061  -4.699773   \n",
       "...          ...        ...        ...        ...        ...        ...   \n",
       "21730 -24.096672  -9.137759  -8.294925 -17.235229  -3.540464  -5.074893   \n",
       "21731 -26.160055   3.709430 -15.719262   2.436124  -1.615821  -5.105482   \n",
       "21733 -27.815256  -5.439774 -17.093494  -8.942730  -1.638088  -3.736744   \n",
       "21734 -24.452421 -10.057486 -10.132101  -4.451934  -1.437802 -11.729773   \n",
       "21735 -24.722097  -2.228705  -9.393265   2.945533  -1.885135  -5.709170   \n",
       "\n",
       "              10        11        12  \n",
       "0      -3.345276 -6.573854 -7.026947  \n",
       "1      -1.934813 -8.946336 -8.399075  \n",
       "2      -4.336683 -7.372598 -7.138989  \n",
       "3      -4.146274 -8.412235 -2.445787  \n",
       "4      -2.414847 -7.803761 -6.036355  \n",
       "...          ...       ...       ...  \n",
       "21730  -3.828139 -5.524148 -5.444070  \n",
       "21731 -10.272832 -3.074108 -6.375843  \n",
       "21733  -0.968271 -7.699818  0.135875  \n",
       "21734  -6.692393  0.137587 -3.664662  \n",
       "21735  -6.403487 -4.559175 -4.068617  \n",
       "\n",
       "[16323 rows x 31 columns]"
      ]
     },
     "execution_count": 32,
     "metadata": {},
     "output_type": "execute_result"
    }
   ],
   "source": [
    "df_final = df_final[df_final.NoSpeech == 0]\n",
    "df_final"
   ]
  },
  {
   "cell_type": "code",
   "execution_count": 33,
   "metadata": {
    "execution": {
     "iopub.execute_input": "2022-10-10T01:17:26.430956Z",
     "iopub.status.busy": "2022-10-10T01:17:26.430570Z",
     "iopub.status.idle": "2022-10-10T01:17:26.725879Z",
     "shell.execute_reply": "2022-10-10T01:17:26.724913Z",
     "shell.execute_reply.started": "2022-10-10T01:17:26.430919Z"
    }
   },
   "outputs": [],
   "source": [
    "df_final.to_csv(\"sep28k-mfcc.csv\",index=False)"
   ]
  },
  {
   "cell_type": "markdown",
   "metadata": {},
   "source": [
    "## Model Creation & Training for SoundRep Classification"
   ]
  },
  {
   "cell_type": "code",
   "execution_count": 34,
   "metadata": {
    "execution": {
     "iopub.execute_input": "2022-11-22T05:19:11.099884Z",
     "iopub.status.busy": "2022-11-22T05:19:11.099098Z",
     "iopub.status.idle": "2022-11-22T05:19:11.279610Z",
     "shell.execute_reply": "2022-11-22T05:19:11.270884Z",
     "shell.execute_reply.started": "2022-11-22T05:19:11.099792Z"
    }
   },
   "outputs": [
    {
     "data": {
      "text/html": [
       "<div>\n",
       "<style scoped>\n",
       "    .dataframe tbody tr th:only-of-type {\n",
       "        vertical-align: middle;\n",
       "    }\n",
       "\n",
       "    .dataframe tbody tr th {\n",
       "        vertical-align: top;\n",
       "    }\n",
       "\n",
       "    .dataframe thead th {\n",
       "        text-align: right;\n",
       "    }\n",
       "</style>\n",
       "<table border=\"1\" class=\"dataframe\">\n",
       "  <thead>\n",
       "    <tr style=\"text-align: right;\">\n",
       "      <th></th>\n",
       "      <th>Show</th>\n",
       "      <th>EpId</th>\n",
       "      <th>ClipId</th>\n",
       "      <th>Start</th>\n",
       "      <th>Stop</th>\n",
       "      <th>Unsure</th>\n",
       "      <th>PoorAudioQuality</th>\n",
       "      <th>Prolongation</th>\n",
       "      <th>Block</th>\n",
       "      <th>SoundRep</th>\n",
       "      <th>...</th>\n",
       "      <th>3</th>\n",
       "      <th>4</th>\n",
       "      <th>5</th>\n",
       "      <th>6</th>\n",
       "      <th>7</th>\n",
       "      <th>8</th>\n",
       "      <th>9</th>\n",
       "      <th>10</th>\n",
       "      <th>11</th>\n",
       "      <th>12</th>\n",
       "    </tr>\n",
       "  </thead>\n",
       "  <tbody>\n",
       "    <tr>\n",
       "      <th>0</th>\n",
       "      <td>HeStutters</td>\n",
       "      <td>0</td>\n",
       "      <td>0</td>\n",
       "      <td>31900320</td>\n",
       "      <td>31948320</td>\n",
       "      <td>0</td>\n",
       "      <td>0</td>\n",
       "      <td>0</td>\n",
       "      <td>0</td>\n",
       "      <td>0</td>\n",
       "      <td>...</td>\n",
       "      <td>6.977844</td>\n",
       "      <td>2.169690</td>\n",
       "      <td>-3.574423</td>\n",
       "      <td>-7.091357</td>\n",
       "      <td>-1.978344</td>\n",
       "      <td>-8.984580</td>\n",
       "      <td>-4.724132</td>\n",
       "      <td>-3.345276</td>\n",
       "      <td>-6.573854</td>\n",
       "      <td>-7.026947</td>\n",
       "    </tr>\n",
       "    <tr>\n",
       "      <th>1</th>\n",
       "      <td>HeStutters</td>\n",
       "      <td>0</td>\n",
       "      <td>1</td>\n",
       "      <td>31977120</td>\n",
       "      <td>32025120</td>\n",
       "      <td>0</td>\n",
       "      <td>0</td>\n",
       "      <td>0</td>\n",
       "      <td>0</td>\n",
       "      <td>0</td>\n",
       "      <td>...</td>\n",
       "      <td>10.253622</td>\n",
       "      <td>-11.466489</td>\n",
       "      <td>2.707656</td>\n",
       "      <td>-10.675123</td>\n",
       "      <td>-4.653667</td>\n",
       "      <td>-14.433005</td>\n",
       "      <td>-5.926201</td>\n",
       "      <td>-1.934813</td>\n",
       "      <td>-8.946336</td>\n",
       "      <td>-8.399075</td>\n",
       "    </tr>\n",
       "    <tr>\n",
       "      <th>2</th>\n",
       "      <td>HeStutters</td>\n",
       "      <td>0</td>\n",
       "      <td>2</td>\n",
       "      <td>34809760</td>\n",
       "      <td>34857760</td>\n",
       "      <td>0</td>\n",
       "      <td>0</td>\n",
       "      <td>0</td>\n",
       "      <td>0</td>\n",
       "      <td>0</td>\n",
       "      <td>...</td>\n",
       "      <td>36.037710</td>\n",
       "      <td>-2.650917</td>\n",
       "      <td>-11.021187</td>\n",
       "      <td>-9.310137</td>\n",
       "      <td>-1.562138</td>\n",
       "      <td>-13.035163</td>\n",
       "      <td>-8.655548</td>\n",
       "      <td>-4.336683</td>\n",
       "      <td>-7.372598</td>\n",
       "      <td>-7.138989</td>\n",
       "    </tr>\n",
       "    <tr>\n",
       "      <th>3</th>\n",
       "      <td>HeStutters</td>\n",
       "      <td>0</td>\n",
       "      <td>3</td>\n",
       "      <td>35200640</td>\n",
       "      <td>35248640</td>\n",
       "      <td>0</td>\n",
       "      <td>0</td>\n",
       "      <td>1</td>\n",
       "      <td>0</td>\n",
       "      <td>0</td>\n",
       "      <td>...</td>\n",
       "      <td>3.193294</td>\n",
       "      <td>-4.616055</td>\n",
       "      <td>-5.762987</td>\n",
       "      <td>-4.187028</td>\n",
       "      <td>-0.715044</td>\n",
       "      <td>-14.383714</td>\n",
       "      <td>-3.304795</td>\n",
       "      <td>-4.146274</td>\n",
       "      <td>-8.412235</td>\n",
       "      <td>-2.445787</td>\n",
       "    </tr>\n",
       "    <tr>\n",
       "      <th>4</th>\n",
       "      <td>HeStutters</td>\n",
       "      <td>0</td>\n",
       "      <td>4</td>\n",
       "      <td>35721920</td>\n",
       "      <td>35769920</td>\n",
       "      <td>0</td>\n",
       "      <td>0</td>\n",
       "      <td>0</td>\n",
       "      <td>0</td>\n",
       "      <td>0</td>\n",
       "      <td>...</td>\n",
       "      <td>8.430685</td>\n",
       "      <td>-0.561030</td>\n",
       "      <td>-4.473869</td>\n",
       "      <td>-9.220818</td>\n",
       "      <td>-3.201562</td>\n",
       "      <td>-11.855061</td>\n",
       "      <td>-4.699773</td>\n",
       "      <td>-2.414847</td>\n",
       "      <td>-7.803762</td>\n",
       "      <td>-6.036355</td>\n",
       "    </tr>\n",
       "    <tr>\n",
       "      <th>...</th>\n",
       "      <td>...</td>\n",
       "      <td>...</td>\n",
       "      <td>...</td>\n",
       "      <td>...</td>\n",
       "      <td>...</td>\n",
       "      <td>...</td>\n",
       "      <td>...</td>\n",
       "      <td>...</td>\n",
       "      <td>...</td>\n",
       "      <td>...</td>\n",
       "      <td>...</td>\n",
       "      <td>...</td>\n",
       "      <td>...</td>\n",
       "      <td>...</td>\n",
       "      <td>...</td>\n",
       "      <td>...</td>\n",
       "      <td>...</td>\n",
       "      <td>...</td>\n",
       "      <td>...</td>\n",
       "      <td>...</td>\n",
       "      <td>...</td>\n",
       "    </tr>\n",
       "    <tr>\n",
       "      <th>16318</th>\n",
       "      <td>WomenWhoStutter</td>\n",
       "      <td>109</td>\n",
       "      <td>34</td>\n",
       "      <td>24781440</td>\n",
       "      <td>24829440</td>\n",
       "      <td>0</td>\n",
       "      <td>0</td>\n",
       "      <td>0</td>\n",
       "      <td>0</td>\n",
       "      <td>0</td>\n",
       "      <td>...</td>\n",
       "      <td>5.831639</td>\n",
       "      <td>-24.096672</td>\n",
       "      <td>-9.137759</td>\n",
       "      <td>-8.294925</td>\n",
       "      <td>-17.235230</td>\n",
       "      <td>-3.540464</td>\n",
       "      <td>-5.074892</td>\n",
       "      <td>-3.828139</td>\n",
       "      <td>-5.524148</td>\n",
       "      <td>-5.444070</td>\n",
       "    </tr>\n",
       "    <tr>\n",
       "      <th>16319</th>\n",
       "      <td>WomenWhoStutter</td>\n",
       "      <td>109</td>\n",
       "      <td>35</td>\n",
       "      <td>25793600</td>\n",
       "      <td>25841600</td>\n",
       "      <td>0</td>\n",
       "      <td>0</td>\n",
       "      <td>0</td>\n",
       "      <td>0</td>\n",
       "      <td>0</td>\n",
       "      <td>...</td>\n",
       "      <td>20.143100</td>\n",
       "      <td>-26.160055</td>\n",
       "      <td>3.709430</td>\n",
       "      <td>-15.719262</td>\n",
       "      <td>2.436124</td>\n",
       "      <td>-1.615821</td>\n",
       "      <td>-5.105482</td>\n",
       "      <td>-10.272832</td>\n",
       "      <td>-3.074108</td>\n",
       "      <td>-6.375843</td>\n",
       "    </tr>\n",
       "    <tr>\n",
       "      <th>16320</th>\n",
       "      <td>WomenWhoStutter</td>\n",
       "      <td>109</td>\n",
       "      <td>37</td>\n",
       "      <td>3569440</td>\n",
       "      <td>3617440</td>\n",
       "      <td>0</td>\n",
       "      <td>0</td>\n",
       "      <td>0</td>\n",
       "      <td>0</td>\n",
       "      <td>0</td>\n",
       "      <td>...</td>\n",
       "      <td>9.234286</td>\n",
       "      <td>-27.815256</td>\n",
       "      <td>-5.439774</td>\n",
       "      <td>-17.093494</td>\n",
       "      <td>-8.942730</td>\n",
       "      <td>-1.638088</td>\n",
       "      <td>-3.736744</td>\n",
       "      <td>-0.968271</td>\n",
       "      <td>-7.699818</td>\n",
       "      <td>0.135875</td>\n",
       "    </tr>\n",
       "    <tr>\n",
       "      <th>16321</th>\n",
       "      <td>WomenWhoStutter</td>\n",
       "      <td>109</td>\n",
       "      <td>38</td>\n",
       "      <td>28479840</td>\n",
       "      <td>28527840</td>\n",
       "      <td>0</td>\n",
       "      <td>0</td>\n",
       "      <td>1</td>\n",
       "      <td>0</td>\n",
       "      <td>0</td>\n",
       "      <td>...</td>\n",
       "      <td>26.443172</td>\n",
       "      <td>-24.452421</td>\n",
       "      <td>-10.057486</td>\n",
       "      <td>-10.132101</td>\n",
       "      <td>-4.451934</td>\n",
       "      <td>-1.437802</td>\n",
       "      <td>-11.729773</td>\n",
       "      <td>-6.692393</td>\n",
       "      <td>0.137587</td>\n",
       "      <td>-3.664662</td>\n",
       "    </tr>\n",
       "    <tr>\n",
       "      <th>16322</th>\n",
       "      <td>WomenWhoStutter</td>\n",
       "      <td>109</td>\n",
       "      <td>39</td>\n",
       "      <td>29318080</td>\n",
       "      <td>29366080</td>\n",
       "      <td>0</td>\n",
       "      <td>0</td>\n",
       "      <td>0</td>\n",
       "      <td>0</td>\n",
       "      <td>0</td>\n",
       "      <td>...</td>\n",
       "      <td>34.808210</td>\n",
       "      <td>-24.722097</td>\n",
       "      <td>-2.228705</td>\n",
       "      <td>-9.393265</td>\n",
       "      <td>2.945533</td>\n",
       "      <td>-1.885135</td>\n",
       "      <td>-5.709170</td>\n",
       "      <td>-6.403487</td>\n",
       "      <td>-4.559176</td>\n",
       "      <td>-4.068617</td>\n",
       "    </tr>\n",
       "  </tbody>\n",
       "</table>\n",
       "<p>16323 rows × 31 columns</p>\n",
       "</div>"
      ],
      "text/plain": [
       "                  Show  EpId  ClipId     Start      Stop  Unsure  \\\n",
       "0           HeStutters     0       0  31900320  31948320       0   \n",
       "1           HeStutters     0       1  31977120  32025120       0   \n",
       "2           HeStutters     0       2  34809760  34857760       0   \n",
       "3           HeStutters     0       3  35200640  35248640       0   \n",
       "4           HeStutters     0       4  35721920  35769920       0   \n",
       "...                ...   ...     ...       ...       ...     ...   \n",
       "16318  WomenWhoStutter   109      34  24781440  24829440       0   \n",
       "16319  WomenWhoStutter   109      35  25793600  25841600       0   \n",
       "16320  WomenWhoStutter   109      37   3569440   3617440       0   \n",
       "16321  WomenWhoStutter   109      38  28479840  28527840       0   \n",
       "16322  WomenWhoStutter   109      39  29318080  29366080       0   \n",
       "\n",
       "       PoorAudioQuality  Prolongation  Block  SoundRep  ...          3  \\\n",
       "0                     0             0      0         0  ...   6.977844   \n",
       "1                     0             0      0         0  ...  10.253622   \n",
       "2                     0             0      0         0  ...  36.037710   \n",
       "3                     0             1      0         0  ...   3.193294   \n",
       "4                     0             0      0         0  ...   8.430685   \n",
       "...                 ...           ...    ...       ...  ...        ...   \n",
       "16318                 0             0      0         0  ...   5.831639   \n",
       "16319                 0             0      0         0  ...  20.143100   \n",
       "16320                 0             0      0         0  ...   9.234286   \n",
       "16321                 0             1      0         0  ...  26.443172   \n",
       "16322                 0             0      0         0  ...  34.808210   \n",
       "\n",
       "               4          5          6          7          8          9  \\\n",
       "0       2.169690  -3.574423  -7.091357  -1.978344  -8.984580  -4.724132   \n",
       "1     -11.466489   2.707656 -10.675123  -4.653667 -14.433005  -5.926201   \n",
       "2      -2.650917 -11.021187  -9.310137  -1.562138 -13.035163  -8.655548   \n",
       "3      -4.616055  -5.762987  -4.187028  -0.715044 -14.383714  -3.304795   \n",
       "4      -0.561030  -4.473869  -9.220818  -3.201562 -11.855061  -4.699773   \n",
       "...          ...        ...        ...        ...        ...        ...   \n",
       "16318 -24.096672  -9.137759  -8.294925 -17.235230  -3.540464  -5.074892   \n",
       "16319 -26.160055   3.709430 -15.719262   2.436124  -1.615821  -5.105482   \n",
       "16320 -27.815256  -5.439774 -17.093494  -8.942730  -1.638088  -3.736744   \n",
       "16321 -24.452421 -10.057486 -10.132101  -4.451934  -1.437802 -11.729773   \n",
       "16322 -24.722097  -2.228705  -9.393265   2.945533  -1.885135  -5.709170   \n",
       "\n",
       "              10        11        12  \n",
       "0      -3.345276 -6.573854 -7.026947  \n",
       "1      -1.934813 -8.946336 -8.399075  \n",
       "2      -4.336683 -7.372598 -7.138989  \n",
       "3      -4.146274 -8.412235 -2.445787  \n",
       "4      -2.414847 -7.803762 -6.036355  \n",
       "...          ...       ...       ...  \n",
       "16318  -3.828139 -5.524148 -5.444070  \n",
       "16319 -10.272832 -3.074108 -6.375843  \n",
       "16320  -0.968271 -7.699818  0.135875  \n",
       "16321  -6.692393  0.137587 -3.664662  \n",
       "16322  -6.403487 -4.559176 -4.068617  \n",
       "\n",
       "[16323 rows x 31 columns]"
      ]
     },
     "execution_count": 34,
     "metadata": {},
     "output_type": "execute_result"
    }
   ],
   "source": [
    "import pandas as pd\n",
    "df = pd.read_csv(\"sep28k-mfcc.csv\")\n",
    "df"
   ]
  },
  {
   "cell_type": "code",
   "execution_count": 35,
   "metadata": {
    "execution": {
     "iopub.execute_input": "2022-11-22T05:19:16.206509Z",
     "iopub.status.busy": "2022-11-22T05:19:16.205877Z",
     "iopub.status.idle": "2022-11-22T05:19:16.260895Z",
     "shell.execute_reply": "2022-11-22T05:19:16.259739Z",
     "shell.execute_reply.started": "2022-11-22T05:19:16.206475Z"
    }
   },
   "outputs": [
    {
     "data": {
      "text/html": [
       "<div>\n",
       "<style scoped>\n",
       "    .dataframe tbody tr th:only-of-type {\n",
       "        vertical-align: middle;\n",
       "    }\n",
       "\n",
       "    .dataframe tbody tr th {\n",
       "        vertical-align: top;\n",
       "    }\n",
       "\n",
       "    .dataframe thead th {\n",
       "        text-align: right;\n",
       "    }\n",
       "</style>\n",
       "<table border=\"1\" class=\"dataframe\">\n",
       "  <thead>\n",
       "    <tr style=\"text-align: right;\">\n",
       "      <th></th>\n",
       "      <th>Show</th>\n",
       "      <th>EpId</th>\n",
       "      <th>ClipId</th>\n",
       "      <th>Start</th>\n",
       "      <th>Stop</th>\n",
       "      <th>Unsure</th>\n",
       "      <th>PoorAudioQuality</th>\n",
       "      <th>Prolongation</th>\n",
       "      <th>Block</th>\n",
       "      <th>SoundRep</th>\n",
       "      <th>...</th>\n",
       "      <th>3</th>\n",
       "      <th>4</th>\n",
       "      <th>5</th>\n",
       "      <th>6</th>\n",
       "      <th>7</th>\n",
       "      <th>8</th>\n",
       "      <th>9</th>\n",
       "      <th>10</th>\n",
       "      <th>11</th>\n",
       "      <th>12</th>\n",
       "    </tr>\n",
       "  </thead>\n",
       "  <tbody>\n",
       "    <tr>\n",
       "      <th>2</th>\n",
       "      <td>HeStutters</td>\n",
       "      <td>0</td>\n",
       "      <td>2</td>\n",
       "      <td>34809760</td>\n",
       "      <td>34857760</td>\n",
       "      <td>0</td>\n",
       "      <td>0</td>\n",
       "      <td>0</td>\n",
       "      <td>0</td>\n",
       "      <td>0</td>\n",
       "      <td>...</td>\n",
       "      <td>36.037710</td>\n",
       "      <td>-2.650917</td>\n",
       "      <td>-11.021187</td>\n",
       "      <td>-9.310137</td>\n",
       "      <td>-1.562138</td>\n",
       "      <td>-13.035163</td>\n",
       "      <td>-8.655548</td>\n",
       "      <td>-4.336683</td>\n",
       "      <td>-7.372598</td>\n",
       "      <td>-7.138989</td>\n",
       "    </tr>\n",
       "    <tr>\n",
       "      <th>4</th>\n",
       "      <td>HeStutters</td>\n",
       "      <td>0</td>\n",
       "      <td>4</td>\n",
       "      <td>35721920</td>\n",
       "      <td>35769920</td>\n",
       "      <td>0</td>\n",
       "      <td>0</td>\n",
       "      <td>0</td>\n",
       "      <td>0</td>\n",
       "      <td>0</td>\n",
       "      <td>...</td>\n",
       "      <td>8.430685</td>\n",
       "      <td>-0.561030</td>\n",
       "      <td>-4.473869</td>\n",
       "      <td>-9.220818</td>\n",
       "      <td>-3.201562</td>\n",
       "      <td>-11.855061</td>\n",
       "      <td>-4.699773</td>\n",
       "      <td>-2.414847</td>\n",
       "      <td>-7.803762</td>\n",
       "      <td>-6.036355</td>\n",
       "    </tr>\n",
       "    <tr>\n",
       "      <th>6</th>\n",
       "      <td>HeStutters</td>\n",
       "      <td>0</td>\n",
       "      <td>6</td>\n",
       "      <td>37251200</td>\n",
       "      <td>37299200</td>\n",
       "      <td>0</td>\n",
       "      <td>0</td>\n",
       "      <td>0</td>\n",
       "      <td>0</td>\n",
       "      <td>0</td>\n",
       "      <td>...</td>\n",
       "      <td>4.350783</td>\n",
       "      <td>-14.230150</td>\n",
       "      <td>-3.446104</td>\n",
       "      <td>-3.806112</td>\n",
       "      <td>-6.410494</td>\n",
       "      <td>-7.694991</td>\n",
       "      <td>-1.443513</td>\n",
       "      <td>-7.135467</td>\n",
       "      <td>-3.231778</td>\n",
       "      <td>-8.599639</td>\n",
       "    </tr>\n",
       "    <tr>\n",
       "      <th>9</th>\n",
       "      <td>HeStutters</td>\n",
       "      <td>0</td>\n",
       "      <td>9</td>\n",
       "      <td>41417440</td>\n",
       "      <td>41465440</td>\n",
       "      <td>0</td>\n",
       "      <td>0</td>\n",
       "      <td>0</td>\n",
       "      <td>0</td>\n",
       "      <td>0</td>\n",
       "      <td>...</td>\n",
       "      <td>10.802254</td>\n",
       "      <td>0.253165</td>\n",
       "      <td>-0.571133</td>\n",
       "      <td>-7.632134</td>\n",
       "      <td>-2.497033</td>\n",
       "      <td>-8.864999</td>\n",
       "      <td>-2.741921</td>\n",
       "      <td>-5.094120</td>\n",
       "      <td>-9.865229</td>\n",
       "      <td>-3.816170</td>\n",
       "    </tr>\n",
       "    <tr>\n",
       "      <th>11</th>\n",
       "      <td>HeStutters</td>\n",
       "      <td>0</td>\n",
       "      <td>11</td>\n",
       "      <td>42928800</td>\n",
       "      <td>42976800</td>\n",
       "      <td>0</td>\n",
       "      <td>0</td>\n",
       "      <td>0</td>\n",
       "      <td>0</td>\n",
       "      <td>0</td>\n",
       "      <td>...</td>\n",
       "      <td>24.965218</td>\n",
       "      <td>-20.023012</td>\n",
       "      <td>1.167747</td>\n",
       "      <td>-13.532715</td>\n",
       "      <td>-7.309593</td>\n",
       "      <td>-3.097385</td>\n",
       "      <td>-5.110380</td>\n",
       "      <td>-7.832861</td>\n",
       "      <td>-5.489938</td>\n",
       "      <td>-3.351382</td>\n",
       "    </tr>\n",
       "    <tr>\n",
       "      <th>...</th>\n",
       "      <td>...</td>\n",
       "      <td>...</td>\n",
       "      <td>...</td>\n",
       "      <td>...</td>\n",
       "      <td>...</td>\n",
       "      <td>...</td>\n",
       "      <td>...</td>\n",
       "      <td>...</td>\n",
       "      <td>...</td>\n",
       "      <td>...</td>\n",
       "      <td>...</td>\n",
       "      <td>...</td>\n",
       "      <td>...</td>\n",
       "      <td>...</td>\n",
       "      <td>...</td>\n",
       "      <td>...</td>\n",
       "      <td>...</td>\n",
       "      <td>...</td>\n",
       "      <td>...</td>\n",
       "      <td>...</td>\n",
       "      <td>...</td>\n",
       "    </tr>\n",
       "    <tr>\n",
       "      <th>16308</th>\n",
       "      <td>WomenWhoStutter</td>\n",
       "      <td>109</td>\n",
       "      <td>24</td>\n",
       "      <td>16179040</td>\n",
       "      <td>16227040</td>\n",
       "      <td>0</td>\n",
       "      <td>0</td>\n",
       "      <td>0</td>\n",
       "      <td>0</td>\n",
       "      <td>0</td>\n",
       "      <td>...</td>\n",
       "      <td>26.002827</td>\n",
       "      <td>-16.124668</td>\n",
       "      <td>-14.775861</td>\n",
       "      <td>-19.643862</td>\n",
       "      <td>-7.232726</td>\n",
       "      <td>-7.771799</td>\n",
       "      <td>-8.517433</td>\n",
       "      <td>1.568335</td>\n",
       "      <td>-6.449186</td>\n",
       "      <td>1.097754</td>\n",
       "    </tr>\n",
       "    <tr>\n",
       "      <th>16309</th>\n",
       "      <td>WomenWhoStutter</td>\n",
       "      <td>109</td>\n",
       "      <td>25</td>\n",
       "      <td>16224160</td>\n",
       "      <td>16272160</td>\n",
       "      <td>0</td>\n",
       "      <td>0</td>\n",
       "      <td>0</td>\n",
       "      <td>0</td>\n",
       "      <td>0</td>\n",
       "      <td>...</td>\n",
       "      <td>8.484849</td>\n",
       "      <td>-29.523224</td>\n",
       "      <td>-2.754617</td>\n",
       "      <td>-15.226082</td>\n",
       "      <td>-7.238287</td>\n",
       "      <td>1.549171</td>\n",
       "      <td>-8.778543</td>\n",
       "      <td>-10.499634</td>\n",
       "      <td>-2.756247</td>\n",
       "      <td>-6.887878</td>\n",
       "    </tr>\n",
       "    <tr>\n",
       "      <th>16315</th>\n",
       "      <td>WomenWhoStutter</td>\n",
       "      <td>109</td>\n",
       "      <td>31</td>\n",
       "      <td>20476320</td>\n",
       "      <td>20524320</td>\n",
       "      <td>0</td>\n",
       "      <td>0</td>\n",
       "      <td>0</td>\n",
       "      <td>0</td>\n",
       "      <td>0</td>\n",
       "      <td>...</td>\n",
       "      <td>16.823680</td>\n",
       "      <td>-23.059666</td>\n",
       "      <td>-6.954729</td>\n",
       "      <td>-10.113519</td>\n",
       "      <td>-13.114539</td>\n",
       "      <td>0.588434</td>\n",
       "      <td>-15.267725</td>\n",
       "      <td>-10.102099</td>\n",
       "      <td>-0.440946</td>\n",
       "      <td>0.197361</td>\n",
       "    </tr>\n",
       "    <tr>\n",
       "      <th>16317</th>\n",
       "      <td>WomenWhoStutter</td>\n",
       "      <td>109</td>\n",
       "      <td>33</td>\n",
       "      <td>24747360</td>\n",
       "      <td>24795360</td>\n",
       "      <td>0</td>\n",
       "      <td>0</td>\n",
       "      <td>0</td>\n",
       "      <td>0</td>\n",
       "      <td>0</td>\n",
       "      <td>...</td>\n",
       "      <td>18.849432</td>\n",
       "      <td>-23.086039</td>\n",
       "      <td>2.158883</td>\n",
       "      <td>-8.471071</td>\n",
       "      <td>1.332330</td>\n",
       "      <td>2.440598</td>\n",
       "      <td>-1.968042</td>\n",
       "      <td>-7.462180</td>\n",
       "      <td>0.142055</td>\n",
       "      <td>-4.275077</td>\n",
       "    </tr>\n",
       "    <tr>\n",
       "      <th>16322</th>\n",
       "      <td>WomenWhoStutter</td>\n",
       "      <td>109</td>\n",
       "      <td>39</td>\n",
       "      <td>29318080</td>\n",
       "      <td>29366080</td>\n",
       "      <td>0</td>\n",
       "      <td>0</td>\n",
       "      <td>0</td>\n",
       "      <td>0</td>\n",
       "      <td>0</td>\n",
       "      <td>...</td>\n",
       "      <td>34.808210</td>\n",
       "      <td>-24.722097</td>\n",
       "      <td>-2.228705</td>\n",
       "      <td>-9.393265</td>\n",
       "      <td>2.945533</td>\n",
       "      <td>-1.885135</td>\n",
       "      <td>-5.709170</td>\n",
       "      <td>-6.403487</td>\n",
       "      <td>-4.559176</td>\n",
       "      <td>-4.068617</td>\n",
       "    </tr>\n",
       "  </tbody>\n",
       "</table>\n",
       "<p>1805 rows × 31 columns</p>\n",
       "</div>"
      ],
      "text/plain": [
       "                  Show  EpId  ClipId     Start      Stop  Unsure  \\\n",
       "2           HeStutters     0       2  34809760  34857760       0   \n",
       "4           HeStutters     0       4  35721920  35769920       0   \n",
       "6           HeStutters     0       6  37251200  37299200       0   \n",
       "9           HeStutters     0       9  41417440  41465440       0   \n",
       "11          HeStutters     0      11  42928800  42976800       0   \n",
       "...                ...   ...     ...       ...       ...     ...   \n",
       "16308  WomenWhoStutter   109      24  16179040  16227040       0   \n",
       "16309  WomenWhoStutter   109      25  16224160  16272160       0   \n",
       "16315  WomenWhoStutter   109      31  20476320  20524320       0   \n",
       "16317  WomenWhoStutter   109      33  24747360  24795360       0   \n",
       "16322  WomenWhoStutter   109      39  29318080  29366080       0   \n",
       "\n",
       "       PoorAudioQuality  Prolongation  Block  SoundRep  ...          3  \\\n",
       "2                     0             0      0         0  ...  36.037710   \n",
       "4                     0             0      0         0  ...   8.430685   \n",
       "6                     0             0      0         0  ...   4.350783   \n",
       "9                     0             0      0         0  ...  10.802254   \n",
       "11                    0             0      0         0  ...  24.965218   \n",
       "...                 ...           ...    ...       ...  ...        ...   \n",
       "16308                 0             0      0         0  ...  26.002827   \n",
       "16309                 0             0      0         0  ...   8.484849   \n",
       "16315                 0             0      0         0  ...  16.823680   \n",
       "16317                 0             0      0         0  ...  18.849432   \n",
       "16322                 0             0      0         0  ...  34.808210   \n",
       "\n",
       "               4          5          6          7          8          9  \\\n",
       "2      -2.650917 -11.021187  -9.310137  -1.562138 -13.035163  -8.655548   \n",
       "4      -0.561030  -4.473869  -9.220818  -3.201562 -11.855061  -4.699773   \n",
       "6     -14.230150  -3.446104  -3.806112  -6.410494  -7.694991  -1.443513   \n",
       "9       0.253165  -0.571133  -7.632134  -2.497033  -8.864999  -2.741921   \n",
       "11    -20.023012   1.167747 -13.532715  -7.309593  -3.097385  -5.110380   \n",
       "...          ...        ...        ...        ...        ...        ...   \n",
       "16308 -16.124668 -14.775861 -19.643862  -7.232726  -7.771799  -8.517433   \n",
       "16309 -29.523224  -2.754617 -15.226082  -7.238287   1.549171  -8.778543   \n",
       "16315 -23.059666  -6.954729 -10.113519 -13.114539   0.588434 -15.267725   \n",
       "16317 -23.086039   2.158883  -8.471071   1.332330   2.440598  -1.968042   \n",
       "16322 -24.722097  -2.228705  -9.393265   2.945533  -1.885135  -5.709170   \n",
       "\n",
       "              10        11        12  \n",
       "2      -4.336683 -7.372598 -7.138989  \n",
       "4      -2.414847 -7.803762 -6.036355  \n",
       "6      -7.135467 -3.231778 -8.599639  \n",
       "9      -5.094120 -9.865229 -3.816170  \n",
       "11     -7.832861 -5.489938 -3.351382  \n",
       "...          ...       ...       ...  \n",
       "16308   1.568335 -6.449186  1.097754  \n",
       "16309 -10.499634 -2.756247 -6.887878  \n",
       "16315 -10.102099 -0.440946  0.197361  \n",
       "16317  -7.462180  0.142055 -4.275077  \n",
       "16322  -6.403487 -4.559176 -4.068617  \n",
       "\n",
       "[1805 rows x 31 columns]"
      ]
     },
     "execution_count": 35,
     "metadata": {},
     "output_type": "execute_result"
    }
   ],
   "source": [
    "df = df[df['NoStutteredWords'] != 0]\n",
    "df = df[df['NaturalPause'] == 0]\n",
    "df = df[df['Interjection'] == 0]\n",
    "df = df[df['Prolongation'] == 0]\n",
    "df = df[df['WordRep'] == 0]\n",
    "df = df[df['Block'] == 0]\n",
    "df"
   ]
  },
  {
   "cell_type": "code",
   "execution_count": 36,
   "metadata": {
    "execution": {
     "iopub.execute_input": "2022-11-22T05:19:19.690113Z",
     "iopub.status.busy": "2022-11-22T05:19:19.689695Z",
     "iopub.status.idle": "2022-11-22T05:19:19.702990Z",
     "shell.execute_reply": "2022-11-22T05:19:19.701709Z",
     "shell.execute_reply.started": "2022-11-22T05:19:19.690080Z"
    }
   },
   "outputs": [
    {
     "data": {
      "text/plain": [
       "0    1684\n",
       "1     121\n",
       "Name: SoundRep, dtype: int64"
      ]
     },
     "execution_count": 36,
     "metadata": {},
     "output_type": "execute_result"
    }
   ],
   "source": [
    "df.loc[df['SoundRep'] >= 1.0, 'SoundRep'] = 1.0\n",
    "df['SoundRep'].value_counts()"
   ]
  },
  {
   "cell_type": "code",
   "execution_count": 37,
   "metadata": {
    "execution": {
     "iopub.execute_input": "2022-11-22T05:19:22.019708Z",
     "iopub.status.busy": "2022-11-22T05:19:22.019223Z",
     "iopub.status.idle": "2022-11-22T05:19:22.058662Z",
     "shell.execute_reply": "2022-11-22T05:19:22.057484Z",
     "shell.execute_reply.started": "2022-11-22T05:19:22.019666Z"
    }
   },
   "outputs": [
    {
     "data": {
      "text/html": [
       "<div>\n",
       "<style scoped>\n",
       "    .dataframe tbody tr th:only-of-type {\n",
       "        vertical-align: middle;\n",
       "    }\n",
       "\n",
       "    .dataframe tbody tr th {\n",
       "        vertical-align: top;\n",
       "    }\n",
       "\n",
       "    .dataframe thead th {\n",
       "        text-align: right;\n",
       "    }\n",
       "</style>\n",
       "<table border=\"1\" class=\"dataframe\">\n",
       "  <thead>\n",
       "    <tr style=\"text-align: right;\">\n",
       "      <th></th>\n",
       "      <th>0</th>\n",
       "      <th>1</th>\n",
       "      <th>2</th>\n",
       "      <th>3</th>\n",
       "      <th>4</th>\n",
       "      <th>5</th>\n",
       "      <th>6</th>\n",
       "      <th>7</th>\n",
       "      <th>8</th>\n",
       "      <th>9</th>\n",
       "      <th>10</th>\n",
       "      <th>11</th>\n",
       "      <th>12</th>\n",
       "    </tr>\n",
       "  </thead>\n",
       "  <tbody>\n",
       "    <tr>\n",
       "      <th>2</th>\n",
       "      <td>-313.66693</td>\n",
       "      <td>62.418663</td>\n",
       "      <td>-1.334002</td>\n",
       "      <td>36.037710</td>\n",
       "      <td>-2.650917</td>\n",
       "      <td>-11.021187</td>\n",
       "      <td>-9.310137</td>\n",
       "      <td>-1.562138</td>\n",
       "      <td>-13.035163</td>\n",
       "      <td>-8.655548</td>\n",
       "      <td>-4.336683</td>\n",
       "      <td>-7.372598</td>\n",
       "      <td>-7.138989</td>\n",
       "    </tr>\n",
       "    <tr>\n",
       "      <th>4</th>\n",
       "      <td>-341.35330</td>\n",
       "      <td>68.858000</td>\n",
       "      <td>-3.959720</td>\n",
       "      <td>8.430685</td>\n",
       "      <td>-0.561030</td>\n",
       "      <td>-4.473869</td>\n",
       "      <td>-9.220818</td>\n",
       "      <td>-3.201562</td>\n",
       "      <td>-11.855061</td>\n",
       "      <td>-4.699773</td>\n",
       "      <td>-2.414847</td>\n",
       "      <td>-7.803762</td>\n",
       "      <td>-6.036355</td>\n",
       "    </tr>\n",
       "    <tr>\n",
       "      <th>6</th>\n",
       "      <td>-351.60030</td>\n",
       "      <td>79.161500</td>\n",
       "      <td>10.344581</td>\n",
       "      <td>4.350783</td>\n",
       "      <td>-14.230150</td>\n",
       "      <td>-3.446104</td>\n",
       "      <td>-3.806112</td>\n",
       "      <td>-6.410494</td>\n",
       "      <td>-7.694991</td>\n",
       "      <td>-1.443513</td>\n",
       "      <td>-7.135467</td>\n",
       "      <td>-3.231778</td>\n",
       "      <td>-8.599639</td>\n",
       "    </tr>\n",
       "    <tr>\n",
       "      <th>9</th>\n",
       "      <td>-322.53464</td>\n",
       "      <td>84.011630</td>\n",
       "      <td>-0.464124</td>\n",
       "      <td>10.802254</td>\n",
       "      <td>0.253165</td>\n",
       "      <td>-0.571133</td>\n",
       "      <td>-7.632134</td>\n",
       "      <td>-2.497033</td>\n",
       "      <td>-8.864999</td>\n",
       "      <td>-2.741921</td>\n",
       "      <td>-5.094120</td>\n",
       "      <td>-9.865229</td>\n",
       "      <td>-3.816170</td>\n",
       "    </tr>\n",
       "    <tr>\n",
       "      <th>11</th>\n",
       "      <td>-310.75836</td>\n",
       "      <td>27.546112</td>\n",
       "      <td>-17.378850</td>\n",
       "      <td>24.965218</td>\n",
       "      <td>-20.023012</td>\n",
       "      <td>1.167747</td>\n",
       "      <td>-13.532715</td>\n",
       "      <td>-7.309593</td>\n",
       "      <td>-3.097385</td>\n",
       "      <td>-5.110380</td>\n",
       "      <td>-7.832861</td>\n",
       "      <td>-5.489938</td>\n",
       "      <td>-3.351382</td>\n",
       "    </tr>\n",
       "    <tr>\n",
       "      <th>...</th>\n",
       "      <td>...</td>\n",
       "      <td>...</td>\n",
       "      <td>...</td>\n",
       "      <td>...</td>\n",
       "      <td>...</td>\n",
       "      <td>...</td>\n",
       "      <td>...</td>\n",
       "      <td>...</td>\n",
       "      <td>...</td>\n",
       "      <td>...</td>\n",
       "      <td>...</td>\n",
       "      <td>...</td>\n",
       "      <td>...</td>\n",
       "    </tr>\n",
       "    <tr>\n",
       "      <th>16308</th>\n",
       "      <td>-396.81607</td>\n",
       "      <td>47.699245</td>\n",
       "      <td>-28.230492</td>\n",
       "      <td>26.002827</td>\n",
       "      <td>-16.124668</td>\n",
       "      <td>-14.775861</td>\n",
       "      <td>-19.643862</td>\n",
       "      <td>-7.232726</td>\n",
       "      <td>-7.771799</td>\n",
       "      <td>-8.517433</td>\n",
       "      <td>1.568335</td>\n",
       "      <td>-6.449186</td>\n",
       "      <td>1.097754</td>\n",
       "    </tr>\n",
       "    <tr>\n",
       "      <th>16309</th>\n",
       "      <td>-366.09630</td>\n",
       "      <td>59.089397</td>\n",
       "      <td>-23.645912</td>\n",
       "      <td>8.484849</td>\n",
       "      <td>-29.523224</td>\n",
       "      <td>-2.754617</td>\n",
       "      <td>-15.226082</td>\n",
       "      <td>-7.238287</td>\n",
       "      <td>1.549171</td>\n",
       "      <td>-8.778543</td>\n",
       "      <td>-10.499634</td>\n",
       "      <td>-2.756247</td>\n",
       "      <td>-6.887878</td>\n",
       "    </tr>\n",
       "    <tr>\n",
       "      <th>16315</th>\n",
       "      <td>-316.00030</td>\n",
       "      <td>42.245895</td>\n",
       "      <td>-40.056310</td>\n",
       "      <td>16.823680</td>\n",
       "      <td>-23.059666</td>\n",
       "      <td>-6.954729</td>\n",
       "      <td>-10.113519</td>\n",
       "      <td>-13.114539</td>\n",
       "      <td>0.588434</td>\n",
       "      <td>-15.267725</td>\n",
       "      <td>-10.102099</td>\n",
       "      <td>-0.440946</td>\n",
       "      <td>0.197361</td>\n",
       "    </tr>\n",
       "    <tr>\n",
       "      <th>16317</th>\n",
       "      <td>-350.42902</td>\n",
       "      <td>27.453814</td>\n",
       "      <td>-35.155933</td>\n",
       "      <td>18.849432</td>\n",
       "      <td>-23.086039</td>\n",
       "      <td>2.158883</td>\n",
       "      <td>-8.471071</td>\n",
       "      <td>1.332330</td>\n",
       "      <td>2.440598</td>\n",
       "      <td>-1.968042</td>\n",
       "      <td>-7.462180</td>\n",
       "      <td>0.142055</td>\n",
       "      <td>-4.275077</td>\n",
       "    </tr>\n",
       "    <tr>\n",
       "      <th>16322</th>\n",
       "      <td>-374.96716</td>\n",
       "      <td>-7.382678</td>\n",
       "      <td>-19.960463</td>\n",
       "      <td>34.808210</td>\n",
       "      <td>-24.722097</td>\n",
       "      <td>-2.228705</td>\n",
       "      <td>-9.393265</td>\n",
       "      <td>2.945533</td>\n",
       "      <td>-1.885135</td>\n",
       "      <td>-5.709170</td>\n",
       "      <td>-6.403487</td>\n",
       "      <td>-4.559176</td>\n",
       "      <td>-4.068617</td>\n",
       "    </tr>\n",
       "  </tbody>\n",
       "</table>\n",
       "<p>1805 rows × 13 columns</p>\n",
       "</div>"
      ],
      "text/plain": [
       "               0          1          2          3          4          5  \\\n",
       "2     -313.66693  62.418663  -1.334002  36.037710  -2.650917 -11.021187   \n",
       "4     -341.35330  68.858000  -3.959720   8.430685  -0.561030  -4.473869   \n",
       "6     -351.60030  79.161500  10.344581   4.350783 -14.230150  -3.446104   \n",
       "9     -322.53464  84.011630  -0.464124  10.802254   0.253165  -0.571133   \n",
       "11    -310.75836  27.546112 -17.378850  24.965218 -20.023012   1.167747   \n",
       "...          ...        ...        ...        ...        ...        ...   \n",
       "16308 -396.81607  47.699245 -28.230492  26.002827 -16.124668 -14.775861   \n",
       "16309 -366.09630  59.089397 -23.645912   8.484849 -29.523224  -2.754617   \n",
       "16315 -316.00030  42.245895 -40.056310  16.823680 -23.059666  -6.954729   \n",
       "16317 -350.42902  27.453814 -35.155933  18.849432 -23.086039   2.158883   \n",
       "16322 -374.96716  -7.382678 -19.960463  34.808210 -24.722097  -2.228705   \n",
       "\n",
       "               6          7          8          9         10        11  \\\n",
       "2      -9.310137  -1.562138 -13.035163  -8.655548  -4.336683 -7.372598   \n",
       "4      -9.220818  -3.201562 -11.855061  -4.699773  -2.414847 -7.803762   \n",
       "6      -3.806112  -6.410494  -7.694991  -1.443513  -7.135467 -3.231778   \n",
       "9      -7.632134  -2.497033  -8.864999  -2.741921  -5.094120 -9.865229   \n",
       "11    -13.532715  -7.309593  -3.097385  -5.110380  -7.832861 -5.489938   \n",
       "...          ...        ...        ...        ...        ...       ...   \n",
       "16308 -19.643862  -7.232726  -7.771799  -8.517433   1.568335 -6.449186   \n",
       "16309 -15.226082  -7.238287   1.549171  -8.778543 -10.499634 -2.756247   \n",
       "16315 -10.113519 -13.114539   0.588434 -15.267725 -10.102099 -0.440946   \n",
       "16317  -8.471071   1.332330   2.440598  -1.968042  -7.462180  0.142055   \n",
       "16322  -9.393265   2.945533  -1.885135  -5.709170  -6.403487 -4.559176   \n",
       "\n",
       "             12  \n",
       "2     -7.138989  \n",
       "4     -6.036355  \n",
       "6     -8.599639  \n",
       "9     -3.816170  \n",
       "11    -3.351382  \n",
       "...         ...  \n",
       "16308  1.097754  \n",
       "16309 -6.887878  \n",
       "16315  0.197361  \n",
       "16317 -4.275077  \n",
       "16322 -4.068617  \n",
       "\n",
       "[1805 rows x 13 columns]"
      ]
     },
     "execution_count": 37,
     "metadata": {},
     "output_type": "execute_result"
    }
   ],
   "source": [
    "X = df.iloc[: , -13:]\n",
    "X"
   ]
  },
  {
   "cell_type": "code",
   "execution_count": 38,
   "metadata": {
    "execution": {
     "iopub.execute_input": "2022-11-22T05:19:24.779869Z",
     "iopub.status.busy": "2022-11-22T05:19:24.779379Z",
     "iopub.status.idle": "2022-11-22T05:19:24.791175Z",
     "shell.execute_reply": "2022-11-22T05:19:24.790065Z",
     "shell.execute_reply.started": "2022-11-22T05:19:24.779822Z"
    }
   },
   "outputs": [
    {
     "data": {
      "text/plain": [
       "2        0\n",
       "4        0\n",
       "6        0\n",
       "9        0\n",
       "11       0\n",
       "        ..\n",
       "16308    0\n",
       "16309    0\n",
       "16315    0\n",
       "16317    0\n",
       "16322    0\n",
       "Name: SoundRep, Length: 1805, dtype: int64"
      ]
     },
     "execution_count": 38,
     "metadata": {},
     "output_type": "execute_result"
    }
   ],
   "source": [
    "y = df['SoundRep']\n",
    "y"
   ]
  },
  {
   "cell_type": "code",
   "execution_count": 39,
   "metadata": {
    "execution": {
     "iopub.execute_input": "2022-11-22T05:19:27.451708Z",
     "iopub.status.busy": "2022-11-22T05:19:27.451235Z",
     "iopub.status.idle": "2022-11-22T05:19:28.088749Z",
     "shell.execute_reply": "2022-11-22T05:19:28.087500Z",
     "shell.execute_reply.started": "2022-11-22T05:19:27.451670Z"
    }
   },
   "outputs": [],
   "source": [
    "from sklearn.model_selection import train_test_split\n",
    "X_train, X_test, y_train, y_test =  train_test_split(X, y, test_size=0.4, random_state=42)"
   ]
  },
  {
   "cell_type": "code",
   "execution_count": 40,
   "metadata": {
    "execution": {
     "iopub.execute_input": "2022-11-22T05:19:30.785135Z",
     "iopub.status.busy": "2022-11-22T05:19:30.784732Z",
     "iopub.status.idle": "2022-11-22T05:19:30.793081Z",
     "shell.execute_reply": "2022-11-22T05:19:30.791883Z",
     "shell.execute_reply.started": "2022-11-22T05:19:30.785100Z"
    }
   },
   "outputs": [
    {
     "data": {
      "text/plain": [
       "Counter({0: 1017, 1: 66})"
      ]
     },
     "execution_count": 40,
     "metadata": {},
     "output_type": "execute_result"
    }
   ],
   "source": [
    "from collections import Counter\n",
    "Counter(y_train)"
   ]
  },
  {
   "cell_type": "code",
   "execution_count": 41,
   "metadata": {
    "execution": {
     "iopub.execute_input": "2022-11-22T05:19:58.517652Z",
     "iopub.status.busy": "2022-11-22T05:19:58.516923Z",
     "iopub.status.idle": "2022-11-22T05:19:58.556485Z",
     "shell.execute_reply": "2022-11-22T05:19:58.555252Z",
     "shell.execute_reply.started": "2022-11-22T05:19:58.517614Z"
    }
   },
   "outputs": [
    {
     "data": {
      "text/plain": [
       "86.98060941828255"
      ]
     },
     "execution_count": 41,
     "metadata": {},
     "output_type": "execute_result"
    }
   ],
   "source": [
    "from sklearn.tree import DecisionTreeClassifier\n",
    "clf = DecisionTreeClassifier(criterion='entropy',random_state=5)\n",
    "clf.fit(X_train, y_train)\n",
    "clf.score(X_test,y_test) * 100"
   ]
  },
  {
   "cell_type": "code",
   "execution_count": 42,
   "metadata": {
    "execution": {
     "iopub.execute_input": "2022-11-22T05:20:01.379503Z",
     "iopub.status.busy": "2022-11-22T05:20:01.378873Z",
     "iopub.status.idle": "2022-11-22T05:20:01.388760Z",
     "shell.execute_reply": "2022-11-22T05:20:01.387454Z",
     "shell.execute_reply.started": "2022-11-22T05:20:01.379465Z"
    }
   },
   "outputs": [
    {
     "name": "stdout",
     "output_type": "stream",
     "text": [
      "Counter({0: 675, 1: 47})\n",
      "Counter({0: 667, 1: 55})\n"
     ]
    }
   ],
   "source": [
    "y_pred = np.array(clf.predict(X_test))\n",
    "y_actual = np.array(y_test)\n",
    "print(Counter(y_pred))\n",
    "print(Counter(y_actual))"
   ]
  },
  {
   "cell_type": "markdown",
   "metadata": {},
   "source": [
    "## Model Creation & Training for WordRep Classification"
   ]
  },
  {
   "cell_type": "code",
   "execution_count": 43,
   "metadata": {
    "execution": {
     "iopub.execute_input": "2022-11-22T05:20:09.035964Z",
     "iopub.status.busy": "2022-11-22T05:20:09.035608Z",
     "iopub.status.idle": "2022-11-22T05:20:09.119071Z",
     "shell.execute_reply": "2022-11-22T05:20:09.117985Z",
     "shell.execute_reply.started": "2022-11-22T05:20:09.035933Z"
    }
   },
   "outputs": [],
   "source": [
    "import pandas as pd\n",
    "df = pd.read_csv('sep28k-mfcc.csv')"
   ]
  },
  {
   "cell_type": "code",
   "execution_count": 44,
   "metadata": {
    "execution": {
     "iopub.execute_input": "2022-11-22T05:20:11.889596Z",
     "iopub.status.busy": "2022-11-22T05:20:11.888838Z",
     "iopub.status.idle": "2022-11-22T05:20:11.898253Z",
     "shell.execute_reply": "2022-11-22T05:20:11.897080Z",
     "shell.execute_reply.started": "2022-11-22T05:20:11.889542Z"
    }
   },
   "outputs": [
    {
     "data": {
      "text/plain": [
       "Index(['Show', 'EpId', 'ClipId', 'Start', 'Stop', 'Unsure', 'PoorAudioQuality',\n",
       "       'Prolongation', 'Block', 'SoundRep', 'WordRep', 'DifficultToUnderstand',\n",
       "       'Interjection', 'NoStutteredWords', 'NaturalPause', 'Music', 'NoSpeech',\n",
       "       'Name', '0', '1', '2', '3', '4', '5', '6', '7', '8', '9', '10', '11',\n",
       "       '12'],\n",
       "      dtype='object')"
      ]
     },
     "execution_count": 44,
     "metadata": {},
     "output_type": "execute_result"
    }
   ],
   "source": [
    "df.columns"
   ]
  },
  {
   "cell_type": "code",
   "execution_count": 45,
   "metadata": {
    "execution": {
     "iopub.execute_input": "2022-11-22T05:20:13.679479Z",
     "iopub.status.busy": "2022-11-22T05:20:13.679003Z",
     "iopub.status.idle": "2022-11-22T05:20:13.687324Z",
     "shell.execute_reply": "2022-11-22T05:20:13.686107Z",
     "shell.execute_reply.started": "2022-11-22T05:20:13.679438Z"
    }
   },
   "outputs": [
    {
     "data": {
      "text/plain": [
       "(16323, 31)"
      ]
     },
     "execution_count": 45,
     "metadata": {},
     "output_type": "execute_result"
    }
   ],
   "source": [
    "df.shape"
   ]
  },
  {
   "cell_type": "code",
   "execution_count": 46,
   "metadata": {
    "execution": {
     "iopub.execute_input": "2022-11-22T05:20:17.384616Z",
     "iopub.status.busy": "2022-11-22T05:20:17.383419Z",
     "iopub.status.idle": "2022-11-22T05:20:17.420049Z",
     "shell.execute_reply": "2022-11-22T05:20:17.418807Z",
     "shell.execute_reply.started": "2022-11-22T05:20:17.384584Z"
    }
   },
   "outputs": [
    {
     "data": {
      "text/html": [
       "<div>\n",
       "<style scoped>\n",
       "    .dataframe tbody tr th:only-of-type {\n",
       "        vertical-align: middle;\n",
       "    }\n",
       "\n",
       "    .dataframe tbody tr th {\n",
       "        vertical-align: top;\n",
       "    }\n",
       "\n",
       "    .dataframe thead th {\n",
       "        text-align: right;\n",
       "    }\n",
       "</style>\n",
       "<table border=\"1\" class=\"dataframe\">\n",
       "  <thead>\n",
       "    <tr style=\"text-align: right;\">\n",
       "      <th></th>\n",
       "      <th>Show</th>\n",
       "      <th>EpId</th>\n",
       "      <th>ClipId</th>\n",
       "      <th>Start</th>\n",
       "      <th>Stop</th>\n",
       "      <th>Unsure</th>\n",
       "      <th>PoorAudioQuality</th>\n",
       "      <th>Prolongation</th>\n",
       "      <th>Block</th>\n",
       "      <th>SoundRep</th>\n",
       "      <th>...</th>\n",
       "      <th>3</th>\n",
       "      <th>4</th>\n",
       "      <th>5</th>\n",
       "      <th>6</th>\n",
       "      <th>7</th>\n",
       "      <th>8</th>\n",
       "      <th>9</th>\n",
       "      <th>10</th>\n",
       "      <th>11</th>\n",
       "      <th>12</th>\n",
       "    </tr>\n",
       "  </thead>\n",
       "  <tbody>\n",
       "    <tr>\n",
       "      <th>2</th>\n",
       "      <td>HeStutters</td>\n",
       "      <td>0</td>\n",
       "      <td>2</td>\n",
       "      <td>34809760</td>\n",
       "      <td>34857760</td>\n",
       "      <td>0</td>\n",
       "      <td>0</td>\n",
       "      <td>0</td>\n",
       "      <td>0</td>\n",
       "      <td>0</td>\n",
       "      <td>...</td>\n",
       "      <td>36.037710</td>\n",
       "      <td>-2.650917</td>\n",
       "      <td>-11.021187</td>\n",
       "      <td>-9.310137</td>\n",
       "      <td>-1.562138</td>\n",
       "      <td>-13.035163</td>\n",
       "      <td>-8.655548</td>\n",
       "      <td>-4.336683</td>\n",
       "      <td>-7.372598</td>\n",
       "      <td>-7.138989</td>\n",
       "    </tr>\n",
       "    <tr>\n",
       "      <th>4</th>\n",
       "      <td>HeStutters</td>\n",
       "      <td>0</td>\n",
       "      <td>4</td>\n",
       "      <td>35721920</td>\n",
       "      <td>35769920</td>\n",
       "      <td>0</td>\n",
       "      <td>0</td>\n",
       "      <td>0</td>\n",
       "      <td>0</td>\n",
       "      <td>0</td>\n",
       "      <td>...</td>\n",
       "      <td>8.430685</td>\n",
       "      <td>-0.561030</td>\n",
       "      <td>-4.473869</td>\n",
       "      <td>-9.220818</td>\n",
       "      <td>-3.201562</td>\n",
       "      <td>-11.855061</td>\n",
       "      <td>-4.699773</td>\n",
       "      <td>-2.414847</td>\n",
       "      <td>-7.803762</td>\n",
       "      <td>-6.036355</td>\n",
       "    </tr>\n",
       "    <tr>\n",
       "      <th>6</th>\n",
       "      <td>HeStutters</td>\n",
       "      <td>0</td>\n",
       "      <td>6</td>\n",
       "      <td>37251200</td>\n",
       "      <td>37299200</td>\n",
       "      <td>0</td>\n",
       "      <td>0</td>\n",
       "      <td>0</td>\n",
       "      <td>0</td>\n",
       "      <td>0</td>\n",
       "      <td>...</td>\n",
       "      <td>4.350783</td>\n",
       "      <td>-14.230150</td>\n",
       "      <td>-3.446104</td>\n",
       "      <td>-3.806112</td>\n",
       "      <td>-6.410494</td>\n",
       "      <td>-7.694991</td>\n",
       "      <td>-1.443513</td>\n",
       "      <td>-7.135467</td>\n",
       "      <td>-3.231778</td>\n",
       "      <td>-8.599639</td>\n",
       "    </tr>\n",
       "    <tr>\n",
       "      <th>9</th>\n",
       "      <td>HeStutters</td>\n",
       "      <td>0</td>\n",
       "      <td>9</td>\n",
       "      <td>41417440</td>\n",
       "      <td>41465440</td>\n",
       "      <td>0</td>\n",
       "      <td>0</td>\n",
       "      <td>0</td>\n",
       "      <td>0</td>\n",
       "      <td>0</td>\n",
       "      <td>...</td>\n",
       "      <td>10.802254</td>\n",
       "      <td>0.253165</td>\n",
       "      <td>-0.571133</td>\n",
       "      <td>-7.632134</td>\n",
       "      <td>-2.497033</td>\n",
       "      <td>-8.864999</td>\n",
       "      <td>-2.741921</td>\n",
       "      <td>-5.094120</td>\n",
       "      <td>-9.865229</td>\n",
       "      <td>-3.816170</td>\n",
       "    </tr>\n",
       "    <tr>\n",
       "      <th>11</th>\n",
       "      <td>HeStutters</td>\n",
       "      <td>0</td>\n",
       "      <td>11</td>\n",
       "      <td>42928800</td>\n",
       "      <td>42976800</td>\n",
       "      <td>0</td>\n",
       "      <td>0</td>\n",
       "      <td>0</td>\n",
       "      <td>0</td>\n",
       "      <td>0</td>\n",
       "      <td>...</td>\n",
       "      <td>24.965218</td>\n",
       "      <td>-20.023012</td>\n",
       "      <td>1.167747</td>\n",
       "      <td>-13.532715</td>\n",
       "      <td>-7.309593</td>\n",
       "      <td>-3.097385</td>\n",
       "      <td>-5.110380</td>\n",
       "      <td>-7.832861</td>\n",
       "      <td>-5.489938</td>\n",
       "      <td>-3.351382</td>\n",
       "    </tr>\n",
       "    <tr>\n",
       "      <th>...</th>\n",
       "      <td>...</td>\n",
       "      <td>...</td>\n",
       "      <td>...</td>\n",
       "      <td>...</td>\n",
       "      <td>...</td>\n",
       "      <td>...</td>\n",
       "      <td>...</td>\n",
       "      <td>...</td>\n",
       "      <td>...</td>\n",
       "      <td>...</td>\n",
       "      <td>...</td>\n",
       "      <td>...</td>\n",
       "      <td>...</td>\n",
       "      <td>...</td>\n",
       "      <td>...</td>\n",
       "      <td>...</td>\n",
       "      <td>...</td>\n",
       "      <td>...</td>\n",
       "      <td>...</td>\n",
       "      <td>...</td>\n",
       "      <td>...</td>\n",
       "    </tr>\n",
       "    <tr>\n",
       "      <th>16308</th>\n",
       "      <td>WomenWhoStutter</td>\n",
       "      <td>109</td>\n",
       "      <td>24</td>\n",
       "      <td>16179040</td>\n",
       "      <td>16227040</td>\n",
       "      <td>0</td>\n",
       "      <td>0</td>\n",
       "      <td>0</td>\n",
       "      <td>0</td>\n",
       "      <td>0</td>\n",
       "      <td>...</td>\n",
       "      <td>26.002827</td>\n",
       "      <td>-16.124668</td>\n",
       "      <td>-14.775861</td>\n",
       "      <td>-19.643862</td>\n",
       "      <td>-7.232726</td>\n",
       "      <td>-7.771799</td>\n",
       "      <td>-8.517433</td>\n",
       "      <td>1.568335</td>\n",
       "      <td>-6.449186</td>\n",
       "      <td>1.097754</td>\n",
       "    </tr>\n",
       "    <tr>\n",
       "      <th>16309</th>\n",
       "      <td>WomenWhoStutter</td>\n",
       "      <td>109</td>\n",
       "      <td>25</td>\n",
       "      <td>16224160</td>\n",
       "      <td>16272160</td>\n",
       "      <td>0</td>\n",
       "      <td>0</td>\n",
       "      <td>0</td>\n",
       "      <td>0</td>\n",
       "      <td>0</td>\n",
       "      <td>...</td>\n",
       "      <td>8.484849</td>\n",
       "      <td>-29.523224</td>\n",
       "      <td>-2.754617</td>\n",
       "      <td>-15.226082</td>\n",
       "      <td>-7.238287</td>\n",
       "      <td>1.549171</td>\n",
       "      <td>-8.778543</td>\n",
       "      <td>-10.499634</td>\n",
       "      <td>-2.756247</td>\n",
       "      <td>-6.887878</td>\n",
       "    </tr>\n",
       "    <tr>\n",
       "      <th>16315</th>\n",
       "      <td>WomenWhoStutter</td>\n",
       "      <td>109</td>\n",
       "      <td>31</td>\n",
       "      <td>20476320</td>\n",
       "      <td>20524320</td>\n",
       "      <td>0</td>\n",
       "      <td>0</td>\n",
       "      <td>0</td>\n",
       "      <td>0</td>\n",
       "      <td>0</td>\n",
       "      <td>...</td>\n",
       "      <td>16.823680</td>\n",
       "      <td>-23.059666</td>\n",
       "      <td>-6.954729</td>\n",
       "      <td>-10.113519</td>\n",
       "      <td>-13.114539</td>\n",
       "      <td>0.588434</td>\n",
       "      <td>-15.267725</td>\n",
       "      <td>-10.102099</td>\n",
       "      <td>-0.440946</td>\n",
       "      <td>0.197361</td>\n",
       "    </tr>\n",
       "    <tr>\n",
       "      <th>16317</th>\n",
       "      <td>WomenWhoStutter</td>\n",
       "      <td>109</td>\n",
       "      <td>33</td>\n",
       "      <td>24747360</td>\n",
       "      <td>24795360</td>\n",
       "      <td>0</td>\n",
       "      <td>0</td>\n",
       "      <td>0</td>\n",
       "      <td>0</td>\n",
       "      <td>0</td>\n",
       "      <td>...</td>\n",
       "      <td>18.849432</td>\n",
       "      <td>-23.086039</td>\n",
       "      <td>2.158883</td>\n",
       "      <td>-8.471071</td>\n",
       "      <td>1.332330</td>\n",
       "      <td>2.440598</td>\n",
       "      <td>-1.968042</td>\n",
       "      <td>-7.462180</td>\n",
       "      <td>0.142055</td>\n",
       "      <td>-4.275077</td>\n",
       "    </tr>\n",
       "    <tr>\n",
       "      <th>16322</th>\n",
       "      <td>WomenWhoStutter</td>\n",
       "      <td>109</td>\n",
       "      <td>39</td>\n",
       "      <td>29318080</td>\n",
       "      <td>29366080</td>\n",
       "      <td>0</td>\n",
       "      <td>0</td>\n",
       "      <td>0</td>\n",
       "      <td>0</td>\n",
       "      <td>0</td>\n",
       "      <td>...</td>\n",
       "      <td>34.808210</td>\n",
       "      <td>-24.722097</td>\n",
       "      <td>-2.228705</td>\n",
       "      <td>-9.393265</td>\n",
       "      <td>2.945533</td>\n",
       "      <td>-1.885135</td>\n",
       "      <td>-5.709170</td>\n",
       "      <td>-6.403487</td>\n",
       "      <td>-4.559176</td>\n",
       "      <td>-4.068617</td>\n",
       "    </tr>\n",
       "  </tbody>\n",
       "</table>\n",
       "<p>1831 rows × 31 columns</p>\n",
       "</div>"
      ],
      "text/plain": [
       "                  Show  EpId  ClipId     Start      Stop  Unsure  \\\n",
       "2           HeStutters     0       2  34809760  34857760       0   \n",
       "4           HeStutters     0       4  35721920  35769920       0   \n",
       "6           HeStutters     0       6  37251200  37299200       0   \n",
       "9           HeStutters     0       9  41417440  41465440       0   \n",
       "11          HeStutters     0      11  42928800  42976800       0   \n",
       "...                ...   ...     ...       ...       ...     ...   \n",
       "16308  WomenWhoStutter   109      24  16179040  16227040       0   \n",
       "16309  WomenWhoStutter   109      25  16224160  16272160       0   \n",
       "16315  WomenWhoStutter   109      31  20476320  20524320       0   \n",
       "16317  WomenWhoStutter   109      33  24747360  24795360       0   \n",
       "16322  WomenWhoStutter   109      39  29318080  29366080       0   \n",
       "\n",
       "       PoorAudioQuality  Prolongation  Block  SoundRep  ...          3  \\\n",
       "2                     0             0      0         0  ...  36.037710   \n",
       "4                     0             0      0         0  ...   8.430685   \n",
       "6                     0             0      0         0  ...   4.350783   \n",
       "9                     0             0      0         0  ...  10.802254   \n",
       "11                    0             0      0         0  ...  24.965218   \n",
       "...                 ...           ...    ...       ...  ...        ...   \n",
       "16308                 0             0      0         0  ...  26.002827   \n",
       "16309                 0             0      0         0  ...   8.484849   \n",
       "16315                 0             0      0         0  ...  16.823680   \n",
       "16317                 0             0      0         0  ...  18.849432   \n",
       "16322                 0             0      0         0  ...  34.808210   \n",
       "\n",
       "               4          5          6          7          8          9  \\\n",
       "2      -2.650917 -11.021187  -9.310137  -1.562138 -13.035163  -8.655548   \n",
       "4      -0.561030  -4.473869  -9.220818  -3.201562 -11.855061  -4.699773   \n",
       "6     -14.230150  -3.446104  -3.806112  -6.410494  -7.694991  -1.443513   \n",
       "9       0.253165  -0.571133  -7.632134  -2.497033  -8.864999  -2.741921   \n",
       "11    -20.023012   1.167747 -13.532715  -7.309593  -3.097385  -5.110380   \n",
       "...          ...        ...        ...        ...        ...        ...   \n",
       "16308 -16.124668 -14.775861 -19.643862  -7.232726  -7.771799  -8.517433   \n",
       "16309 -29.523224  -2.754617 -15.226082  -7.238287   1.549171  -8.778543   \n",
       "16315 -23.059666  -6.954729 -10.113519 -13.114539   0.588434 -15.267725   \n",
       "16317 -23.086039   2.158883  -8.471071   1.332330   2.440598  -1.968042   \n",
       "16322 -24.722097  -2.228705  -9.393265   2.945533  -1.885135  -5.709170   \n",
       "\n",
       "              10        11        12  \n",
       "2      -4.336683 -7.372598 -7.138989  \n",
       "4      -2.414847 -7.803762 -6.036355  \n",
       "6      -7.135467 -3.231778 -8.599639  \n",
       "9      -5.094120 -9.865229 -3.816170  \n",
       "11     -7.832861 -5.489938 -3.351382  \n",
       "...          ...       ...       ...  \n",
       "16308   1.568335 -6.449186  1.097754  \n",
       "16309 -10.499634 -2.756247 -6.887878  \n",
       "16315 -10.102099 -0.440946  0.197361  \n",
       "16317  -7.462180  0.142055 -4.275077  \n",
       "16322  -6.403487 -4.559176 -4.068617  \n",
       "\n",
       "[1831 rows x 31 columns]"
      ]
     },
     "execution_count": 46,
     "metadata": {},
     "output_type": "execute_result"
    }
   ],
   "source": [
    "df = df[df['NoStutteredWords'] != 0]\n",
    "df = df[df['NaturalPause'] == 0]\n",
    "df = df[df['Interjection'] == 0]\n",
    "df = df[df['Prolongation'] == 0]\n",
    "df = df[df['SoundRep'] == 0]\n",
    "df = df[df['Block'] == 0]\n",
    "df"
   ]
  },
  {
   "cell_type": "code",
   "execution_count": 47,
   "metadata": {
    "execution": {
     "iopub.execute_input": "2022-11-22T05:20:21.203776Z",
     "iopub.status.busy": "2022-11-22T05:20:21.203401Z",
     "iopub.status.idle": "2022-11-22T05:20:21.214368Z",
     "shell.execute_reply": "2022-11-22T05:20:21.213263Z",
     "shell.execute_reply.started": "2022-11-22T05:20:21.203743Z"
    }
   },
   "outputs": [
    {
     "data": {
      "text/plain": [
       "0    1684\n",
       "1     147\n",
       "Name: WordRep, dtype: int64"
      ]
     },
     "execution_count": 47,
     "metadata": {},
     "output_type": "execute_result"
    }
   ],
   "source": [
    "df.loc[df['WordRep'] >= 1.0, 'WordRep'] = 1.0\n",
    "df['WordRep'].value_counts()"
   ]
  },
  {
   "cell_type": "code",
   "execution_count": 48,
   "metadata": {
    "execution": {
     "iopub.execute_input": "2022-11-22T05:20:23.681410Z",
     "iopub.status.busy": "2022-11-22T05:20:23.680666Z",
     "iopub.status.idle": "2022-11-22T05:20:23.708582Z",
     "shell.execute_reply": "2022-11-22T05:20:23.707611Z",
     "shell.execute_reply.started": "2022-11-22T05:20:23.681367Z"
    }
   },
   "outputs": [
    {
     "data": {
      "text/html": [
       "<div>\n",
       "<style scoped>\n",
       "    .dataframe tbody tr th:only-of-type {\n",
       "        vertical-align: middle;\n",
       "    }\n",
       "\n",
       "    .dataframe tbody tr th {\n",
       "        vertical-align: top;\n",
       "    }\n",
       "\n",
       "    .dataframe thead th {\n",
       "        text-align: right;\n",
       "    }\n",
       "</style>\n",
       "<table border=\"1\" class=\"dataframe\">\n",
       "  <thead>\n",
       "    <tr style=\"text-align: right;\">\n",
       "      <th></th>\n",
       "      <th>0</th>\n",
       "      <th>1</th>\n",
       "      <th>2</th>\n",
       "      <th>3</th>\n",
       "      <th>4</th>\n",
       "      <th>5</th>\n",
       "      <th>6</th>\n",
       "      <th>7</th>\n",
       "      <th>8</th>\n",
       "      <th>9</th>\n",
       "      <th>10</th>\n",
       "      <th>11</th>\n",
       "      <th>12</th>\n",
       "    </tr>\n",
       "  </thead>\n",
       "  <tbody>\n",
       "    <tr>\n",
       "      <th>2</th>\n",
       "      <td>-313.66693</td>\n",
       "      <td>62.418663</td>\n",
       "      <td>-1.334002</td>\n",
       "      <td>36.037710</td>\n",
       "      <td>-2.650917</td>\n",
       "      <td>-11.021187</td>\n",
       "      <td>-9.310137</td>\n",
       "      <td>-1.562138</td>\n",
       "      <td>-13.035163</td>\n",
       "      <td>-8.655548</td>\n",
       "      <td>-4.336683</td>\n",
       "      <td>-7.372598</td>\n",
       "      <td>-7.138989</td>\n",
       "    </tr>\n",
       "    <tr>\n",
       "      <th>4</th>\n",
       "      <td>-341.35330</td>\n",
       "      <td>68.858000</td>\n",
       "      <td>-3.959720</td>\n",
       "      <td>8.430685</td>\n",
       "      <td>-0.561030</td>\n",
       "      <td>-4.473869</td>\n",
       "      <td>-9.220818</td>\n",
       "      <td>-3.201562</td>\n",
       "      <td>-11.855061</td>\n",
       "      <td>-4.699773</td>\n",
       "      <td>-2.414847</td>\n",
       "      <td>-7.803762</td>\n",
       "      <td>-6.036355</td>\n",
       "    </tr>\n",
       "    <tr>\n",
       "      <th>6</th>\n",
       "      <td>-351.60030</td>\n",
       "      <td>79.161500</td>\n",
       "      <td>10.344581</td>\n",
       "      <td>4.350783</td>\n",
       "      <td>-14.230150</td>\n",
       "      <td>-3.446104</td>\n",
       "      <td>-3.806112</td>\n",
       "      <td>-6.410494</td>\n",
       "      <td>-7.694991</td>\n",
       "      <td>-1.443513</td>\n",
       "      <td>-7.135467</td>\n",
       "      <td>-3.231778</td>\n",
       "      <td>-8.599639</td>\n",
       "    </tr>\n",
       "    <tr>\n",
       "      <th>9</th>\n",
       "      <td>-322.53464</td>\n",
       "      <td>84.011630</td>\n",
       "      <td>-0.464124</td>\n",
       "      <td>10.802254</td>\n",
       "      <td>0.253165</td>\n",
       "      <td>-0.571133</td>\n",
       "      <td>-7.632134</td>\n",
       "      <td>-2.497033</td>\n",
       "      <td>-8.864999</td>\n",
       "      <td>-2.741921</td>\n",
       "      <td>-5.094120</td>\n",
       "      <td>-9.865229</td>\n",
       "      <td>-3.816170</td>\n",
       "    </tr>\n",
       "    <tr>\n",
       "      <th>11</th>\n",
       "      <td>-310.75836</td>\n",
       "      <td>27.546112</td>\n",
       "      <td>-17.378850</td>\n",
       "      <td>24.965218</td>\n",
       "      <td>-20.023012</td>\n",
       "      <td>1.167747</td>\n",
       "      <td>-13.532715</td>\n",
       "      <td>-7.309593</td>\n",
       "      <td>-3.097385</td>\n",
       "      <td>-5.110380</td>\n",
       "      <td>-7.832861</td>\n",
       "      <td>-5.489938</td>\n",
       "      <td>-3.351382</td>\n",
       "    </tr>\n",
       "    <tr>\n",
       "      <th>...</th>\n",
       "      <td>...</td>\n",
       "      <td>...</td>\n",
       "      <td>...</td>\n",
       "      <td>...</td>\n",
       "      <td>...</td>\n",
       "      <td>...</td>\n",
       "      <td>...</td>\n",
       "      <td>...</td>\n",
       "      <td>...</td>\n",
       "      <td>...</td>\n",
       "      <td>...</td>\n",
       "      <td>...</td>\n",
       "      <td>...</td>\n",
       "    </tr>\n",
       "    <tr>\n",
       "      <th>16308</th>\n",
       "      <td>-396.81607</td>\n",
       "      <td>47.699245</td>\n",
       "      <td>-28.230492</td>\n",
       "      <td>26.002827</td>\n",
       "      <td>-16.124668</td>\n",
       "      <td>-14.775861</td>\n",
       "      <td>-19.643862</td>\n",
       "      <td>-7.232726</td>\n",
       "      <td>-7.771799</td>\n",
       "      <td>-8.517433</td>\n",
       "      <td>1.568335</td>\n",
       "      <td>-6.449186</td>\n",
       "      <td>1.097754</td>\n",
       "    </tr>\n",
       "    <tr>\n",
       "      <th>16309</th>\n",
       "      <td>-366.09630</td>\n",
       "      <td>59.089397</td>\n",
       "      <td>-23.645912</td>\n",
       "      <td>8.484849</td>\n",
       "      <td>-29.523224</td>\n",
       "      <td>-2.754617</td>\n",
       "      <td>-15.226082</td>\n",
       "      <td>-7.238287</td>\n",
       "      <td>1.549171</td>\n",
       "      <td>-8.778543</td>\n",
       "      <td>-10.499634</td>\n",
       "      <td>-2.756247</td>\n",
       "      <td>-6.887878</td>\n",
       "    </tr>\n",
       "    <tr>\n",
       "      <th>16315</th>\n",
       "      <td>-316.00030</td>\n",
       "      <td>42.245895</td>\n",
       "      <td>-40.056310</td>\n",
       "      <td>16.823680</td>\n",
       "      <td>-23.059666</td>\n",
       "      <td>-6.954729</td>\n",
       "      <td>-10.113519</td>\n",
       "      <td>-13.114539</td>\n",
       "      <td>0.588434</td>\n",
       "      <td>-15.267725</td>\n",
       "      <td>-10.102099</td>\n",
       "      <td>-0.440946</td>\n",
       "      <td>0.197361</td>\n",
       "    </tr>\n",
       "    <tr>\n",
       "      <th>16317</th>\n",
       "      <td>-350.42902</td>\n",
       "      <td>27.453814</td>\n",
       "      <td>-35.155933</td>\n",
       "      <td>18.849432</td>\n",
       "      <td>-23.086039</td>\n",
       "      <td>2.158883</td>\n",
       "      <td>-8.471071</td>\n",
       "      <td>1.332330</td>\n",
       "      <td>2.440598</td>\n",
       "      <td>-1.968042</td>\n",
       "      <td>-7.462180</td>\n",
       "      <td>0.142055</td>\n",
       "      <td>-4.275077</td>\n",
       "    </tr>\n",
       "    <tr>\n",
       "      <th>16322</th>\n",
       "      <td>-374.96716</td>\n",
       "      <td>-7.382678</td>\n",
       "      <td>-19.960463</td>\n",
       "      <td>34.808210</td>\n",
       "      <td>-24.722097</td>\n",
       "      <td>-2.228705</td>\n",
       "      <td>-9.393265</td>\n",
       "      <td>2.945533</td>\n",
       "      <td>-1.885135</td>\n",
       "      <td>-5.709170</td>\n",
       "      <td>-6.403487</td>\n",
       "      <td>-4.559176</td>\n",
       "      <td>-4.068617</td>\n",
       "    </tr>\n",
       "  </tbody>\n",
       "</table>\n",
       "<p>1831 rows × 13 columns</p>\n",
       "</div>"
      ],
      "text/plain": [
       "               0          1          2          3          4          5  \\\n",
       "2     -313.66693  62.418663  -1.334002  36.037710  -2.650917 -11.021187   \n",
       "4     -341.35330  68.858000  -3.959720   8.430685  -0.561030  -4.473869   \n",
       "6     -351.60030  79.161500  10.344581   4.350783 -14.230150  -3.446104   \n",
       "9     -322.53464  84.011630  -0.464124  10.802254   0.253165  -0.571133   \n",
       "11    -310.75836  27.546112 -17.378850  24.965218 -20.023012   1.167747   \n",
       "...          ...        ...        ...        ...        ...        ...   \n",
       "16308 -396.81607  47.699245 -28.230492  26.002827 -16.124668 -14.775861   \n",
       "16309 -366.09630  59.089397 -23.645912   8.484849 -29.523224  -2.754617   \n",
       "16315 -316.00030  42.245895 -40.056310  16.823680 -23.059666  -6.954729   \n",
       "16317 -350.42902  27.453814 -35.155933  18.849432 -23.086039   2.158883   \n",
       "16322 -374.96716  -7.382678 -19.960463  34.808210 -24.722097  -2.228705   \n",
       "\n",
       "               6          7          8          9         10        11  \\\n",
       "2      -9.310137  -1.562138 -13.035163  -8.655548  -4.336683 -7.372598   \n",
       "4      -9.220818  -3.201562 -11.855061  -4.699773  -2.414847 -7.803762   \n",
       "6      -3.806112  -6.410494  -7.694991  -1.443513  -7.135467 -3.231778   \n",
       "9      -7.632134  -2.497033  -8.864999  -2.741921  -5.094120 -9.865229   \n",
       "11    -13.532715  -7.309593  -3.097385  -5.110380  -7.832861 -5.489938   \n",
       "...          ...        ...        ...        ...        ...       ...   \n",
       "16308 -19.643862  -7.232726  -7.771799  -8.517433   1.568335 -6.449186   \n",
       "16309 -15.226082  -7.238287   1.549171  -8.778543 -10.499634 -2.756247   \n",
       "16315 -10.113519 -13.114539   0.588434 -15.267725 -10.102099 -0.440946   \n",
       "16317  -8.471071   1.332330   2.440598  -1.968042  -7.462180  0.142055   \n",
       "16322  -9.393265   2.945533  -1.885135  -5.709170  -6.403487 -4.559176   \n",
       "\n",
       "             12  \n",
       "2     -7.138989  \n",
       "4     -6.036355  \n",
       "6     -8.599639  \n",
       "9     -3.816170  \n",
       "11    -3.351382  \n",
       "...         ...  \n",
       "16308  1.097754  \n",
       "16309 -6.887878  \n",
       "16315  0.197361  \n",
       "16317 -4.275077  \n",
       "16322 -4.068617  \n",
       "\n",
       "[1831 rows x 13 columns]"
      ]
     },
     "execution_count": 48,
     "metadata": {},
     "output_type": "execute_result"
    }
   ],
   "source": [
    "X = df.iloc[: , -13:]\n",
    "X"
   ]
  },
  {
   "cell_type": "code",
   "execution_count": 49,
   "metadata": {
    "execution": {
     "iopub.execute_input": "2022-11-22T05:20:26.071583Z",
     "iopub.status.busy": "2022-11-22T05:20:26.070736Z",
     "iopub.status.idle": "2022-11-22T05:20:26.079594Z",
     "shell.execute_reply": "2022-11-22T05:20:26.078515Z",
     "shell.execute_reply.started": "2022-11-22T05:20:26.071538Z"
    }
   },
   "outputs": [
    {
     "data": {
      "text/plain": [
       "2        0\n",
       "4        0\n",
       "6        0\n",
       "9        0\n",
       "11       0\n",
       "        ..\n",
       "16308    0\n",
       "16309    0\n",
       "16315    0\n",
       "16317    0\n",
       "16322    0\n",
       "Name: WordRep, Length: 1831, dtype: int64"
      ]
     },
     "execution_count": 49,
     "metadata": {},
     "output_type": "execute_result"
    }
   ],
   "source": [
    "y = df['WordRep']\n",
    "y"
   ]
  },
  {
   "cell_type": "code",
   "execution_count": 50,
   "metadata": {
    "execution": {
     "iopub.execute_input": "2022-11-22T05:20:28.632238Z",
     "iopub.status.busy": "2022-11-22T05:20:28.631102Z",
     "iopub.status.idle": "2022-11-22T05:20:28.643209Z",
     "shell.execute_reply": "2022-11-22T05:20:28.642216Z",
     "shell.execute_reply.started": "2022-11-22T05:20:28.632192Z"
    }
   },
   "outputs": [
    {
     "data": {
      "text/plain": [
       "Counter({0: 1010, 1: 88})"
      ]
     },
     "execution_count": 50,
     "metadata": {},
     "output_type": "execute_result"
    }
   ],
   "source": [
    "from sklearn.model_selection import train_test_split\n",
    "X_train, X_test, y_train, y_test =  train_test_split(X, y, test_size=0.4, random_state=42)\n",
    "\n",
    "from collections import Counter\n",
    "Counter(y_train)"
   ]
  },
  {
   "cell_type": "code",
   "execution_count": 51,
   "metadata": {
    "execution": {
     "iopub.execute_input": "2022-11-22T05:20:30.677514Z",
     "iopub.status.busy": "2022-11-22T05:20:30.676849Z",
     "iopub.status.idle": "2022-11-22T05:20:30.731524Z",
     "shell.execute_reply": "2022-11-22T05:20:30.730450Z",
     "shell.execute_reply.started": "2022-11-22T05:20:30.677478Z"
    }
   },
   "outputs": [
    {
     "data": {
      "text/plain": [
       "84.31105047748977"
      ]
     },
     "execution_count": 51,
     "metadata": {},
     "output_type": "execute_result"
    }
   ],
   "source": [
    "from sklearn.tree import DecisionTreeClassifier\n",
    "clf = DecisionTreeClassifier(criterion='gini',random_state=5)\n",
    "# clf.fit(X_over, y_over)\n",
    "# clf.fit(X_smote, y_smote)\n",
    "# clf.fit(X_pipe, y_pipe)\n",
    "clf.fit(X_train, y_train)\n",
    "clf.score(X_test,y_test) * 100"
   ]
  },
  {
   "cell_type": "code",
   "execution_count": 52,
   "metadata": {
    "execution": {
     "iopub.execute_input": "2022-11-22T05:20:33.141711Z",
     "iopub.status.busy": "2022-11-22T05:20:33.140641Z",
     "iopub.status.idle": "2022-11-22T05:20:33.151315Z",
     "shell.execute_reply": "2022-11-22T05:20:33.150117Z",
     "shell.execute_reply.started": "2022-11-22T05:20:33.141673Z"
    }
   },
   "outputs": [
    {
     "name": "stdout",
     "output_type": "stream",
     "text": [
      "Counter({0: 667, 1: 66})\n",
      "Counter({0: 674, 1: 59})\n"
     ]
    }
   ],
   "source": [
    "y_pred = np.array(clf.predict(X_test))\n",
    "y_actual = np.array(y_test)\n",
    "print(Counter(y_pred))\n",
    "print(Counter(y_actual))"
   ]
  },
  {
   "cell_type": "markdown",
   "metadata": {},
   "source": [
    "## Model Creation & Training for Prolongation Classification"
   ]
  },
  {
   "cell_type": "code",
   "execution_count": 53,
   "metadata": {
    "execution": {
     "iopub.execute_input": "2022-11-22T05:20:38.153675Z",
     "iopub.status.busy": "2022-11-22T05:20:38.153315Z",
     "iopub.status.idle": "2022-11-22T05:20:38.238571Z",
     "shell.execute_reply": "2022-11-22T05:20:38.237535Z",
     "shell.execute_reply.started": "2022-11-22T05:20:38.153642Z"
    }
   },
   "outputs": [],
   "source": [
    "import pandas as pd\n",
    "df = pd.read_csv('sep28k-mfcc.csv')"
   ]
  },
  {
   "cell_type": "code",
   "execution_count": 54,
   "metadata": {
    "execution": {
     "iopub.execute_input": "2022-11-22T05:20:41.578036Z",
     "iopub.status.busy": "2022-11-22T05:20:41.577644Z",
     "iopub.status.idle": "2022-11-22T05:20:41.586328Z",
     "shell.execute_reply": "2022-11-22T05:20:41.585102Z",
     "shell.execute_reply.started": "2022-11-22T05:20:41.577984Z"
    }
   },
   "outputs": [
    {
     "data": {
      "text/plain": [
       "Index(['Show', 'EpId', 'ClipId', 'Start', 'Stop', 'Unsure', 'PoorAudioQuality',\n",
       "       'Prolongation', 'Block', 'SoundRep', 'WordRep', 'DifficultToUnderstand',\n",
       "       'Interjection', 'NoStutteredWords', 'NaturalPause', 'Music', 'NoSpeech',\n",
       "       'Name', '0', '1', '2', '3', '4', '5', '6', '7', '8', '9', '10', '11',\n",
       "       '12'],\n",
       "      dtype='object')"
      ]
     },
     "execution_count": 54,
     "metadata": {},
     "output_type": "execute_result"
    }
   ],
   "source": [
    "df.columns"
   ]
  },
  {
   "cell_type": "code",
   "execution_count": 55,
   "metadata": {
    "execution": {
     "iopub.execute_input": "2022-11-22T05:20:43.843636Z",
     "iopub.status.busy": "2022-11-22T05:20:43.842910Z",
     "iopub.status.idle": "2022-11-22T05:20:43.850423Z",
     "shell.execute_reply": "2022-11-22T05:20:43.849325Z",
     "shell.execute_reply.started": "2022-11-22T05:20:43.843601Z"
    }
   },
   "outputs": [
    {
     "data": {
      "text/plain": [
       "(16323, 31)"
      ]
     },
     "execution_count": 55,
     "metadata": {},
     "output_type": "execute_result"
    }
   ],
   "source": [
    "df.shape"
   ]
  },
  {
   "cell_type": "code",
   "execution_count": 56,
   "metadata": {
    "execution": {
     "iopub.execute_input": "2022-11-22T05:20:46.684359Z",
     "iopub.status.busy": "2022-11-22T05:20:46.683966Z",
     "iopub.status.idle": "2022-11-22T05:20:46.726600Z",
     "shell.execute_reply": "2022-11-22T05:20:46.725419Z",
     "shell.execute_reply.started": "2022-11-22T05:20:46.684327Z"
    }
   },
   "outputs": [
    {
     "data": {
      "text/html": [
       "<div>\n",
       "<style scoped>\n",
       "    .dataframe tbody tr th:only-of-type {\n",
       "        vertical-align: middle;\n",
       "    }\n",
       "\n",
       "    .dataframe tbody tr th {\n",
       "        vertical-align: top;\n",
       "    }\n",
       "\n",
       "    .dataframe thead th {\n",
       "        text-align: right;\n",
       "    }\n",
       "</style>\n",
       "<table border=\"1\" class=\"dataframe\">\n",
       "  <thead>\n",
       "    <tr style=\"text-align: right;\">\n",
       "      <th></th>\n",
       "      <th>Show</th>\n",
       "      <th>EpId</th>\n",
       "      <th>ClipId</th>\n",
       "      <th>Start</th>\n",
       "      <th>Stop</th>\n",
       "      <th>Unsure</th>\n",
       "      <th>PoorAudioQuality</th>\n",
       "      <th>Prolongation</th>\n",
       "      <th>Block</th>\n",
       "      <th>SoundRep</th>\n",
       "      <th>...</th>\n",
       "      <th>3</th>\n",
       "      <th>4</th>\n",
       "      <th>5</th>\n",
       "      <th>6</th>\n",
       "      <th>7</th>\n",
       "      <th>8</th>\n",
       "      <th>9</th>\n",
       "      <th>10</th>\n",
       "      <th>11</th>\n",
       "      <th>12</th>\n",
       "    </tr>\n",
       "  </thead>\n",
       "  <tbody>\n",
       "    <tr>\n",
       "      <th>2</th>\n",
       "      <td>HeStutters</td>\n",
       "      <td>0</td>\n",
       "      <td>2</td>\n",
       "      <td>34809760</td>\n",
       "      <td>34857760</td>\n",
       "      <td>0</td>\n",
       "      <td>0</td>\n",
       "      <td>0</td>\n",
       "      <td>0</td>\n",
       "      <td>0</td>\n",
       "      <td>...</td>\n",
       "      <td>36.037710</td>\n",
       "      <td>-2.650917</td>\n",
       "      <td>-11.021187</td>\n",
       "      <td>-9.310137</td>\n",
       "      <td>-1.562138</td>\n",
       "      <td>-13.035163</td>\n",
       "      <td>-8.655548</td>\n",
       "      <td>-4.336683</td>\n",
       "      <td>-7.372598</td>\n",
       "      <td>-7.138989</td>\n",
       "    </tr>\n",
       "    <tr>\n",
       "      <th>3</th>\n",
       "      <td>HeStutters</td>\n",
       "      <td>0</td>\n",
       "      <td>3</td>\n",
       "      <td>35200640</td>\n",
       "      <td>35248640</td>\n",
       "      <td>0</td>\n",
       "      <td>0</td>\n",
       "      <td>1</td>\n",
       "      <td>0</td>\n",
       "      <td>0</td>\n",
       "      <td>...</td>\n",
       "      <td>3.193294</td>\n",
       "      <td>-4.616055</td>\n",
       "      <td>-5.762987</td>\n",
       "      <td>-4.187028</td>\n",
       "      <td>-0.715044</td>\n",
       "      <td>-14.383714</td>\n",
       "      <td>-3.304795</td>\n",
       "      <td>-4.146274</td>\n",
       "      <td>-8.412235</td>\n",
       "      <td>-2.445787</td>\n",
       "    </tr>\n",
       "    <tr>\n",
       "      <th>4</th>\n",
       "      <td>HeStutters</td>\n",
       "      <td>0</td>\n",
       "      <td>4</td>\n",
       "      <td>35721920</td>\n",
       "      <td>35769920</td>\n",
       "      <td>0</td>\n",
       "      <td>0</td>\n",
       "      <td>0</td>\n",
       "      <td>0</td>\n",
       "      <td>0</td>\n",
       "      <td>...</td>\n",
       "      <td>8.430685</td>\n",
       "      <td>-0.561030</td>\n",
       "      <td>-4.473869</td>\n",
       "      <td>-9.220818</td>\n",
       "      <td>-3.201562</td>\n",
       "      <td>-11.855061</td>\n",
       "      <td>-4.699773</td>\n",
       "      <td>-2.414847</td>\n",
       "      <td>-7.803762</td>\n",
       "      <td>-6.036355</td>\n",
       "    </tr>\n",
       "    <tr>\n",
       "      <th>5</th>\n",
       "      <td>HeStutters</td>\n",
       "      <td>0</td>\n",
       "      <td>5</td>\n",
       "      <td>36435040</td>\n",
       "      <td>36483040</td>\n",
       "      <td>0</td>\n",
       "      <td>0</td>\n",
       "      <td>1</td>\n",
       "      <td>0</td>\n",
       "      <td>0</td>\n",
       "      <td>...</td>\n",
       "      <td>22.589972</td>\n",
       "      <td>7.785811</td>\n",
       "      <td>-5.386620</td>\n",
       "      <td>-10.450265</td>\n",
       "      <td>-1.401688</td>\n",
       "      <td>-9.730509</td>\n",
       "      <td>-5.115982</td>\n",
       "      <td>-6.537759</td>\n",
       "      <td>-6.979672</td>\n",
       "      <td>-7.198001</td>\n",
       "    </tr>\n",
       "    <tr>\n",
       "      <th>6</th>\n",
       "      <td>HeStutters</td>\n",
       "      <td>0</td>\n",
       "      <td>6</td>\n",
       "      <td>37251200</td>\n",
       "      <td>37299200</td>\n",
       "      <td>0</td>\n",
       "      <td>0</td>\n",
       "      <td>0</td>\n",
       "      <td>0</td>\n",
       "      <td>0</td>\n",
       "      <td>...</td>\n",
       "      <td>4.350783</td>\n",
       "      <td>-14.230150</td>\n",
       "      <td>-3.446104</td>\n",
       "      <td>-3.806112</td>\n",
       "      <td>-6.410494</td>\n",
       "      <td>-7.694991</td>\n",
       "      <td>-1.443513</td>\n",
       "      <td>-7.135467</td>\n",
       "      <td>-3.231778</td>\n",
       "      <td>-8.599639</td>\n",
       "    </tr>\n",
       "    <tr>\n",
       "      <th>...</th>\n",
       "      <td>...</td>\n",
       "      <td>...</td>\n",
       "      <td>...</td>\n",
       "      <td>...</td>\n",
       "      <td>...</td>\n",
       "      <td>...</td>\n",
       "      <td>...</td>\n",
       "      <td>...</td>\n",
       "      <td>...</td>\n",
       "      <td>...</td>\n",
       "      <td>...</td>\n",
       "      <td>...</td>\n",
       "      <td>...</td>\n",
       "      <td>...</td>\n",
       "      <td>...</td>\n",
       "      <td>...</td>\n",
       "      <td>...</td>\n",
       "      <td>...</td>\n",
       "      <td>...</td>\n",
       "      <td>...</td>\n",
       "      <td>...</td>\n",
       "    </tr>\n",
       "    <tr>\n",
       "      <th>16308</th>\n",
       "      <td>WomenWhoStutter</td>\n",
       "      <td>109</td>\n",
       "      <td>24</td>\n",
       "      <td>16179040</td>\n",
       "      <td>16227040</td>\n",
       "      <td>0</td>\n",
       "      <td>0</td>\n",
       "      <td>0</td>\n",
       "      <td>0</td>\n",
       "      <td>0</td>\n",
       "      <td>...</td>\n",
       "      <td>26.002827</td>\n",
       "      <td>-16.124668</td>\n",
       "      <td>-14.775861</td>\n",
       "      <td>-19.643862</td>\n",
       "      <td>-7.232726</td>\n",
       "      <td>-7.771799</td>\n",
       "      <td>-8.517433</td>\n",
       "      <td>1.568335</td>\n",
       "      <td>-6.449186</td>\n",
       "      <td>1.097754</td>\n",
       "    </tr>\n",
       "    <tr>\n",
       "      <th>16309</th>\n",
       "      <td>WomenWhoStutter</td>\n",
       "      <td>109</td>\n",
       "      <td>25</td>\n",
       "      <td>16224160</td>\n",
       "      <td>16272160</td>\n",
       "      <td>0</td>\n",
       "      <td>0</td>\n",
       "      <td>0</td>\n",
       "      <td>0</td>\n",
       "      <td>0</td>\n",
       "      <td>...</td>\n",
       "      <td>8.484849</td>\n",
       "      <td>-29.523224</td>\n",
       "      <td>-2.754617</td>\n",
       "      <td>-15.226082</td>\n",
       "      <td>-7.238287</td>\n",
       "      <td>1.549171</td>\n",
       "      <td>-8.778543</td>\n",
       "      <td>-10.499634</td>\n",
       "      <td>-2.756247</td>\n",
       "      <td>-6.887878</td>\n",
       "    </tr>\n",
       "    <tr>\n",
       "      <th>16315</th>\n",
       "      <td>WomenWhoStutter</td>\n",
       "      <td>109</td>\n",
       "      <td>31</td>\n",
       "      <td>20476320</td>\n",
       "      <td>20524320</td>\n",
       "      <td>0</td>\n",
       "      <td>0</td>\n",
       "      <td>0</td>\n",
       "      <td>0</td>\n",
       "      <td>0</td>\n",
       "      <td>...</td>\n",
       "      <td>16.823680</td>\n",
       "      <td>-23.059666</td>\n",
       "      <td>-6.954729</td>\n",
       "      <td>-10.113519</td>\n",
       "      <td>-13.114539</td>\n",
       "      <td>0.588434</td>\n",
       "      <td>-15.267725</td>\n",
       "      <td>-10.102099</td>\n",
       "      <td>-0.440946</td>\n",
       "      <td>0.197361</td>\n",
       "    </tr>\n",
       "    <tr>\n",
       "      <th>16317</th>\n",
       "      <td>WomenWhoStutter</td>\n",
       "      <td>109</td>\n",
       "      <td>33</td>\n",
       "      <td>24747360</td>\n",
       "      <td>24795360</td>\n",
       "      <td>0</td>\n",
       "      <td>0</td>\n",
       "      <td>0</td>\n",
       "      <td>0</td>\n",
       "      <td>0</td>\n",
       "      <td>...</td>\n",
       "      <td>18.849432</td>\n",
       "      <td>-23.086039</td>\n",
       "      <td>2.158883</td>\n",
       "      <td>-8.471071</td>\n",
       "      <td>1.332330</td>\n",
       "      <td>2.440598</td>\n",
       "      <td>-1.968042</td>\n",
       "      <td>-7.462180</td>\n",
       "      <td>0.142055</td>\n",
       "      <td>-4.275077</td>\n",
       "    </tr>\n",
       "    <tr>\n",
       "      <th>16322</th>\n",
       "      <td>WomenWhoStutter</td>\n",
       "      <td>109</td>\n",
       "      <td>39</td>\n",
       "      <td>29318080</td>\n",
       "      <td>29366080</td>\n",
       "      <td>0</td>\n",
       "      <td>0</td>\n",
       "      <td>0</td>\n",
       "      <td>0</td>\n",
       "      <td>0</td>\n",
       "      <td>...</td>\n",
       "      <td>34.808210</td>\n",
       "      <td>-24.722097</td>\n",
       "      <td>-2.228705</td>\n",
       "      <td>-9.393265</td>\n",
       "      <td>2.945533</td>\n",
       "      <td>-1.885135</td>\n",
       "      <td>-5.709170</td>\n",
       "      <td>-6.403487</td>\n",
       "      <td>-4.559176</td>\n",
       "      <td>-4.068617</td>\n",
       "    </tr>\n",
       "  </tbody>\n",
       "</table>\n",
       "<p>2374 rows × 31 columns</p>\n",
       "</div>"
      ],
      "text/plain": [
       "                  Show  EpId  ClipId     Start      Stop  Unsure  \\\n",
       "2           HeStutters     0       2  34809760  34857760       0   \n",
       "3           HeStutters     0       3  35200640  35248640       0   \n",
       "4           HeStutters     0       4  35721920  35769920       0   \n",
       "5           HeStutters     0       5  36435040  36483040       0   \n",
       "6           HeStutters     0       6  37251200  37299200       0   \n",
       "...                ...   ...     ...       ...       ...     ...   \n",
       "16308  WomenWhoStutter   109      24  16179040  16227040       0   \n",
       "16309  WomenWhoStutter   109      25  16224160  16272160       0   \n",
       "16315  WomenWhoStutter   109      31  20476320  20524320       0   \n",
       "16317  WomenWhoStutter   109      33  24747360  24795360       0   \n",
       "16322  WomenWhoStutter   109      39  29318080  29366080       0   \n",
       "\n",
       "       PoorAudioQuality  Prolongation  Block  SoundRep  ...          3  \\\n",
       "2                     0             0      0         0  ...  36.037710   \n",
       "3                     0             1      0         0  ...   3.193294   \n",
       "4                     0             0      0         0  ...   8.430685   \n",
       "5                     0             1      0         0  ...  22.589972   \n",
       "6                     0             0      0         0  ...   4.350783   \n",
       "...                 ...           ...    ...       ...  ...        ...   \n",
       "16308                 0             0      0         0  ...  26.002827   \n",
       "16309                 0             0      0         0  ...   8.484849   \n",
       "16315                 0             0      0         0  ...  16.823680   \n",
       "16317                 0             0      0         0  ...  18.849432   \n",
       "16322                 0             0      0         0  ...  34.808210   \n",
       "\n",
       "               4          5          6          7          8          9  \\\n",
       "2      -2.650917 -11.021187  -9.310137  -1.562138 -13.035163  -8.655548   \n",
       "3      -4.616055  -5.762987  -4.187028  -0.715044 -14.383714  -3.304795   \n",
       "4      -0.561030  -4.473869  -9.220818  -3.201562 -11.855061  -4.699773   \n",
       "5       7.785811  -5.386620 -10.450265  -1.401688  -9.730509  -5.115982   \n",
       "6     -14.230150  -3.446104  -3.806112  -6.410494  -7.694991  -1.443513   \n",
       "...          ...        ...        ...        ...        ...        ...   \n",
       "16308 -16.124668 -14.775861 -19.643862  -7.232726  -7.771799  -8.517433   \n",
       "16309 -29.523224  -2.754617 -15.226082  -7.238287   1.549171  -8.778543   \n",
       "16315 -23.059666  -6.954729 -10.113519 -13.114539   0.588434 -15.267725   \n",
       "16317 -23.086039   2.158883  -8.471071   1.332330   2.440598  -1.968042   \n",
       "16322 -24.722097  -2.228705  -9.393265   2.945533  -1.885135  -5.709170   \n",
       "\n",
       "              10        11        12  \n",
       "2      -4.336683 -7.372598 -7.138989  \n",
       "3      -4.146274 -8.412235 -2.445787  \n",
       "4      -2.414847 -7.803762 -6.036355  \n",
       "5      -6.537759 -6.979672 -7.198001  \n",
       "6      -7.135467 -3.231778 -8.599639  \n",
       "...          ...       ...       ...  \n",
       "16308   1.568335 -6.449186  1.097754  \n",
       "16309 -10.499634 -2.756247 -6.887878  \n",
       "16315 -10.102099 -0.440946  0.197361  \n",
       "16317  -7.462180  0.142055 -4.275077  \n",
       "16322  -6.403487 -4.559176 -4.068617  \n",
       "\n",
       "[2374 rows x 31 columns]"
      ]
     },
     "execution_count": 56,
     "metadata": {},
     "output_type": "execute_result"
    }
   ],
   "source": [
    "df = df[df['NoStutteredWords'] != 0]\n",
    "df = df[df['NaturalPause'] == 0]\n",
    "df = df[df['Interjection'] == 0]\n",
    "df = df[df['WordRep'] == 0]\n",
    "df = df[df['SoundRep'] == 0]\n",
    "df = df[df['Block'] == 0]\n",
    "df"
   ]
  },
  {
   "cell_type": "code",
   "execution_count": 57,
   "metadata": {
    "execution": {
     "iopub.execute_input": "2022-11-22T05:20:49.780822Z",
     "iopub.status.busy": "2022-11-22T05:20:49.779922Z",
     "iopub.status.idle": "2022-11-22T05:20:49.791432Z",
     "shell.execute_reply": "2022-11-22T05:20:49.790311Z",
     "shell.execute_reply.started": "2022-11-22T05:20:49.780777Z"
    }
   },
   "outputs": [
    {
     "data": {
      "text/plain": [
       "0    1684\n",
       "1     690\n",
       "Name: Prolongation, dtype: int64"
      ]
     },
     "execution_count": 57,
     "metadata": {},
     "output_type": "execute_result"
    }
   ],
   "source": [
    "df.loc[df['Prolongation'] >= 1.0, 'Prolongation'] = 1.0\n",
    "df['Prolongation'].value_counts()"
   ]
  },
  {
   "cell_type": "code",
   "execution_count": 58,
   "metadata": {
    "execution": {
     "iopub.execute_input": "2022-11-22T05:20:51.993820Z",
     "iopub.status.busy": "2022-11-22T05:20:51.992870Z",
     "iopub.status.idle": "2022-11-22T05:20:52.016862Z",
     "shell.execute_reply": "2022-11-22T05:20:52.015440Z",
     "shell.execute_reply.started": "2022-11-22T05:20:51.993769Z"
    }
   },
   "outputs": [
    {
     "data": {
      "text/html": [
       "<div>\n",
       "<style scoped>\n",
       "    .dataframe tbody tr th:only-of-type {\n",
       "        vertical-align: middle;\n",
       "    }\n",
       "\n",
       "    .dataframe tbody tr th {\n",
       "        vertical-align: top;\n",
       "    }\n",
       "\n",
       "    .dataframe thead th {\n",
       "        text-align: right;\n",
       "    }\n",
       "</style>\n",
       "<table border=\"1\" class=\"dataframe\">\n",
       "  <thead>\n",
       "    <tr style=\"text-align: right;\">\n",
       "      <th></th>\n",
       "      <th>0</th>\n",
       "      <th>1</th>\n",
       "      <th>2</th>\n",
       "      <th>3</th>\n",
       "      <th>4</th>\n",
       "      <th>5</th>\n",
       "      <th>6</th>\n",
       "      <th>7</th>\n",
       "      <th>8</th>\n",
       "      <th>9</th>\n",
       "      <th>10</th>\n",
       "      <th>11</th>\n",
       "      <th>12</th>\n",
       "    </tr>\n",
       "  </thead>\n",
       "  <tbody>\n",
       "    <tr>\n",
       "      <th>2</th>\n",
       "      <td>-313.66693</td>\n",
       "      <td>62.418663</td>\n",
       "      <td>-1.334002</td>\n",
       "      <td>36.037710</td>\n",
       "      <td>-2.650917</td>\n",
       "      <td>-11.021187</td>\n",
       "      <td>-9.310137</td>\n",
       "      <td>-1.562138</td>\n",
       "      <td>-13.035163</td>\n",
       "      <td>-8.655548</td>\n",
       "      <td>-4.336683</td>\n",
       "      <td>-7.372598</td>\n",
       "      <td>-7.138989</td>\n",
       "    </tr>\n",
       "    <tr>\n",
       "      <th>3</th>\n",
       "      <td>-352.49725</td>\n",
       "      <td>50.207840</td>\n",
       "      <td>-5.879061</td>\n",
       "      <td>3.193294</td>\n",
       "      <td>-4.616055</td>\n",
       "      <td>-5.762987</td>\n",
       "      <td>-4.187028</td>\n",
       "      <td>-0.715044</td>\n",
       "      <td>-14.383714</td>\n",
       "      <td>-3.304795</td>\n",
       "      <td>-4.146274</td>\n",
       "      <td>-8.412235</td>\n",
       "      <td>-2.445787</td>\n",
       "    </tr>\n",
       "    <tr>\n",
       "      <th>4</th>\n",
       "      <td>-341.35330</td>\n",
       "      <td>68.858000</td>\n",
       "      <td>-3.959720</td>\n",
       "      <td>8.430685</td>\n",
       "      <td>-0.561030</td>\n",
       "      <td>-4.473869</td>\n",
       "      <td>-9.220818</td>\n",
       "      <td>-3.201562</td>\n",
       "      <td>-11.855061</td>\n",
       "      <td>-4.699773</td>\n",
       "      <td>-2.414847</td>\n",
       "      <td>-7.803762</td>\n",
       "      <td>-6.036355</td>\n",
       "    </tr>\n",
       "    <tr>\n",
       "      <th>5</th>\n",
       "      <td>-350.96436</td>\n",
       "      <td>70.840900</td>\n",
       "      <td>1.759576</td>\n",
       "      <td>22.589972</td>\n",
       "      <td>7.785811</td>\n",
       "      <td>-5.386620</td>\n",
       "      <td>-10.450265</td>\n",
       "      <td>-1.401688</td>\n",
       "      <td>-9.730509</td>\n",
       "      <td>-5.115982</td>\n",
       "      <td>-6.537759</td>\n",
       "      <td>-6.979672</td>\n",
       "      <td>-7.198001</td>\n",
       "    </tr>\n",
       "    <tr>\n",
       "      <th>6</th>\n",
       "      <td>-351.60030</td>\n",
       "      <td>79.161500</td>\n",
       "      <td>10.344581</td>\n",
       "      <td>4.350783</td>\n",
       "      <td>-14.230150</td>\n",
       "      <td>-3.446104</td>\n",
       "      <td>-3.806112</td>\n",
       "      <td>-6.410494</td>\n",
       "      <td>-7.694991</td>\n",
       "      <td>-1.443513</td>\n",
       "      <td>-7.135467</td>\n",
       "      <td>-3.231778</td>\n",
       "      <td>-8.599639</td>\n",
       "    </tr>\n",
       "    <tr>\n",
       "      <th>...</th>\n",
       "      <td>...</td>\n",
       "      <td>...</td>\n",
       "      <td>...</td>\n",
       "      <td>...</td>\n",
       "      <td>...</td>\n",
       "      <td>...</td>\n",
       "      <td>...</td>\n",
       "      <td>...</td>\n",
       "      <td>...</td>\n",
       "      <td>...</td>\n",
       "      <td>...</td>\n",
       "      <td>...</td>\n",
       "      <td>...</td>\n",
       "    </tr>\n",
       "    <tr>\n",
       "      <th>16308</th>\n",
       "      <td>-396.81607</td>\n",
       "      <td>47.699245</td>\n",
       "      <td>-28.230492</td>\n",
       "      <td>26.002827</td>\n",
       "      <td>-16.124668</td>\n",
       "      <td>-14.775861</td>\n",
       "      <td>-19.643862</td>\n",
       "      <td>-7.232726</td>\n",
       "      <td>-7.771799</td>\n",
       "      <td>-8.517433</td>\n",
       "      <td>1.568335</td>\n",
       "      <td>-6.449186</td>\n",
       "      <td>1.097754</td>\n",
       "    </tr>\n",
       "    <tr>\n",
       "      <th>16309</th>\n",
       "      <td>-366.09630</td>\n",
       "      <td>59.089397</td>\n",
       "      <td>-23.645912</td>\n",
       "      <td>8.484849</td>\n",
       "      <td>-29.523224</td>\n",
       "      <td>-2.754617</td>\n",
       "      <td>-15.226082</td>\n",
       "      <td>-7.238287</td>\n",
       "      <td>1.549171</td>\n",
       "      <td>-8.778543</td>\n",
       "      <td>-10.499634</td>\n",
       "      <td>-2.756247</td>\n",
       "      <td>-6.887878</td>\n",
       "    </tr>\n",
       "    <tr>\n",
       "      <th>16315</th>\n",
       "      <td>-316.00030</td>\n",
       "      <td>42.245895</td>\n",
       "      <td>-40.056310</td>\n",
       "      <td>16.823680</td>\n",
       "      <td>-23.059666</td>\n",
       "      <td>-6.954729</td>\n",
       "      <td>-10.113519</td>\n",
       "      <td>-13.114539</td>\n",
       "      <td>0.588434</td>\n",
       "      <td>-15.267725</td>\n",
       "      <td>-10.102099</td>\n",
       "      <td>-0.440946</td>\n",
       "      <td>0.197361</td>\n",
       "    </tr>\n",
       "    <tr>\n",
       "      <th>16317</th>\n",
       "      <td>-350.42902</td>\n",
       "      <td>27.453814</td>\n",
       "      <td>-35.155933</td>\n",
       "      <td>18.849432</td>\n",
       "      <td>-23.086039</td>\n",
       "      <td>2.158883</td>\n",
       "      <td>-8.471071</td>\n",
       "      <td>1.332330</td>\n",
       "      <td>2.440598</td>\n",
       "      <td>-1.968042</td>\n",
       "      <td>-7.462180</td>\n",
       "      <td>0.142055</td>\n",
       "      <td>-4.275077</td>\n",
       "    </tr>\n",
       "    <tr>\n",
       "      <th>16322</th>\n",
       "      <td>-374.96716</td>\n",
       "      <td>-7.382678</td>\n",
       "      <td>-19.960463</td>\n",
       "      <td>34.808210</td>\n",
       "      <td>-24.722097</td>\n",
       "      <td>-2.228705</td>\n",
       "      <td>-9.393265</td>\n",
       "      <td>2.945533</td>\n",
       "      <td>-1.885135</td>\n",
       "      <td>-5.709170</td>\n",
       "      <td>-6.403487</td>\n",
       "      <td>-4.559176</td>\n",
       "      <td>-4.068617</td>\n",
       "    </tr>\n",
       "  </tbody>\n",
       "</table>\n",
       "<p>2374 rows × 13 columns</p>\n",
       "</div>"
      ],
      "text/plain": [
       "               0          1          2          3          4          5  \\\n",
       "2     -313.66693  62.418663  -1.334002  36.037710  -2.650917 -11.021187   \n",
       "3     -352.49725  50.207840  -5.879061   3.193294  -4.616055  -5.762987   \n",
       "4     -341.35330  68.858000  -3.959720   8.430685  -0.561030  -4.473869   \n",
       "5     -350.96436  70.840900   1.759576  22.589972   7.785811  -5.386620   \n",
       "6     -351.60030  79.161500  10.344581   4.350783 -14.230150  -3.446104   \n",
       "...          ...        ...        ...        ...        ...        ...   \n",
       "16308 -396.81607  47.699245 -28.230492  26.002827 -16.124668 -14.775861   \n",
       "16309 -366.09630  59.089397 -23.645912   8.484849 -29.523224  -2.754617   \n",
       "16315 -316.00030  42.245895 -40.056310  16.823680 -23.059666  -6.954729   \n",
       "16317 -350.42902  27.453814 -35.155933  18.849432 -23.086039   2.158883   \n",
       "16322 -374.96716  -7.382678 -19.960463  34.808210 -24.722097  -2.228705   \n",
       "\n",
       "               6          7          8          9         10        11  \\\n",
       "2      -9.310137  -1.562138 -13.035163  -8.655548  -4.336683 -7.372598   \n",
       "3      -4.187028  -0.715044 -14.383714  -3.304795  -4.146274 -8.412235   \n",
       "4      -9.220818  -3.201562 -11.855061  -4.699773  -2.414847 -7.803762   \n",
       "5     -10.450265  -1.401688  -9.730509  -5.115982  -6.537759 -6.979672   \n",
       "6      -3.806112  -6.410494  -7.694991  -1.443513  -7.135467 -3.231778   \n",
       "...          ...        ...        ...        ...        ...       ...   \n",
       "16308 -19.643862  -7.232726  -7.771799  -8.517433   1.568335 -6.449186   \n",
       "16309 -15.226082  -7.238287   1.549171  -8.778543 -10.499634 -2.756247   \n",
       "16315 -10.113519 -13.114539   0.588434 -15.267725 -10.102099 -0.440946   \n",
       "16317  -8.471071   1.332330   2.440598  -1.968042  -7.462180  0.142055   \n",
       "16322  -9.393265   2.945533  -1.885135  -5.709170  -6.403487 -4.559176   \n",
       "\n",
       "             12  \n",
       "2     -7.138989  \n",
       "3     -2.445787  \n",
       "4     -6.036355  \n",
       "5     -7.198001  \n",
       "6     -8.599639  \n",
       "...         ...  \n",
       "16308  1.097754  \n",
       "16309 -6.887878  \n",
       "16315  0.197361  \n",
       "16317 -4.275077  \n",
       "16322 -4.068617  \n",
       "\n",
       "[2374 rows x 13 columns]"
      ]
     },
     "execution_count": 58,
     "metadata": {},
     "output_type": "execute_result"
    }
   ],
   "source": [
    "X = df.iloc[: , -13:]\n",
    "X"
   ]
  },
  {
   "cell_type": "code",
   "execution_count": 59,
   "metadata": {
    "execution": {
     "iopub.execute_input": "2022-11-22T05:20:54.373554Z",
     "iopub.status.busy": "2022-11-22T05:20:54.372865Z",
     "iopub.status.idle": "2022-11-22T05:20:54.382088Z",
     "shell.execute_reply": "2022-11-22T05:20:54.381062Z",
     "shell.execute_reply.started": "2022-11-22T05:20:54.373515Z"
    }
   },
   "outputs": [
    {
     "data": {
      "text/plain": [
       "2        0\n",
       "3        1\n",
       "4        0\n",
       "5        1\n",
       "6        0\n",
       "        ..\n",
       "16308    0\n",
       "16309    0\n",
       "16315    0\n",
       "16317    0\n",
       "16322    0\n",
       "Name: Prolongation, Length: 2374, dtype: int64"
      ]
     },
     "execution_count": 59,
     "metadata": {},
     "output_type": "execute_result"
    }
   ],
   "source": [
    "y = df['Prolongation']\n",
    "y"
   ]
  },
  {
   "cell_type": "code",
   "execution_count": 60,
   "metadata": {
    "execution": {
     "iopub.execute_input": "2022-11-22T05:20:56.943793Z",
     "iopub.status.busy": "2022-11-22T05:20:56.943413Z",
     "iopub.status.idle": "2022-11-22T05:20:56.956967Z",
     "shell.execute_reply": "2022-11-22T05:20:56.955814Z",
     "shell.execute_reply.started": "2022-11-22T05:20:56.943759Z"
    }
   },
   "outputs": [
    {
     "data": {
      "text/plain": [
       "Counter({1: 398, 0: 1026})"
      ]
     },
     "execution_count": 60,
     "metadata": {},
     "output_type": "execute_result"
    }
   ],
   "source": [
    "from sklearn.model_selection import train_test_split\n",
    "X_train, X_test, y_train, y_test =  train_test_split(X, y, test_size=0.4, random_state=42)\n",
    "\n",
    "from collections import Counter\n",
    "Counter(y_train)"
   ]
  },
  {
   "cell_type": "code",
   "execution_count": 61,
   "metadata": {
    "execution": {
     "iopub.execute_input": "2022-11-22T05:21:04.758120Z",
     "iopub.status.busy": "2022-11-22T05:21:04.757078Z",
     "iopub.status.idle": "2022-11-22T05:21:04.822800Z",
     "shell.execute_reply": "2022-11-22T05:21:04.821567Z",
     "shell.execute_reply.started": "2022-11-22T05:21:04.758081Z"
    }
   },
   "outputs": [
    {
     "name": "stderr",
     "output_type": "stream",
     "text": [
      "/home/kakeshi/anaconda3/lib/python3.9/site-packages/sklearn/neighbors/_classification.py:228: FutureWarning: Unlike other reduction functions (e.g. `skew`, `kurtosis`), the default behavior of `mode` typically preserves the axis it acts along. In SciPy 1.11.0, this behavior will change: the default value of `keepdims` will become False, the `axis` over which the statistic is taken will be eliminated, and the value None will no longer be accepted. Set `keepdims` to True or False to avoid this warning.\n",
      "  mode, _ = stats.mode(_y[neigh_ind, k], axis=1)\n"
     ]
    },
    {
     "data": {
      "text/plain": [
       "63.68421052631579"
      ]
     },
     "execution_count": 61,
     "metadata": {},
     "output_type": "execute_result"
    }
   ],
   "source": [
    "from sklearn.neighbors import KNeighborsClassifier\n",
    "knn = KNeighborsClassifier(n_neighbors=3)\n",
    "knn.fit(X_train, y_train)\n",
    "knn.score(X_test, y_test) * 100"
   ]
  },
  {
   "cell_type": "code",
   "execution_count": 62,
   "metadata": {
    "execution": {
     "iopub.execute_input": "2022-11-22T05:21:07.139290Z",
     "iopub.status.busy": "2022-11-22T05:21:07.138803Z",
     "iopub.status.idle": "2022-11-22T05:21:07.214358Z",
     "shell.execute_reply": "2022-11-22T05:21:07.213139Z",
     "shell.execute_reply.started": "2022-11-22T05:21:07.139246Z"
    }
   },
   "outputs": [
    {
     "name": "stdout",
     "output_type": "stream",
     "text": [
      "Counter({0: 785, 1: 165})\n",
      "Counter({0: 658, 1: 292})\n"
     ]
    },
    {
     "name": "stderr",
     "output_type": "stream",
     "text": [
      "/home/kakeshi/anaconda3/lib/python3.9/site-packages/sklearn/neighbors/_classification.py:228: FutureWarning: Unlike other reduction functions (e.g. `skew`, `kurtosis`), the default behavior of `mode` typically preserves the axis it acts along. In SciPy 1.11.0, this behavior will change: the default value of `keepdims` will become False, the `axis` over which the statistic is taken will be eliminated, and the value None will no longer be accepted. Set `keepdims` to True or False to avoid this warning.\n",
      "  mode, _ = stats.mode(_y[neigh_ind, k], axis=1)\n"
     ]
    }
   ],
   "source": [
    "import numpy as np\n",
    "y_pred = np.array(knn.predict(X_test))\n",
    "y_actual = np.array(y_test)\n",
    "print(Counter(y_pred))\n",
    "print(Counter(y_actual))"
   ]
  },
  {
   "cell_type": "code",
   "execution_count": null,
   "metadata": {},
   "outputs": [],
   "source": []
  },
  {
   "cell_type": "code",
   "execution_count": null,
   "metadata": {},
   "outputs": [],
   "source": []
  },
  {
   "cell_type": "code",
   "execution_count": null,
   "metadata": {},
   "outputs": [],
   "source": []
  },
  {
   "cell_type": "code",
   "execution_count": null,
   "metadata": {},
   "outputs": [],
   "source": []
  }
 ],
 "metadata": {
  "kernelspec": {
   "display_name": "Python 3 (ipykernel)",
   "language": "python",
   "name": "python3"
  },
  "language_info": {
   "codemirror_mode": {
    "name": "ipython",
    "version": 3
   },
   "file_extension": ".py",
   "mimetype": "text/x-python",
   "name": "python",
   "nbconvert_exporter": "python",
   "pygments_lexer": "ipython3",
   "version": "3.9.13"
  }
 },
 "nbformat": 4,
 "nbformat_minor": 4
}
