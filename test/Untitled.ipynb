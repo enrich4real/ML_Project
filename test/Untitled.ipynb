{
 "cells": [
  {
   "cell_type": "code",
   "execution_count": 1,
   "id": "547e5bd1",
   "metadata": {},
   "outputs": [
    {
     "name": "stdout",
     "output_type": "stream",
     "text": [
      "Requirement already satisfied: assemblyai in c:\\users\\utkal\\anaconda3\\lib\\site-packages (0.17.0)\n",
      "Requirement already satisfied: typing-extensions>=3.7 in c:\\users\\utkal\\anaconda3\\lib\\site-packages (from assemblyai) (4.7.1)\n",
      "Requirement already satisfied: pydantic!=1.10.7,>=1.7.0 in c:\\users\\utkal\\anaconda3\\lib\\site-packages (from assemblyai) (2.3.0)\n",
      "Requirement already satisfied: websockets>=11.0 in c:\\users\\utkal\\anaconda3\\lib\\site-packages (from assemblyai) (11.0.3)\n",
      "Requirement already satisfied: httpx>=0.19.0 in c:\\users\\utkal\\anaconda3\\lib\\site-packages (from assemblyai) (0.24.1)\n",
      "Requirement already satisfied: idna in c:\\users\\utkal\\anaconda3\\lib\\site-packages (from httpx>=0.19.0->assemblyai) (3.3)\n",
      "Requirement already satisfied: httpcore<0.18.0,>=0.15.0 in c:\\users\\utkal\\anaconda3\\lib\\site-packages (from httpx>=0.19.0->assemblyai) (0.17.3)\n",
      "Requirement already satisfied: sniffio in c:\\users\\utkal\\anaconda3\\lib\\site-packages (from httpx>=0.19.0->assemblyai) (1.2.0)\n",
      "Requirement already satisfied: certifi in c:\\users\\utkal\\anaconda3\\lib\\site-packages (from httpx>=0.19.0->assemblyai) (2022.9.14)\n",
      "Requirement already satisfied: annotated-types>=0.4.0 in c:\\users\\utkal\\anaconda3\\lib\\site-packages (from pydantic!=1.10.7,>=1.7.0->assemblyai) (0.5.0)\n",
      "Requirement already satisfied: pydantic-core==2.6.3 in c:\\users\\utkal\\anaconda3\\lib\\site-packages (from pydantic!=1.10.7,>=1.7.0->assemblyai) (2.6.3)\n",
      "Requirement already satisfied: h11<0.15,>=0.13 in c:\\users\\utkal\\anaconda3\\lib\\site-packages (from httpcore<0.18.0,>=0.15.0->httpx>=0.19.0->assemblyai) (0.14.0)\n",
      "Requirement already satisfied: anyio<5.0,>=3.0 in c:\\users\\utkal\\anaconda3\\lib\\site-packages (from httpcore<0.18.0,>=0.15.0->httpx>=0.19.0->assemblyai) (3.5.0)\n"
     ]
    }
   ],
   "source": [
    "import requests\n",
    "import json\n",
    "from time import sleep\n",
    "!pip install assemblyai\n"
   ]
  },
  {
   "cell_type": "code",
   "execution_count": 2,
   "id": "3f285319",
   "metadata": {},
   "outputs": [
    {
     "name": "stdout",
     "output_type": "stream",
     "text": [
      "Requirement already satisfied: assemblyai in c:\\users\\utkal\\anaconda3\\lib\\site-packages (0.17.0)\n",
      "Requirement already satisfied: httpx>=0.19.0 in c:\\users\\utkal\\anaconda3\\lib\\site-packages (from assemblyai) (0.24.1)\n",
      "Requirement already satisfied: pydantic!=1.10.7,>=1.7.0 in c:\\users\\utkal\\anaconda3\\lib\\site-packages (from assemblyai) (2.3.0)\n",
      "Requirement already satisfied: typing-extensions>=3.7 in c:\\users\\utkal\\anaconda3\\lib\\site-packages (from assemblyai) (4.7.1)\n",
      "Requirement already satisfied: websockets>=11.0 in c:\\users\\utkal\\anaconda3\\lib\\site-packages (from assemblyai) (11.0.3)\n",
      "Requirement already satisfied: idna in c:\\users\\utkal\\anaconda3\\lib\\site-packages (from httpx>=0.19.0->assemblyai) (3.3)\n",
      "Requirement already satisfied: httpcore<0.18.0,>=0.15.0 in c:\\users\\utkal\\anaconda3\\lib\\site-packages (from httpx>=0.19.0->assemblyai) (0.17.3)\n",
      "Requirement already satisfied: certifi in c:\\users\\utkal\\anaconda3\\lib\\site-packages (from httpx>=0.19.0->assemblyai) (2022.9.14)\n",
      "Requirement already satisfied: sniffio in c:\\users\\utkal\\anaconda3\\lib\\site-packages (from httpx>=0.19.0->assemblyai) (1.2.0)\n",
      "Requirement already satisfied: annotated-types>=0.4.0 in c:\\users\\utkal\\anaconda3\\lib\\site-packages (from pydantic!=1.10.7,>=1.7.0->assemblyai) (0.5.0)\n",
      "Requirement already satisfied: pydantic-core==2.6.3 in c:\\users\\utkal\\anaconda3\\lib\\site-packages (from pydantic!=1.10.7,>=1.7.0->assemblyai) (2.6.3)\n",
      "Requirement already satisfied: h11<0.15,>=0.13 in c:\\users\\utkal\\anaconda3\\lib\\site-packages (from httpcore<0.18.0,>=0.15.0->httpx>=0.19.0->assemblyai) (0.14.0)\n",
      "Requirement already satisfied: anyio<5.0,>=3.0 in c:\\users\\utkal\\anaconda3\\lib\\site-packages (from httpcore<0.18.0,>=0.15.0->httpx>=0.19.0->assemblyai) (3.5.0)\n",
      "Hey. Hello. This is utkulwatz. I am recording this file to test this transcription version of the python by using assembly API. Okay, so let's get started. Thank you.\n"
     ]
    }
   ],
   "source": [
    "# `pip3 install assemblyai` (macOS)\n",
    "# `pip install assemblyai` (Windows)\n",
    "!pip install assemblyai\n",
    "\n",
    "\n",
    "import assemblyai as aai\n",
    "\n",
    "aai.settings.api_key = \"20617037ace44d839dd28c81acef6fe3\"\n",
    "transcriber = aai.Transcriber()\n",
    "\n",
    "transcript = transcriber.transcribe(\"test1.mpeg\")\n",
    "# transcript = transcriber.transcribe(\"./my-local-audio-file.wav\")\n",
    "\n",
    "print(transcript.text)"
   ]
  },
  {
   "cell_type": "code",
   "execution_count": 3,
   "id": "43f5ae0c",
   "metadata": {},
   "outputs": [
    {
     "name": "stdout",
     "output_type": "stream",
     "text": [
      "Hey. Hello. This is utkulwatz. I am recording this file to test this transcription version of the python by using assembly API. Okay, so let's get started. Thank you.\n"
     ]
    }
   ],
   "source": [
    "print(transcript.text)"
   ]
  },
  {
   "cell_type": "code",
   "execution_count": 4,
   "id": "464cde03",
   "metadata": {},
   "outputs": [
    {
     "name": "stdout",
     "output_type": "stream",
     "text": [
      "It test two. So now, here I'm going to add something, some kind of a pause word. Okay? So as I'm going to repeat word hello. Hello. Texture. Yes.\n"
     ]
    }
   ],
   "source": [
    "# `pip3 install assemblyai` (macOS)\n",
    "# `pip install assemblyai` (Windows)\n",
    "\n",
    "\n",
    "\n",
    "\n",
    "aai.settings.api_key = \"20617037ace44d839dd28c81acef6fe3\"\n",
    "transcriber = aai.Transcriber()\n",
    "\n",
    "transcript = transcriber.transcribe(\"test2.mpeg\")\n",
    "# transcript = transcriber.transcribe(\"./my-local-audio-file.wav\")\n",
    "\n",
    "print(transcript.text)"
   ]
  },
  {
   "cell_type": "code",
   "execution_count": 5,
   "id": "8887dc2e",
   "metadata": {},
   "outputs": [
    {
     "name": "stdout",
     "output_type": "stream",
     "text": [
      "It test two. So now, here I'm going to add something, some kind of a pause word. Okay? So as I'm going to repeat word hello. Hello. Texture. Yes.\n"
     ]
    }
   ],
   "source": []
  },
  {
   "cell_type": "code",
   "execution_count": null,
   "id": "a38cfaf4",
   "metadata": {},
   "outputs": [],
   "source": [
    "#test 3\n",
    "aai.settings.api_key = \"20617037ace44d839dd28c81acef6fe3\"\n",
    "transcriber = aai.Transcriber()\n",
    "\n",
    "transcript = transcriber.transcribe(\"test3.mpeg\")\n",
    "# transcript = transcriber.transcribe(\"./my-local-audio-file.wav\")"
   ]
  },
  {
   "cell_type": "code",
   "execution_count": 7,
   "id": "2ab9f003",
   "metadata": {},
   "outputs": [
    {
     "name": "stdout",
     "output_type": "stream",
     "text": [
      "It test two. So now, here I'm going to add something, some kind of a pause word. Okay? So as I'm going to repeat word hello. Hello. Texture. Yes.\n"
     ]
    }
   ],
   "source": [
    "print(transcript.text)\n"
   ]
  },
  {
   "cell_type": "code",
   "execution_count": 8,
   "id": "0e58282e",
   "metadata": {},
   "outputs": [],
   "source": [
    "#test 3\n",
    "aai.settings.api_key = \"20617037ace44d839dd28c81acef6fe3\"\n",
    "transcriber = aai.Transcriber()\n",
    "\n",
    "transcript = transcriber.transcribe(\"test4.mpeg\")\n",
    "# transcript = transcriber.transcribe(\"./my-local-audio-file.wav\")"
   ]
  },
  {
   "cell_type": "code",
   "execution_count": 9,
   "id": "5cc94e96",
   "metadata": {},
   "outputs": [
    {
     "name": "stdout",
     "output_type": "stream",
     "text": [
      "It's now. Here. I'm recording text. Four. Okay, so now I'm recording it because that I am figuring out some new thing that we can practice our English with this app. We're going to tell our mistake or when we make. And we make. Okay. And there's a lot thing. Yeah.\n"
     ]
    }
   ],
   "source": [
    "print(transcript.text)\n",
    "\n"
   ]
  },
  {
   "cell_type": "code",
   "execution_count": null,
   "id": "cfa2e072",
   "metadata": {},
   "outputs": [],
   "source": []
  }
 ],
 "metadata": {
  "kernelspec": {
   "display_name": "Python 3 (ipykernel)",
   "language": "python",
   "name": "python3"
  },
  "language_info": {
   "codemirror_mode": {
    "name": "ipython",
    "version": 3
   },
   "file_extension": ".py",
   "mimetype": "text/x-python",
   "name": "python",
   "nbconvert_exporter": "python",
   "pygments_lexer": "ipython3",
   "version": "3.9.13"
  }
 },
 "nbformat": 4,
 "nbformat_minor": 5
}
